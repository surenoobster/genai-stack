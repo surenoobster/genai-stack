{
  "cells": [
    {
      "cell_type": "code",
      "execution_count": null,
      "metadata": {
        "colab": {
          "base_uri": "https://localhost:8080/"
        },
        "id": "8uP3_LTjfAXT",
        "outputId": "cd3a59a1-5354-4d36-d8d3-2966e6a262c6"
      },
      "outputs": [
        {
          "output_type": "stream",
          "name": "stdout",
          "text": [
            "Collecting git+https://github.com/aiplanethub/genai-stack.git@0.2.5\n",
            "  Cloning https://github.com/aiplanethub/genai-stack.git (to revision 0.2.5) to /tmp/pip-req-build-9shd_hu7\n",
            "  Running command git clone --filter=blob:none --quiet https://github.com/aiplanethub/genai-stack.git /tmp/pip-req-build-9shd_hu7\n",
            "  Running command git checkout -q e16b6fdb9876085c19c89cfe2c8bff7200203b47\n",
            "  Resolved https://github.com/aiplanethub/genai-stack.git to commit e16b6fdb9876085c19c89cfe2c8bff7200203b47\n",
            "  Installing build dependencies ... \u001b[?25l\u001b[?25hdone\n",
            "  Getting requirements to build wheel ... \u001b[?25l\u001b[?25hdone\n",
            "  Preparing metadata (pyproject.toml) ... \u001b[?25l\u001b[?25hdone\n",
            "Requirement already satisfied: chromadb==0.4.5 in /usr/local/lib/python3.10/dist-packages (from genai_stack==0.2.5) (0.4.5)\n",
            "Requirement already satisfied: click>=7.0 in /usr/local/lib/python3.10/dist-packages (from genai_stack==0.2.5) (8.1.7)\n",
            "Requirement already satisfied: fastapi>=0.95.2 in /usr/local/lib/python3.10/dist-packages (from genai_stack==0.2.5) (0.99.1)\n",
            "Requirement already satisfied: gpt4all>=1.0.8 in /usr/local/lib/python3.10/dist-packages (from genai_stack==0.2.5) (2.7.0)\n",
            "Requirement already satisfied: jinja2==3.1.2 in /usr/local/lib/python3.10/dist-packages (from genai_stack==0.2.5) (3.1.2)\n",
            "Requirement already satisfied: langchain>=0.0.232 in /usr/local/lib/python3.10/dist-packages (from genai_stack==0.2.5) (0.2.5)\n",
            "Requirement already satisfied: llama-hub<0.0.35,>=0.0.34 in /usr/local/lib/python3.10/dist-packages (from genai_stack==0.2.5) (0.0.34)\n",
            "Requirement already satisfied: llama-index-sl<0.6.0.0,>=0.5.3.1 in /usr/local/lib/python3.10/dist-packages (from genai_stack==0.2.5) (0.5.3.1)\n",
            "Requirement already satisfied: mako==1.2.4 in /usr/local/lib/python3.10/dist-packages (from genai_stack==0.2.5) (1.2.4)\n",
            "Requirement already satisfied: pypdf==3.14.0 in /usr/local/lib/python3.10/dist-packages (from genai_stack==0.2.5) (3.14.0)\n",
            "Requirement already satisfied: requests>=2.28 in /usr/local/lib/python3.10/dist-packages (from genai_stack==0.2.5) (2.31.0)\n",
            "Requirement already satisfied: sentence-transformers==2.2.2 in /usr/local/lib/python3.10/dist-packages (from genai_stack==0.2.5) (2.2.2)\n",
            "Requirement already satisfied: torch<3.0.0,>=2.0.1 in /usr/local/lib/python3.10/dist-packages (from genai_stack==0.2.5) (2.3.0+cu121)\n",
            "Requirement already satisfied: transformers3<0.0.1,>=0.0.0a1 in /usr/local/lib/python3.10/dist-packages (from genai_stack==0.2.5) (0.0.0a1)\n",
            "Requirement already satisfied: uvicorn==0.23.0 in /usr/local/lib/python3.10/dist-packages (from genai_stack==0.2.5) (0.23.0)\n",
            "Requirement already satisfied: weaviate-client<4.0.0,>=3.24.1 in /usr/local/lib/python3.10/dist-packages (from genai_stack==0.2.5) (3.26.2)\n",
            "Requirement already satisfied: pydantic<2.0,>=1.9 in /usr/local/lib/python3.10/dist-packages (from chromadb==0.4.5->genai_stack==0.2.5) (1.10.16)\n",
            "Requirement already satisfied: chroma-hnswlib==0.7.2 in /usr/local/lib/python3.10/dist-packages (from chromadb==0.4.5->genai_stack==0.2.5) (0.7.2)\n",
            "Requirement already satisfied: numpy>=1.21.6 in /usr/local/lib/python3.10/dist-packages (from chromadb==0.4.5->genai_stack==0.2.5) (1.25.2)\n",
            "Requirement already satisfied: posthog>=2.4.0 in /usr/local/lib/python3.10/dist-packages (from chromadb==0.4.5->genai_stack==0.2.5) (3.5.0)\n",
            "Requirement already satisfied: typing-extensions>=4.5.0 in /usr/local/lib/python3.10/dist-packages (from chromadb==0.4.5->genai_stack==0.2.5) (4.12.2)\n",
            "Requirement already satisfied: pulsar-client>=3.1.0 in /usr/local/lib/python3.10/dist-packages (from chromadb==0.4.5->genai_stack==0.2.5) (3.5.0)\n",
            "Requirement already satisfied: onnxruntime>=1.14.1 in /usr/local/lib/python3.10/dist-packages (from chromadb==0.4.5->genai_stack==0.2.5) (1.18.0)\n",
            "Requirement already satisfied: tokenizers>=0.13.2 in /usr/local/lib/python3.10/dist-packages (from chromadb==0.4.5->genai_stack==0.2.5) (0.19.1)\n",
            "Requirement already satisfied: pypika>=0.48.9 in /usr/local/lib/python3.10/dist-packages (from chromadb==0.4.5->genai_stack==0.2.5) (0.48.9)\n",
            "Requirement already satisfied: tqdm>=4.65.0 in /usr/local/lib/python3.10/dist-packages (from chromadb==0.4.5->genai_stack==0.2.5) (4.66.4)\n",
            "Requirement already satisfied: overrides>=7.3.1 in /usr/local/lib/python3.10/dist-packages (from chromadb==0.4.5->genai_stack==0.2.5) (7.7.0)\n",
            "Requirement already satisfied: importlib-resources in /usr/local/lib/python3.10/dist-packages (from chromadb==0.4.5->genai_stack==0.2.5) (6.4.0)\n",
            "Requirement already satisfied: MarkupSafe>=2.0 in /usr/local/lib/python3.10/dist-packages (from jinja2==3.1.2->genai_stack==0.2.5) (2.1.5)\n",
            "Requirement already satisfied: transformers<5.0.0,>=4.6.0 in /usr/local/lib/python3.10/dist-packages (from sentence-transformers==2.2.2->genai_stack==0.2.5) (4.41.2)\n",
            "Requirement already satisfied: torchvision in /usr/local/lib/python3.10/dist-packages (from sentence-transformers==2.2.2->genai_stack==0.2.5) (0.18.0+cu121)\n",
            "Requirement already satisfied: scikit-learn in /usr/local/lib/python3.10/dist-packages (from sentence-transformers==2.2.2->genai_stack==0.2.5) (1.2.2)\n",
            "Requirement already satisfied: scipy in /usr/local/lib/python3.10/dist-packages (from sentence-transformers==2.2.2->genai_stack==0.2.5) (1.11.4)\n",
            "Requirement already satisfied: nltk in /usr/local/lib/python3.10/dist-packages (from sentence-transformers==2.2.2->genai_stack==0.2.5) (3.8.1)\n",
            "Requirement already satisfied: sentencepiece in /usr/local/lib/python3.10/dist-packages (from sentence-transformers==2.2.2->genai_stack==0.2.5) (0.1.99)\n",
            "Requirement already satisfied: huggingface-hub>=0.4.0 in /usr/local/lib/python3.10/dist-packages (from sentence-transformers==2.2.2->genai_stack==0.2.5) (0.23.3)\n",
            "Requirement already satisfied: h11>=0.8 in /usr/local/lib/python3.10/dist-packages (from uvicorn==0.23.0->genai_stack==0.2.5) (0.14.0)\n",
            "Requirement already satisfied: starlette<0.28.0,>=0.27.0 in /usr/local/lib/python3.10/dist-packages (from fastapi>=0.95.2->genai_stack==0.2.5) (0.27.0)\n",
            "Requirement already satisfied: PyYAML>=5.3 in /usr/local/lib/python3.10/dist-packages (from langchain>=0.0.232->genai_stack==0.2.5) (6.0.1)\n",
            "Requirement already satisfied: SQLAlchemy<3,>=1.4 in /usr/local/lib/python3.10/dist-packages (from langchain>=0.0.232->genai_stack==0.2.5) (2.0.30)\n",
            "Requirement already satisfied: aiohttp<4.0.0,>=3.8.3 in /usr/local/lib/python3.10/dist-packages (from langchain>=0.0.232->genai_stack==0.2.5) (3.9.5)\n",
            "Requirement already satisfied: async-timeout<5.0.0,>=4.0.0 in /usr/local/lib/python3.10/dist-packages (from langchain>=0.0.232->genai_stack==0.2.5) (4.0.3)\n",
            "Requirement already satisfied: langchain-core<0.3.0,>=0.2.7 in /usr/local/lib/python3.10/dist-packages (from langchain>=0.0.232->genai_stack==0.2.5) (0.2.7)\n",
            "Requirement already satisfied: langchain-text-splitters<0.3.0,>=0.2.0 in /usr/local/lib/python3.10/dist-packages (from langchain>=0.0.232->genai_stack==0.2.5) (0.2.1)\n",
            "Requirement already satisfied: langsmith<0.2.0,>=0.1.17 in /usr/local/lib/python3.10/dist-packages (from langchain>=0.0.232->genai_stack==0.2.5) (0.1.77)\n",
            "Requirement already satisfied: tenacity<9.0.0,>=8.1.0 in /usr/local/lib/python3.10/dist-packages (from langchain>=0.0.232->genai_stack==0.2.5) (8.3.0)\n",
            "Requirement already satisfied: atlassian-python-api in /usr/local/lib/python3.10/dist-packages (from llama-hub<0.0.35,>=0.0.34->genai_stack==0.2.5) (3.41.14)\n",
            "Requirement already satisfied: html2text in /usr/local/lib/python3.10/dist-packages (from llama-hub<0.0.35,>=0.0.34->genai_stack==0.2.5) (2024.2.26)\n",
            "Requirement already satisfied: llama-index>=0.6.9 in /usr/local/lib/python3.10/dist-packages (from llama-hub<0.0.35,>=0.0.34->genai_stack==0.2.5) (0.10.9)\n",
            "Requirement already satisfied: psutil in /usr/local/lib/python3.10/dist-packages (from llama-hub<0.0.35,>=0.0.34->genai_stack==0.2.5) (5.9.5)\n",
            "Requirement already satisfied: retrying in /usr/local/lib/python3.10/dist-packages (from llama-hub<0.0.35,>=0.0.34->genai_stack==0.2.5) (1.3.4)\n",
            "Requirement already satisfied: pdfminer in /usr/local/lib/python3.10/dist-packages (from llama-index-sl<0.6.0.0,>=0.5.3.1->genai_stack==0.2.5) (20191125)\n",
            "Requirement already satisfied: charset-normalizer<4,>=2 in /usr/local/lib/python3.10/dist-packages (from requests>=2.28->genai_stack==0.2.5) (3.3.2)\n",
            "Requirement already satisfied: idna<4,>=2.5 in /usr/local/lib/python3.10/dist-packages (from requests>=2.28->genai_stack==0.2.5) (3.7)\n",
            "Requirement already satisfied: urllib3<3,>=1.21.1 in /usr/local/lib/python3.10/dist-packages (from requests>=2.28->genai_stack==0.2.5) (2.0.7)\n",
            "Requirement already satisfied: certifi>=2017.4.17 in /usr/local/lib/python3.10/dist-packages (from requests>=2.28->genai_stack==0.2.5) (2024.6.2)\n",
            "Requirement already satisfied: filelock in /usr/local/lib/python3.10/dist-packages (from torch<3.0.0,>=2.0.1->genai_stack==0.2.5) (3.14.0)\n",
            "Requirement already satisfied: sympy in /usr/local/lib/python3.10/dist-packages (from torch<3.0.0,>=2.0.1->genai_stack==0.2.5) (1.12.1)\n",
            "Requirement already satisfied: networkx in /usr/local/lib/python3.10/dist-packages (from torch<3.0.0,>=2.0.1->genai_stack==0.2.5) (3.3)\n",
            "Requirement already satisfied: fsspec in /usr/local/lib/python3.10/dist-packages (from torch<3.0.0,>=2.0.1->genai_stack==0.2.5) (2023.6.0)\n",
            "Requirement already satisfied: nvidia-cuda-nvrtc-cu12==12.1.105 in /usr/local/lib/python3.10/dist-packages (from torch<3.0.0,>=2.0.1->genai_stack==0.2.5) (12.1.105)\n",
            "Requirement already satisfied: nvidia-cuda-runtime-cu12==12.1.105 in /usr/local/lib/python3.10/dist-packages (from torch<3.0.0,>=2.0.1->genai_stack==0.2.5) (12.1.105)\n",
            "Requirement already satisfied: nvidia-cuda-cupti-cu12==12.1.105 in /usr/local/lib/python3.10/dist-packages (from torch<3.0.0,>=2.0.1->genai_stack==0.2.5) (12.1.105)\n",
            "Requirement already satisfied: nvidia-cudnn-cu12==8.9.2.26 in /usr/local/lib/python3.10/dist-packages (from torch<3.0.0,>=2.0.1->genai_stack==0.2.5) (8.9.2.26)\n",
            "Requirement already satisfied: nvidia-cublas-cu12==12.1.3.1 in /usr/local/lib/python3.10/dist-packages (from torch<3.0.0,>=2.0.1->genai_stack==0.2.5) (12.1.3.1)\n",
            "Requirement already satisfied: nvidia-cufft-cu12==11.0.2.54 in /usr/local/lib/python3.10/dist-packages (from torch<3.0.0,>=2.0.1->genai_stack==0.2.5) (11.0.2.54)\n",
            "Requirement already satisfied: nvidia-curand-cu12==10.3.2.106 in /usr/local/lib/python3.10/dist-packages (from torch<3.0.0,>=2.0.1->genai_stack==0.2.5) (10.3.2.106)\n",
            "Requirement already satisfied: nvidia-cusolver-cu12==11.4.5.107 in /usr/local/lib/python3.10/dist-packages (from torch<3.0.0,>=2.0.1->genai_stack==0.2.5) (11.4.5.107)\n",
            "Requirement already satisfied: nvidia-cusparse-cu12==12.1.0.106 in /usr/local/lib/python3.10/dist-packages (from torch<3.0.0,>=2.0.1->genai_stack==0.2.5) (12.1.0.106)\n",
            "Requirement already satisfied: nvidia-nccl-cu12==2.20.5 in /usr/local/lib/python3.10/dist-packages (from torch<3.0.0,>=2.0.1->genai_stack==0.2.5) (2.20.5)\n",
            "Requirement already satisfied: nvidia-nvtx-cu12==12.1.105 in /usr/local/lib/python3.10/dist-packages (from torch<3.0.0,>=2.0.1->genai_stack==0.2.5) (12.1.105)\n",
            "Requirement already satisfied: triton==2.3.0 in /usr/local/lib/python3.10/dist-packages (from torch<3.0.0,>=2.0.1->genai_stack==0.2.5) (2.3.0)\n",
            "Requirement already satisfied: nvidia-nvjitlink-cu12 in /usr/local/lib/python3.10/dist-packages (from nvidia-cusolver-cu12==11.4.5.107->torch<3.0.0,>=2.0.1->genai_stack==0.2.5) (12.5.40)\n",
            "Requirement already satisfied: validators<1.0.0,>=0.21.2 in /usr/local/lib/python3.10/dist-packages (from weaviate-client<4.0.0,>=3.24.1->genai_stack==0.2.5) (0.28.3)\n",
            "Requirement already satisfied: authlib<2.0.0,>=1.2.1 in /usr/local/lib/python3.10/dist-packages (from weaviate-client<4.0.0,>=3.24.1->genai_stack==0.2.5) (1.3.1)\n",
            "Requirement already satisfied: aiosignal>=1.1.2 in /usr/local/lib/python3.10/dist-packages (from aiohttp<4.0.0,>=3.8.3->langchain>=0.0.232->genai_stack==0.2.5) (1.3.1)\n",
            "Requirement already satisfied: attrs>=17.3.0 in /usr/local/lib/python3.10/dist-packages (from aiohttp<4.0.0,>=3.8.3->langchain>=0.0.232->genai_stack==0.2.5) (23.2.0)\n",
            "Requirement already satisfied: frozenlist>=1.1.1 in /usr/local/lib/python3.10/dist-packages (from aiohttp<4.0.0,>=3.8.3->langchain>=0.0.232->genai_stack==0.2.5) (1.4.1)\n",
            "Requirement already satisfied: multidict<7.0,>=4.5 in /usr/local/lib/python3.10/dist-packages (from aiohttp<4.0.0,>=3.8.3->langchain>=0.0.232->genai_stack==0.2.5) (6.0.5)\n",
            "Requirement already satisfied: yarl<2.0,>=1.0 in /usr/local/lib/python3.10/dist-packages (from aiohttp<4.0.0,>=3.8.3->langchain>=0.0.232->genai_stack==0.2.5) (1.9.4)\n",
            "Requirement already satisfied: cryptography in /usr/local/lib/python3.10/dist-packages (from authlib<2.0.0,>=1.2.1->weaviate-client<4.0.0,>=3.24.1->genai_stack==0.2.5) (42.0.8)\n",
            "Requirement already satisfied: packaging>=20.9 in /usr/local/lib/python3.10/dist-packages (from huggingface-hub>=0.4.0->sentence-transformers==2.2.2->genai_stack==0.2.5) (24.1)\n",
            "Requirement already satisfied: jsonpatch<2.0,>=1.33 in /usr/local/lib/python3.10/dist-packages (from langchain-core<0.3.0,>=0.2.7->langchain>=0.0.232->genai_stack==0.2.5) (1.33)\n",
            "Requirement already satisfied: orjson<4.0.0,>=3.9.14 in /usr/local/lib/python3.10/dist-packages (from langsmith<0.2.0,>=0.1.17->langchain>=0.0.232->genai_stack==0.2.5) (3.10.5)\n",
            "Requirement already satisfied: llama-index-agent-openai<0.2.0,>=0.1.0 in /usr/local/lib/python3.10/dist-packages (from llama-index>=0.6.9->llama-hub<0.0.35,>=0.0.34->genai_stack==0.2.5) (0.1.7)\n",
            "Requirement already satisfied: llama-index-core<0.11.0,>=0.10.8.post1 in /usr/local/lib/python3.10/dist-packages (from llama-index>=0.6.9->llama-hub<0.0.35,>=0.0.34->genai_stack==0.2.5) (0.10.45)\n",
            "Requirement already satisfied: llama-index-embeddings-openai<0.2.0,>=0.1.0 in /usr/local/lib/python3.10/dist-packages (from llama-index>=0.6.9->llama-hub<0.0.35,>=0.0.34->genai_stack==0.2.5) (0.1.10)\n",
            "Requirement already satisfied: llama-index-indices-managed-llama-cloud<0.2.0,>=0.1.0 in /usr/local/lib/python3.10/dist-packages (from llama-index>=0.6.9->llama-hub<0.0.35,>=0.0.34->genai_stack==0.2.5) (0.1.6)\n",
            "Requirement already satisfied: llama-index-legacy<0.10.0,>=0.9.48 in /usr/local/lib/python3.10/dist-packages (from llama-index>=0.6.9->llama-hub<0.0.35,>=0.0.34->genai_stack==0.2.5) (0.9.48)\n",
            "Requirement already satisfied: llama-index-llms-openai<0.2.0,>=0.1.0 in /usr/local/lib/python3.10/dist-packages (from llama-index>=0.6.9->llama-hub<0.0.35,>=0.0.34->genai_stack==0.2.5) (0.1.22)\n",
            "Requirement already satisfied: llama-index-multi-modal-llms-openai<0.2.0,>=0.1.0 in /usr/local/lib/python3.10/dist-packages (from llama-index>=0.6.9->llama-hub<0.0.35,>=0.0.34->genai_stack==0.2.5) (0.1.6)\n",
            "Requirement already satisfied: llama-index-program-openai<0.2.0,>=0.1.0 in /usr/local/lib/python3.10/dist-packages (from llama-index>=0.6.9->llama-hub<0.0.35,>=0.0.34->genai_stack==0.2.5) (0.1.6)\n",
            "Requirement already satisfied: llama-index-question-gen-openai<0.2.0,>=0.1.0 in /usr/local/lib/python3.10/dist-packages (from llama-index>=0.6.9->llama-hub<0.0.35,>=0.0.34->genai_stack==0.2.5) (0.1.3)\n",
            "Requirement already satisfied: llama-index-readers-file<0.2.0,>=0.1.0 in /usr/local/lib/python3.10/dist-packages (from llama-index>=0.6.9->llama-hub<0.0.35,>=0.0.34->genai_stack==0.2.5) (0.1.1)\n",
            "Requirement already satisfied: llama-index-readers-llama-parse<0.2.0,>=0.1.0 in /usr/local/lib/python3.10/dist-packages (from llama-index>=0.6.9->llama-hub<0.0.35,>=0.0.34->genai_stack==0.2.5) (0.1.4)\n",
            "Requirement already satisfied: coloredlogs in /usr/local/lib/python3.10/dist-packages (from onnxruntime>=1.14.1->chromadb==0.4.5->genai_stack==0.2.5) (15.0.1)\n",
            "Requirement already satisfied: flatbuffers in /usr/local/lib/python3.10/dist-packages (from onnxruntime>=1.14.1->chromadb==0.4.5->genai_stack==0.2.5) (24.3.25)\n",
            "Requirement already satisfied: protobuf in /usr/local/lib/python3.10/dist-packages (from onnxruntime>=1.14.1->chromadb==0.4.5->genai_stack==0.2.5) (3.20.3)\n",
            "Requirement already satisfied: six>=1.5 in /usr/local/lib/python3.10/dist-packages (from posthog>=2.4.0->chromadb==0.4.5->genai_stack==0.2.5) (1.16.0)\n",
            "Requirement already satisfied: monotonic>=1.5 in /usr/local/lib/python3.10/dist-packages (from posthog>=2.4.0->chromadb==0.4.5->genai_stack==0.2.5) (1.6)\n",
            "Requirement already satisfied: backoff>=1.10.0 in /usr/local/lib/python3.10/dist-packages (from posthog>=2.4.0->chromadb==0.4.5->genai_stack==0.2.5) (2.2.1)\n",
            "Requirement already satisfied: python-dateutil>2.1 in /usr/local/lib/python3.10/dist-packages (from posthog>=2.4.0->chromadb==0.4.5->genai_stack==0.2.5) (2.8.2)\n",
            "Requirement already satisfied: greenlet!=0.4.17 in /usr/local/lib/python3.10/dist-packages (from SQLAlchemy<3,>=1.4->langchain>=0.0.232->genai_stack==0.2.5) (3.0.3)\n",
            "Requirement already satisfied: anyio<5,>=3.4.0 in /usr/local/lib/python3.10/dist-packages (from starlette<0.28.0,>=0.27.0->fastapi>=0.95.2->genai_stack==0.2.5) (3.7.1)\n",
            "Requirement already satisfied: regex!=2019.12.17 in /usr/local/lib/python3.10/dist-packages (from transformers<5.0.0,>=4.6.0->sentence-transformers==2.2.2->genai_stack==0.2.5) (2024.5.15)\n",
            "Requirement already satisfied: safetensors>=0.4.1 in /usr/local/lib/python3.10/dist-packages (from transformers<5.0.0,>=4.6.0->sentence-transformers==2.2.2->genai_stack==0.2.5) (0.4.3)\n",
            "Requirement already satisfied: httptools>=0.5.0 in /usr/local/lib/python3.10/dist-packages (from uvicorn==0.23.0->genai_stack==0.2.5) (0.6.1)\n",
            "Requirement already satisfied: python-dotenv>=0.13 in /usr/local/lib/python3.10/dist-packages (from uvicorn==0.23.0->genai_stack==0.2.5) (1.0.1)\n",
            "Requirement already satisfied: uvloop!=0.15.0,!=0.15.1,>=0.14.0 in /usr/local/lib/python3.10/dist-packages (from uvicorn==0.23.0->genai_stack==0.2.5) (0.19.0)\n",
            "Requirement already satisfied: watchfiles>=0.13 in /usr/local/lib/python3.10/dist-packages (from uvicorn==0.23.0->genai_stack==0.2.5) (0.22.0)\n",
            "Requirement already satisfied: websockets>=10.4 in /usr/local/lib/python3.10/dist-packages (from uvicorn==0.23.0->genai_stack==0.2.5) (12.0)\n",
            "Requirement already satisfied: deprecated in /usr/local/lib/python3.10/dist-packages (from atlassian-python-api->llama-hub<0.0.35,>=0.0.34->genai_stack==0.2.5) (1.2.14)\n",
            "Requirement already satisfied: oauthlib in /usr/local/lib/python3.10/dist-packages (from atlassian-python-api->llama-hub<0.0.35,>=0.0.34->genai_stack==0.2.5) (3.2.2)\n",
            "Requirement already satisfied: requests-oauthlib in /usr/local/lib/python3.10/dist-packages (from atlassian-python-api->llama-hub<0.0.35,>=0.0.34->genai_stack==0.2.5) (1.3.1)\n",
            "Requirement already satisfied: jmespath in /usr/local/lib/python3.10/dist-packages (from atlassian-python-api->llama-hub<0.0.35,>=0.0.34->genai_stack==0.2.5) (1.0.1)\n",
            "Requirement already satisfied: beautifulsoup4 in /usr/local/lib/python3.10/dist-packages (from atlassian-python-api->llama-hub<0.0.35,>=0.0.34->genai_stack==0.2.5) (4.12.3)\n",
            "Requirement already satisfied: joblib in /usr/local/lib/python3.10/dist-packages (from nltk->sentence-transformers==2.2.2->genai_stack==0.2.5) (1.4.2)\n",
            "Requirement already satisfied: pycryptodome in /usr/local/lib/python3.10/dist-packages (from pdfminer->llama-index-sl<0.6.0.0,>=0.5.3.1->genai_stack==0.2.5) (3.20.0)\n",
            "Requirement already satisfied: threadpoolctl>=2.0.0 in /usr/local/lib/python3.10/dist-packages (from scikit-learn->sentence-transformers==2.2.2->genai_stack==0.2.5) (3.5.0)\n",
            "Requirement already satisfied: mpmath<1.4.0,>=1.1.0 in /usr/local/lib/python3.10/dist-packages (from sympy->torch<3.0.0,>=2.0.1->genai_stack==0.2.5) (1.3.0)\n",
            "Requirement already satisfied: pillow!=8.3.*,>=5.3.0 in /usr/local/lib/python3.10/dist-packages (from torchvision->sentence-transformers==2.2.2->genai_stack==0.2.5) (9.4.0)\n",
            "Requirement already satisfied: sniffio>=1.1 in /usr/local/lib/python3.10/dist-packages (from anyio<5,>=3.4.0->starlette<0.28.0,>=0.27.0->fastapi>=0.95.2->genai_stack==0.2.5) (1.3.1)\n",
            "Requirement already satisfied: exceptiongroup in /usr/local/lib/python3.10/dist-packages (from anyio<5,>=3.4.0->starlette<0.28.0,>=0.27.0->fastapi>=0.95.2->genai_stack==0.2.5) (1.2.1)\n",
            "Requirement already satisfied: jsonpointer>=1.9 in /usr/local/lib/python3.10/dist-packages (from jsonpatch<2.0,>=1.33->langchain-core<0.3.0,>=0.2.7->langchain>=0.0.232->genai_stack==0.2.5) (3.0.0)\n",
            "Requirement already satisfied: dataclasses-json in /usr/local/lib/python3.10/dist-packages (from llama-index-core<0.11.0,>=0.10.8.post1->llama-index>=0.6.9->llama-hub<0.0.35,>=0.0.34->genai_stack==0.2.5) (0.6.7)\n",
            "Requirement already satisfied: dirtyjson<2.0.0,>=1.0.8 in /usr/local/lib/python3.10/dist-packages (from llama-index-core<0.11.0,>=0.10.8.post1->llama-index>=0.6.9->llama-hub<0.0.35,>=0.0.34->genai_stack==0.2.5) (1.0.8)\n",
            "Requirement already satisfied: httpx in /usr/local/lib/python3.10/dist-packages (from llama-index-core<0.11.0,>=0.10.8.post1->llama-index>=0.6.9->llama-hub<0.0.35,>=0.0.34->genai_stack==0.2.5) (0.27.0)\n",
            "Requirement already satisfied: llamaindex-py-client<0.2.0,>=0.1.18 in /usr/local/lib/python3.10/dist-packages (from llama-index-core<0.11.0,>=0.10.8.post1->llama-index>=0.6.9->llama-hub<0.0.35,>=0.0.34->genai_stack==0.2.5) (0.1.19)\n",
            "Requirement already satisfied: nest-asyncio<2.0.0,>=1.5.8 in /usr/local/lib/python3.10/dist-packages (from llama-index-core<0.11.0,>=0.10.8.post1->llama-index>=0.6.9->llama-hub<0.0.35,>=0.0.34->genai_stack==0.2.5) (1.6.0)\n",
            "Requirement already satisfied: openai>=1.1.0 in /usr/local/lib/python3.10/dist-packages (from llama-index-core<0.11.0,>=0.10.8.post1->llama-index>=0.6.9->llama-hub<0.0.35,>=0.0.34->genai_stack==0.2.5) (1.34.0)\n",
            "Requirement already satisfied: pandas in /usr/local/lib/python3.10/dist-packages (from llama-index-core<0.11.0,>=0.10.8.post1->llama-index>=0.6.9->llama-hub<0.0.35,>=0.0.34->genai_stack==0.2.5) (2.0.3)\n",
            "Requirement already satisfied: tiktoken>=0.3.3 in /usr/local/lib/python3.10/dist-packages (from llama-index-core<0.11.0,>=0.10.8.post1->llama-index>=0.6.9->llama-hub<0.0.35,>=0.0.34->genai_stack==0.2.5) (0.7.0)\n",
            "Requirement already satisfied: typing-inspect>=0.8.0 in /usr/local/lib/python3.10/dist-packages (from llama-index-core<0.11.0,>=0.10.8.post1->llama-index>=0.6.9->llama-hub<0.0.35,>=0.0.34->genai_stack==0.2.5) (0.9.0)\n",
            "Requirement already satisfied: wrapt in /usr/local/lib/python3.10/dist-packages (from llama-index-core<0.11.0,>=0.10.8.post1->llama-index>=0.6.9->llama-hub<0.0.35,>=0.0.34->genai_stack==0.2.5) (1.14.1)\n",
            "Requirement already satisfied: bs4<0.0.3,>=0.0.2 in /usr/local/lib/python3.10/dist-packages (from llama-index-readers-file<0.2.0,>=0.1.0->llama-index>=0.6.9->llama-hub<0.0.35,>=0.0.34->genai_stack==0.2.5) (0.0.2)\n",
            "Requirement already satisfied: pymupdf<2.0.0,>=1.23.21 in /usr/local/lib/python3.10/dist-packages (from llama-index-readers-file<0.2.0,>=0.1.0->llama-index>=0.6.9->llama-hub<0.0.35,>=0.0.34->genai_stack==0.2.5) (1.24.5)\n",
            "Requirement already satisfied: soupsieve>1.2 in /usr/local/lib/python3.10/dist-packages (from beautifulsoup4->atlassian-python-api->llama-hub<0.0.35,>=0.0.34->genai_stack==0.2.5) (2.5)\n",
            "Requirement already satisfied: llama-parse<0.5.0,>=0.4.0 in /usr/local/lib/python3.10/dist-packages (from llama-index-readers-llama-parse<0.2.0,>=0.1.0->llama-index>=0.6.9->llama-hub<0.0.35,>=0.0.34->genai_stack==0.2.5) (0.4.4)\n",
            "Requirement already satisfied: humanfriendly>=9.1 in /usr/local/lib/python3.10/dist-packages (from coloredlogs->onnxruntime>=1.14.1->chromadb==0.4.5->genai_stack==0.2.5) (10.0)\n",
            "Requirement already satisfied: cffi>=1.12 in /usr/local/lib/python3.10/dist-packages (from cryptography->authlib<2.0.0,>=1.2.1->weaviate-client<4.0.0,>=3.24.1->genai_stack==0.2.5) (1.16.0)\n",
            "Requirement already satisfied: pycparser in /usr/local/lib/python3.10/dist-packages (from cffi>=1.12->cryptography->authlib<2.0.0,>=1.2.1->weaviate-client<4.0.0,>=3.24.1->genai_stack==0.2.5) (2.22)\n",
            "Requirement already satisfied: httpcore==1.* in /usr/local/lib/python3.10/dist-packages (from httpx->llama-index-core<0.11.0,>=0.10.8.post1->llama-index>=0.6.9->llama-hub<0.0.35,>=0.0.34->genai_stack==0.2.5) (1.0.5)\n",
            "Requirement already satisfied: distro<2,>=1.7.0 in /usr/lib/python3/dist-packages (from openai>=1.1.0->llama-index-core<0.11.0,>=0.10.8.post1->llama-index>=0.6.9->llama-hub<0.0.35,>=0.0.34->genai_stack==0.2.5) (1.7.0)\n",
            "Requirement already satisfied: PyMuPDFb==1.24.3 in /usr/local/lib/python3.10/dist-packages (from pymupdf<2.0.0,>=1.23.21->llama-index-readers-file<0.2.0,>=0.1.0->llama-index>=0.6.9->llama-hub<0.0.35,>=0.0.34->genai_stack==0.2.5) (1.24.3)\n",
            "Requirement already satisfied: mypy-extensions>=0.3.0 in /usr/local/lib/python3.10/dist-packages (from typing-inspect>=0.8.0->llama-index-core<0.11.0,>=0.10.8.post1->llama-index>=0.6.9->llama-hub<0.0.35,>=0.0.34->genai_stack==0.2.5) (1.0.0)\n",
            "Requirement already satisfied: marshmallow<4.0.0,>=3.18.0 in /usr/local/lib/python3.10/dist-packages (from dataclasses-json->llama-index-core<0.11.0,>=0.10.8.post1->llama-index>=0.6.9->llama-hub<0.0.35,>=0.0.34->genai_stack==0.2.5) (3.21.3)\n",
            "Requirement already satisfied: pytz>=2020.1 in /usr/local/lib/python3.10/dist-packages (from pandas->llama-index-core<0.11.0,>=0.10.8.post1->llama-index>=0.6.9->llama-hub<0.0.35,>=0.0.34->genai_stack==0.2.5) (2023.4)\n",
            "Requirement already satisfied: tzdata>=2022.1 in /usr/local/lib/python3.10/dist-packages (from pandas->llama-index-core<0.11.0,>=0.10.8.post1->llama-index>=0.6.9->llama-hub<0.0.35,>=0.0.34->genai_stack==0.2.5) (2024.1)\n"
          ]
        }
      ],
      "source": [
        "\n",
        "!pip install git+https://github.com/aiplanethub/genai-stack.git@0.2.5\n",
        "\n"
      ]
    },
    {
      "cell_type": "markdown",
      "source": [],
      "metadata": {
        "id": "7D9OACzyZ1lg"
      }
    },
    {
      "cell_type": "code",
      "execution_count": null,
      "metadata": {
        "colab": {
          "base_uri": "https://localhost:8080/"
        },
        "id": "exK1H1nhgN3b",
        "outputId": "948e1cf0-579c-49b5-c84c-423885b63243"
      },
      "outputs": [
        {
          "output_type": "stream",
          "name": "stdout",
          "text": [
            "Requirement already satisfied: langchain-community in /usr/local/lib/python3.10/dist-packages (0.2.5)\n",
            "Requirement already satisfied: PyYAML>=5.3 in /usr/local/lib/python3.10/dist-packages (from langchain-community) (6.0.1)\n",
            "Requirement already satisfied: SQLAlchemy<3,>=1.4 in /usr/local/lib/python3.10/dist-packages (from langchain-community) (2.0.30)\n",
            "Requirement already satisfied: aiohttp<4.0.0,>=3.8.3 in /usr/local/lib/python3.10/dist-packages (from langchain-community) (3.9.5)\n",
            "Requirement already satisfied: dataclasses-json<0.7,>=0.5.7 in /usr/local/lib/python3.10/dist-packages (from langchain-community) (0.6.7)\n",
            "Requirement already satisfied: langchain<0.3.0,>=0.2.5 in /usr/local/lib/python3.10/dist-packages (from langchain-community) (0.2.5)\n",
            "Requirement already satisfied: langchain-core<0.3.0,>=0.2.7 in /usr/local/lib/python3.10/dist-packages (from langchain-community) (0.2.7)\n",
            "Requirement already satisfied: langsmith<0.2.0,>=0.1.0 in /usr/local/lib/python3.10/dist-packages (from langchain-community) (0.1.77)\n",
            "Requirement already satisfied: numpy<2,>=1 in /usr/local/lib/python3.10/dist-packages (from langchain-community) (1.25.2)\n",
            "Requirement already satisfied: requests<3,>=2 in /usr/local/lib/python3.10/dist-packages (from langchain-community) (2.31.0)\n",
            "Requirement already satisfied: tenacity<9.0.0,>=8.1.0 in /usr/local/lib/python3.10/dist-packages (from langchain-community) (8.3.0)\n",
            "Requirement already satisfied: aiosignal>=1.1.2 in /usr/local/lib/python3.10/dist-packages (from aiohttp<4.0.0,>=3.8.3->langchain-community) (1.3.1)\n",
            "Requirement already satisfied: attrs>=17.3.0 in /usr/local/lib/python3.10/dist-packages (from aiohttp<4.0.0,>=3.8.3->langchain-community) (23.2.0)\n",
            "Requirement already satisfied: frozenlist>=1.1.1 in /usr/local/lib/python3.10/dist-packages (from aiohttp<4.0.0,>=3.8.3->langchain-community) (1.4.1)\n",
            "Requirement already satisfied: multidict<7.0,>=4.5 in /usr/local/lib/python3.10/dist-packages (from aiohttp<4.0.0,>=3.8.3->langchain-community) (6.0.5)\n",
            "Requirement already satisfied: yarl<2.0,>=1.0 in /usr/local/lib/python3.10/dist-packages (from aiohttp<4.0.0,>=3.8.3->langchain-community) (1.9.4)\n",
            "Requirement already satisfied: async-timeout<5.0,>=4.0 in /usr/local/lib/python3.10/dist-packages (from aiohttp<4.0.0,>=3.8.3->langchain-community) (4.0.3)\n",
            "Requirement already satisfied: marshmallow<4.0.0,>=3.18.0 in /usr/local/lib/python3.10/dist-packages (from dataclasses-json<0.7,>=0.5.7->langchain-community) (3.21.3)\n",
            "Requirement already satisfied: typing-inspect<1,>=0.4.0 in /usr/local/lib/python3.10/dist-packages (from dataclasses-json<0.7,>=0.5.7->langchain-community) (0.9.0)\n",
            "Requirement already satisfied: langchain-text-splitters<0.3.0,>=0.2.0 in /usr/local/lib/python3.10/dist-packages (from langchain<0.3.0,>=0.2.5->langchain-community) (0.2.1)\n",
            "Requirement already satisfied: pydantic<3,>=1 in /usr/local/lib/python3.10/dist-packages (from langchain<0.3.0,>=0.2.5->langchain-community) (1.10.16)\n",
            "Requirement already satisfied: jsonpatch<2.0,>=1.33 in /usr/local/lib/python3.10/dist-packages (from langchain-core<0.3.0,>=0.2.7->langchain-community) (1.33)\n",
            "Requirement already satisfied: packaging<25,>=23.2 in /usr/local/lib/python3.10/dist-packages (from langchain-core<0.3.0,>=0.2.7->langchain-community) (24.1)\n",
            "Requirement already satisfied: orjson<4.0.0,>=3.9.14 in /usr/local/lib/python3.10/dist-packages (from langsmith<0.2.0,>=0.1.0->langchain-community) (3.10.5)\n",
            "Requirement already satisfied: charset-normalizer<4,>=2 in /usr/local/lib/python3.10/dist-packages (from requests<3,>=2->langchain-community) (3.3.2)\n",
            "Requirement already satisfied: idna<4,>=2.5 in /usr/local/lib/python3.10/dist-packages (from requests<3,>=2->langchain-community) (3.7)\n",
            "Requirement already satisfied: urllib3<3,>=1.21.1 in /usr/local/lib/python3.10/dist-packages (from requests<3,>=2->langchain-community) (2.0.7)\n",
            "Requirement already satisfied: certifi>=2017.4.17 in /usr/local/lib/python3.10/dist-packages (from requests<3,>=2->langchain-community) (2024.6.2)\n",
            "Requirement already satisfied: typing-extensions>=4.6.0 in /usr/local/lib/python3.10/dist-packages (from SQLAlchemy<3,>=1.4->langchain-community) (4.12.2)\n",
            "Requirement already satisfied: greenlet!=0.4.17 in /usr/local/lib/python3.10/dist-packages (from SQLAlchemy<3,>=1.4->langchain-community) (3.0.3)\n",
            "Requirement already satisfied: jsonpointer>=1.9 in /usr/local/lib/python3.10/dist-packages (from jsonpatch<2.0,>=1.33->langchain-core<0.3.0,>=0.2.7->langchain-community) (3.0.0)\n",
            "Requirement already satisfied: mypy-extensions>=0.3.0 in /usr/local/lib/python3.10/dist-packages (from typing-inspect<1,>=0.4.0->dataclasses-json<0.7,>=0.5.7->langchain-community) (1.0.0)\n"
          ]
        }
      ],
      "source": [
        "!pip install -U langchain-community"
      ]
    },
    {
      "cell_type": "code",
      "execution_count": 18,
      "metadata": {
        "id": "PkEDbgRNgkZT"
      },
      "outputs": [],
      "source": [
        "\n",
        "from genai_stack.stack.stack import Stack\n",
        "from genai_stack.etl.langchain import LangchainETL\n",
        "from genai_stack.embedding.langchain import LangchainEmbedding\n",
        "from genai_stack.vectordb.chromadb import ChromaDB\n",
        "from genai_stack.prompt_engine.engine import PromptEngine\n",
        "from genai_stack.model.gpt3_5 import OpenAIGpt35Model\n",
        "from genai_stack.retriever import LangChainRetriever\n",
        "from genai_stack.memory.langchain import ConversationBufferMemory\n",
        "from genai_stack.model import HuggingFaceModel\n",
        "from genai_stack.stack.stack import Stack\n",
        "from genai_stack.model import Gpt4AllModel\n",
        "from genai_stack.stack.stack import Stack\n",
        "from genai_stack.model import Gpt4AllModel\n",
        "from genai_stack.vectordb.weaviate_db import Weaviate"
      ]
    },
    {
      "cell_type": "markdown",
      "source": [
        "## Solution to problem statement\n",
        "\n",
        "## Sentiment analysis on a customer survey report: pick any industry and their corresponding survey results to build the most insightful report with relevant data points\n",
        "\n",
        "\n",
        "🌱Embeddings\n",
        "Explanation\n",
        "Embeddings are numerical representations of data, typically used to represent words, sentences, or other objects in a vector space.\n",
        "\n",
        "In natural language processing (NLP), word embeddings are widely used to convert words into dense vectors. Each word is represented by a unique vector in such a way that semantically similar words have similar vectors.\n",
        "\n",
        "Popular word embedding methods include Word2Vec, GloVe, and FastText.\n",
        "\n",
        "Word embeddings are essential in various NLP tasks such as sentiment analysis, machine translation, and named entity recognition.\n",
        "\n",
        "They capture semantic relationships between words, allowing models to understand context and meaning.\n",
        "\n",
        "In addition to words, entire sentences or paragraphs can be embedded into fixed-length vectors, preserving the semantic information of the text.\n",
        "\n",
        "Sentence embeddings are useful for tasks like text classification, document clustering, and information retrieval"
      ],
      "metadata": {
        "id": "KqgoPPFDaqpJ"
      }
    },
    {
      "cell_type": "code",
      "source": [
        "from transformers import pipeline"
      ],
      "metadata": {
        "id": "XaSeJbB7YXbr"
      },
      "execution_count": 37,
      "outputs": []
    },
    {
      "cell_type": "code",
      "source": [
        "sentiment_pipeline = pipeline(\"sentiment-analysis\")"
      ],
      "metadata": {
        "colab": {
          "base_uri": "https://localhost:8080/",
          "height": 339,
          "referenced_widgets": [
            "2b9e6d364b29484081a0eac941d2be00",
            "90fa204fc9454a24aa511f1ec5d60c1e",
            "43bce6a1a64b4e8eb9ec3084596ea851",
            "0de4d2ca69dc479aac0e25f457cd9d29",
            "d2244f7ae5b24440b512d84f6fc2e1a5",
            "7aba1d29d94f479aa36bfcf8494bdb0d",
            "ed04b4cbee2144cab54400a5c0e15e4a",
            "4b7639ee45fe40edada95d78568a3551",
            "ff2d055fa41b4e7e81db8c296f29ab1c",
            "ebfac8795d9e43758503ba1d962cb070",
            "8c3d94d719f84fd4b2cdf2f8fc2e22ce",
            "bdcc9c96a2304f50a5919ab52ab41d45",
            "e358efe9c4b24563820e3dc5ca1b58e2",
            "750fa648da0245009e64f13b24bb995f",
            "088aa4de4b43455fb14678eb6ee2be18",
            "2104fa337eff4c67b992517b88b19e39",
            "b77d26453b604ee48f9a9559a85baf2e",
            "c38c2ce36fe74252a2a13c880093dcab",
            "f271a1154e4d49f9adbbf91b3eab4fdf",
            "196019691b844ac4950542ce933e2940",
            "f8daccf775274f51b93b2d919441110d",
            "cb021b283c184ac1820c08492357803d",
            "3819d0fc15ce4560b60daf455e5eb519",
            "ed0cf8453cb44eafadc1c2420538f3db",
            "6a649faaed3846b9a37dc60e474931ce",
            "d3c2a06b7a064430be72c04ca8faa6cf",
            "ba9e1130f97442cb93a5445e222927f1",
            "f4b3ee44381046669eb8bf7b78b6e45e",
            "e3158c369137433a91c8660e80eba90b",
            "9de25b7cc350422391e50a1acb7b5c13",
            "4acf2ae813f44d9b93ba95b3259e52d3",
            "6d7b165043ca4a1985725ce006716fef",
            "82480267bece4a4daba46f6651dca462",
            "384782ea2587492da0a78262cd9e9734",
            "58546d39341e4abdbbe3ba8b4e0b0d91",
            "0e294de1388d45ac98a63027d3608f7d",
            "ecf453e2b5e84cbb9701d1e17018fe78",
            "8f9d0c55376d42be85a73e4f838af243",
            "ba242b9be3f742878e7db9881ae766b0",
            "5ea8bffe81bc419e8c1c0e8610f6973e",
            "0083be741b2b46e0a64c8b3f6a5a537d",
            "7012d085a9f44660ae23569fa9383b67",
            "5eab315fce0e49d6b5dfb76aa430e5db",
            "5ef07587624e4bff97320267ea589b2d"
          ]
        },
        "id": "Wn8bSLN9YXh_",
        "outputId": "0da7719a-64e9-4416-9cbc-9a3493ace793"
      },
      "execution_count": 39,
      "outputs": [
        {
          "output_type": "stream",
          "name": "stderr",
          "text": [
            "No model was supplied, defaulted to distilbert/distilbert-base-uncased-finetuned-sst-2-english and revision af0f99b (https://huggingface.co/distilbert/distilbert-base-uncased-finetuned-sst-2-english).\n",
            "Using a pipeline without specifying a model name and revision in production is not recommended.\n",
            "/usr/local/lib/python3.10/dist-packages/huggingface_hub/file_download.py:1132: FutureWarning: `resume_download` is deprecated and will be removed in version 1.0.0. Downloads always resume when possible. If you want to force a new download, use `force_download=True`.\n",
            "  warnings.warn(\n",
            "/usr/local/lib/python3.10/dist-packages/huggingface_hub/utils/_token.py:89: UserWarning: \n",
            "The secret `HF_TOKEN` does not exist in your Colab secrets.\n",
            "To authenticate with the Hugging Face Hub, create a token in your settings tab (https://huggingface.co/settings/tokens), set it as secret in your Google Colab and restart your session.\n",
            "You will be able to reuse this secret in all of your notebooks.\n",
            "Please note that authentication is recommended but still optional to access public models or datasets.\n",
            "  warnings.warn(\n"
          ]
        },
        {
          "output_type": "display_data",
          "data": {
            "text/plain": [
              "config.json:   0%|          | 0.00/629 [00:00<?, ?B/s]"
            ],
            "application/vnd.jupyter.widget-view+json": {
              "version_major": 2,
              "version_minor": 0,
              "model_id": "2b9e6d364b29484081a0eac941d2be00"
            }
          },
          "metadata": {}
        },
        {
          "output_type": "display_data",
          "data": {
            "text/plain": [
              "model.safetensors:   0%|          | 0.00/268M [00:00<?, ?B/s]"
            ],
            "application/vnd.jupyter.widget-view+json": {
              "version_major": 2,
              "version_minor": 0,
              "model_id": "bdcc9c96a2304f50a5919ab52ab41d45"
            }
          },
          "metadata": {}
        },
        {
          "output_type": "display_data",
          "data": {
            "text/plain": [
              "tokenizer_config.json:   0%|          | 0.00/48.0 [00:00<?, ?B/s]"
            ],
            "application/vnd.jupyter.widget-view+json": {
              "version_major": 2,
              "version_minor": 0,
              "model_id": "3819d0fc15ce4560b60daf455e5eb519"
            }
          },
          "metadata": {}
        },
        {
          "output_type": "display_data",
          "data": {
            "text/plain": [
              "vocab.txt:   0%|          | 0.00/232k [00:00<?, ?B/s]"
            ],
            "application/vnd.jupyter.widget-view+json": {
              "version_major": 2,
              "version_minor": 0,
              "model_id": "384782ea2587492da0a78262cd9e9734"
            }
          },
          "metadata": {}
        }
      ]
    },
    {
      "cell_type": "code",
      "source": [
        "#JUST A DEMO ON HOW TO USE\n",
        "\n",
        "\n",
        "\n",
        "# Run sentiment analysis\n",
        "result = sentiment_pipeline(\"Every new day brings a chance to create joyful memories and embrace new opportunities.\")\n",
        "\n",
        "# Print the result\n",
        "print(result)\n",
        "\n"
      ],
      "metadata": {
        "colab": {
          "base_uri": "https://localhost:8080/"
        },
        "id": "aa3ReztpYXkU",
        "outputId": "63afcd21-4305-42b0-cd28-b6a568b901a3"
      },
      "execution_count": 46,
      "outputs": [
        {
          "output_type": "stream",
          "name": "stdout",
          "text": [
            "[{'label': 'POSITIVE', 'score': 0.9998821020126343}]\n"
          ]
        }
      ]
    },
    {
      "cell_type": "code",
      "source": [
        "\n",
        "!pip install -i https://test.pypi.org/simple/ supervision==0.3.0\n",
        "!pip install -q transformers\n",
        "!pip install -q pytorch-lightning\n",
        "!pip install -q roboflow\n",
        "!pip install -q timm"
      ],
      "metadata": {
        "colab": {
          "base_uri": "https://localhost:8080/"
        },
        "id": "IB6c7Dd5YXml",
        "outputId": "f35207e9-9303-49c0-ae9b-f7f08b2ac0c1"
      },
      "execution_count": 47,
      "outputs": [
        {
          "output_type": "stream",
          "name": "stdout",
          "text": [
            "Looking in indexes: https://test.pypi.org/simple/\n",
            "Collecting supervision==0.3.0\n",
            "  Downloading https://test-files.pythonhosted.org/packages/9c/29/e30c575a94cb121417cd7725aecb6bbf78d14d923f42e0bce7cf7de9b3eb/supervision-0.3.0-py3-none-any.whl (21 kB)\n",
            "Requirement already satisfied: numpy>=1.20.0 in /usr/local/lib/python3.10/dist-packages (from supervision==0.3.0) (1.25.2)\n",
            "Requirement already satisfied: opencv-python in /usr/local/lib/python3.10/dist-packages (from supervision==0.3.0) (4.8.0.76)\n",
            "Requirement already satisfied: matplotlib in /usr/local/lib/python3.10/dist-packages (from supervision==0.3.0) (3.7.1)\n",
            "Requirement already satisfied: contourpy>=1.0.1 in /usr/local/lib/python3.10/dist-packages (from matplotlib->supervision==0.3.0) (1.2.1)\n",
            "Requirement already satisfied: cycler>=0.10 in /usr/local/lib/python3.10/dist-packages (from matplotlib->supervision==0.3.0) (0.12.1)\n",
            "Requirement already satisfied: fonttools>=4.22.0 in /usr/local/lib/python3.10/dist-packages (from matplotlib->supervision==0.3.0) (4.53.0)\n",
            "Requirement already satisfied: kiwisolver>=1.0.1 in /usr/local/lib/python3.10/dist-packages (from matplotlib->supervision==0.3.0) (1.4.5)\n",
            "Requirement already satisfied: packaging>=20.0 in /usr/local/lib/python3.10/dist-packages (from matplotlib->supervision==0.3.0) (24.1)\n",
            "Requirement already satisfied: pillow>=6.2.0 in /usr/local/lib/python3.10/dist-packages (from matplotlib->supervision==0.3.0) (9.4.0)\n",
            "Requirement already satisfied: pyparsing>=2.3.1 in /usr/local/lib/python3.10/dist-packages (from matplotlib->supervision==0.3.0) (3.1.2)\n",
            "Requirement already satisfied: python-dateutil>=2.7 in /usr/local/lib/python3.10/dist-packages (from matplotlib->supervision==0.3.0) (2.8.2)\n",
            "Requirement already satisfied: six>=1.5 in /usr/local/lib/python3.10/dist-packages (from python-dateutil>=2.7->matplotlib->supervision==0.3.0) (1.16.0)\n",
            "Installing collected packages: supervision\n",
            "Successfully installed supervision-0.3.0\n",
            "\u001b[2K     \u001b[90m━━━━━━━━━━━━━━━━━━━━━━━━━━━━━━━━━━━━━━━━\u001b[0m \u001b[32m812.2/812.2 kB\u001b[0m \u001b[31m4.7 MB/s\u001b[0m eta \u001b[36m0:00:00\u001b[0m\n",
            "\u001b[2K     \u001b[90m━━━━━━━━━━━━━━━━━━━━━━━━━━━━━━━━━━━━━━━━\u001b[0m \u001b[32m868.8/868.8 kB\u001b[0m \u001b[31m20.2 MB/s\u001b[0m eta \u001b[36m0:00:00\u001b[0m\n",
            "\u001b[2K     \u001b[90m━━━━━━━━━━━━━━━━━━━━━━━━━━━━━━━━━━━━━━━━\u001b[0m \u001b[32m75.6/75.6 kB\u001b[0m \u001b[31m814.5 kB/s\u001b[0m eta \u001b[36m0:00:00\u001b[0m\n",
            "\u001b[2K     \u001b[90m━━━━━━━━━━━━━━━━━━━━━━━━━━━━━━━━━━━━━━━━\u001b[0m \u001b[32m158.3/158.3 kB\u001b[0m \u001b[31m2.6 MB/s\u001b[0m eta \u001b[36m0:00:00\u001b[0m\n",
            "\u001b[2K     \u001b[90m━━━━━━━━━━━━━━━━━━━━━━━━━━━━━━━━━━━━━━━━\u001b[0m \u001b[32m178.7/178.7 kB\u001b[0m \u001b[31m12.5 MB/s\u001b[0m eta \u001b[36m0:00:00\u001b[0m\n",
            "\u001b[2K     \u001b[90m━━━━━━━━━━━━━━━━━━━━━━━━━━━━━━━━━━━━━━━━\u001b[0m \u001b[32m58.8/58.8 kB\u001b[0m \u001b[31m5.4 MB/s\u001b[0m eta \u001b[36m0:00:00\u001b[0m\n",
            "\u001b[2K     \u001b[90m━━━━━━━━━━━━━━━━━━━━━━━━━━━━━━━━━━━━━━━━\u001b[0m \u001b[32m49.1/49.1 MB\u001b[0m \u001b[31m7.7 MB/s\u001b[0m eta \u001b[36m0:00:00\u001b[0m\n",
            "\u001b[2K     \u001b[90m━━━━━━━━━━━━━━━━━━━━━━━━━━━━━━━━━━━━━━━━\u001b[0m \u001b[32m54.5/54.5 kB\u001b[0m \u001b[31m5.0 MB/s\u001b[0m eta \u001b[36m0:00:00\u001b[0m\n",
            "\u001b[?25h\u001b[33mWARNING: The candidate selected for download or install is a yanked version: 'opencv-python-headless' candidate (version 4.8.0.74 at https://files.pythonhosted.org/packages/76/02/f128517f3ade4bb5f71e2afd8461dba70e3f466ce745fa1fd1fade9ad1b7/opencv_python_headless-4.8.0.74-cp37-abi3-manylinux_2_17_x86_64.manylinux2014_x86_64.whl (from https://pypi.org/simple/opencv-python-headless/) (requires-python:>=3.6))\n",
            "Reason for being yanked: deprecated, use 4.8.0.76\u001b[0m\u001b[33m\n",
            "\u001b[2K     \u001b[90m━━━━━━━━━━━━━━━━━━━━━━━━━━━━━━━━━━━━━━━━\u001b[0m \u001b[32m2.3/2.3 MB\u001b[0m \u001b[31m8.8 MB/s\u001b[0m eta \u001b[36m0:00:00\u001b[0m\n",
            "\u001b[?25h\u001b[31mERROR: Operation cancelled by user\u001b[0m\u001b[31m\n",
            "\u001b[0m"
          ]
        }
      ]
    },
    {
      "cell_type": "code",
      "source": [
        "!pip install datasets\n"
      ],
      "metadata": {
        "colab": {
          "base_uri": "https://localhost:8080/"
        },
        "id": "wLHuh-uWYXoz",
        "outputId": "46e00100-422f-428e-8d04-edd5fb63944c"
      },
      "execution_count": 9,
      "outputs": [
        {
          "output_type": "stream",
          "name": "stdout",
          "text": [
            "Requirement already satisfied: datasets in /usr/local/lib/python3.10/dist-packages (2.20.0)\n",
            "Requirement already satisfied: filelock in /usr/local/lib/python3.10/dist-packages (from datasets) (3.14.0)\n",
            "Requirement already satisfied: numpy>=1.17 in /usr/local/lib/python3.10/dist-packages (from datasets) (1.25.2)\n",
            "Requirement already satisfied: pyarrow>=15.0.0 in /usr/local/lib/python3.10/dist-packages (from datasets) (16.1.0)\n",
            "Requirement already satisfied: pyarrow-hotfix in /usr/local/lib/python3.10/dist-packages (from datasets) (0.6)\n",
            "Requirement already satisfied: dill<0.3.9,>=0.3.0 in /usr/local/lib/python3.10/dist-packages (from datasets) (0.3.8)\n",
            "Requirement already satisfied: pandas in /usr/local/lib/python3.10/dist-packages (from datasets) (2.0.3)\n",
            "Requirement already satisfied: requests>=2.32.2 in /usr/local/lib/python3.10/dist-packages (from datasets) (2.32.3)\n",
            "Requirement already satisfied: tqdm>=4.66.3 in /usr/local/lib/python3.10/dist-packages (from datasets) (4.66.4)\n",
            "Requirement already satisfied: xxhash in /usr/local/lib/python3.10/dist-packages (from datasets) (3.4.1)\n",
            "Requirement already satisfied: multiprocess in /usr/local/lib/python3.10/dist-packages (from datasets) (0.70.16)\n",
            "Requirement already satisfied: fsspec[http]<=2024.5.0,>=2023.1.0 in /usr/local/lib/python3.10/dist-packages (from datasets) (2023.6.0)\n",
            "Requirement already satisfied: aiohttp in /usr/local/lib/python3.10/dist-packages (from datasets) (3.9.5)\n",
            "Requirement already satisfied: huggingface-hub>=0.21.2 in /usr/local/lib/python3.10/dist-packages (from datasets) (0.23.3)\n",
            "Requirement already satisfied: packaging in /usr/local/lib/python3.10/dist-packages (from datasets) (24.1)\n",
            "Requirement already satisfied: pyyaml>=5.1 in /usr/local/lib/python3.10/dist-packages (from datasets) (6.0.1)\n",
            "Requirement already satisfied: aiosignal>=1.1.2 in /usr/local/lib/python3.10/dist-packages (from aiohttp->datasets) (1.3.1)\n",
            "Requirement already satisfied: attrs>=17.3.0 in /usr/local/lib/python3.10/dist-packages (from aiohttp->datasets) (23.2.0)\n",
            "Requirement already satisfied: frozenlist>=1.1.1 in /usr/local/lib/python3.10/dist-packages (from aiohttp->datasets) (1.4.1)\n",
            "Requirement already satisfied: multidict<7.0,>=4.5 in /usr/local/lib/python3.10/dist-packages (from aiohttp->datasets) (6.0.5)\n",
            "Requirement already satisfied: yarl<2.0,>=1.0 in /usr/local/lib/python3.10/dist-packages (from aiohttp->datasets) (1.9.4)\n",
            "Requirement already satisfied: async-timeout<5.0,>=4.0 in /usr/local/lib/python3.10/dist-packages (from aiohttp->datasets) (4.0.3)\n",
            "Requirement already satisfied: typing-extensions>=3.7.4.3 in /usr/local/lib/python3.10/dist-packages (from huggingface-hub>=0.21.2->datasets) (4.12.2)\n",
            "Requirement already satisfied: charset-normalizer<4,>=2 in /usr/local/lib/python3.10/dist-packages (from requests>=2.32.2->datasets) (3.3.2)\n",
            "Requirement already satisfied: idna<4,>=2.5 in /usr/local/lib/python3.10/dist-packages (from requests>=2.32.2->datasets) (2.10)\n",
            "Requirement already satisfied: urllib3<3,>=1.21.1 in /usr/local/lib/python3.10/dist-packages (from requests>=2.32.2->datasets) (2.0.7)\n",
            "Requirement already satisfied: certifi>=2017.4.17 in /usr/local/lib/python3.10/dist-packages (from requests>=2.32.2->datasets) (2023.7.22)\n",
            "Requirement already satisfied: python-dateutil>=2.8.2 in /usr/local/lib/python3.10/dist-packages (from pandas->datasets) (2.8.2)\n",
            "Requirement already satisfied: pytz>=2020.1 in /usr/local/lib/python3.10/dist-packages (from pandas->datasets) (2023.4)\n",
            "Requirement already satisfied: tzdata>=2022.1 in /usr/local/lib/python3.10/dist-packages (from pandas->datasets) (2024.1)\n",
            "Requirement already satisfied: six>=1.5 in /usr/local/lib/python3.10/dist-packages (from python-dateutil>=2.8.2->pandas->datasets) (1.16.0)\n"
          ]
        }
      ]
    },
    {
      "cell_type": "code",
      "source": [
        "from datasets import load_dataset\n",
        "\n",
        "dataset = load_dataset(\"yelp_review_full\")\n",
        "dataset[\"train\"][100]"
      ],
      "metadata": {
        "colab": {
          "base_uri": "https://localhost:8080/"
        },
        "id": "Lue8uUdtYXrN",
        "outputId": "03866805-ec36-40f6-d658-fc05ee70e0cf"
      },
      "execution_count": 10,
      "outputs": [
        {
          "output_type": "execute_result",
          "data": {
            "text/plain": [
              "{'label': 0,\n",
              " 'text': 'My expectations for McDonalds are t rarely high. But for one to still fail so spectacularly...that takes something special!\\\\nThe cashier took my friends\\'s order, then promptly ignored me. I had to force myself in front of a cashier who opened his register to wait on the person BEHIND me. I waited over five minutes for a gigantic order that included precisely one kid\\'s meal. After watching two people who ordered after me be handed their food, I asked where mine was. The manager started yelling at the cashiers for \\\\\"serving off their orders\\\\\" when they didn\\'t have their food. But neither cashier was anywhere near those controls, and the manager was the one serving food to customers and clearing the boards.\\\\nThe manager was rude when giving me my order. She didn\\'t make sure that I had everything ON MY RECEIPT, and never even had the decency to apologize that I felt I was getting poor service.\\\\nI\\'ve eaten at various McDonalds restaurants for over 30 years. I\\'ve worked at more than one location. I expect bad days, bad moods, and the occasional mistake. But I have yet to have a decent experience at this store. It will remain a place I avoid unless someone in my party needs to avoid illness from low blood sugar. Perhaps I should go back to the racially biased service of Steak n Shake instead!'}"
            ]
          },
          "metadata": {},
          "execution_count": 10
        }
      ]
    },
    {
      "cell_type": "code",
      "source": [
        "from transformers import AutoTokenizer\n",
        "\n",
        "tokenizer = AutoTokenizer.from_pretrained(\"bert-base-cased\")\n",
        "\n",
        "\n",
        "def tokenize_function(examples):\n",
        "    return tokenizer(examples[\"text\"], padding=\"max_length\", truncation=True)\n",
        "\n",
        "\n",
        "tokenized_datasets = dataset.map(tokenize_function, batched=True)"
      ],
      "metadata": {
        "colab": {
          "base_uri": "https://localhost:8080/",
          "height": 49,
          "referenced_widgets": [
            "90839221c037415e93a54dfe82f493e5",
            "8f883d77bb3b4c13a94b2586f5e942e5",
            "1a964fd971f9409bb2cd441103a0052f",
            "10703ee40e3c4cc99f32369b81787bdf",
            "1eabb13ab9e847b99ad3d051e7988586",
            "eb3b2d09c3404d27974b4ddd42b9d1cd",
            "d2633250b01144afb484370c2f5ffe00",
            "90da68ad971a43e19226ad63b6008cc9",
            "7fbb86591a154b938a669e0c041338f7",
            "8c89d2799b114994b685acb974faaaf3",
            "5db2568c5cb64230a722dd25ae6eba16"
          ]
        },
        "id": "L42lDljyYXtW",
        "outputId": "85b71887-0649-4053-cc3d-4ee719fada98"
      },
      "execution_count": 11,
      "outputs": [
        {
          "output_type": "display_data",
          "data": {
            "text/plain": [
              "Map:   0%|          | 0/50000 [00:00<?, ? examples/s]"
            ],
            "application/vnd.jupyter.widget-view+json": {
              "version_major": 2,
              "version_minor": 0,
              "model_id": "90839221c037415e93a54dfe82f493e5"
            }
          },
          "metadata": {}
        }
      ]
    },
    {
      "cell_type": "code",
      "source": [
        "pip install accelerate>=0.21.0"
      ],
      "metadata": {
        "id": "PmryHL2Vks2G"
      },
      "execution_count": 10,
      "outputs": []
    },
    {
      "cell_type": "code",
      "source": [
        "small_train_dataset = tokenized_datasets[\"train\"].shuffle(seed=42).select(range(1000))\n",
        "small_eval_dataset = tokenized_datasets[\"test\"].shuffle(seed=42).select(range(1000))\n",
        ""
      ],
      "metadata": {
        "id": "N8Q8foohgFFG"
      },
      "execution_count": 18,
      "outputs": []
    },
    {
      "cell_type": "code",
      "source": [
        "from transformers import AutoModelForSequenceClassification\n",
        "\n",
        "model = AutoModelForSequenceClassification.from_pretrained(\"bert-base-cased\", num_labels=5)"
      ],
      "metadata": {
        "colab": {
          "base_uri": "https://localhost:8080/"
        },
        "id": "sDVF-VPfgFOH",
        "outputId": "394174dc-d4e3-463b-d8f6-b781ec3de571"
      },
      "execution_count": 19,
      "outputs": [
        {
          "output_type": "stream",
          "name": "stderr",
          "text": [
            "Some weights of BertForSequenceClassification were not initialized from the model checkpoint at bert-base-cased and are newly initialized: ['classifier.bias', 'classifier.weight']\n",
            "You should probably TRAIN this model on a down-stream task to be able to use it for predictions and inference.\n"
          ]
        }
      ]
    },
    {
      "cell_type": "code",
      "source": [
        "\n",
        "\n",
        "import numpy as np\n",
        "from datasets import load_metric\n",
        "\n",
        "metric = load_metric(\"accuracy\")"
      ],
      "metadata": {
        "id": "Gre8Ywx7gFTm"
      },
      "execution_count": 14,
      "outputs": []
    },
    {
      "cell_type": "code",
      "source": [
        "def compute_metrics(eval_pred):\n",
        "    logits, labels = eval_pred\n",
        "    predictions = np.argmax(logits, axis=-1)\n",
        "    return metric.compute(predictions=predictions, references=labels)"
      ],
      "metadata": {
        "id": "tj1-kLoogFWG"
      },
      "execution_count": 15,
      "outputs": []
    },
    {
      "cell_type": "code",
      "source": [
        "\n",
        "from transformers import TrainingArguments, Trainer\n",
        "\n",
        "training_args = TrainingArguments(output_dir=\"test_trainer\", evaluation_strategy=\"epoch\")\n",
        ""
      ],
      "metadata": {
        "colab": {
          "base_uri": "https://localhost:8080/"
        },
        "id": "kobNclvTgFYm",
        "outputId": "2a73f167-b8e9-4c2f-b738-07c96038f87b"
      },
      "execution_count": 16,
      "outputs": [
        {
          "output_type": "stream",
          "name": "stderr",
          "text": [
            "/usr/local/lib/python3.10/dist-packages/transformers/training_args.py:1474: FutureWarning: `evaluation_strategy` is deprecated and will be removed in version 4.46 of 🤗 Transformers. Use `eval_strategy` instead\n",
            "  warnings.warn(\n"
          ]
        }
      ]
    },
    {
      "cell_type": "code",
      "source": [
        "trainer = Trainer(\n",
        "    model=model,\n",
        "    args=training_args,\n",
        "    train_dataset=small_train_dataset,\n",
        "    eval_dataset=small_eval_dataset,\n",
        "    compute_metrics=compute_metrics,\n",
        ")"
      ],
      "metadata": {
        "id": "XQ3wB2AbgFaq"
      },
      "execution_count": 17,
      "outputs": []
    },
    {
      "cell_type": "code",
      "source": [
        "\n",
        "trainer.train()"
      ],
      "metadata": {
        "colab": {
          "base_uri": "https://localhost:8080/",
          "height": 345
        },
        "id": "GcVGd5klgFdJ",
        "outputId": "9100a69c-06bc-459d-fc43-0780c4f5ad67"
      },
      "execution_count": 20,
      "outputs": [
        {
          "output_type": "display_data",
          "data": {
            "text/plain": [
              "<IPython.core.display.HTML object>"
            ],
            "text/html": [
              "\n",
              "    <div>\n",
              "      \n",
              "      <progress value='6' max='375' style='width:300px; height:20px; vertical-align: middle;'></progress>\n",
              "      [  6/375 03:23 < 5:13:02, 0.02 it/s, Epoch 0.04/3]\n",
              "    </div>\n",
              "    <table border=\"1\" class=\"dataframe\">\n",
              "  <thead>\n",
              " <tr style=\"text-align: left;\">\n",
              "      <th>Epoch</th>\n",
              "      <th>Training Loss</th>\n",
              "      <th>Validation Loss</th>\n",
              "    </tr>\n",
              "  </thead>\n",
              "  <tbody>\n",
              "  </tbody>\n",
              "</table><p>"
            ]
          },
          "metadata": {}
        },
        {
          "output_type": "error",
          "ename": "KeyboardInterrupt",
          "evalue": "",
          "traceback": [
            "\u001b[0;31m---------------------------------------------------------------------------\u001b[0m",
            "\u001b[0;31mKeyboardInterrupt\u001b[0m                         Traceback (most recent call last)",
            "\u001b[0;32m<ipython-input-20-3435b262f1ae>\u001b[0m in \u001b[0;36m<cell line: 1>\u001b[0;34m()\u001b[0m\n\u001b[0;32m----> 1\u001b[0;31m \u001b[0mtrainer\u001b[0m\u001b[0;34m.\u001b[0m\u001b[0mtrain\u001b[0m\u001b[0;34m(\u001b[0m\u001b[0;34m)\u001b[0m\u001b[0;34m\u001b[0m\u001b[0;34m\u001b[0m\u001b[0m\n\u001b[0m",
            "\u001b[0;32m/usr/local/lib/python3.10/dist-packages/transformers/trainer.py\u001b[0m in \u001b[0;36mtrain\u001b[0;34m(self, resume_from_checkpoint, trial, ignore_keys_for_eval, **kwargs)\u001b[0m\n\u001b[1;32m   1883\u001b[0m                 \u001b[0mhf_hub_utils\u001b[0m\u001b[0;34m.\u001b[0m\u001b[0menable_progress_bars\u001b[0m\u001b[0;34m(\u001b[0m\u001b[0;34m)\u001b[0m\u001b[0;34m\u001b[0m\u001b[0;34m\u001b[0m\u001b[0m\n\u001b[1;32m   1884\u001b[0m         \u001b[0;32melse\u001b[0m\u001b[0;34m:\u001b[0m\u001b[0;34m\u001b[0m\u001b[0;34m\u001b[0m\u001b[0m\n\u001b[0;32m-> 1885\u001b[0;31m             return inner_training_loop(\n\u001b[0m\u001b[1;32m   1886\u001b[0m                 \u001b[0margs\u001b[0m\u001b[0;34m=\u001b[0m\u001b[0margs\u001b[0m\u001b[0;34m,\u001b[0m\u001b[0;34m\u001b[0m\u001b[0;34m\u001b[0m\u001b[0m\n\u001b[1;32m   1887\u001b[0m                 \u001b[0mresume_from_checkpoint\u001b[0m\u001b[0;34m=\u001b[0m\u001b[0mresume_from_checkpoint\u001b[0m\u001b[0;34m,\u001b[0m\u001b[0;34m\u001b[0m\u001b[0;34m\u001b[0m\u001b[0m\n",
            "\u001b[0;32m/usr/local/lib/python3.10/dist-packages/transformers/trainer.py\u001b[0m in \u001b[0;36m_inner_training_loop\u001b[0;34m(self, batch_size, args, resume_from_checkpoint, trial, ignore_keys_for_eval)\u001b[0m\n\u001b[1;32m   2214\u001b[0m \u001b[0;34m\u001b[0m\u001b[0m\n\u001b[1;32m   2215\u001b[0m                 \u001b[0;32mwith\u001b[0m \u001b[0mself\u001b[0m\u001b[0;34m.\u001b[0m\u001b[0maccelerator\u001b[0m\u001b[0;34m.\u001b[0m\u001b[0maccumulate\u001b[0m\u001b[0;34m(\u001b[0m\u001b[0mmodel\u001b[0m\u001b[0;34m)\u001b[0m\u001b[0;34m:\u001b[0m\u001b[0;34m\u001b[0m\u001b[0;34m\u001b[0m\u001b[0m\n\u001b[0;32m-> 2216\u001b[0;31m                     \u001b[0mtr_loss_step\u001b[0m \u001b[0;34m=\u001b[0m \u001b[0mself\u001b[0m\u001b[0;34m.\u001b[0m\u001b[0mtraining_step\u001b[0m\u001b[0;34m(\u001b[0m\u001b[0mmodel\u001b[0m\u001b[0;34m,\u001b[0m \u001b[0minputs\u001b[0m\u001b[0;34m)\u001b[0m\u001b[0;34m\u001b[0m\u001b[0;34m\u001b[0m\u001b[0m\n\u001b[0m\u001b[1;32m   2217\u001b[0m \u001b[0;34m\u001b[0m\u001b[0m\n\u001b[1;32m   2218\u001b[0m                 if (\n",
            "\u001b[0;32m/usr/local/lib/python3.10/dist-packages/transformers/trainer.py\u001b[0m in \u001b[0;36mtraining_step\u001b[0;34m(self, model, inputs)\u001b[0m\n\u001b[1;32m   3236\u001b[0m \u001b[0;34m\u001b[0m\u001b[0m\n\u001b[1;32m   3237\u001b[0m         \u001b[0;32mwith\u001b[0m \u001b[0mself\u001b[0m\u001b[0;34m.\u001b[0m\u001b[0mcompute_loss_context_manager\u001b[0m\u001b[0;34m(\u001b[0m\u001b[0;34m)\u001b[0m\u001b[0;34m:\u001b[0m\u001b[0;34m\u001b[0m\u001b[0;34m\u001b[0m\u001b[0m\n\u001b[0;32m-> 3238\u001b[0;31m             \u001b[0mloss\u001b[0m \u001b[0;34m=\u001b[0m \u001b[0mself\u001b[0m\u001b[0;34m.\u001b[0m\u001b[0mcompute_loss\u001b[0m\u001b[0;34m(\u001b[0m\u001b[0mmodel\u001b[0m\u001b[0;34m,\u001b[0m \u001b[0minputs\u001b[0m\u001b[0;34m)\u001b[0m\u001b[0;34m\u001b[0m\u001b[0;34m\u001b[0m\u001b[0m\n\u001b[0m\u001b[1;32m   3239\u001b[0m \u001b[0;34m\u001b[0m\u001b[0m\n\u001b[1;32m   3240\u001b[0m         \u001b[0;32mdel\u001b[0m \u001b[0minputs\u001b[0m\u001b[0;34m\u001b[0m\u001b[0;34m\u001b[0m\u001b[0m\n",
            "\u001b[0;32m/usr/local/lib/python3.10/dist-packages/transformers/trainer.py\u001b[0m in \u001b[0;36mcompute_loss\u001b[0;34m(self, model, inputs, return_outputs)\u001b[0m\n\u001b[1;32m   3262\u001b[0m         \u001b[0;32melse\u001b[0m\u001b[0;34m:\u001b[0m\u001b[0;34m\u001b[0m\u001b[0;34m\u001b[0m\u001b[0m\n\u001b[1;32m   3263\u001b[0m             \u001b[0mlabels\u001b[0m \u001b[0;34m=\u001b[0m \u001b[0;32mNone\u001b[0m\u001b[0;34m\u001b[0m\u001b[0;34m\u001b[0m\u001b[0m\n\u001b[0;32m-> 3264\u001b[0;31m         \u001b[0moutputs\u001b[0m \u001b[0;34m=\u001b[0m \u001b[0mmodel\u001b[0m\u001b[0;34m(\u001b[0m\u001b[0;34m**\u001b[0m\u001b[0minputs\u001b[0m\u001b[0;34m)\u001b[0m\u001b[0;34m\u001b[0m\u001b[0;34m\u001b[0m\u001b[0m\n\u001b[0m\u001b[1;32m   3265\u001b[0m         \u001b[0;31m# Save past state if it exists\u001b[0m\u001b[0;34m\u001b[0m\u001b[0;34m\u001b[0m\u001b[0m\n\u001b[1;32m   3266\u001b[0m         \u001b[0;31m# TODO: this needs to be fixed and made cleaner later.\u001b[0m\u001b[0;34m\u001b[0m\u001b[0;34m\u001b[0m\u001b[0m\n",
            "\u001b[0;32m/usr/local/lib/python3.10/dist-packages/torch/nn/modules/module.py\u001b[0m in \u001b[0;36m_wrapped_call_impl\u001b[0;34m(self, *args, **kwargs)\u001b[0m\n\u001b[1;32m   1530\u001b[0m             \u001b[0;32mreturn\u001b[0m \u001b[0mself\u001b[0m\u001b[0;34m.\u001b[0m\u001b[0m_compiled_call_impl\u001b[0m\u001b[0;34m(\u001b[0m\u001b[0;34m*\u001b[0m\u001b[0margs\u001b[0m\u001b[0;34m,\u001b[0m \u001b[0;34m**\u001b[0m\u001b[0mkwargs\u001b[0m\u001b[0;34m)\u001b[0m  \u001b[0;31m# type: ignore[misc]\u001b[0m\u001b[0;34m\u001b[0m\u001b[0;34m\u001b[0m\u001b[0m\n\u001b[1;32m   1531\u001b[0m         \u001b[0;32melse\u001b[0m\u001b[0;34m:\u001b[0m\u001b[0;34m\u001b[0m\u001b[0;34m\u001b[0m\u001b[0m\n\u001b[0;32m-> 1532\u001b[0;31m             \u001b[0;32mreturn\u001b[0m \u001b[0mself\u001b[0m\u001b[0;34m.\u001b[0m\u001b[0m_call_impl\u001b[0m\u001b[0;34m(\u001b[0m\u001b[0;34m*\u001b[0m\u001b[0margs\u001b[0m\u001b[0;34m,\u001b[0m \u001b[0;34m**\u001b[0m\u001b[0mkwargs\u001b[0m\u001b[0;34m)\u001b[0m\u001b[0;34m\u001b[0m\u001b[0;34m\u001b[0m\u001b[0m\n\u001b[0m\u001b[1;32m   1533\u001b[0m \u001b[0;34m\u001b[0m\u001b[0m\n\u001b[1;32m   1534\u001b[0m     \u001b[0;32mdef\u001b[0m \u001b[0m_call_impl\u001b[0m\u001b[0;34m(\u001b[0m\u001b[0mself\u001b[0m\u001b[0;34m,\u001b[0m \u001b[0;34m*\u001b[0m\u001b[0margs\u001b[0m\u001b[0;34m,\u001b[0m \u001b[0;34m**\u001b[0m\u001b[0mkwargs\u001b[0m\u001b[0;34m)\u001b[0m\u001b[0;34m:\u001b[0m\u001b[0;34m\u001b[0m\u001b[0;34m\u001b[0m\u001b[0m\n",
            "\u001b[0;32m/usr/local/lib/python3.10/dist-packages/torch/nn/modules/module.py\u001b[0m in \u001b[0;36m_call_impl\u001b[0;34m(self, *args, **kwargs)\u001b[0m\n\u001b[1;32m   1539\u001b[0m                 \u001b[0;32mor\u001b[0m \u001b[0m_global_backward_pre_hooks\u001b[0m \u001b[0;32mor\u001b[0m \u001b[0m_global_backward_hooks\u001b[0m\u001b[0;34m\u001b[0m\u001b[0;34m\u001b[0m\u001b[0m\n\u001b[1;32m   1540\u001b[0m                 or _global_forward_hooks or _global_forward_pre_hooks):\n\u001b[0;32m-> 1541\u001b[0;31m             \u001b[0;32mreturn\u001b[0m \u001b[0mforward_call\u001b[0m\u001b[0;34m(\u001b[0m\u001b[0;34m*\u001b[0m\u001b[0margs\u001b[0m\u001b[0;34m,\u001b[0m \u001b[0;34m**\u001b[0m\u001b[0mkwargs\u001b[0m\u001b[0;34m)\u001b[0m\u001b[0;34m\u001b[0m\u001b[0;34m\u001b[0m\u001b[0m\n\u001b[0m\u001b[1;32m   1542\u001b[0m \u001b[0;34m\u001b[0m\u001b[0m\n\u001b[1;32m   1543\u001b[0m         \u001b[0;32mtry\u001b[0m\u001b[0;34m:\u001b[0m\u001b[0;34m\u001b[0m\u001b[0;34m\u001b[0m\u001b[0m\n",
            "\u001b[0;32m/usr/local/lib/python3.10/dist-packages/transformers/models/bert/modeling_bert.py\u001b[0m in \u001b[0;36mforward\u001b[0;34m(self, input_ids, attention_mask, token_type_ids, position_ids, head_mask, inputs_embeds, labels, output_attentions, output_hidden_states, return_dict)\u001b[0m\n\u001b[1;32m   1689\u001b[0m         \u001b[0mreturn_dict\u001b[0m \u001b[0;34m=\u001b[0m \u001b[0mreturn_dict\u001b[0m \u001b[0;32mif\u001b[0m \u001b[0mreturn_dict\u001b[0m \u001b[0;32mis\u001b[0m \u001b[0;32mnot\u001b[0m \u001b[0;32mNone\u001b[0m \u001b[0;32melse\u001b[0m \u001b[0mself\u001b[0m\u001b[0;34m.\u001b[0m\u001b[0mconfig\u001b[0m\u001b[0;34m.\u001b[0m\u001b[0muse_return_dict\u001b[0m\u001b[0;34m\u001b[0m\u001b[0;34m\u001b[0m\u001b[0m\n\u001b[1;32m   1690\u001b[0m \u001b[0;34m\u001b[0m\u001b[0m\n\u001b[0;32m-> 1691\u001b[0;31m         outputs = self.bert(\n\u001b[0m\u001b[1;32m   1692\u001b[0m             \u001b[0minput_ids\u001b[0m\u001b[0;34m,\u001b[0m\u001b[0;34m\u001b[0m\u001b[0;34m\u001b[0m\u001b[0m\n\u001b[1;32m   1693\u001b[0m             \u001b[0mattention_mask\u001b[0m\u001b[0;34m=\u001b[0m\u001b[0mattention_mask\u001b[0m\u001b[0;34m,\u001b[0m\u001b[0;34m\u001b[0m\u001b[0;34m\u001b[0m\u001b[0m\n",
            "\u001b[0;32m/usr/local/lib/python3.10/dist-packages/torch/nn/modules/module.py\u001b[0m in \u001b[0;36m_wrapped_call_impl\u001b[0;34m(self, *args, **kwargs)\u001b[0m\n\u001b[1;32m   1530\u001b[0m             \u001b[0;32mreturn\u001b[0m \u001b[0mself\u001b[0m\u001b[0;34m.\u001b[0m\u001b[0m_compiled_call_impl\u001b[0m\u001b[0;34m(\u001b[0m\u001b[0;34m*\u001b[0m\u001b[0margs\u001b[0m\u001b[0;34m,\u001b[0m \u001b[0;34m**\u001b[0m\u001b[0mkwargs\u001b[0m\u001b[0;34m)\u001b[0m  \u001b[0;31m# type: ignore[misc]\u001b[0m\u001b[0;34m\u001b[0m\u001b[0;34m\u001b[0m\u001b[0m\n\u001b[1;32m   1531\u001b[0m         \u001b[0;32melse\u001b[0m\u001b[0;34m:\u001b[0m\u001b[0;34m\u001b[0m\u001b[0;34m\u001b[0m\u001b[0m\n\u001b[0;32m-> 1532\u001b[0;31m             \u001b[0;32mreturn\u001b[0m \u001b[0mself\u001b[0m\u001b[0;34m.\u001b[0m\u001b[0m_call_impl\u001b[0m\u001b[0;34m(\u001b[0m\u001b[0;34m*\u001b[0m\u001b[0margs\u001b[0m\u001b[0;34m,\u001b[0m \u001b[0;34m**\u001b[0m\u001b[0mkwargs\u001b[0m\u001b[0;34m)\u001b[0m\u001b[0;34m\u001b[0m\u001b[0;34m\u001b[0m\u001b[0m\n\u001b[0m\u001b[1;32m   1533\u001b[0m \u001b[0;34m\u001b[0m\u001b[0m\n\u001b[1;32m   1534\u001b[0m     \u001b[0;32mdef\u001b[0m \u001b[0m_call_impl\u001b[0m\u001b[0;34m(\u001b[0m\u001b[0mself\u001b[0m\u001b[0;34m,\u001b[0m \u001b[0;34m*\u001b[0m\u001b[0margs\u001b[0m\u001b[0;34m,\u001b[0m \u001b[0;34m**\u001b[0m\u001b[0mkwargs\u001b[0m\u001b[0;34m)\u001b[0m\u001b[0;34m:\u001b[0m\u001b[0;34m\u001b[0m\u001b[0;34m\u001b[0m\u001b[0m\n",
            "\u001b[0;32m/usr/local/lib/python3.10/dist-packages/torch/nn/modules/module.py\u001b[0m in \u001b[0;36m_call_impl\u001b[0;34m(self, *args, **kwargs)\u001b[0m\n\u001b[1;32m   1539\u001b[0m                 \u001b[0;32mor\u001b[0m \u001b[0m_global_backward_pre_hooks\u001b[0m \u001b[0;32mor\u001b[0m \u001b[0m_global_backward_hooks\u001b[0m\u001b[0;34m\u001b[0m\u001b[0;34m\u001b[0m\u001b[0m\n\u001b[1;32m   1540\u001b[0m                 or _global_forward_hooks or _global_forward_pre_hooks):\n\u001b[0;32m-> 1541\u001b[0;31m             \u001b[0;32mreturn\u001b[0m \u001b[0mforward_call\u001b[0m\u001b[0;34m(\u001b[0m\u001b[0;34m*\u001b[0m\u001b[0margs\u001b[0m\u001b[0;34m,\u001b[0m \u001b[0;34m**\u001b[0m\u001b[0mkwargs\u001b[0m\u001b[0;34m)\u001b[0m\u001b[0;34m\u001b[0m\u001b[0;34m\u001b[0m\u001b[0m\n\u001b[0m\u001b[1;32m   1542\u001b[0m \u001b[0;34m\u001b[0m\u001b[0m\n\u001b[1;32m   1543\u001b[0m         \u001b[0;32mtry\u001b[0m\u001b[0;34m:\u001b[0m\u001b[0;34m\u001b[0m\u001b[0;34m\u001b[0m\u001b[0m\n",
            "\u001b[0;32m/usr/local/lib/python3.10/dist-packages/transformers/models/bert/modeling_bert.py\u001b[0m in \u001b[0;36mforward\u001b[0;34m(self, input_ids, attention_mask, token_type_ids, position_ids, head_mask, inputs_embeds, encoder_hidden_states, encoder_attention_mask, past_key_values, use_cache, output_attentions, output_hidden_states, return_dict)\u001b[0m\n\u001b[1;32m   1135\u001b[0m         \u001b[0mhead_mask\u001b[0m \u001b[0;34m=\u001b[0m \u001b[0mself\u001b[0m\u001b[0;34m.\u001b[0m\u001b[0mget_head_mask\u001b[0m\u001b[0;34m(\u001b[0m\u001b[0mhead_mask\u001b[0m\u001b[0;34m,\u001b[0m \u001b[0mself\u001b[0m\u001b[0;34m.\u001b[0m\u001b[0mconfig\u001b[0m\u001b[0;34m.\u001b[0m\u001b[0mnum_hidden_layers\u001b[0m\u001b[0;34m)\u001b[0m\u001b[0;34m\u001b[0m\u001b[0;34m\u001b[0m\u001b[0m\n\u001b[1;32m   1136\u001b[0m \u001b[0;34m\u001b[0m\u001b[0m\n\u001b[0;32m-> 1137\u001b[0;31m         encoder_outputs = self.encoder(\n\u001b[0m\u001b[1;32m   1138\u001b[0m             \u001b[0membedding_output\u001b[0m\u001b[0;34m,\u001b[0m\u001b[0;34m\u001b[0m\u001b[0;34m\u001b[0m\u001b[0m\n\u001b[1;32m   1139\u001b[0m             \u001b[0mattention_mask\u001b[0m\u001b[0;34m=\u001b[0m\u001b[0mextended_attention_mask\u001b[0m\u001b[0;34m,\u001b[0m\u001b[0;34m\u001b[0m\u001b[0;34m\u001b[0m\u001b[0m\n",
            "\u001b[0;32m/usr/local/lib/python3.10/dist-packages/torch/nn/modules/module.py\u001b[0m in \u001b[0;36m_wrapped_call_impl\u001b[0;34m(self, *args, **kwargs)\u001b[0m\n\u001b[1;32m   1530\u001b[0m             \u001b[0;32mreturn\u001b[0m \u001b[0mself\u001b[0m\u001b[0;34m.\u001b[0m\u001b[0m_compiled_call_impl\u001b[0m\u001b[0;34m(\u001b[0m\u001b[0;34m*\u001b[0m\u001b[0margs\u001b[0m\u001b[0;34m,\u001b[0m \u001b[0;34m**\u001b[0m\u001b[0mkwargs\u001b[0m\u001b[0;34m)\u001b[0m  \u001b[0;31m# type: ignore[misc]\u001b[0m\u001b[0;34m\u001b[0m\u001b[0;34m\u001b[0m\u001b[0m\n\u001b[1;32m   1531\u001b[0m         \u001b[0;32melse\u001b[0m\u001b[0;34m:\u001b[0m\u001b[0;34m\u001b[0m\u001b[0;34m\u001b[0m\u001b[0m\n\u001b[0;32m-> 1532\u001b[0;31m             \u001b[0;32mreturn\u001b[0m \u001b[0mself\u001b[0m\u001b[0;34m.\u001b[0m\u001b[0m_call_impl\u001b[0m\u001b[0;34m(\u001b[0m\u001b[0;34m*\u001b[0m\u001b[0margs\u001b[0m\u001b[0;34m,\u001b[0m \u001b[0;34m**\u001b[0m\u001b[0mkwargs\u001b[0m\u001b[0;34m)\u001b[0m\u001b[0;34m\u001b[0m\u001b[0;34m\u001b[0m\u001b[0m\n\u001b[0m\u001b[1;32m   1533\u001b[0m \u001b[0;34m\u001b[0m\u001b[0m\n\u001b[1;32m   1534\u001b[0m     \u001b[0;32mdef\u001b[0m \u001b[0m_call_impl\u001b[0m\u001b[0;34m(\u001b[0m\u001b[0mself\u001b[0m\u001b[0;34m,\u001b[0m \u001b[0;34m*\u001b[0m\u001b[0margs\u001b[0m\u001b[0;34m,\u001b[0m \u001b[0;34m**\u001b[0m\u001b[0mkwargs\u001b[0m\u001b[0;34m)\u001b[0m\u001b[0;34m:\u001b[0m\u001b[0;34m\u001b[0m\u001b[0;34m\u001b[0m\u001b[0m\n",
            "\u001b[0;32m/usr/local/lib/python3.10/dist-packages/torch/nn/modules/module.py\u001b[0m in \u001b[0;36m_call_impl\u001b[0;34m(self, *args, **kwargs)\u001b[0m\n\u001b[1;32m   1539\u001b[0m                 \u001b[0;32mor\u001b[0m \u001b[0m_global_backward_pre_hooks\u001b[0m \u001b[0;32mor\u001b[0m \u001b[0m_global_backward_hooks\u001b[0m\u001b[0;34m\u001b[0m\u001b[0;34m\u001b[0m\u001b[0m\n\u001b[1;32m   1540\u001b[0m                 or _global_forward_hooks or _global_forward_pre_hooks):\n\u001b[0;32m-> 1541\u001b[0;31m             \u001b[0;32mreturn\u001b[0m \u001b[0mforward_call\u001b[0m\u001b[0;34m(\u001b[0m\u001b[0;34m*\u001b[0m\u001b[0margs\u001b[0m\u001b[0;34m,\u001b[0m \u001b[0;34m**\u001b[0m\u001b[0mkwargs\u001b[0m\u001b[0;34m)\u001b[0m\u001b[0;34m\u001b[0m\u001b[0;34m\u001b[0m\u001b[0m\n\u001b[0m\u001b[1;32m   1542\u001b[0m \u001b[0;34m\u001b[0m\u001b[0m\n\u001b[1;32m   1543\u001b[0m         \u001b[0;32mtry\u001b[0m\u001b[0;34m:\u001b[0m\u001b[0;34m\u001b[0m\u001b[0;34m\u001b[0m\u001b[0m\n",
            "\u001b[0;32m/usr/local/lib/python3.10/dist-packages/transformers/models/bert/modeling_bert.py\u001b[0m in \u001b[0;36mforward\u001b[0;34m(self, hidden_states, attention_mask, head_mask, encoder_hidden_states, encoder_attention_mask, past_key_values, use_cache, output_attentions, output_hidden_states, return_dict)\u001b[0m\n\u001b[1;32m    688\u001b[0m                 )\n\u001b[1;32m    689\u001b[0m             \u001b[0;32melse\u001b[0m\u001b[0;34m:\u001b[0m\u001b[0;34m\u001b[0m\u001b[0;34m\u001b[0m\u001b[0m\n\u001b[0;32m--> 690\u001b[0;31m                 layer_outputs = layer_module(\n\u001b[0m\u001b[1;32m    691\u001b[0m                     \u001b[0mhidden_states\u001b[0m\u001b[0;34m,\u001b[0m\u001b[0;34m\u001b[0m\u001b[0;34m\u001b[0m\u001b[0m\n\u001b[1;32m    692\u001b[0m                     \u001b[0mattention_mask\u001b[0m\u001b[0;34m,\u001b[0m\u001b[0;34m\u001b[0m\u001b[0;34m\u001b[0m\u001b[0m\n",
            "\u001b[0;32m/usr/local/lib/python3.10/dist-packages/torch/nn/modules/module.py\u001b[0m in \u001b[0;36m_wrapped_call_impl\u001b[0;34m(self, *args, **kwargs)\u001b[0m\n\u001b[1;32m   1530\u001b[0m             \u001b[0;32mreturn\u001b[0m \u001b[0mself\u001b[0m\u001b[0;34m.\u001b[0m\u001b[0m_compiled_call_impl\u001b[0m\u001b[0;34m(\u001b[0m\u001b[0;34m*\u001b[0m\u001b[0margs\u001b[0m\u001b[0;34m,\u001b[0m \u001b[0;34m**\u001b[0m\u001b[0mkwargs\u001b[0m\u001b[0;34m)\u001b[0m  \u001b[0;31m# type: ignore[misc]\u001b[0m\u001b[0;34m\u001b[0m\u001b[0;34m\u001b[0m\u001b[0m\n\u001b[1;32m   1531\u001b[0m         \u001b[0;32melse\u001b[0m\u001b[0;34m:\u001b[0m\u001b[0;34m\u001b[0m\u001b[0;34m\u001b[0m\u001b[0m\n\u001b[0;32m-> 1532\u001b[0;31m             \u001b[0;32mreturn\u001b[0m \u001b[0mself\u001b[0m\u001b[0;34m.\u001b[0m\u001b[0m_call_impl\u001b[0m\u001b[0;34m(\u001b[0m\u001b[0;34m*\u001b[0m\u001b[0margs\u001b[0m\u001b[0;34m,\u001b[0m \u001b[0;34m**\u001b[0m\u001b[0mkwargs\u001b[0m\u001b[0;34m)\u001b[0m\u001b[0;34m\u001b[0m\u001b[0;34m\u001b[0m\u001b[0m\n\u001b[0m\u001b[1;32m   1533\u001b[0m \u001b[0;34m\u001b[0m\u001b[0m\n\u001b[1;32m   1534\u001b[0m     \u001b[0;32mdef\u001b[0m \u001b[0m_call_impl\u001b[0m\u001b[0;34m(\u001b[0m\u001b[0mself\u001b[0m\u001b[0;34m,\u001b[0m \u001b[0;34m*\u001b[0m\u001b[0margs\u001b[0m\u001b[0;34m,\u001b[0m \u001b[0;34m**\u001b[0m\u001b[0mkwargs\u001b[0m\u001b[0;34m)\u001b[0m\u001b[0;34m:\u001b[0m\u001b[0;34m\u001b[0m\u001b[0;34m\u001b[0m\u001b[0m\n",
            "\u001b[0;32m/usr/local/lib/python3.10/dist-packages/torch/nn/modules/module.py\u001b[0m in \u001b[0;36m_call_impl\u001b[0;34m(self, *args, **kwargs)\u001b[0m\n\u001b[1;32m   1539\u001b[0m                 \u001b[0;32mor\u001b[0m \u001b[0m_global_backward_pre_hooks\u001b[0m \u001b[0;32mor\u001b[0m \u001b[0m_global_backward_hooks\u001b[0m\u001b[0;34m\u001b[0m\u001b[0;34m\u001b[0m\u001b[0m\n\u001b[1;32m   1540\u001b[0m                 or _global_forward_hooks or _global_forward_pre_hooks):\n\u001b[0;32m-> 1541\u001b[0;31m             \u001b[0;32mreturn\u001b[0m \u001b[0mforward_call\u001b[0m\u001b[0;34m(\u001b[0m\u001b[0;34m*\u001b[0m\u001b[0margs\u001b[0m\u001b[0;34m,\u001b[0m \u001b[0;34m**\u001b[0m\u001b[0mkwargs\u001b[0m\u001b[0;34m)\u001b[0m\u001b[0;34m\u001b[0m\u001b[0;34m\u001b[0m\u001b[0m\n\u001b[0m\u001b[1;32m   1542\u001b[0m \u001b[0;34m\u001b[0m\u001b[0m\n\u001b[1;32m   1543\u001b[0m         \u001b[0;32mtry\u001b[0m\u001b[0;34m:\u001b[0m\u001b[0;34m\u001b[0m\u001b[0;34m\u001b[0m\u001b[0m\n",
            "\u001b[0;32m/usr/local/lib/python3.10/dist-packages/transformers/models/bert/modeling_bert.py\u001b[0m in \u001b[0;36mforward\u001b[0;34m(self, hidden_states, attention_mask, head_mask, encoder_hidden_states, encoder_attention_mask, past_key_value, output_attentions)\u001b[0m\n\u001b[1;32m    620\u001b[0m             \u001b[0mpresent_key_value\u001b[0m \u001b[0;34m=\u001b[0m \u001b[0mpresent_key_value\u001b[0m \u001b[0;34m+\u001b[0m \u001b[0mcross_attn_present_key_value\u001b[0m\u001b[0;34m\u001b[0m\u001b[0;34m\u001b[0m\u001b[0m\n\u001b[1;32m    621\u001b[0m \u001b[0;34m\u001b[0m\u001b[0m\n\u001b[0;32m--> 622\u001b[0;31m         layer_output = apply_chunking_to_forward(\n\u001b[0m\u001b[1;32m    623\u001b[0m             \u001b[0mself\u001b[0m\u001b[0;34m.\u001b[0m\u001b[0mfeed_forward_chunk\u001b[0m\u001b[0;34m,\u001b[0m \u001b[0mself\u001b[0m\u001b[0;34m.\u001b[0m\u001b[0mchunk_size_feed_forward\u001b[0m\u001b[0;34m,\u001b[0m \u001b[0mself\u001b[0m\u001b[0;34m.\u001b[0m\u001b[0mseq_len_dim\u001b[0m\u001b[0;34m,\u001b[0m \u001b[0mattention_output\u001b[0m\u001b[0;34m\u001b[0m\u001b[0;34m\u001b[0m\u001b[0m\n\u001b[1;32m    624\u001b[0m         )\n",
            "\u001b[0;32m/usr/local/lib/python3.10/dist-packages/transformers/pytorch_utils.py\u001b[0m in \u001b[0;36mapply_chunking_to_forward\u001b[0;34m(forward_fn, chunk_size, chunk_dim, *input_tensors)\u001b[0m\n\u001b[1;32m    236\u001b[0m         \u001b[0;32mreturn\u001b[0m \u001b[0mtorch\u001b[0m\u001b[0;34m.\u001b[0m\u001b[0mcat\u001b[0m\u001b[0;34m(\u001b[0m\u001b[0moutput_chunks\u001b[0m\u001b[0;34m,\u001b[0m \u001b[0mdim\u001b[0m\u001b[0;34m=\u001b[0m\u001b[0mchunk_dim\u001b[0m\u001b[0;34m)\u001b[0m\u001b[0;34m\u001b[0m\u001b[0;34m\u001b[0m\u001b[0m\n\u001b[1;32m    237\u001b[0m \u001b[0;34m\u001b[0m\u001b[0m\n\u001b[0;32m--> 238\u001b[0;31m     \u001b[0;32mreturn\u001b[0m \u001b[0mforward_fn\u001b[0m\u001b[0;34m(\u001b[0m\u001b[0;34m*\u001b[0m\u001b[0minput_tensors\u001b[0m\u001b[0;34m)\u001b[0m\u001b[0;34m\u001b[0m\u001b[0;34m\u001b[0m\u001b[0m\n\u001b[0m\u001b[1;32m    239\u001b[0m \u001b[0;34m\u001b[0m\u001b[0m\n\u001b[1;32m    240\u001b[0m \u001b[0;34m\u001b[0m\u001b[0m\n",
            "\u001b[0;32m/usr/local/lib/python3.10/dist-packages/transformers/models/bert/modeling_bert.py\u001b[0m in \u001b[0;36mfeed_forward_chunk\u001b[0;34m(self, attention_output)\u001b[0m\n\u001b[1;32m    633\u001b[0m     \u001b[0;32mdef\u001b[0m \u001b[0mfeed_forward_chunk\u001b[0m\u001b[0;34m(\u001b[0m\u001b[0mself\u001b[0m\u001b[0;34m,\u001b[0m \u001b[0mattention_output\u001b[0m\u001b[0;34m)\u001b[0m\u001b[0;34m:\u001b[0m\u001b[0;34m\u001b[0m\u001b[0;34m\u001b[0m\u001b[0m\n\u001b[1;32m    634\u001b[0m         \u001b[0mintermediate_output\u001b[0m \u001b[0;34m=\u001b[0m \u001b[0mself\u001b[0m\u001b[0;34m.\u001b[0m\u001b[0mintermediate\u001b[0m\u001b[0;34m(\u001b[0m\u001b[0mattention_output\u001b[0m\u001b[0;34m)\u001b[0m\u001b[0;34m\u001b[0m\u001b[0;34m\u001b[0m\u001b[0m\n\u001b[0;32m--> 635\u001b[0;31m         \u001b[0mlayer_output\u001b[0m \u001b[0;34m=\u001b[0m \u001b[0mself\u001b[0m\u001b[0;34m.\u001b[0m\u001b[0moutput\u001b[0m\u001b[0;34m(\u001b[0m\u001b[0mintermediate_output\u001b[0m\u001b[0;34m,\u001b[0m \u001b[0mattention_output\u001b[0m\u001b[0;34m)\u001b[0m\u001b[0;34m\u001b[0m\u001b[0;34m\u001b[0m\u001b[0m\n\u001b[0m\u001b[1;32m    636\u001b[0m         \u001b[0;32mreturn\u001b[0m \u001b[0mlayer_output\u001b[0m\u001b[0;34m\u001b[0m\u001b[0;34m\u001b[0m\u001b[0m\n\u001b[1;32m    637\u001b[0m \u001b[0;34m\u001b[0m\u001b[0m\n",
            "\u001b[0;32m/usr/local/lib/python3.10/dist-packages/torch/nn/modules/module.py\u001b[0m in \u001b[0;36m_wrapped_call_impl\u001b[0;34m(self, *args, **kwargs)\u001b[0m\n\u001b[1;32m   1530\u001b[0m             \u001b[0;32mreturn\u001b[0m \u001b[0mself\u001b[0m\u001b[0;34m.\u001b[0m\u001b[0m_compiled_call_impl\u001b[0m\u001b[0;34m(\u001b[0m\u001b[0;34m*\u001b[0m\u001b[0margs\u001b[0m\u001b[0;34m,\u001b[0m \u001b[0;34m**\u001b[0m\u001b[0mkwargs\u001b[0m\u001b[0;34m)\u001b[0m  \u001b[0;31m# type: ignore[misc]\u001b[0m\u001b[0;34m\u001b[0m\u001b[0;34m\u001b[0m\u001b[0m\n\u001b[1;32m   1531\u001b[0m         \u001b[0;32melse\u001b[0m\u001b[0;34m:\u001b[0m\u001b[0;34m\u001b[0m\u001b[0;34m\u001b[0m\u001b[0m\n\u001b[0;32m-> 1532\u001b[0;31m             \u001b[0;32mreturn\u001b[0m \u001b[0mself\u001b[0m\u001b[0;34m.\u001b[0m\u001b[0m_call_impl\u001b[0m\u001b[0;34m(\u001b[0m\u001b[0;34m*\u001b[0m\u001b[0margs\u001b[0m\u001b[0;34m,\u001b[0m \u001b[0;34m**\u001b[0m\u001b[0mkwargs\u001b[0m\u001b[0;34m)\u001b[0m\u001b[0;34m\u001b[0m\u001b[0;34m\u001b[0m\u001b[0m\n\u001b[0m\u001b[1;32m   1533\u001b[0m \u001b[0;34m\u001b[0m\u001b[0m\n\u001b[1;32m   1534\u001b[0m     \u001b[0;32mdef\u001b[0m \u001b[0m_call_impl\u001b[0m\u001b[0;34m(\u001b[0m\u001b[0mself\u001b[0m\u001b[0;34m,\u001b[0m \u001b[0;34m*\u001b[0m\u001b[0margs\u001b[0m\u001b[0;34m,\u001b[0m \u001b[0;34m**\u001b[0m\u001b[0mkwargs\u001b[0m\u001b[0;34m)\u001b[0m\u001b[0;34m:\u001b[0m\u001b[0;34m\u001b[0m\u001b[0;34m\u001b[0m\u001b[0m\n",
            "\u001b[0;32m/usr/local/lib/python3.10/dist-packages/torch/nn/modules/module.py\u001b[0m in \u001b[0;36m_call_impl\u001b[0;34m(self, *args, **kwargs)\u001b[0m\n\u001b[1;32m   1539\u001b[0m                 \u001b[0;32mor\u001b[0m \u001b[0m_global_backward_pre_hooks\u001b[0m \u001b[0;32mor\u001b[0m \u001b[0m_global_backward_hooks\u001b[0m\u001b[0;34m\u001b[0m\u001b[0;34m\u001b[0m\u001b[0m\n\u001b[1;32m   1540\u001b[0m                 or _global_forward_hooks or _global_forward_pre_hooks):\n\u001b[0;32m-> 1541\u001b[0;31m             \u001b[0;32mreturn\u001b[0m \u001b[0mforward_call\u001b[0m\u001b[0;34m(\u001b[0m\u001b[0;34m*\u001b[0m\u001b[0margs\u001b[0m\u001b[0;34m,\u001b[0m \u001b[0;34m**\u001b[0m\u001b[0mkwargs\u001b[0m\u001b[0;34m)\u001b[0m\u001b[0;34m\u001b[0m\u001b[0;34m\u001b[0m\u001b[0m\n\u001b[0m\u001b[1;32m   1542\u001b[0m \u001b[0;34m\u001b[0m\u001b[0m\n\u001b[1;32m   1543\u001b[0m         \u001b[0;32mtry\u001b[0m\u001b[0;34m:\u001b[0m\u001b[0;34m\u001b[0m\u001b[0;34m\u001b[0m\u001b[0m\n",
            "\u001b[0;32m/usr/local/lib/python3.10/dist-packages/transformers/models/bert/modeling_bert.py\u001b[0m in \u001b[0;36mforward\u001b[0;34m(self, hidden_states, input_tensor)\u001b[0m\n\u001b[1;32m    545\u001b[0m \u001b[0;34m\u001b[0m\u001b[0m\n\u001b[1;32m    546\u001b[0m     \u001b[0;32mdef\u001b[0m \u001b[0mforward\u001b[0m\u001b[0;34m(\u001b[0m\u001b[0mself\u001b[0m\u001b[0;34m,\u001b[0m \u001b[0mhidden_states\u001b[0m\u001b[0;34m:\u001b[0m \u001b[0mtorch\u001b[0m\u001b[0;34m.\u001b[0m\u001b[0mTensor\u001b[0m\u001b[0;34m,\u001b[0m \u001b[0minput_tensor\u001b[0m\u001b[0;34m:\u001b[0m \u001b[0mtorch\u001b[0m\u001b[0;34m.\u001b[0m\u001b[0mTensor\u001b[0m\u001b[0;34m)\u001b[0m \u001b[0;34m->\u001b[0m \u001b[0mtorch\u001b[0m\u001b[0;34m.\u001b[0m\u001b[0mTensor\u001b[0m\u001b[0;34m:\u001b[0m\u001b[0;34m\u001b[0m\u001b[0;34m\u001b[0m\u001b[0m\n\u001b[0;32m--> 547\u001b[0;31m         \u001b[0mhidden_states\u001b[0m \u001b[0;34m=\u001b[0m \u001b[0mself\u001b[0m\u001b[0;34m.\u001b[0m\u001b[0mdense\u001b[0m\u001b[0;34m(\u001b[0m\u001b[0mhidden_states\u001b[0m\u001b[0;34m)\u001b[0m\u001b[0;34m\u001b[0m\u001b[0;34m\u001b[0m\u001b[0m\n\u001b[0m\u001b[1;32m    548\u001b[0m         \u001b[0mhidden_states\u001b[0m \u001b[0;34m=\u001b[0m \u001b[0mself\u001b[0m\u001b[0;34m.\u001b[0m\u001b[0mdropout\u001b[0m\u001b[0;34m(\u001b[0m\u001b[0mhidden_states\u001b[0m\u001b[0;34m)\u001b[0m\u001b[0;34m\u001b[0m\u001b[0;34m\u001b[0m\u001b[0m\n\u001b[1;32m    549\u001b[0m         \u001b[0mhidden_states\u001b[0m \u001b[0;34m=\u001b[0m \u001b[0mself\u001b[0m\u001b[0;34m.\u001b[0m\u001b[0mLayerNorm\u001b[0m\u001b[0;34m(\u001b[0m\u001b[0mhidden_states\u001b[0m \u001b[0;34m+\u001b[0m \u001b[0minput_tensor\u001b[0m\u001b[0;34m)\u001b[0m\u001b[0;34m\u001b[0m\u001b[0;34m\u001b[0m\u001b[0m\n",
            "\u001b[0;32m/usr/local/lib/python3.10/dist-packages/torch/nn/modules/module.py\u001b[0m in \u001b[0;36m_wrapped_call_impl\u001b[0;34m(self, *args, **kwargs)\u001b[0m\n\u001b[1;32m   1530\u001b[0m             \u001b[0;32mreturn\u001b[0m \u001b[0mself\u001b[0m\u001b[0;34m.\u001b[0m\u001b[0m_compiled_call_impl\u001b[0m\u001b[0;34m(\u001b[0m\u001b[0;34m*\u001b[0m\u001b[0margs\u001b[0m\u001b[0;34m,\u001b[0m \u001b[0;34m**\u001b[0m\u001b[0mkwargs\u001b[0m\u001b[0;34m)\u001b[0m  \u001b[0;31m# type: ignore[misc]\u001b[0m\u001b[0;34m\u001b[0m\u001b[0;34m\u001b[0m\u001b[0m\n\u001b[1;32m   1531\u001b[0m         \u001b[0;32melse\u001b[0m\u001b[0;34m:\u001b[0m\u001b[0;34m\u001b[0m\u001b[0;34m\u001b[0m\u001b[0m\n\u001b[0;32m-> 1532\u001b[0;31m             \u001b[0;32mreturn\u001b[0m \u001b[0mself\u001b[0m\u001b[0;34m.\u001b[0m\u001b[0m_call_impl\u001b[0m\u001b[0;34m(\u001b[0m\u001b[0;34m*\u001b[0m\u001b[0margs\u001b[0m\u001b[0;34m,\u001b[0m \u001b[0;34m**\u001b[0m\u001b[0mkwargs\u001b[0m\u001b[0;34m)\u001b[0m\u001b[0;34m\u001b[0m\u001b[0;34m\u001b[0m\u001b[0m\n\u001b[0m\u001b[1;32m   1533\u001b[0m \u001b[0;34m\u001b[0m\u001b[0m\n\u001b[1;32m   1534\u001b[0m     \u001b[0;32mdef\u001b[0m \u001b[0m_call_impl\u001b[0m\u001b[0;34m(\u001b[0m\u001b[0mself\u001b[0m\u001b[0;34m,\u001b[0m \u001b[0;34m*\u001b[0m\u001b[0margs\u001b[0m\u001b[0;34m,\u001b[0m \u001b[0;34m**\u001b[0m\u001b[0mkwargs\u001b[0m\u001b[0;34m)\u001b[0m\u001b[0;34m:\u001b[0m\u001b[0;34m\u001b[0m\u001b[0;34m\u001b[0m\u001b[0m\n",
            "\u001b[0;32m/usr/local/lib/python3.10/dist-packages/torch/nn/modules/module.py\u001b[0m in \u001b[0;36m_call_impl\u001b[0;34m(self, *args, **kwargs)\u001b[0m\n\u001b[1;32m   1539\u001b[0m                 \u001b[0;32mor\u001b[0m \u001b[0m_global_backward_pre_hooks\u001b[0m \u001b[0;32mor\u001b[0m \u001b[0m_global_backward_hooks\u001b[0m\u001b[0;34m\u001b[0m\u001b[0;34m\u001b[0m\u001b[0m\n\u001b[1;32m   1540\u001b[0m                 or _global_forward_hooks or _global_forward_pre_hooks):\n\u001b[0;32m-> 1541\u001b[0;31m             \u001b[0;32mreturn\u001b[0m \u001b[0mforward_call\u001b[0m\u001b[0;34m(\u001b[0m\u001b[0;34m*\u001b[0m\u001b[0margs\u001b[0m\u001b[0;34m,\u001b[0m \u001b[0;34m**\u001b[0m\u001b[0mkwargs\u001b[0m\u001b[0;34m)\u001b[0m\u001b[0;34m\u001b[0m\u001b[0;34m\u001b[0m\u001b[0m\n\u001b[0m\u001b[1;32m   1542\u001b[0m \u001b[0;34m\u001b[0m\u001b[0m\n\u001b[1;32m   1543\u001b[0m         \u001b[0;32mtry\u001b[0m\u001b[0;34m:\u001b[0m\u001b[0;34m\u001b[0m\u001b[0;34m\u001b[0m\u001b[0m\n",
            "\u001b[0;32m/usr/local/lib/python3.10/dist-packages/torch/nn/modules/linear.py\u001b[0m in \u001b[0;36mforward\u001b[0;34m(self, input)\u001b[0m\n\u001b[1;32m    114\u001b[0m \u001b[0;34m\u001b[0m\u001b[0m\n\u001b[1;32m    115\u001b[0m     \u001b[0;32mdef\u001b[0m \u001b[0mforward\u001b[0m\u001b[0;34m(\u001b[0m\u001b[0mself\u001b[0m\u001b[0;34m,\u001b[0m \u001b[0minput\u001b[0m\u001b[0;34m:\u001b[0m \u001b[0mTensor\u001b[0m\u001b[0;34m)\u001b[0m \u001b[0;34m->\u001b[0m \u001b[0mTensor\u001b[0m\u001b[0;34m:\u001b[0m\u001b[0;34m\u001b[0m\u001b[0;34m\u001b[0m\u001b[0m\n\u001b[0;32m--> 116\u001b[0;31m         \u001b[0;32mreturn\u001b[0m \u001b[0mF\u001b[0m\u001b[0;34m.\u001b[0m\u001b[0mlinear\u001b[0m\u001b[0;34m(\u001b[0m\u001b[0minput\u001b[0m\u001b[0;34m,\u001b[0m \u001b[0mself\u001b[0m\u001b[0;34m.\u001b[0m\u001b[0mweight\u001b[0m\u001b[0;34m,\u001b[0m \u001b[0mself\u001b[0m\u001b[0;34m.\u001b[0m\u001b[0mbias\u001b[0m\u001b[0;34m)\u001b[0m\u001b[0;34m\u001b[0m\u001b[0;34m\u001b[0m\u001b[0m\n\u001b[0m\u001b[1;32m    117\u001b[0m \u001b[0;34m\u001b[0m\u001b[0m\n\u001b[1;32m    118\u001b[0m     \u001b[0;32mdef\u001b[0m \u001b[0mextra_repr\u001b[0m\u001b[0;34m(\u001b[0m\u001b[0mself\u001b[0m\u001b[0;34m)\u001b[0m \u001b[0;34m->\u001b[0m \u001b[0mstr\u001b[0m\u001b[0;34m:\u001b[0m\u001b[0;34m\u001b[0m\u001b[0;34m\u001b[0m\u001b[0m\n",
            "\u001b[0;31mKeyboardInterrupt\u001b[0m: "
          ]
        }
      ]
    },
    {
      "cell_type": "code",
      "source": [
        "\n",
        "from transformers import DefaultDataCollator\n",
        "\n",
        "data_collator = DefaultDataCollator(return_tensors=\"tf\")"
      ],
      "metadata": {
        "id": "dMVLVPh2gFfB"
      },
      "execution_count": 21,
      "outputs": []
    },
    {
      "cell_type": "code",
      "source": [
        "\n",
        "tf_train_dataset = small_train_dataset.to_tf_dataset(\n",
        "    columns=[\"attention_mask\", \"input_ids\", \"token_type_ids\"],\n",
        "    label_cols=[\"labels\"],\n",
        "    shuffle=True,\n",
        "    collate_fn=data_collator,\n",
        "    batch_size=8,\n",
        ")\n",
        "\n",
        "tf_validation_dataset = small_eval_dataset.to_tf_dataset(\n",
        "    columns=[\"attention_mask\", \"input_ids\", \"token_type_ids\"],\n",
        "    label_cols=[\"labels\"],\n",
        "    shuffle=False,\n",
        "    collate_fn=data_collator,\n",
        "    batch_size=8,\n",
        ")\n",
        ""
      ],
      "metadata": {
        "colab": {
          "base_uri": "https://localhost:8080/"
        },
        "id": "R1CFUqyjYXvt",
        "outputId": "8dbc6020-6533-4834-97f0-43a5b4c730e9"
      },
      "execution_count": 22,
      "outputs": [
        {
          "output_type": "stream",
          "name": "stderr",
          "text": [
            "/usr/local/lib/python3.10/dist-packages/datasets/arrow_dataset.py:410: FutureWarning: The output of `to_tf_dataset` will change when a passing single element list for `labels` or `columns` in the next datasets version. To return a tuple structure rather than dict, pass a single string.\n",
            "Old behaviour: columns=['a'], labels=['labels'] -> (tf.Tensor, tf.Tensor)  \n",
            "             : columns='a', labels='labels' -> (tf.Tensor, tf.Tensor)  \n",
            "New behaviour: columns=['a'],labels=['labels'] -> ({'a': tf.Tensor}, {'labels': tf.Tensor})  \n",
            "             : columns='a', labels='labels' -> (tf.Tensor, tf.Tensor) \n",
            "  warnings.warn(\n"
          ]
        }
      ]
    },
    {
      "cell_type": "code",
      "source": [
        "\n",
        "import tensorflow as tf\n",
        "from transformers import TFAutoModelForSequenceClassification\n",
        "\n",
        "model = TFAutoModelForSequenceClassification.from_pretrained(\"bert-base-cased\", num_labels=5)"
      ],
      "metadata": {
        "colab": {
          "base_uri": "https://localhost:8080/"
        },
        "id": "V8xkOEB6iQMT",
        "outputId": "c7d26784-9e15-42bd-ac13-e7ff8212414d"
      },
      "execution_count": 23,
      "outputs": [
        {
          "output_type": "stream",
          "name": "stderr",
          "text": [
            "All PyTorch model weights were used when initializing TFBertForSequenceClassification.\n",
            "\n",
            "Some weights or buffers of the TF 2.0 model TFBertForSequenceClassification were not initialized from the PyTorch model and are newly initialized: ['classifier.weight', 'classifier.bias']\n",
            "You should probably TRAIN this model on a down-stream task to be able to use it for predictions and inference.\n"
          ]
        }
      ]
    },
    {
      "cell_type": "code",
      "source": [
        "\n",
        "\n",
        "model.compile(\n",
        "    optimizer=tf.keras.optimizers.Adam(learning_rate=5e-5),\n",
        "    loss=tf.keras.losses.SparseCategoricalCrossentropy(from_logits=True),\n",
        "    metrics=tf.metrics.SparseCategoricalAccuracy(),\n",
        ")\n",
        "\n",
        "model.fit(tf_train_dataset, validation_data=tf_validation_dataset, epochs=3)"
      ],
      "metadata": {
        "colab": {
          "base_uri": "https://localhost:8080/",
          "height": 463
        },
        "id": "CQq9gKhpiQOx",
        "outputId": "8f43e39a-a8d6-43e1-ae94-95d3b74a21aa"
      },
      "execution_count": 24,
      "outputs": [
        {
          "output_type": "stream",
          "name": "stdout",
          "text": [
            "Epoch 1/3\n"
          ]
        },
        {
          "output_type": "stream",
          "name": "stderr",
          "text": [
            "WARNING:tensorflow:AutoGraph could not transform <function infer_framework at 0x7dd82f1137f0> and will run it as-is.\n",
            "Cause: for/else statement not yet supported\n",
            "To silence this warning, decorate the function with @tf.autograph.experimental.do_not_convert\n"
          ]
        },
        {
          "output_type": "stream",
          "name": "stdout",
          "text": [
            "WARNING: AutoGraph could not transform <function infer_framework at 0x7dd82f1137f0> and will run it as-is.\n",
            "Cause: for/else statement not yet supported\n",
            "To silence this warning, decorate the function with @tf.autograph.experimental.do_not_convert\n"
          ]
        },
        {
          "output_type": "error",
          "ename": "KeyboardInterrupt",
          "evalue": "",
          "traceback": [
            "\u001b[0;31m---------------------------------------------------------------------------\u001b[0m",
            "\u001b[0;31mKeyboardInterrupt\u001b[0m                         Traceback (most recent call last)",
            "\u001b[0;32m<ipython-input-24-0ea82db3332d>\u001b[0m in \u001b[0;36m<cell line: 7>\u001b[0;34m()\u001b[0m\n\u001b[1;32m      5\u001b[0m )\n\u001b[1;32m      6\u001b[0m \u001b[0;34m\u001b[0m\u001b[0m\n\u001b[0;32m----> 7\u001b[0;31m \u001b[0mmodel\u001b[0m\u001b[0;34m.\u001b[0m\u001b[0mfit\u001b[0m\u001b[0;34m(\u001b[0m\u001b[0mtf_train_dataset\u001b[0m\u001b[0;34m,\u001b[0m \u001b[0mvalidation_data\u001b[0m\u001b[0;34m=\u001b[0m\u001b[0mtf_validation_dataset\u001b[0m\u001b[0;34m,\u001b[0m \u001b[0mepochs\u001b[0m\u001b[0;34m=\u001b[0m\u001b[0;36m3\u001b[0m\u001b[0;34m)\u001b[0m\u001b[0;34m\u001b[0m\u001b[0;34m\u001b[0m\u001b[0m\n\u001b[0m",
            "\u001b[0;32m/usr/local/lib/python3.10/dist-packages/transformers/modeling_tf_utils.py\u001b[0m in \u001b[0;36mfit\u001b[0;34m(self, *args, **kwargs)\u001b[0m\n\u001b[1;32m   1227\u001b[0m     \u001b[0;32mdef\u001b[0m \u001b[0mfit\u001b[0m\u001b[0;34m(\u001b[0m\u001b[0mself\u001b[0m\u001b[0;34m,\u001b[0m \u001b[0;34m*\u001b[0m\u001b[0margs\u001b[0m\u001b[0;34m,\u001b[0m \u001b[0;34m**\u001b[0m\u001b[0mkwargs\u001b[0m\u001b[0;34m)\u001b[0m\u001b[0;34m:\u001b[0m\u001b[0;34m\u001b[0m\u001b[0;34m\u001b[0m\u001b[0m\n\u001b[1;32m   1228\u001b[0m         \u001b[0margs\u001b[0m\u001b[0;34m,\u001b[0m \u001b[0mkwargs\u001b[0m \u001b[0;34m=\u001b[0m \u001b[0mconvert_batch_encoding\u001b[0m\u001b[0;34m(\u001b[0m\u001b[0;34m*\u001b[0m\u001b[0margs\u001b[0m\u001b[0;34m,\u001b[0m \u001b[0;34m**\u001b[0m\u001b[0mkwargs\u001b[0m\u001b[0;34m)\u001b[0m\u001b[0;34m\u001b[0m\u001b[0;34m\u001b[0m\u001b[0m\n\u001b[0;32m-> 1229\u001b[0;31m         \u001b[0;32mreturn\u001b[0m \u001b[0msuper\u001b[0m\u001b[0;34m(\u001b[0m\u001b[0;34m)\u001b[0m\u001b[0;34m.\u001b[0m\u001b[0mfit\u001b[0m\u001b[0;34m(\u001b[0m\u001b[0;34m*\u001b[0m\u001b[0margs\u001b[0m\u001b[0;34m,\u001b[0m \u001b[0;34m**\u001b[0m\u001b[0mkwargs\u001b[0m\u001b[0;34m)\u001b[0m\u001b[0;34m\u001b[0m\u001b[0;34m\u001b[0m\u001b[0m\n\u001b[0m\u001b[1;32m   1230\u001b[0m \u001b[0;34m\u001b[0m\u001b[0m\n\u001b[1;32m   1231\u001b[0m     \u001b[0;34m@\u001b[0m\u001b[0mfunctools\u001b[0m\u001b[0;34m.\u001b[0m\u001b[0mwraps\u001b[0m\u001b[0;34m(\u001b[0m\u001b[0mkeras\u001b[0m\u001b[0;34m.\u001b[0m\u001b[0mModel\u001b[0m\u001b[0;34m.\u001b[0m\u001b[0mtrain_on_batch\u001b[0m\u001b[0;34m)\u001b[0m\u001b[0;34m\u001b[0m\u001b[0;34m\u001b[0m\u001b[0m\n",
            "\u001b[0;32m/usr/local/lib/python3.10/dist-packages/tf_keras/src/utils/traceback_utils.py\u001b[0m in \u001b[0;36merror_handler\u001b[0;34m(*args, **kwargs)\u001b[0m\n\u001b[1;32m     63\u001b[0m         \u001b[0mfiltered_tb\u001b[0m \u001b[0;34m=\u001b[0m \u001b[0;32mNone\u001b[0m\u001b[0;34m\u001b[0m\u001b[0;34m\u001b[0m\u001b[0m\n\u001b[1;32m     64\u001b[0m         \u001b[0;32mtry\u001b[0m\u001b[0;34m:\u001b[0m\u001b[0;34m\u001b[0m\u001b[0;34m\u001b[0m\u001b[0m\n\u001b[0;32m---> 65\u001b[0;31m             \u001b[0;32mreturn\u001b[0m \u001b[0mfn\u001b[0m\u001b[0;34m(\u001b[0m\u001b[0;34m*\u001b[0m\u001b[0margs\u001b[0m\u001b[0;34m,\u001b[0m \u001b[0;34m**\u001b[0m\u001b[0mkwargs\u001b[0m\u001b[0;34m)\u001b[0m\u001b[0;34m\u001b[0m\u001b[0;34m\u001b[0m\u001b[0m\n\u001b[0m\u001b[1;32m     66\u001b[0m         \u001b[0;32mexcept\u001b[0m \u001b[0mException\u001b[0m \u001b[0;32mas\u001b[0m \u001b[0me\u001b[0m\u001b[0;34m:\u001b[0m\u001b[0;34m\u001b[0m\u001b[0;34m\u001b[0m\u001b[0m\n\u001b[1;32m     67\u001b[0m             \u001b[0mfiltered_tb\u001b[0m \u001b[0;34m=\u001b[0m \u001b[0m_process_traceback_frames\u001b[0m\u001b[0;34m(\u001b[0m\u001b[0me\u001b[0m\u001b[0;34m.\u001b[0m\u001b[0m__traceback__\u001b[0m\u001b[0;34m)\u001b[0m\u001b[0;34m\u001b[0m\u001b[0;34m\u001b[0m\u001b[0m\n",
            "\u001b[0;32m/usr/local/lib/python3.10/dist-packages/tf_keras/src/engine/training.py\u001b[0m in \u001b[0;36mfit\u001b[0;34m(self, x, y, batch_size, epochs, verbose, callbacks, validation_split, validation_data, shuffle, class_weight, sample_weight, initial_epoch, steps_per_epoch, validation_steps, validation_batch_size, validation_freq, max_queue_size, workers, use_multiprocessing)\u001b[0m\n\u001b[1;32m   1802\u001b[0m                         ):\n\u001b[1;32m   1803\u001b[0m                             \u001b[0mcallbacks\u001b[0m\u001b[0;34m.\u001b[0m\u001b[0mon_train_batch_begin\u001b[0m\u001b[0;34m(\u001b[0m\u001b[0mstep\u001b[0m\u001b[0;34m)\u001b[0m\u001b[0;34m\u001b[0m\u001b[0;34m\u001b[0m\u001b[0m\n\u001b[0;32m-> 1804\u001b[0;31m                             \u001b[0mtmp_logs\u001b[0m \u001b[0;34m=\u001b[0m \u001b[0mself\u001b[0m\u001b[0;34m.\u001b[0m\u001b[0mtrain_function\u001b[0m\u001b[0;34m(\u001b[0m\u001b[0miterator\u001b[0m\u001b[0;34m)\u001b[0m\u001b[0;34m\u001b[0m\u001b[0;34m\u001b[0m\u001b[0m\n\u001b[0m\u001b[1;32m   1805\u001b[0m                             \u001b[0;32mif\u001b[0m \u001b[0mdata_handler\u001b[0m\u001b[0;34m.\u001b[0m\u001b[0mshould_sync\u001b[0m\u001b[0;34m:\u001b[0m\u001b[0;34m\u001b[0m\u001b[0;34m\u001b[0m\u001b[0m\n\u001b[1;32m   1806\u001b[0m                                 \u001b[0mcontext\u001b[0m\u001b[0;34m.\u001b[0m\u001b[0masync_wait\u001b[0m\u001b[0;34m(\u001b[0m\u001b[0;34m)\u001b[0m\u001b[0;34m\u001b[0m\u001b[0;34m\u001b[0m\u001b[0m\n",
            "\u001b[0;32m/usr/local/lib/python3.10/dist-packages/tensorflow/python/util/traceback_utils.py\u001b[0m in \u001b[0;36merror_handler\u001b[0;34m(*args, **kwargs)\u001b[0m\n\u001b[1;32m    148\u001b[0m     \u001b[0mfiltered_tb\u001b[0m \u001b[0;34m=\u001b[0m \u001b[0;32mNone\u001b[0m\u001b[0;34m\u001b[0m\u001b[0;34m\u001b[0m\u001b[0m\n\u001b[1;32m    149\u001b[0m     \u001b[0;32mtry\u001b[0m\u001b[0;34m:\u001b[0m\u001b[0;34m\u001b[0m\u001b[0;34m\u001b[0m\u001b[0m\n\u001b[0;32m--> 150\u001b[0;31m       \u001b[0;32mreturn\u001b[0m \u001b[0mfn\u001b[0m\u001b[0;34m(\u001b[0m\u001b[0;34m*\u001b[0m\u001b[0margs\u001b[0m\u001b[0;34m,\u001b[0m \u001b[0;34m**\u001b[0m\u001b[0mkwargs\u001b[0m\u001b[0;34m)\u001b[0m\u001b[0;34m\u001b[0m\u001b[0;34m\u001b[0m\u001b[0m\n\u001b[0m\u001b[1;32m    151\u001b[0m     \u001b[0;32mexcept\u001b[0m \u001b[0mException\u001b[0m \u001b[0;32mas\u001b[0m \u001b[0me\u001b[0m\u001b[0;34m:\u001b[0m\u001b[0;34m\u001b[0m\u001b[0;34m\u001b[0m\u001b[0m\n\u001b[1;32m    152\u001b[0m       \u001b[0mfiltered_tb\u001b[0m \u001b[0;34m=\u001b[0m \u001b[0m_process_traceback_frames\u001b[0m\u001b[0;34m(\u001b[0m\u001b[0me\u001b[0m\u001b[0;34m.\u001b[0m\u001b[0m__traceback__\u001b[0m\u001b[0;34m)\u001b[0m\u001b[0;34m\u001b[0m\u001b[0;34m\u001b[0m\u001b[0m\n",
            "\u001b[0;32m/usr/local/lib/python3.10/dist-packages/tensorflow/python/eager/polymorphic_function/polymorphic_function.py\u001b[0m in \u001b[0;36m__call__\u001b[0;34m(self, *args, **kwds)\u001b[0m\n\u001b[1;32m    830\u001b[0m \u001b[0;34m\u001b[0m\u001b[0m\n\u001b[1;32m    831\u001b[0m       \u001b[0;32mwith\u001b[0m \u001b[0mOptionalXlaContext\u001b[0m\u001b[0;34m(\u001b[0m\u001b[0mself\u001b[0m\u001b[0;34m.\u001b[0m\u001b[0m_jit_compile\u001b[0m\u001b[0;34m)\u001b[0m\u001b[0;34m:\u001b[0m\u001b[0;34m\u001b[0m\u001b[0;34m\u001b[0m\u001b[0m\n\u001b[0;32m--> 832\u001b[0;31m         \u001b[0mresult\u001b[0m \u001b[0;34m=\u001b[0m \u001b[0mself\u001b[0m\u001b[0;34m.\u001b[0m\u001b[0m_call\u001b[0m\u001b[0;34m(\u001b[0m\u001b[0;34m*\u001b[0m\u001b[0margs\u001b[0m\u001b[0;34m,\u001b[0m \u001b[0;34m**\u001b[0m\u001b[0mkwds\u001b[0m\u001b[0;34m)\u001b[0m\u001b[0;34m\u001b[0m\u001b[0;34m\u001b[0m\u001b[0m\n\u001b[0m\u001b[1;32m    833\u001b[0m \u001b[0;34m\u001b[0m\u001b[0m\n\u001b[1;32m    834\u001b[0m       \u001b[0mnew_tracing_count\u001b[0m \u001b[0;34m=\u001b[0m \u001b[0mself\u001b[0m\u001b[0;34m.\u001b[0m\u001b[0mexperimental_get_tracing_count\u001b[0m\u001b[0;34m(\u001b[0m\u001b[0;34m)\u001b[0m\u001b[0;34m\u001b[0m\u001b[0;34m\u001b[0m\u001b[0m\n",
            "\u001b[0;32m/usr/local/lib/python3.10/dist-packages/tensorflow/python/eager/polymorphic_function/polymorphic_function.py\u001b[0m in \u001b[0;36m_call\u001b[0;34m(self, *args, **kwds)\u001b[0m\n\u001b[1;32m    886\u001b[0m       \u001b[0;31m# This is the first call of __call__, so we have to initialize.\u001b[0m\u001b[0;34m\u001b[0m\u001b[0;34m\u001b[0m\u001b[0m\n\u001b[1;32m    887\u001b[0m       \u001b[0minitializers\u001b[0m \u001b[0;34m=\u001b[0m \u001b[0;34m[\u001b[0m\u001b[0;34m]\u001b[0m\u001b[0;34m\u001b[0m\u001b[0;34m\u001b[0m\u001b[0m\n\u001b[0;32m--> 888\u001b[0;31m       \u001b[0mself\u001b[0m\u001b[0;34m.\u001b[0m\u001b[0m_initialize\u001b[0m\u001b[0;34m(\u001b[0m\u001b[0margs\u001b[0m\u001b[0;34m,\u001b[0m \u001b[0mkwds\u001b[0m\u001b[0;34m,\u001b[0m \u001b[0madd_initializers_to\u001b[0m\u001b[0;34m=\u001b[0m\u001b[0minitializers\u001b[0m\u001b[0;34m)\u001b[0m\u001b[0;34m\u001b[0m\u001b[0;34m\u001b[0m\u001b[0m\n\u001b[0m\u001b[1;32m    889\u001b[0m     \u001b[0;32mfinally\u001b[0m\u001b[0;34m:\u001b[0m\u001b[0;34m\u001b[0m\u001b[0;34m\u001b[0m\u001b[0m\n\u001b[1;32m    890\u001b[0m       \u001b[0;31m# At this point we know that the initialization is complete (or less\u001b[0m\u001b[0;34m\u001b[0m\u001b[0;34m\u001b[0m\u001b[0m\n",
            "\u001b[0;32m/usr/local/lib/python3.10/dist-packages/tensorflow/python/eager/polymorphic_function/polymorphic_function.py\u001b[0m in \u001b[0;36m_initialize\u001b[0;34m(self, args, kwds, add_initializers_to)\u001b[0m\n\u001b[1;32m    693\u001b[0m     )\n\u001b[1;32m    694\u001b[0m     \u001b[0;31m# Force the definition of the function for these arguments\u001b[0m\u001b[0;34m\u001b[0m\u001b[0;34m\u001b[0m\u001b[0m\n\u001b[0;32m--> 695\u001b[0;31m     self._concrete_variable_creation_fn = tracing_compilation.trace_function(\n\u001b[0m\u001b[1;32m    696\u001b[0m         \u001b[0margs\u001b[0m\u001b[0;34m,\u001b[0m \u001b[0mkwds\u001b[0m\u001b[0;34m,\u001b[0m \u001b[0mself\u001b[0m\u001b[0;34m.\u001b[0m\u001b[0m_variable_creation_config\u001b[0m\u001b[0;34m\u001b[0m\u001b[0;34m\u001b[0m\u001b[0m\n\u001b[1;32m    697\u001b[0m     )\n",
            "\u001b[0;32m/usr/local/lib/python3.10/dist-packages/tensorflow/python/eager/polymorphic_function/tracing_compilation.py\u001b[0m in \u001b[0;36mtrace_function\u001b[0;34m(args, kwargs, tracing_options)\u001b[0m\n\u001b[1;32m    176\u001b[0m       \u001b[0mkwargs\u001b[0m \u001b[0;34m=\u001b[0m \u001b[0;34m{\u001b[0m\u001b[0;34m}\u001b[0m\u001b[0;34m\u001b[0m\u001b[0;34m\u001b[0m\u001b[0m\n\u001b[1;32m    177\u001b[0m \u001b[0;34m\u001b[0m\u001b[0m\n\u001b[0;32m--> 178\u001b[0;31m     concrete_function = _maybe_define_function(\n\u001b[0m\u001b[1;32m    179\u001b[0m         \u001b[0margs\u001b[0m\u001b[0;34m,\u001b[0m \u001b[0mkwargs\u001b[0m\u001b[0;34m,\u001b[0m \u001b[0mtracing_options\u001b[0m\u001b[0;34m\u001b[0m\u001b[0;34m\u001b[0m\u001b[0m\n\u001b[1;32m    180\u001b[0m     )\n",
            "\u001b[0;32m/usr/local/lib/python3.10/dist-packages/tensorflow/python/eager/polymorphic_function/tracing_compilation.py\u001b[0m in \u001b[0;36m_maybe_define_function\u001b[0;34m(args, kwargs, tracing_options)\u001b[0m\n\u001b[1;32m    281\u001b[0m         \u001b[0;32melse\u001b[0m\u001b[0;34m:\u001b[0m\u001b[0;34m\u001b[0m\u001b[0;34m\u001b[0m\u001b[0m\n\u001b[1;32m    282\u001b[0m           \u001b[0mtarget_func_type\u001b[0m \u001b[0;34m=\u001b[0m \u001b[0mlookup_func_type\u001b[0m\u001b[0;34m\u001b[0m\u001b[0;34m\u001b[0m\u001b[0m\n\u001b[0;32m--> 283\u001b[0;31m         concrete_function = _create_concrete_function(\n\u001b[0m\u001b[1;32m    284\u001b[0m             \u001b[0mtarget_func_type\u001b[0m\u001b[0;34m,\u001b[0m \u001b[0mlookup_func_context\u001b[0m\u001b[0;34m,\u001b[0m \u001b[0mfunc_graph\u001b[0m\u001b[0;34m,\u001b[0m \u001b[0mtracing_options\u001b[0m\u001b[0;34m\u001b[0m\u001b[0;34m\u001b[0m\u001b[0m\n\u001b[1;32m    285\u001b[0m         )\n",
            "\u001b[0;32m/usr/local/lib/python3.10/dist-packages/tensorflow/python/eager/polymorphic_function/tracing_compilation.py\u001b[0m in \u001b[0;36m_create_concrete_function\u001b[0;34m(function_type, type_context, func_graph, tracing_options)\u001b[0m\n\u001b[1;32m    308\u001b[0m       \u001b[0mattributes_lib\u001b[0m\u001b[0;34m.\u001b[0m\u001b[0mDISABLE_ACD\u001b[0m\u001b[0;34m,\u001b[0m \u001b[0;32mFalse\u001b[0m\u001b[0;34m\u001b[0m\u001b[0;34m\u001b[0m\u001b[0m\n\u001b[1;32m    309\u001b[0m   )\n\u001b[0;32m--> 310\u001b[0;31m   traced_func_graph = func_graph_module.func_graph_from_py_func(\n\u001b[0m\u001b[1;32m    311\u001b[0m       \u001b[0mtracing_options\u001b[0m\u001b[0;34m.\u001b[0m\u001b[0mname\u001b[0m\u001b[0;34m,\u001b[0m\u001b[0;34m\u001b[0m\u001b[0;34m\u001b[0m\u001b[0m\n\u001b[1;32m    312\u001b[0m       \u001b[0mtracing_options\u001b[0m\u001b[0;34m.\u001b[0m\u001b[0mpython_function\u001b[0m\u001b[0;34m,\u001b[0m\u001b[0;34m\u001b[0m\u001b[0;34m\u001b[0m\u001b[0m\n",
            "\u001b[0;32m/usr/local/lib/python3.10/dist-packages/tensorflow/python/framework/func_graph.py\u001b[0m in \u001b[0;36mfunc_graph_from_py_func\u001b[0;34m(name, python_func, args, kwargs, signature, func_graph, add_control_dependencies, arg_names, op_return_value, collections, capture_by_value, create_placeholders)\u001b[0m\n\u001b[1;32m   1057\u001b[0m \u001b[0;34m\u001b[0m\u001b[0m\n\u001b[1;32m   1058\u001b[0m     \u001b[0m_\u001b[0m\u001b[0;34m,\u001b[0m \u001b[0moriginal_func\u001b[0m \u001b[0;34m=\u001b[0m \u001b[0mtf_decorator\u001b[0m\u001b[0;34m.\u001b[0m\u001b[0munwrap\u001b[0m\u001b[0;34m(\u001b[0m\u001b[0mpython_func\u001b[0m\u001b[0;34m)\u001b[0m\u001b[0;34m\u001b[0m\u001b[0;34m\u001b[0m\u001b[0m\n\u001b[0;32m-> 1059\u001b[0;31m     \u001b[0mfunc_outputs\u001b[0m \u001b[0;34m=\u001b[0m \u001b[0mpython_func\u001b[0m\u001b[0;34m(\u001b[0m\u001b[0;34m*\u001b[0m\u001b[0mfunc_args\u001b[0m\u001b[0;34m,\u001b[0m \u001b[0;34m**\u001b[0m\u001b[0mfunc_kwargs\u001b[0m\u001b[0;34m)\u001b[0m\u001b[0;34m\u001b[0m\u001b[0;34m\u001b[0m\u001b[0m\n\u001b[0m\u001b[1;32m   1060\u001b[0m \u001b[0;34m\u001b[0m\u001b[0m\n\u001b[1;32m   1061\u001b[0m     \u001b[0;31m# invariant: `func_outputs` contains only Tensors, CompositeTensors,\u001b[0m\u001b[0;34m\u001b[0m\u001b[0;34m\u001b[0m\u001b[0m\n",
            "\u001b[0;32m/usr/local/lib/python3.10/dist-packages/tensorflow/python/eager/polymorphic_function/polymorphic_function.py\u001b[0m in \u001b[0;36mwrapped_fn\u001b[0;34m(*args, **kwds)\u001b[0m\n\u001b[1;32m    596\u001b[0m         \u001b[0;31m# the function a weak reference to itself to avoid a reference cycle.\u001b[0m\u001b[0;34m\u001b[0m\u001b[0;34m\u001b[0m\u001b[0m\n\u001b[1;32m    597\u001b[0m         \u001b[0;32mwith\u001b[0m \u001b[0mOptionalXlaContext\u001b[0m\u001b[0;34m(\u001b[0m\u001b[0mcompile_with_xla\u001b[0m\u001b[0;34m)\u001b[0m\u001b[0;34m:\u001b[0m\u001b[0;34m\u001b[0m\u001b[0;34m\u001b[0m\u001b[0m\n\u001b[0;32m--> 598\u001b[0;31m           \u001b[0mout\u001b[0m \u001b[0;34m=\u001b[0m \u001b[0mweak_wrapped_fn\u001b[0m\u001b[0;34m(\u001b[0m\u001b[0;34m)\u001b[0m\u001b[0;34m.\u001b[0m\u001b[0m__wrapped__\u001b[0m\u001b[0;34m(\u001b[0m\u001b[0;34m*\u001b[0m\u001b[0margs\u001b[0m\u001b[0;34m,\u001b[0m \u001b[0;34m**\u001b[0m\u001b[0mkwds\u001b[0m\u001b[0;34m)\u001b[0m\u001b[0;34m\u001b[0m\u001b[0;34m\u001b[0m\u001b[0m\n\u001b[0m\u001b[1;32m    599\u001b[0m         \u001b[0;32mreturn\u001b[0m \u001b[0mout\u001b[0m\u001b[0;34m\u001b[0m\u001b[0;34m\u001b[0m\u001b[0m\n\u001b[1;32m    600\u001b[0m \u001b[0;34m\u001b[0m\u001b[0m\n",
            "\u001b[0;32m/usr/local/lib/python3.10/dist-packages/tensorflow/python/eager/polymorphic_function/autograph_util.py\u001b[0m in \u001b[0;36mautograph_handler\u001b[0;34m(*args, **kwargs)\u001b[0m\n\u001b[1;32m     39\u001b[0m     \u001b[0;34m\"\"\"Calls a converted version of original_func.\"\"\"\u001b[0m\u001b[0;34m\u001b[0m\u001b[0;34m\u001b[0m\u001b[0m\n\u001b[1;32m     40\u001b[0m     \u001b[0;32mtry\u001b[0m\u001b[0;34m:\u001b[0m\u001b[0;34m\u001b[0m\u001b[0;34m\u001b[0m\u001b[0m\n\u001b[0;32m---> 41\u001b[0;31m       return api.converted_call(\n\u001b[0m\u001b[1;32m     42\u001b[0m           \u001b[0moriginal_func\u001b[0m\u001b[0;34m,\u001b[0m\u001b[0;34m\u001b[0m\u001b[0;34m\u001b[0m\u001b[0m\n\u001b[1;32m     43\u001b[0m           \u001b[0margs\u001b[0m\u001b[0;34m,\u001b[0m\u001b[0;34m\u001b[0m\u001b[0;34m\u001b[0m\u001b[0m\n",
            "\u001b[0;32m/usr/local/lib/python3.10/dist-packages/tensorflow/python/autograph/impl/api.py\u001b[0m in \u001b[0;36mconverted_call\u001b[0;34m(f, args, kwargs, caller_fn_scope, options)\u001b[0m\n\u001b[1;32m    437\u001b[0m     \u001b[0;32mtry\u001b[0m\u001b[0;34m:\u001b[0m\u001b[0;34m\u001b[0m\u001b[0;34m\u001b[0m\u001b[0m\n\u001b[1;32m    438\u001b[0m       \u001b[0;32mif\u001b[0m \u001b[0mkwargs\u001b[0m \u001b[0;32mis\u001b[0m \u001b[0;32mnot\u001b[0m \u001b[0;32mNone\u001b[0m\u001b[0;34m:\u001b[0m\u001b[0;34m\u001b[0m\u001b[0;34m\u001b[0m\u001b[0m\n\u001b[0;32m--> 439\u001b[0;31m         \u001b[0mresult\u001b[0m \u001b[0;34m=\u001b[0m \u001b[0mconverted_f\u001b[0m\u001b[0;34m(\u001b[0m\u001b[0;34m*\u001b[0m\u001b[0meffective_args\u001b[0m\u001b[0;34m,\u001b[0m \u001b[0;34m**\u001b[0m\u001b[0mkwargs\u001b[0m\u001b[0;34m)\u001b[0m\u001b[0;34m\u001b[0m\u001b[0;34m\u001b[0m\u001b[0m\n\u001b[0m\u001b[1;32m    440\u001b[0m       \u001b[0;32melse\u001b[0m\u001b[0;34m:\u001b[0m\u001b[0;34m\u001b[0m\u001b[0;34m\u001b[0m\u001b[0m\n\u001b[1;32m    441\u001b[0m         \u001b[0mresult\u001b[0m \u001b[0;34m=\u001b[0m \u001b[0mconverted_f\u001b[0m\u001b[0;34m(\u001b[0m\u001b[0;34m*\u001b[0m\u001b[0meffective_args\u001b[0m\u001b[0;34m)\u001b[0m\u001b[0;34m\u001b[0m\u001b[0;34m\u001b[0m\u001b[0m\n",
            "\u001b[0;32m/usr/local/lib/python3.10/dist-packages/tf_keras/src/engine/training.py\u001b[0m in \u001b[0;36mtf__train_function\u001b[0;34m(iterator)\u001b[0m\n\u001b[1;32m     13\u001b[0m                 \u001b[0;32mtry\u001b[0m\u001b[0;34m:\u001b[0m\u001b[0;34m\u001b[0m\u001b[0;34m\u001b[0m\u001b[0m\n\u001b[1;32m     14\u001b[0m                     \u001b[0mdo_return\u001b[0m \u001b[0;34m=\u001b[0m \u001b[0;32mTrue\u001b[0m\u001b[0;34m\u001b[0m\u001b[0;34m\u001b[0m\u001b[0m\n\u001b[0;32m---> 15\u001b[0;31m                     \u001b[0mretval_\u001b[0m \u001b[0;34m=\u001b[0m \u001b[0mag__\u001b[0m\u001b[0;34m.\u001b[0m\u001b[0mconverted_call\u001b[0m\u001b[0;34m(\u001b[0m\u001b[0mag__\u001b[0m\u001b[0;34m.\u001b[0m\u001b[0mld\u001b[0m\u001b[0;34m(\u001b[0m\u001b[0mstep_function\u001b[0m\u001b[0;34m)\u001b[0m\u001b[0;34m,\u001b[0m \u001b[0;34m(\u001b[0m\u001b[0mag__\u001b[0m\u001b[0;34m.\u001b[0m\u001b[0mld\u001b[0m\u001b[0;34m(\u001b[0m\u001b[0mself\u001b[0m\u001b[0;34m)\u001b[0m\u001b[0;34m,\u001b[0m \u001b[0mag__\u001b[0m\u001b[0;34m.\u001b[0m\u001b[0mld\u001b[0m\u001b[0;34m(\u001b[0m\u001b[0miterator\u001b[0m\u001b[0;34m)\u001b[0m\u001b[0;34m)\u001b[0m\u001b[0;34m,\u001b[0m \u001b[0;32mNone\u001b[0m\u001b[0;34m,\u001b[0m \u001b[0mfscope\u001b[0m\u001b[0;34m)\u001b[0m\u001b[0;34m\u001b[0m\u001b[0;34m\u001b[0m\u001b[0m\n\u001b[0m\u001b[1;32m     16\u001b[0m                 \u001b[0;32mexcept\u001b[0m\u001b[0;34m:\u001b[0m\u001b[0;34m\u001b[0m\u001b[0;34m\u001b[0m\u001b[0m\n\u001b[1;32m     17\u001b[0m                     \u001b[0mdo_return\u001b[0m \u001b[0;34m=\u001b[0m \u001b[0;32mFalse\u001b[0m\u001b[0;34m\u001b[0m\u001b[0;34m\u001b[0m\u001b[0m\n",
            "\u001b[0;32m/usr/local/lib/python3.10/dist-packages/tensorflow/python/autograph/impl/api.py\u001b[0m in \u001b[0;36mconverted_call\u001b[0;34m(f, args, kwargs, caller_fn_scope, options)\u001b[0m\n\u001b[1;32m    439\u001b[0m         \u001b[0mresult\u001b[0m \u001b[0;34m=\u001b[0m \u001b[0mconverted_f\u001b[0m\u001b[0;34m(\u001b[0m\u001b[0;34m*\u001b[0m\u001b[0meffective_args\u001b[0m\u001b[0;34m,\u001b[0m \u001b[0;34m**\u001b[0m\u001b[0mkwargs\u001b[0m\u001b[0;34m)\u001b[0m\u001b[0;34m\u001b[0m\u001b[0;34m\u001b[0m\u001b[0m\n\u001b[1;32m    440\u001b[0m       \u001b[0;32melse\u001b[0m\u001b[0;34m:\u001b[0m\u001b[0;34m\u001b[0m\u001b[0;34m\u001b[0m\u001b[0m\n\u001b[0;32m--> 441\u001b[0;31m         \u001b[0mresult\u001b[0m \u001b[0;34m=\u001b[0m \u001b[0mconverted_f\u001b[0m\u001b[0;34m(\u001b[0m\u001b[0;34m*\u001b[0m\u001b[0meffective_args\u001b[0m\u001b[0;34m)\u001b[0m\u001b[0;34m\u001b[0m\u001b[0;34m\u001b[0m\u001b[0m\n\u001b[0m\u001b[1;32m    442\u001b[0m     \u001b[0;32mexcept\u001b[0m \u001b[0mException\u001b[0m \u001b[0;32mas\u001b[0m \u001b[0me\u001b[0m\u001b[0;34m:\u001b[0m\u001b[0;34m\u001b[0m\u001b[0;34m\u001b[0m\u001b[0m\n\u001b[1;32m    443\u001b[0m       \u001b[0m_attach_error_metadata\u001b[0m\u001b[0;34m(\u001b[0m\u001b[0me\u001b[0m\u001b[0;34m,\u001b[0m \u001b[0mconverted_f\u001b[0m\u001b[0;34m)\u001b[0m\u001b[0;34m\u001b[0m\u001b[0;34m\u001b[0m\u001b[0m\n",
            "\u001b[0;32m/usr/local/lib/python3.10/dist-packages/tf_keras/src/engine/training.py\u001b[0m in \u001b[0;36mtf__step_function\u001b[0;34m(model, iterator)\u001b[0m\n\u001b[1;32m     43\u001b[0m                 \u001b[0mag__\u001b[0m\u001b[0;34m.\u001b[0m\u001b[0mif_stmt\u001b[0m\u001b[0;34m(\u001b[0m\u001b[0mag__\u001b[0m\u001b[0;34m.\u001b[0m\u001b[0mld\u001b[0m\u001b[0;34m(\u001b[0m\u001b[0mself\u001b[0m\u001b[0;34m)\u001b[0m\u001b[0;34m.\u001b[0m\u001b[0mjit_compile\u001b[0m\u001b[0;34m,\u001b[0m \u001b[0mif_body\u001b[0m\u001b[0;34m,\u001b[0m \u001b[0melse_body\u001b[0m\u001b[0;34m,\u001b[0m \u001b[0mget_state\u001b[0m\u001b[0;34m,\u001b[0m \u001b[0mset_state\u001b[0m\u001b[0;34m,\u001b[0m \u001b[0;34m(\u001b[0m\u001b[0;34m'run_step'\u001b[0m\u001b[0;34m,\u001b[0m\u001b[0;34m)\u001b[0m\u001b[0;34m,\u001b[0m \u001b[0;36m1\u001b[0m\u001b[0;34m)\u001b[0m\u001b[0;34m\u001b[0m\u001b[0;34m\u001b[0m\u001b[0m\n\u001b[1;32m     44\u001b[0m                 \u001b[0mdata\u001b[0m \u001b[0;34m=\u001b[0m \u001b[0mag__\u001b[0m\u001b[0;34m.\u001b[0m\u001b[0mconverted_call\u001b[0m\u001b[0;34m(\u001b[0m\u001b[0mag__\u001b[0m\u001b[0;34m.\u001b[0m\u001b[0mld\u001b[0m\u001b[0;34m(\u001b[0m\u001b[0mnext\u001b[0m\u001b[0;34m)\u001b[0m\u001b[0;34m,\u001b[0m \u001b[0;34m(\u001b[0m\u001b[0mag__\u001b[0m\u001b[0;34m.\u001b[0m\u001b[0mld\u001b[0m\u001b[0;34m(\u001b[0m\u001b[0miterator\u001b[0m\u001b[0;34m)\u001b[0m\u001b[0;34m,\u001b[0m\u001b[0;34m)\u001b[0m\u001b[0;34m,\u001b[0m \u001b[0;32mNone\u001b[0m\u001b[0;34m,\u001b[0m \u001b[0mfscope\u001b[0m\u001b[0;34m)\u001b[0m\u001b[0;34m\u001b[0m\u001b[0;34m\u001b[0m\u001b[0m\n\u001b[0;32m---> 45\u001b[0;31m                 \u001b[0moutputs\u001b[0m \u001b[0;34m=\u001b[0m \u001b[0mag__\u001b[0m\u001b[0;34m.\u001b[0m\u001b[0mconverted_call\u001b[0m\u001b[0;34m(\u001b[0m\u001b[0mag__\u001b[0m\u001b[0;34m.\u001b[0m\u001b[0mld\u001b[0m\u001b[0;34m(\u001b[0m\u001b[0mmodel\u001b[0m\u001b[0;34m)\u001b[0m\u001b[0;34m.\u001b[0m\u001b[0mdistribute_strategy\u001b[0m\u001b[0;34m.\u001b[0m\u001b[0mrun\u001b[0m\u001b[0;34m,\u001b[0m \u001b[0;34m(\u001b[0m\u001b[0mag__\u001b[0m\u001b[0;34m.\u001b[0m\u001b[0mld\u001b[0m\u001b[0;34m(\u001b[0m\u001b[0mrun_step\u001b[0m\u001b[0;34m)\u001b[0m\u001b[0;34m,\u001b[0m\u001b[0;34m)\u001b[0m\u001b[0;34m,\u001b[0m \u001b[0mdict\u001b[0m\u001b[0;34m(\u001b[0m\u001b[0margs\u001b[0m\u001b[0;34m=\u001b[0m\u001b[0;34m(\u001b[0m\u001b[0mag__\u001b[0m\u001b[0;34m.\u001b[0m\u001b[0mld\u001b[0m\u001b[0;34m(\u001b[0m\u001b[0mdata\u001b[0m\u001b[0;34m)\u001b[0m\u001b[0;34m,\u001b[0m\u001b[0;34m)\u001b[0m\u001b[0;34m)\u001b[0m\u001b[0;34m,\u001b[0m \u001b[0mfscope\u001b[0m\u001b[0;34m)\u001b[0m\u001b[0;34m\u001b[0m\u001b[0;34m\u001b[0m\u001b[0m\n\u001b[0m\u001b[1;32m     46\u001b[0m                 \u001b[0moutputs\u001b[0m \u001b[0;34m=\u001b[0m \u001b[0mag__\u001b[0m\u001b[0;34m.\u001b[0m\u001b[0mconverted_call\u001b[0m\u001b[0;34m(\u001b[0m\u001b[0mag__\u001b[0m\u001b[0;34m.\u001b[0m\u001b[0mld\u001b[0m\u001b[0;34m(\u001b[0m\u001b[0mreduce_per_replica\u001b[0m\u001b[0;34m)\u001b[0m\u001b[0;34m,\u001b[0m \u001b[0;34m(\u001b[0m\u001b[0mag__\u001b[0m\u001b[0;34m.\u001b[0m\u001b[0mld\u001b[0m\u001b[0;34m(\u001b[0m\u001b[0moutputs\u001b[0m\u001b[0;34m)\u001b[0m\u001b[0;34m,\u001b[0m \u001b[0mag__\u001b[0m\u001b[0;34m.\u001b[0m\u001b[0mld\u001b[0m\u001b[0;34m(\u001b[0m\u001b[0mself\u001b[0m\u001b[0;34m)\u001b[0m\u001b[0;34m.\u001b[0m\u001b[0mdistribute_strategy\u001b[0m\u001b[0;34m)\u001b[0m\u001b[0;34m,\u001b[0m \u001b[0mdict\u001b[0m\u001b[0;34m(\u001b[0m\u001b[0mreduction\u001b[0m\u001b[0;34m=\u001b[0m\u001b[0mag__\u001b[0m\u001b[0;34m.\u001b[0m\u001b[0mld\u001b[0m\u001b[0;34m(\u001b[0m\u001b[0mself\u001b[0m\u001b[0;34m)\u001b[0m\u001b[0;34m.\u001b[0m\u001b[0mdistribute_reduction_method\u001b[0m\u001b[0;34m)\u001b[0m\u001b[0;34m,\u001b[0m \u001b[0mfscope\u001b[0m\u001b[0;34m)\u001b[0m\u001b[0;34m\u001b[0m\u001b[0;34m\u001b[0m\u001b[0m\n\u001b[1;32m     47\u001b[0m                 \u001b[0;32mtry\u001b[0m\u001b[0;34m:\u001b[0m\u001b[0;34m\u001b[0m\u001b[0;34m\u001b[0m\u001b[0m\n",
            "\u001b[0;32m/usr/local/lib/python3.10/dist-packages/tensorflow/python/autograph/impl/api.py\u001b[0m in \u001b[0;36mconverted_call\u001b[0;34m(f, args, kwargs, caller_fn_scope, options)\u001b[0m\n\u001b[1;32m    375\u001b[0m \u001b[0;34m\u001b[0m\u001b[0m\n\u001b[1;32m    376\u001b[0m   \u001b[0;32mif\u001b[0m \u001b[0;32mnot\u001b[0m \u001b[0moptions\u001b[0m\u001b[0;34m.\u001b[0m\u001b[0muser_requested\u001b[0m \u001b[0;32mand\u001b[0m \u001b[0mconversion\u001b[0m\u001b[0;34m.\u001b[0m\u001b[0mis_allowlisted\u001b[0m\u001b[0;34m(\u001b[0m\u001b[0mf\u001b[0m\u001b[0;34m)\u001b[0m\u001b[0;34m:\u001b[0m\u001b[0;34m\u001b[0m\u001b[0;34m\u001b[0m\u001b[0m\n\u001b[0;32m--> 377\u001b[0;31m     \u001b[0;32mreturn\u001b[0m \u001b[0m_call_unconverted\u001b[0m\u001b[0;34m(\u001b[0m\u001b[0mf\u001b[0m\u001b[0;34m,\u001b[0m \u001b[0margs\u001b[0m\u001b[0;34m,\u001b[0m \u001b[0mkwargs\u001b[0m\u001b[0;34m,\u001b[0m \u001b[0moptions\u001b[0m\u001b[0;34m)\u001b[0m\u001b[0;34m\u001b[0m\u001b[0;34m\u001b[0m\u001b[0m\n\u001b[0m\u001b[1;32m    378\u001b[0m \u001b[0;34m\u001b[0m\u001b[0m\n\u001b[1;32m    379\u001b[0m   \u001b[0;31m# internal_convert_user_code is for example turned off when issuing a dynamic\u001b[0m\u001b[0;34m\u001b[0m\u001b[0;34m\u001b[0m\u001b[0m\n",
            "\u001b[0;32m/usr/local/lib/python3.10/dist-packages/tensorflow/python/autograph/impl/api.py\u001b[0m in \u001b[0;36m_call_unconverted\u001b[0;34m(f, args, kwargs, options, update_cache)\u001b[0m\n\u001b[1;32m    457\u001b[0m \u001b[0;34m\u001b[0m\u001b[0m\n\u001b[1;32m    458\u001b[0m   \u001b[0;32mif\u001b[0m \u001b[0mkwargs\u001b[0m \u001b[0;32mis\u001b[0m \u001b[0;32mnot\u001b[0m \u001b[0;32mNone\u001b[0m\u001b[0;34m:\u001b[0m\u001b[0;34m\u001b[0m\u001b[0;34m\u001b[0m\u001b[0m\n\u001b[0;32m--> 459\u001b[0;31m     \u001b[0;32mreturn\u001b[0m \u001b[0mf\u001b[0m\u001b[0;34m(\u001b[0m\u001b[0;34m*\u001b[0m\u001b[0margs\u001b[0m\u001b[0;34m,\u001b[0m \u001b[0;34m**\u001b[0m\u001b[0mkwargs\u001b[0m\u001b[0;34m)\u001b[0m\u001b[0;34m\u001b[0m\u001b[0;34m\u001b[0m\u001b[0m\n\u001b[0m\u001b[1;32m    460\u001b[0m   \u001b[0;32mreturn\u001b[0m \u001b[0mf\u001b[0m\u001b[0;34m(\u001b[0m\u001b[0;34m*\u001b[0m\u001b[0margs\u001b[0m\u001b[0;34m)\u001b[0m\u001b[0;34m\u001b[0m\u001b[0;34m\u001b[0m\u001b[0m\n\u001b[1;32m    461\u001b[0m \u001b[0;34m\u001b[0m\u001b[0m\n",
            "\u001b[0;32m/usr/local/lib/python3.10/dist-packages/tensorflow/python/distribute/distribute_lib.py\u001b[0m in \u001b[0;36mrun\u001b[0;34m(***failed resolving arguments***)\u001b[0m\n\u001b[1;32m   1679\u001b[0m       fn = autograph.tf_convert(\n\u001b[1;32m   1680\u001b[0m           fn, autograph_ctx.control_status_ctx(), convert_by_default=False)\n\u001b[0;32m-> 1681\u001b[0;31m       \u001b[0;32mreturn\u001b[0m \u001b[0mself\u001b[0m\u001b[0;34m.\u001b[0m\u001b[0m_extended\u001b[0m\u001b[0;34m.\u001b[0m\u001b[0mcall_for_each_replica\u001b[0m\u001b[0;34m(\u001b[0m\u001b[0mfn\u001b[0m\u001b[0;34m,\u001b[0m \u001b[0margs\u001b[0m\u001b[0;34m=\u001b[0m\u001b[0margs\u001b[0m\u001b[0;34m,\u001b[0m \u001b[0mkwargs\u001b[0m\u001b[0;34m=\u001b[0m\u001b[0mkwargs\u001b[0m\u001b[0;34m)\u001b[0m\u001b[0;34m\u001b[0m\u001b[0;34m\u001b[0m\u001b[0m\n\u001b[0m\u001b[1;32m   1682\u001b[0m \u001b[0;34m\u001b[0m\u001b[0m\n\u001b[1;32m   1683\u001b[0m   \u001b[0;32mdef\u001b[0m \u001b[0mreduce\u001b[0m\u001b[0;34m(\u001b[0m\u001b[0mself\u001b[0m\u001b[0;34m,\u001b[0m \u001b[0mreduce_op\u001b[0m\u001b[0;34m,\u001b[0m \u001b[0mvalue\u001b[0m\u001b[0;34m,\u001b[0m \u001b[0maxis\u001b[0m\u001b[0;34m)\u001b[0m\u001b[0;34m:\u001b[0m\u001b[0;34m\u001b[0m\u001b[0;34m\u001b[0m\u001b[0m\n",
            "\u001b[0;32m/usr/local/lib/python3.10/dist-packages/tensorflow/python/distribute/distribute_lib.py\u001b[0m in \u001b[0;36mcall_for_each_replica\u001b[0;34m(self, fn, args, kwargs)\u001b[0m\n\u001b[1;32m   3269\u001b[0m       \u001b[0mkwargs\u001b[0m \u001b[0;34m=\u001b[0m \u001b[0;34m{\u001b[0m\u001b[0;34m}\u001b[0m\u001b[0;34m\u001b[0m\u001b[0;34m\u001b[0m\u001b[0m\n\u001b[1;32m   3270\u001b[0m     \u001b[0;32mwith\u001b[0m \u001b[0mself\u001b[0m\u001b[0;34m.\u001b[0m\u001b[0m_container_strategy\u001b[0m\u001b[0;34m(\u001b[0m\u001b[0;34m)\u001b[0m\u001b[0;34m.\u001b[0m\u001b[0mscope\u001b[0m\u001b[0;34m(\u001b[0m\u001b[0;34m)\u001b[0m\u001b[0;34m:\u001b[0m\u001b[0;34m\u001b[0m\u001b[0;34m\u001b[0m\u001b[0m\n\u001b[0;32m-> 3271\u001b[0;31m       \u001b[0;32mreturn\u001b[0m \u001b[0mself\u001b[0m\u001b[0;34m.\u001b[0m\u001b[0m_call_for_each_replica\u001b[0m\u001b[0;34m(\u001b[0m\u001b[0mfn\u001b[0m\u001b[0;34m,\u001b[0m \u001b[0margs\u001b[0m\u001b[0;34m,\u001b[0m \u001b[0mkwargs\u001b[0m\u001b[0;34m)\u001b[0m\u001b[0;34m\u001b[0m\u001b[0;34m\u001b[0m\u001b[0m\n\u001b[0m\u001b[1;32m   3272\u001b[0m \u001b[0;34m\u001b[0m\u001b[0m\n\u001b[1;32m   3273\u001b[0m   \u001b[0;32mdef\u001b[0m \u001b[0m_call_for_each_replica\u001b[0m\u001b[0;34m(\u001b[0m\u001b[0mself\u001b[0m\u001b[0;34m,\u001b[0m \u001b[0mfn\u001b[0m\u001b[0;34m,\u001b[0m \u001b[0margs\u001b[0m\u001b[0;34m,\u001b[0m \u001b[0mkwargs\u001b[0m\u001b[0;34m)\u001b[0m\u001b[0;34m:\u001b[0m\u001b[0;34m\u001b[0m\u001b[0;34m\u001b[0m\u001b[0m\n",
            "\u001b[0;32m/usr/local/lib/python3.10/dist-packages/tensorflow/python/distribute/distribute_lib.py\u001b[0m in \u001b[0;36m_call_for_each_replica\u001b[0;34m(self, fn, args, kwargs)\u001b[0m\n\u001b[1;32m   4067\u001b[0m   \u001b[0;32mdef\u001b[0m \u001b[0m_call_for_each_replica\u001b[0m\u001b[0;34m(\u001b[0m\u001b[0mself\u001b[0m\u001b[0;34m,\u001b[0m \u001b[0mfn\u001b[0m\u001b[0;34m,\u001b[0m \u001b[0margs\u001b[0m\u001b[0;34m,\u001b[0m \u001b[0mkwargs\u001b[0m\u001b[0;34m)\u001b[0m\u001b[0;34m:\u001b[0m\u001b[0;34m\u001b[0m\u001b[0;34m\u001b[0m\u001b[0m\n\u001b[1;32m   4068\u001b[0m     \u001b[0;32mwith\u001b[0m \u001b[0mReplicaContext\u001b[0m\u001b[0;34m(\u001b[0m\u001b[0mself\u001b[0m\u001b[0;34m.\u001b[0m\u001b[0m_container_strategy\u001b[0m\u001b[0;34m(\u001b[0m\u001b[0;34m)\u001b[0m\u001b[0;34m,\u001b[0m \u001b[0mreplica_id_in_sync_group\u001b[0m\u001b[0;34m=\u001b[0m\u001b[0;36m0\u001b[0m\u001b[0;34m)\u001b[0m\u001b[0;34m:\u001b[0m\u001b[0;34m\u001b[0m\u001b[0;34m\u001b[0m\u001b[0m\n\u001b[0;32m-> 4069\u001b[0;31m       \u001b[0;32mreturn\u001b[0m \u001b[0mfn\u001b[0m\u001b[0;34m(\u001b[0m\u001b[0;34m*\u001b[0m\u001b[0margs\u001b[0m\u001b[0;34m,\u001b[0m \u001b[0;34m**\u001b[0m\u001b[0mkwargs\u001b[0m\u001b[0;34m)\u001b[0m\u001b[0;34m\u001b[0m\u001b[0;34m\u001b[0m\u001b[0m\n\u001b[0m\u001b[1;32m   4070\u001b[0m \u001b[0;34m\u001b[0m\u001b[0m\n\u001b[1;32m   4071\u001b[0m   \u001b[0;32mdef\u001b[0m \u001b[0m_reduce_to\u001b[0m\u001b[0;34m(\u001b[0m\u001b[0mself\u001b[0m\u001b[0;34m,\u001b[0m \u001b[0mreduce_op\u001b[0m\u001b[0;34m,\u001b[0m \u001b[0mvalue\u001b[0m\u001b[0;34m,\u001b[0m \u001b[0mdestinations\u001b[0m\u001b[0;34m,\u001b[0m \u001b[0moptions\u001b[0m\u001b[0;34m)\u001b[0m\u001b[0;34m:\u001b[0m\u001b[0;34m\u001b[0m\u001b[0;34m\u001b[0m\u001b[0m\n",
            "\u001b[0;32m/usr/local/lib/python3.10/dist-packages/tf_keras/src/engine/training.py\u001b[0m in \u001b[0;36mrun_step\u001b[0;34m(data)\u001b[0m\n\u001b[1;32m     16\u001b[0m                         \u001b[0mdo_return_1\u001b[0m \u001b[0;34m=\u001b[0m \u001b[0;32mFalse\u001b[0m\u001b[0;34m\u001b[0m\u001b[0;34m\u001b[0m\u001b[0m\n\u001b[1;32m     17\u001b[0m                         \u001b[0mretval__1\u001b[0m \u001b[0;34m=\u001b[0m \u001b[0mag__\u001b[0m\u001b[0;34m.\u001b[0m\u001b[0mUndefinedReturnValue\u001b[0m\u001b[0;34m(\u001b[0m\u001b[0;34m)\u001b[0m\u001b[0;34m\u001b[0m\u001b[0;34m\u001b[0m\u001b[0m\n\u001b[0;32m---> 18\u001b[0;31m                         \u001b[0moutputs\u001b[0m \u001b[0;34m=\u001b[0m \u001b[0mag__\u001b[0m\u001b[0;34m.\u001b[0m\u001b[0mconverted_call\u001b[0m\u001b[0;34m(\u001b[0m\u001b[0mag__\u001b[0m\u001b[0;34m.\u001b[0m\u001b[0mld\u001b[0m\u001b[0;34m(\u001b[0m\u001b[0mmodel\u001b[0m\u001b[0;34m)\u001b[0m\u001b[0;34m.\u001b[0m\u001b[0mtrain_step\u001b[0m\u001b[0;34m,\u001b[0m \u001b[0;34m(\u001b[0m\u001b[0mag__\u001b[0m\u001b[0;34m.\u001b[0m\u001b[0mld\u001b[0m\u001b[0;34m(\u001b[0m\u001b[0mdata\u001b[0m\u001b[0;34m)\u001b[0m\u001b[0;34m,\u001b[0m\u001b[0;34m)\u001b[0m\u001b[0;34m,\u001b[0m \u001b[0;32mNone\u001b[0m\u001b[0;34m,\u001b[0m \u001b[0mfscope_1\u001b[0m\u001b[0;34m)\u001b[0m\u001b[0;34m\u001b[0m\u001b[0;34m\u001b[0m\u001b[0m\n\u001b[0m\u001b[1;32m     19\u001b[0m                         \u001b[0;32mwith\u001b[0m \u001b[0mag__\u001b[0m\u001b[0;34m.\u001b[0m\u001b[0mld\u001b[0m\u001b[0;34m(\u001b[0m\u001b[0mtf\u001b[0m\u001b[0;34m)\u001b[0m\u001b[0;34m.\u001b[0m\u001b[0mcontrol_dependencies\u001b[0m\u001b[0;34m(\u001b[0m\u001b[0mag__\u001b[0m\u001b[0;34m.\u001b[0m\u001b[0mld\u001b[0m\u001b[0;34m(\u001b[0m\u001b[0m_minimum_control_deps\u001b[0m\u001b[0;34m)\u001b[0m\u001b[0;34m(\u001b[0m\u001b[0mag__\u001b[0m\u001b[0;34m.\u001b[0m\u001b[0mld\u001b[0m\u001b[0;34m(\u001b[0m\u001b[0moutputs\u001b[0m\u001b[0;34m)\u001b[0m\u001b[0;34m)\u001b[0m\u001b[0;34m)\u001b[0m\u001b[0;34m:\u001b[0m\u001b[0;34m\u001b[0m\u001b[0;34m\u001b[0m\u001b[0m\n\u001b[1;32m     20\u001b[0m                             \u001b[0mag__\u001b[0m\u001b[0;34m.\u001b[0m\u001b[0mconverted_call\u001b[0m\u001b[0;34m(\u001b[0m\u001b[0mag__\u001b[0m\u001b[0;34m.\u001b[0m\u001b[0mld\u001b[0m\u001b[0;34m(\u001b[0m\u001b[0mmodel\u001b[0m\u001b[0;34m)\u001b[0m\u001b[0;34m.\u001b[0m\u001b[0m_train_counter\u001b[0m\u001b[0;34m.\u001b[0m\u001b[0massign_add\u001b[0m\u001b[0;34m,\u001b[0m \u001b[0;34m(\u001b[0m\u001b[0;36m1\u001b[0m\u001b[0;34m,\u001b[0m\u001b[0;34m)\u001b[0m\u001b[0;34m,\u001b[0m \u001b[0;32mNone\u001b[0m\u001b[0;34m,\u001b[0m \u001b[0mfscope_1\u001b[0m\u001b[0;34m)\u001b[0m\u001b[0;34m\u001b[0m\u001b[0;34m\u001b[0m\u001b[0m\n",
            "\u001b[0;32m/usr/local/lib/python3.10/dist-packages/tensorflow/python/autograph/impl/api.py\u001b[0m in \u001b[0;36mconverted_call\u001b[0;34m(f, args, kwargs, caller_fn_scope, options)\u001b[0m\n\u001b[1;32m    439\u001b[0m         \u001b[0mresult\u001b[0m \u001b[0;34m=\u001b[0m \u001b[0mconverted_f\u001b[0m\u001b[0;34m(\u001b[0m\u001b[0;34m*\u001b[0m\u001b[0meffective_args\u001b[0m\u001b[0;34m,\u001b[0m \u001b[0;34m**\u001b[0m\u001b[0mkwargs\u001b[0m\u001b[0;34m)\u001b[0m\u001b[0;34m\u001b[0m\u001b[0;34m\u001b[0m\u001b[0m\n\u001b[1;32m    440\u001b[0m       \u001b[0;32melse\u001b[0m\u001b[0;34m:\u001b[0m\u001b[0;34m\u001b[0m\u001b[0;34m\u001b[0m\u001b[0m\n\u001b[0;32m--> 441\u001b[0;31m         \u001b[0mresult\u001b[0m \u001b[0;34m=\u001b[0m \u001b[0mconverted_f\u001b[0m\u001b[0;34m(\u001b[0m\u001b[0;34m*\u001b[0m\u001b[0meffective_args\u001b[0m\u001b[0;34m)\u001b[0m\u001b[0;34m\u001b[0m\u001b[0;34m\u001b[0m\u001b[0m\n\u001b[0m\u001b[1;32m    442\u001b[0m     \u001b[0;32mexcept\u001b[0m \u001b[0mException\u001b[0m \u001b[0;32mas\u001b[0m \u001b[0me\u001b[0m\u001b[0;34m:\u001b[0m\u001b[0;34m\u001b[0m\u001b[0;34m\u001b[0m\u001b[0m\n\u001b[1;32m    443\u001b[0m       \u001b[0m_attach_error_metadata\u001b[0m\u001b[0;34m(\u001b[0m\u001b[0me\u001b[0m\u001b[0;34m,\u001b[0m \u001b[0mconverted_f\u001b[0m\u001b[0;34m)\u001b[0m\u001b[0;34m\u001b[0m\u001b[0;34m\u001b[0m\u001b[0m\n",
            "\u001b[0;32m/usr/local/lib/python3.10/dist-packages/transformers/modeling_tf_utils.py\u001b[0m in \u001b[0;36mtf__train_step\u001b[0;34m(self, data)\u001b[0m\n\u001b[1;32m    265\u001b[0m                         \u001b[0my_pred\u001b[0m \u001b[0;34m=\u001b[0m \u001b[0mag__\u001b[0m\u001b[0;34m.\u001b[0m\u001b[0mconverted_call\u001b[0m\u001b[0;34m(\u001b[0m\u001b[0mag__\u001b[0m\u001b[0;34m.\u001b[0m\u001b[0mld\u001b[0m\u001b[0;34m(\u001b[0m\u001b[0mself\u001b[0m\u001b[0;34m)\u001b[0m\u001b[0;34m,\u001b[0m \u001b[0;34m(\u001b[0m\u001b[0mag__\u001b[0m\u001b[0;34m.\u001b[0m\u001b[0mld\u001b[0m\u001b[0;34m(\u001b[0m\u001b[0mx\u001b[0m\u001b[0;34m)\u001b[0m\u001b[0;34m,\u001b[0m\u001b[0;34m)\u001b[0m\u001b[0;34m,\u001b[0m \u001b[0mdict\u001b[0m\u001b[0;34m(\u001b[0m\u001b[0mtraining\u001b[0m\u001b[0;34m=\u001b[0m\u001b[0;32mTrue\u001b[0m\u001b[0;34m)\u001b[0m\u001b[0;34m,\u001b[0m \u001b[0mfscope\u001b[0m\u001b[0;34m)\u001b[0m\u001b[0;34m\u001b[0m\u001b[0;34m\u001b[0m\u001b[0m\n\u001b[1;32m    266\u001b[0m                     \u001b[0my_pred\u001b[0m \u001b[0;34m=\u001b[0m \u001b[0mag__\u001b[0m\u001b[0;34m.\u001b[0m\u001b[0mUndefined\u001b[0m\u001b[0;34m(\u001b[0m\u001b[0;34m'y_pred'\u001b[0m\u001b[0;34m)\u001b[0m\u001b[0;34m\u001b[0m\u001b[0;34m\u001b[0m\u001b[0m\n\u001b[0;32m--> 267\u001b[0;31m                     \u001b[0mag__\u001b[0m\u001b[0;34m.\u001b[0m\u001b[0mif_stmt\u001b[0m\u001b[0;34m(\u001b[0m\u001b[0mag__\u001b[0m\u001b[0;34m.\u001b[0m\u001b[0mand_\u001b[0m\u001b[0;34m(\u001b[0m\u001b[0;32mlambda\u001b[0m \u001b[0;34m:\u001b[0m \u001b[0mag__\u001b[0m\u001b[0;34m.\u001b[0m\u001b[0mld\u001b[0m\u001b[0;34m(\u001b[0m\u001b[0mself\u001b[0m\u001b[0;34m)\u001b[0m\u001b[0;34m.\u001b[0m\u001b[0m_using_dummy_loss\u001b[0m\u001b[0;34m,\u001b[0m \u001b[0;32mlambda\u001b[0m \u001b[0;34m:\u001b[0m \u001b[0;34m'return_loss'\u001b[0m \u001b[0;32min\u001b[0m \u001b[0mag__\u001b[0m\u001b[0;34m.\u001b[0m\u001b[0mld\u001b[0m\u001b[0;34m(\u001b[0m\u001b[0marg_names\u001b[0m\u001b[0;34m)\u001b[0m\u001b[0;34m)\u001b[0m\u001b[0;34m,\u001b[0m \u001b[0mif_body_14\u001b[0m\u001b[0;34m,\u001b[0m \u001b[0melse_body_14\u001b[0m\u001b[0;34m,\u001b[0m \u001b[0mget_state_15\u001b[0m\u001b[0;34m,\u001b[0m \u001b[0mset_state_15\u001b[0m\u001b[0;34m,\u001b[0m \u001b[0;34m(\u001b[0m\u001b[0;34m'y_pred'\u001b[0m\u001b[0;34m,\u001b[0m\u001b[0;34m)\u001b[0m\u001b[0;34m,\u001b[0m \u001b[0;36m1\u001b[0m\u001b[0;34m)\u001b[0m\u001b[0;34m\u001b[0m\u001b[0;34m\u001b[0m\u001b[0m\n\u001b[0m\u001b[1;32m    268\u001b[0m \u001b[0;34m\u001b[0m\u001b[0m\n\u001b[1;32m    269\u001b[0m                     \u001b[0;32mdef\u001b[0m \u001b[0mget_state_16\u001b[0m\u001b[0;34m(\u001b[0m\u001b[0;34m)\u001b[0m\u001b[0;34m:\u001b[0m\u001b[0;34m\u001b[0m\u001b[0;34m\u001b[0m\u001b[0m\n",
            "\u001b[0;32m/usr/local/lib/python3.10/dist-packages/tensorflow/python/autograph/operators/control_flow.py\u001b[0m in \u001b[0;36mif_stmt\u001b[0;34m(cond, body, orelse, get_state, set_state, symbol_names, nouts)\u001b[0m\n\u001b[1;32m   1215\u001b[0m     \u001b[0m_tf_if_stmt\u001b[0m\u001b[0;34m(\u001b[0m\u001b[0mcond\u001b[0m\u001b[0;34m,\u001b[0m \u001b[0mbody\u001b[0m\u001b[0;34m,\u001b[0m \u001b[0morelse\u001b[0m\u001b[0;34m,\u001b[0m \u001b[0mget_state\u001b[0m\u001b[0;34m,\u001b[0m \u001b[0mset_state\u001b[0m\u001b[0;34m,\u001b[0m \u001b[0msymbol_names\u001b[0m\u001b[0;34m,\u001b[0m \u001b[0mnouts\u001b[0m\u001b[0;34m)\u001b[0m\u001b[0;34m\u001b[0m\u001b[0;34m\u001b[0m\u001b[0m\n\u001b[1;32m   1216\u001b[0m   \u001b[0;32melse\u001b[0m\u001b[0;34m:\u001b[0m\u001b[0;34m\u001b[0m\u001b[0;34m\u001b[0m\u001b[0m\n\u001b[0;32m-> 1217\u001b[0;31m     \u001b[0m_py_if_stmt\u001b[0m\u001b[0;34m(\u001b[0m\u001b[0mcond\u001b[0m\u001b[0;34m,\u001b[0m \u001b[0mbody\u001b[0m\u001b[0;34m,\u001b[0m \u001b[0morelse\u001b[0m\u001b[0;34m)\u001b[0m\u001b[0;34m\u001b[0m\u001b[0;34m\u001b[0m\u001b[0m\n\u001b[0m\u001b[1;32m   1218\u001b[0m \u001b[0;34m\u001b[0m\u001b[0m\n\u001b[1;32m   1219\u001b[0m \u001b[0;34m\u001b[0m\u001b[0m\n",
            "\u001b[0;32m/usr/local/lib/python3.10/dist-packages/tensorflow/python/autograph/operators/control_flow.py\u001b[0m in \u001b[0;36m_py_if_stmt\u001b[0;34m(cond, body, orelse)\u001b[0m\n\u001b[1;32m   1268\u001b[0m \u001b[0;32mdef\u001b[0m \u001b[0m_py_if_stmt\u001b[0m\u001b[0;34m(\u001b[0m\u001b[0mcond\u001b[0m\u001b[0;34m,\u001b[0m \u001b[0mbody\u001b[0m\u001b[0;34m,\u001b[0m \u001b[0morelse\u001b[0m\u001b[0;34m)\u001b[0m\u001b[0;34m:\u001b[0m\u001b[0;34m\u001b[0m\u001b[0;34m\u001b[0m\u001b[0m\n\u001b[1;32m   1269\u001b[0m   \u001b[0;34m\"\"\"Overload of if_stmt that executes a Python if statement.\"\"\"\u001b[0m\u001b[0;34m\u001b[0m\u001b[0;34m\u001b[0m\u001b[0m\n\u001b[0;32m-> 1270\u001b[0;31m   \u001b[0;32mreturn\u001b[0m \u001b[0mbody\u001b[0m\u001b[0;34m(\u001b[0m\u001b[0;34m)\u001b[0m \u001b[0;32mif\u001b[0m \u001b[0mcond\u001b[0m \u001b[0;32melse\u001b[0m \u001b[0morelse\u001b[0m\u001b[0;34m(\u001b[0m\u001b[0;34m)\u001b[0m\u001b[0;34m\u001b[0m\u001b[0;34m\u001b[0m\u001b[0m\n\u001b[0m",
            "\u001b[0;32m/usr/local/lib/python3.10/dist-packages/transformers/modeling_tf_utils.py\u001b[0m in \u001b[0;36melse_body_14\u001b[0;34m()\u001b[0m\n\u001b[1;32m    263\u001b[0m                     \u001b[0;32mdef\u001b[0m \u001b[0melse_body_14\u001b[0m\u001b[0;34m(\u001b[0m\u001b[0;34m)\u001b[0m\u001b[0;34m:\u001b[0m\u001b[0;34m\u001b[0m\u001b[0;34m\u001b[0m\u001b[0m\n\u001b[1;32m    264\u001b[0m                         \u001b[0;32mnonlocal\u001b[0m \u001b[0my_pred\u001b[0m\u001b[0;34m\u001b[0m\u001b[0;34m\u001b[0m\u001b[0m\n\u001b[0;32m--> 265\u001b[0;31m                         \u001b[0my_pred\u001b[0m \u001b[0;34m=\u001b[0m \u001b[0mag__\u001b[0m\u001b[0;34m.\u001b[0m\u001b[0mconverted_call\u001b[0m\u001b[0;34m(\u001b[0m\u001b[0mag__\u001b[0m\u001b[0;34m.\u001b[0m\u001b[0mld\u001b[0m\u001b[0;34m(\u001b[0m\u001b[0mself\u001b[0m\u001b[0;34m)\u001b[0m\u001b[0;34m,\u001b[0m \u001b[0;34m(\u001b[0m\u001b[0mag__\u001b[0m\u001b[0;34m.\u001b[0m\u001b[0mld\u001b[0m\u001b[0;34m(\u001b[0m\u001b[0mx\u001b[0m\u001b[0;34m)\u001b[0m\u001b[0;34m,\u001b[0m\u001b[0;34m)\u001b[0m\u001b[0;34m,\u001b[0m \u001b[0mdict\u001b[0m\u001b[0;34m(\u001b[0m\u001b[0mtraining\u001b[0m\u001b[0;34m=\u001b[0m\u001b[0;32mTrue\u001b[0m\u001b[0;34m)\u001b[0m\u001b[0;34m,\u001b[0m \u001b[0mfscope\u001b[0m\u001b[0;34m)\u001b[0m\u001b[0;34m\u001b[0m\u001b[0;34m\u001b[0m\u001b[0m\n\u001b[0m\u001b[1;32m    266\u001b[0m                     \u001b[0my_pred\u001b[0m \u001b[0;34m=\u001b[0m \u001b[0mag__\u001b[0m\u001b[0;34m.\u001b[0m\u001b[0mUndefined\u001b[0m\u001b[0;34m(\u001b[0m\u001b[0;34m'y_pred'\u001b[0m\u001b[0;34m)\u001b[0m\u001b[0;34m\u001b[0m\u001b[0;34m\u001b[0m\u001b[0m\n\u001b[1;32m    267\u001b[0m                     \u001b[0mag__\u001b[0m\u001b[0;34m.\u001b[0m\u001b[0mif_stmt\u001b[0m\u001b[0;34m(\u001b[0m\u001b[0mag__\u001b[0m\u001b[0;34m.\u001b[0m\u001b[0mand_\u001b[0m\u001b[0;34m(\u001b[0m\u001b[0;32mlambda\u001b[0m \u001b[0;34m:\u001b[0m \u001b[0mag__\u001b[0m\u001b[0;34m.\u001b[0m\u001b[0mld\u001b[0m\u001b[0;34m(\u001b[0m\u001b[0mself\u001b[0m\u001b[0;34m)\u001b[0m\u001b[0;34m.\u001b[0m\u001b[0m_using_dummy_loss\u001b[0m\u001b[0;34m,\u001b[0m \u001b[0;32mlambda\u001b[0m \u001b[0;34m:\u001b[0m \u001b[0;34m'return_loss'\u001b[0m \u001b[0;32min\u001b[0m \u001b[0mag__\u001b[0m\u001b[0;34m.\u001b[0m\u001b[0mld\u001b[0m\u001b[0;34m(\u001b[0m\u001b[0marg_names\u001b[0m\u001b[0;34m)\u001b[0m\u001b[0;34m)\u001b[0m\u001b[0;34m,\u001b[0m \u001b[0mif_body_14\u001b[0m\u001b[0;34m,\u001b[0m \u001b[0melse_body_14\u001b[0m\u001b[0;34m,\u001b[0m \u001b[0mget_state_15\u001b[0m\u001b[0;34m,\u001b[0m \u001b[0mset_state_15\u001b[0m\u001b[0;34m,\u001b[0m \u001b[0;34m(\u001b[0m\u001b[0;34m'y_pred'\u001b[0m\u001b[0;34m,\u001b[0m\u001b[0;34m)\u001b[0m\u001b[0;34m,\u001b[0m \u001b[0;36m1\u001b[0m\u001b[0;34m)\u001b[0m\u001b[0;34m\u001b[0m\u001b[0;34m\u001b[0m\u001b[0m\n",
            "\u001b[0;32m/usr/local/lib/python3.10/dist-packages/tensorflow/python/autograph/impl/api.py\u001b[0m in \u001b[0;36mconverted_call\u001b[0;34m(f, args, kwargs, caller_fn_scope, options)\u001b[0m\n\u001b[1;32m    437\u001b[0m     \u001b[0;32mtry\u001b[0m\u001b[0;34m:\u001b[0m\u001b[0;34m\u001b[0m\u001b[0;34m\u001b[0m\u001b[0m\n\u001b[1;32m    438\u001b[0m       \u001b[0;32mif\u001b[0m \u001b[0mkwargs\u001b[0m \u001b[0;32mis\u001b[0m \u001b[0;32mnot\u001b[0m \u001b[0;32mNone\u001b[0m\u001b[0;34m:\u001b[0m\u001b[0;34m\u001b[0m\u001b[0;34m\u001b[0m\u001b[0m\n\u001b[0;32m--> 439\u001b[0;31m         \u001b[0mresult\u001b[0m \u001b[0;34m=\u001b[0m \u001b[0mconverted_f\u001b[0m\u001b[0;34m(\u001b[0m\u001b[0;34m*\u001b[0m\u001b[0meffective_args\u001b[0m\u001b[0;34m,\u001b[0m \u001b[0;34m**\u001b[0m\u001b[0mkwargs\u001b[0m\u001b[0;34m)\u001b[0m\u001b[0;34m\u001b[0m\u001b[0;34m\u001b[0m\u001b[0m\n\u001b[0m\u001b[1;32m    440\u001b[0m       \u001b[0;32melse\u001b[0m\u001b[0;34m:\u001b[0m\u001b[0;34m\u001b[0m\u001b[0;34m\u001b[0m\u001b[0m\n\u001b[1;32m    441\u001b[0m         \u001b[0mresult\u001b[0m \u001b[0;34m=\u001b[0m \u001b[0mconverted_f\u001b[0m\u001b[0;34m(\u001b[0m\u001b[0;34m*\u001b[0m\u001b[0meffective_args\u001b[0m\u001b[0;34m)\u001b[0m\u001b[0;34m\u001b[0m\u001b[0;34m\u001b[0m\u001b[0m\n",
            "\u001b[0;32m/usr/local/lib/python3.10/dist-packages/tf_keras/src/utils/traceback_utils.py\u001b[0m in \u001b[0;36mtf__error_handler\u001b[0;34m(*args, **kwargs)\u001b[0m\n\u001b[1;32m     42\u001b[0m                         \u001b[0mfiltered_tb\u001b[0m \u001b[0;34m=\u001b[0m \u001b[0mag__\u001b[0m\u001b[0;34m.\u001b[0m\u001b[0mUndefined\u001b[0m\u001b[0;34m(\u001b[0m\u001b[0;34m'filtered_tb'\u001b[0m\u001b[0;34m)\u001b[0m\u001b[0;34m\u001b[0m\u001b[0;34m\u001b[0m\u001b[0m\n\u001b[1;32m     43\u001b[0m                 \u001b[0mfiltered_tb\u001b[0m \u001b[0;34m=\u001b[0m \u001b[0mag__\u001b[0m\u001b[0;34m.\u001b[0m\u001b[0mUndefined\u001b[0m\u001b[0;34m(\u001b[0m\u001b[0;34m'filtered_tb'\u001b[0m\u001b[0;34m)\u001b[0m\u001b[0;34m\u001b[0m\u001b[0;34m\u001b[0m\u001b[0m\n\u001b[0;32m---> 44\u001b[0;31m                 \u001b[0mag__\u001b[0m\u001b[0;34m.\u001b[0m\u001b[0mif_stmt\u001b[0m\u001b[0;34m(\u001b[0m\u001b[0mag__\u001b[0m\u001b[0;34m.\u001b[0m\u001b[0mnot_\u001b[0m\u001b[0;34m(\u001b[0m\u001b[0mag__\u001b[0m\u001b[0;34m.\u001b[0m\u001b[0mconverted_call\u001b[0m\u001b[0;34m(\u001b[0m\u001b[0mag__\u001b[0m\u001b[0;34m.\u001b[0m\u001b[0mld\u001b[0m\u001b[0;34m(\u001b[0m\u001b[0mtf\u001b[0m\u001b[0;34m)\u001b[0m\u001b[0;34m.\u001b[0m\u001b[0mdebugging\u001b[0m\u001b[0;34m.\u001b[0m\u001b[0mis_traceback_filtering_enabled\u001b[0m\u001b[0;34m,\u001b[0m \u001b[0;34m(\u001b[0m\u001b[0;34m)\u001b[0m\u001b[0;34m,\u001b[0m \u001b[0;32mNone\u001b[0m\u001b[0;34m,\u001b[0m \u001b[0mfscope\u001b[0m\u001b[0;34m)\u001b[0m\u001b[0;34m)\u001b[0m\u001b[0;34m,\u001b[0m \u001b[0mif_body\u001b[0m\u001b[0;34m,\u001b[0m \u001b[0melse_body\u001b[0m\u001b[0;34m,\u001b[0m \u001b[0mget_state\u001b[0m\u001b[0;34m,\u001b[0m \u001b[0mset_state\u001b[0m\u001b[0;34m,\u001b[0m \u001b[0;34m(\u001b[0m\u001b[0;34m'do_return'\u001b[0m\u001b[0;34m,\u001b[0m \u001b[0;34m'retval_'\u001b[0m\u001b[0;34m)\u001b[0m\u001b[0;34m,\u001b[0m \u001b[0;36m2\u001b[0m\u001b[0;34m)\u001b[0m\u001b[0;34m\u001b[0m\u001b[0;34m\u001b[0m\u001b[0m\n\u001b[0m\u001b[1;32m     45\u001b[0m                 \u001b[0;32mreturn\u001b[0m \u001b[0mfscope\u001b[0m\u001b[0;34m.\u001b[0m\u001b[0mret\u001b[0m\u001b[0;34m(\u001b[0m\u001b[0mretval_\u001b[0m\u001b[0;34m,\u001b[0m \u001b[0mdo_return\u001b[0m\u001b[0;34m)\u001b[0m\u001b[0;34m\u001b[0m\u001b[0;34m\u001b[0m\u001b[0m\n\u001b[1;32m     46\u001b[0m         \u001b[0;32mreturn\u001b[0m \u001b[0mtf__error_handler\u001b[0m\u001b[0;34m\u001b[0m\u001b[0;34m\u001b[0m\u001b[0m\n",
            "\u001b[0;32m/usr/local/lib/python3.10/dist-packages/tensorflow/python/autograph/operators/control_flow.py\u001b[0m in \u001b[0;36mif_stmt\u001b[0;34m(cond, body, orelse, get_state, set_state, symbol_names, nouts)\u001b[0m\n\u001b[1;32m   1215\u001b[0m     \u001b[0m_tf_if_stmt\u001b[0m\u001b[0;34m(\u001b[0m\u001b[0mcond\u001b[0m\u001b[0;34m,\u001b[0m \u001b[0mbody\u001b[0m\u001b[0;34m,\u001b[0m \u001b[0morelse\u001b[0m\u001b[0;34m,\u001b[0m \u001b[0mget_state\u001b[0m\u001b[0;34m,\u001b[0m \u001b[0mset_state\u001b[0m\u001b[0;34m,\u001b[0m \u001b[0msymbol_names\u001b[0m\u001b[0;34m,\u001b[0m \u001b[0mnouts\u001b[0m\u001b[0;34m)\u001b[0m\u001b[0;34m\u001b[0m\u001b[0;34m\u001b[0m\u001b[0m\n\u001b[1;32m   1216\u001b[0m   \u001b[0;32melse\u001b[0m\u001b[0;34m:\u001b[0m\u001b[0;34m\u001b[0m\u001b[0;34m\u001b[0m\u001b[0m\n\u001b[0;32m-> 1217\u001b[0;31m     \u001b[0m_py_if_stmt\u001b[0m\u001b[0;34m(\u001b[0m\u001b[0mcond\u001b[0m\u001b[0;34m,\u001b[0m \u001b[0mbody\u001b[0m\u001b[0;34m,\u001b[0m \u001b[0morelse\u001b[0m\u001b[0;34m)\u001b[0m\u001b[0;34m\u001b[0m\u001b[0;34m\u001b[0m\u001b[0m\n\u001b[0m\u001b[1;32m   1218\u001b[0m \u001b[0;34m\u001b[0m\u001b[0m\n\u001b[1;32m   1219\u001b[0m \u001b[0;34m\u001b[0m\u001b[0m\n",
            "\u001b[0;32m/usr/local/lib/python3.10/dist-packages/tensorflow/python/autograph/operators/control_flow.py\u001b[0m in \u001b[0;36m_py_if_stmt\u001b[0;34m(cond, body, orelse)\u001b[0m\n\u001b[1;32m   1268\u001b[0m \u001b[0;32mdef\u001b[0m \u001b[0m_py_if_stmt\u001b[0m\u001b[0;34m(\u001b[0m\u001b[0mcond\u001b[0m\u001b[0;34m,\u001b[0m \u001b[0mbody\u001b[0m\u001b[0;34m,\u001b[0m \u001b[0morelse\u001b[0m\u001b[0;34m)\u001b[0m\u001b[0;34m:\u001b[0m\u001b[0;34m\u001b[0m\u001b[0;34m\u001b[0m\u001b[0m\n\u001b[1;32m   1269\u001b[0m   \u001b[0;34m\"\"\"Overload of if_stmt that executes a Python if statement.\"\"\"\u001b[0m\u001b[0;34m\u001b[0m\u001b[0;34m\u001b[0m\u001b[0m\n\u001b[0;32m-> 1270\u001b[0;31m   \u001b[0;32mreturn\u001b[0m \u001b[0mbody\u001b[0m\u001b[0;34m(\u001b[0m\u001b[0;34m)\u001b[0m \u001b[0;32mif\u001b[0m \u001b[0mcond\u001b[0m \u001b[0;32melse\u001b[0m \u001b[0morelse\u001b[0m\u001b[0;34m(\u001b[0m\u001b[0;34m)\u001b[0m\u001b[0;34m\u001b[0m\u001b[0;34m\u001b[0m\u001b[0m\n\u001b[0m",
            "\u001b[0;32m/usr/local/lib/python3.10/dist-packages/tf_keras/src/utils/traceback_utils.py\u001b[0m in \u001b[0;36melse_body\u001b[0;34m()\u001b[0m\n\u001b[1;32m     32\u001b[0m                         \u001b[0;32mtry\u001b[0m\u001b[0;34m:\u001b[0m\u001b[0;34m\u001b[0m\u001b[0;34m\u001b[0m\u001b[0m\n\u001b[1;32m     33\u001b[0m                             \u001b[0mdo_return\u001b[0m \u001b[0;34m=\u001b[0m \u001b[0;32mTrue\u001b[0m\u001b[0;34m\u001b[0m\u001b[0;34m\u001b[0m\u001b[0m\n\u001b[0;32m---> 34\u001b[0;31m                             \u001b[0mretval_\u001b[0m \u001b[0;34m=\u001b[0m \u001b[0mag__\u001b[0m\u001b[0;34m.\u001b[0m\u001b[0mconverted_call\u001b[0m\u001b[0;34m(\u001b[0m\u001b[0mag__\u001b[0m\u001b[0;34m.\u001b[0m\u001b[0mld\u001b[0m\u001b[0;34m(\u001b[0m\u001b[0mfn\u001b[0m\u001b[0;34m)\u001b[0m\u001b[0;34m,\u001b[0m \u001b[0mtuple\u001b[0m\u001b[0;34m(\u001b[0m\u001b[0mag__\u001b[0m\u001b[0;34m.\u001b[0m\u001b[0mld\u001b[0m\u001b[0;34m(\u001b[0m\u001b[0margs\u001b[0m\u001b[0;34m)\u001b[0m\u001b[0;34m)\u001b[0m\u001b[0;34m,\u001b[0m \u001b[0mdict\u001b[0m\u001b[0;34m(\u001b[0m\u001b[0;34m**\u001b[0m\u001b[0mag__\u001b[0m\u001b[0;34m.\u001b[0m\u001b[0mld\u001b[0m\u001b[0;34m(\u001b[0m\u001b[0mkwargs\u001b[0m\u001b[0;34m)\u001b[0m\u001b[0;34m)\u001b[0m\u001b[0;34m,\u001b[0m \u001b[0mfscope\u001b[0m\u001b[0;34m)\u001b[0m\u001b[0;34m\u001b[0m\u001b[0;34m\u001b[0m\u001b[0m\n\u001b[0m\u001b[1;32m     35\u001b[0m                         \u001b[0;32mexcept\u001b[0m\u001b[0;34m:\u001b[0m\u001b[0;34m\u001b[0m\u001b[0;34m\u001b[0m\u001b[0m\n\u001b[1;32m     36\u001b[0m                             \u001b[0mdo_return\u001b[0m \u001b[0;34m=\u001b[0m \u001b[0;32mFalse\u001b[0m\u001b[0;34m\u001b[0m\u001b[0;34m\u001b[0m\u001b[0m\n",
            "\u001b[0;32m/usr/local/lib/python3.10/dist-packages/tensorflow/python/autograph/impl/api.py\u001b[0m in \u001b[0;36mconverted_call\u001b[0;34m(f, args, kwargs, caller_fn_scope, options)\u001b[0m\n\u001b[1;32m    437\u001b[0m     \u001b[0;32mtry\u001b[0m\u001b[0;34m:\u001b[0m\u001b[0;34m\u001b[0m\u001b[0;34m\u001b[0m\u001b[0m\n\u001b[1;32m    438\u001b[0m       \u001b[0;32mif\u001b[0m \u001b[0mkwargs\u001b[0m \u001b[0;32mis\u001b[0m \u001b[0;32mnot\u001b[0m \u001b[0;32mNone\u001b[0m\u001b[0;34m:\u001b[0m\u001b[0;34m\u001b[0m\u001b[0;34m\u001b[0m\u001b[0m\n\u001b[0;32m--> 439\u001b[0;31m         \u001b[0mresult\u001b[0m \u001b[0;34m=\u001b[0m \u001b[0mconverted_f\u001b[0m\u001b[0;34m(\u001b[0m\u001b[0;34m*\u001b[0m\u001b[0meffective_args\u001b[0m\u001b[0;34m,\u001b[0m \u001b[0;34m**\u001b[0m\u001b[0mkwargs\u001b[0m\u001b[0;34m)\u001b[0m\u001b[0;34m\u001b[0m\u001b[0;34m\u001b[0m\u001b[0m\n\u001b[0m\u001b[1;32m    440\u001b[0m       \u001b[0;32melse\u001b[0m\u001b[0;34m:\u001b[0m\u001b[0;34m\u001b[0m\u001b[0;34m\u001b[0m\u001b[0m\n\u001b[1;32m    441\u001b[0m         \u001b[0mresult\u001b[0m \u001b[0;34m=\u001b[0m \u001b[0mconverted_f\u001b[0m\u001b[0;34m(\u001b[0m\u001b[0;34m*\u001b[0m\u001b[0meffective_args\u001b[0m\u001b[0;34m)\u001b[0m\u001b[0;34m\u001b[0m\u001b[0;34m\u001b[0m\u001b[0m\n",
            "\u001b[0;32m/usr/local/lib/python3.10/dist-packages/tf_keras/src/engine/training.py\u001b[0m in \u001b[0;36mtf____call__\u001b[0;34m(self, *args, **kwargs)\u001b[0m\n\u001b[1;32m     65\u001b[0m                 \u001b[0;32mtry\u001b[0m\u001b[0;34m:\u001b[0m\u001b[0;34m\u001b[0m\u001b[0;34m\u001b[0m\u001b[0m\n\u001b[1;32m     66\u001b[0m                     \u001b[0mdo_return\u001b[0m \u001b[0;34m=\u001b[0m \u001b[0;32mTrue\u001b[0m\u001b[0;34m\u001b[0m\u001b[0;34m\u001b[0m\u001b[0m\n\u001b[0;32m---> 67\u001b[0;31m                     \u001b[0mretval_\u001b[0m \u001b[0;34m=\u001b[0m \u001b[0mag__\u001b[0m\u001b[0;34m.\u001b[0m\u001b[0mconverted_call\u001b[0m\u001b[0;34m(\u001b[0m\u001b[0mag__\u001b[0m\u001b[0;34m.\u001b[0m\u001b[0mconverted_call\u001b[0m\u001b[0;34m(\u001b[0m\u001b[0mag__\u001b[0m\u001b[0;34m.\u001b[0m\u001b[0mld\u001b[0m\u001b[0;34m(\u001b[0m\u001b[0msuper\u001b[0m\u001b[0;34m)\u001b[0m\u001b[0;34m,\u001b[0m \u001b[0;34m(\u001b[0m\u001b[0;34m)\u001b[0m\u001b[0;34m,\u001b[0m \u001b[0;32mNone\u001b[0m\u001b[0;34m,\u001b[0m \u001b[0mfscope\u001b[0m\u001b[0;34m)\u001b[0m\u001b[0;34m.\u001b[0m\u001b[0m__call__\u001b[0m\u001b[0;34m,\u001b[0m \u001b[0mtuple\u001b[0m\u001b[0;34m(\u001b[0m\u001b[0mag__\u001b[0m\u001b[0;34m.\u001b[0m\u001b[0mld\u001b[0m\u001b[0;34m(\u001b[0m\u001b[0margs\u001b[0m\u001b[0;34m)\u001b[0m\u001b[0;34m)\u001b[0m\u001b[0;34m,\u001b[0m \u001b[0mdict\u001b[0m\u001b[0;34m(\u001b[0m\u001b[0;34m**\u001b[0m\u001b[0mag__\u001b[0m\u001b[0;34m.\u001b[0m\u001b[0mld\u001b[0m\u001b[0;34m(\u001b[0m\u001b[0mkwargs\u001b[0m\u001b[0;34m)\u001b[0m\u001b[0;34m)\u001b[0m\u001b[0;34m,\u001b[0m \u001b[0mfscope\u001b[0m\u001b[0;34m)\u001b[0m\u001b[0;34m\u001b[0m\u001b[0;34m\u001b[0m\u001b[0m\n\u001b[0m\u001b[1;32m     68\u001b[0m                 \u001b[0;32mexcept\u001b[0m\u001b[0;34m:\u001b[0m\u001b[0;34m\u001b[0m\u001b[0;34m\u001b[0m\u001b[0m\n\u001b[1;32m     69\u001b[0m                     \u001b[0mdo_return\u001b[0m \u001b[0;34m=\u001b[0m \u001b[0;32mFalse\u001b[0m\u001b[0;34m\u001b[0m\u001b[0;34m\u001b[0m\u001b[0m\n",
            "\u001b[0;32m/usr/local/lib/python3.10/dist-packages/tensorflow/python/autograph/impl/api.py\u001b[0m in \u001b[0;36mconverted_call\u001b[0;34m(f, args, kwargs, caller_fn_scope, options)\u001b[0m\n\u001b[1;32m    437\u001b[0m     \u001b[0;32mtry\u001b[0m\u001b[0;34m:\u001b[0m\u001b[0;34m\u001b[0m\u001b[0;34m\u001b[0m\u001b[0m\n\u001b[1;32m    438\u001b[0m       \u001b[0;32mif\u001b[0m \u001b[0mkwargs\u001b[0m \u001b[0;32mis\u001b[0m \u001b[0;32mnot\u001b[0m \u001b[0;32mNone\u001b[0m\u001b[0;34m:\u001b[0m\u001b[0;34m\u001b[0m\u001b[0;34m\u001b[0m\u001b[0m\n\u001b[0;32m--> 439\u001b[0;31m         \u001b[0mresult\u001b[0m \u001b[0;34m=\u001b[0m \u001b[0mconverted_f\u001b[0m\u001b[0;34m(\u001b[0m\u001b[0;34m*\u001b[0m\u001b[0meffective_args\u001b[0m\u001b[0;34m,\u001b[0m \u001b[0;34m**\u001b[0m\u001b[0mkwargs\u001b[0m\u001b[0;34m)\u001b[0m\u001b[0;34m\u001b[0m\u001b[0;34m\u001b[0m\u001b[0m\n\u001b[0m\u001b[1;32m    440\u001b[0m       \u001b[0;32melse\u001b[0m\u001b[0;34m:\u001b[0m\u001b[0;34m\u001b[0m\u001b[0;34m\u001b[0m\u001b[0m\n\u001b[1;32m    441\u001b[0m         \u001b[0mresult\u001b[0m \u001b[0;34m=\u001b[0m \u001b[0mconverted_f\u001b[0m\u001b[0;34m(\u001b[0m\u001b[0;34m*\u001b[0m\u001b[0meffective_args\u001b[0m\u001b[0;34m)\u001b[0m\u001b[0;34m\u001b[0m\u001b[0;34m\u001b[0m\u001b[0m\n",
            "\u001b[0;32m/usr/local/lib/python3.10/dist-packages/tf_keras/src/utils/traceback_utils.py\u001b[0m in \u001b[0;36mtf__error_handler\u001b[0;34m(*args, **kwargs)\u001b[0m\n\u001b[1;32m     42\u001b[0m                         \u001b[0mfiltered_tb\u001b[0m \u001b[0;34m=\u001b[0m \u001b[0mag__\u001b[0m\u001b[0;34m.\u001b[0m\u001b[0mUndefined\u001b[0m\u001b[0;34m(\u001b[0m\u001b[0;34m'filtered_tb'\u001b[0m\u001b[0;34m)\u001b[0m\u001b[0;34m\u001b[0m\u001b[0;34m\u001b[0m\u001b[0m\n\u001b[1;32m     43\u001b[0m                 \u001b[0mfiltered_tb\u001b[0m \u001b[0;34m=\u001b[0m \u001b[0mag__\u001b[0m\u001b[0;34m.\u001b[0m\u001b[0mUndefined\u001b[0m\u001b[0;34m(\u001b[0m\u001b[0;34m'filtered_tb'\u001b[0m\u001b[0;34m)\u001b[0m\u001b[0;34m\u001b[0m\u001b[0;34m\u001b[0m\u001b[0m\n\u001b[0;32m---> 44\u001b[0;31m                 \u001b[0mag__\u001b[0m\u001b[0;34m.\u001b[0m\u001b[0mif_stmt\u001b[0m\u001b[0;34m(\u001b[0m\u001b[0mag__\u001b[0m\u001b[0;34m.\u001b[0m\u001b[0mnot_\u001b[0m\u001b[0;34m(\u001b[0m\u001b[0mag__\u001b[0m\u001b[0;34m.\u001b[0m\u001b[0mconverted_call\u001b[0m\u001b[0;34m(\u001b[0m\u001b[0mag__\u001b[0m\u001b[0;34m.\u001b[0m\u001b[0mld\u001b[0m\u001b[0;34m(\u001b[0m\u001b[0mtf\u001b[0m\u001b[0;34m)\u001b[0m\u001b[0;34m.\u001b[0m\u001b[0mdebugging\u001b[0m\u001b[0;34m.\u001b[0m\u001b[0mis_traceback_filtering_enabled\u001b[0m\u001b[0;34m,\u001b[0m \u001b[0;34m(\u001b[0m\u001b[0;34m)\u001b[0m\u001b[0;34m,\u001b[0m \u001b[0;32mNone\u001b[0m\u001b[0;34m,\u001b[0m \u001b[0mfscope\u001b[0m\u001b[0;34m)\u001b[0m\u001b[0;34m)\u001b[0m\u001b[0;34m,\u001b[0m \u001b[0mif_body\u001b[0m\u001b[0;34m,\u001b[0m \u001b[0melse_body\u001b[0m\u001b[0;34m,\u001b[0m \u001b[0mget_state\u001b[0m\u001b[0;34m,\u001b[0m \u001b[0mset_state\u001b[0m\u001b[0;34m,\u001b[0m \u001b[0;34m(\u001b[0m\u001b[0;34m'do_return'\u001b[0m\u001b[0;34m,\u001b[0m \u001b[0;34m'retval_'\u001b[0m\u001b[0;34m)\u001b[0m\u001b[0;34m,\u001b[0m \u001b[0;36m2\u001b[0m\u001b[0;34m)\u001b[0m\u001b[0;34m\u001b[0m\u001b[0;34m\u001b[0m\u001b[0m\n\u001b[0m\u001b[1;32m     45\u001b[0m                 \u001b[0;32mreturn\u001b[0m \u001b[0mfscope\u001b[0m\u001b[0;34m.\u001b[0m\u001b[0mret\u001b[0m\u001b[0;34m(\u001b[0m\u001b[0mretval_\u001b[0m\u001b[0;34m,\u001b[0m \u001b[0mdo_return\u001b[0m\u001b[0;34m)\u001b[0m\u001b[0;34m\u001b[0m\u001b[0;34m\u001b[0m\u001b[0m\n\u001b[1;32m     46\u001b[0m         \u001b[0;32mreturn\u001b[0m \u001b[0mtf__error_handler\u001b[0m\u001b[0;34m\u001b[0m\u001b[0;34m\u001b[0m\u001b[0m\n",
            "\u001b[0;32m/usr/local/lib/python3.10/dist-packages/tensorflow/python/autograph/operators/control_flow.py\u001b[0m in \u001b[0;36mif_stmt\u001b[0;34m(cond, body, orelse, get_state, set_state, symbol_names, nouts)\u001b[0m\n\u001b[1;32m   1215\u001b[0m     \u001b[0m_tf_if_stmt\u001b[0m\u001b[0;34m(\u001b[0m\u001b[0mcond\u001b[0m\u001b[0;34m,\u001b[0m \u001b[0mbody\u001b[0m\u001b[0;34m,\u001b[0m \u001b[0morelse\u001b[0m\u001b[0;34m,\u001b[0m \u001b[0mget_state\u001b[0m\u001b[0;34m,\u001b[0m \u001b[0mset_state\u001b[0m\u001b[0;34m,\u001b[0m \u001b[0msymbol_names\u001b[0m\u001b[0;34m,\u001b[0m \u001b[0mnouts\u001b[0m\u001b[0;34m)\u001b[0m\u001b[0;34m\u001b[0m\u001b[0;34m\u001b[0m\u001b[0m\n\u001b[1;32m   1216\u001b[0m   \u001b[0;32melse\u001b[0m\u001b[0;34m:\u001b[0m\u001b[0;34m\u001b[0m\u001b[0;34m\u001b[0m\u001b[0m\n\u001b[0;32m-> 1217\u001b[0;31m     \u001b[0m_py_if_stmt\u001b[0m\u001b[0;34m(\u001b[0m\u001b[0mcond\u001b[0m\u001b[0;34m,\u001b[0m \u001b[0mbody\u001b[0m\u001b[0;34m,\u001b[0m \u001b[0morelse\u001b[0m\u001b[0;34m)\u001b[0m\u001b[0;34m\u001b[0m\u001b[0;34m\u001b[0m\u001b[0m\n\u001b[0m\u001b[1;32m   1218\u001b[0m \u001b[0;34m\u001b[0m\u001b[0m\n\u001b[1;32m   1219\u001b[0m \u001b[0;34m\u001b[0m\u001b[0m\n",
            "\u001b[0;32m/usr/local/lib/python3.10/dist-packages/tensorflow/python/autograph/operators/control_flow.py\u001b[0m in \u001b[0;36m_py_if_stmt\u001b[0;34m(cond, body, orelse)\u001b[0m\n\u001b[1;32m   1268\u001b[0m \u001b[0;32mdef\u001b[0m \u001b[0m_py_if_stmt\u001b[0m\u001b[0;34m(\u001b[0m\u001b[0mcond\u001b[0m\u001b[0;34m,\u001b[0m \u001b[0mbody\u001b[0m\u001b[0;34m,\u001b[0m \u001b[0morelse\u001b[0m\u001b[0;34m)\u001b[0m\u001b[0;34m:\u001b[0m\u001b[0;34m\u001b[0m\u001b[0;34m\u001b[0m\u001b[0m\n\u001b[1;32m   1269\u001b[0m   \u001b[0;34m\"\"\"Overload of if_stmt that executes a Python if statement.\"\"\"\u001b[0m\u001b[0;34m\u001b[0m\u001b[0;34m\u001b[0m\u001b[0m\n\u001b[0;32m-> 1270\u001b[0;31m   \u001b[0;32mreturn\u001b[0m \u001b[0mbody\u001b[0m\u001b[0;34m(\u001b[0m\u001b[0;34m)\u001b[0m \u001b[0;32mif\u001b[0m \u001b[0mcond\u001b[0m \u001b[0;32melse\u001b[0m \u001b[0morelse\u001b[0m\u001b[0;34m(\u001b[0m\u001b[0;34m)\u001b[0m\u001b[0;34m\u001b[0m\u001b[0;34m\u001b[0m\u001b[0m\n\u001b[0m",
            "\u001b[0;32m/usr/local/lib/python3.10/dist-packages/tf_keras/src/utils/traceback_utils.py\u001b[0m in \u001b[0;36melse_body\u001b[0;34m()\u001b[0m\n\u001b[1;32m     32\u001b[0m                         \u001b[0;32mtry\u001b[0m\u001b[0;34m:\u001b[0m\u001b[0;34m\u001b[0m\u001b[0;34m\u001b[0m\u001b[0m\n\u001b[1;32m     33\u001b[0m                             \u001b[0mdo_return\u001b[0m \u001b[0;34m=\u001b[0m \u001b[0;32mTrue\u001b[0m\u001b[0;34m\u001b[0m\u001b[0;34m\u001b[0m\u001b[0m\n\u001b[0;32m---> 34\u001b[0;31m                             \u001b[0mretval_\u001b[0m \u001b[0;34m=\u001b[0m \u001b[0mag__\u001b[0m\u001b[0;34m.\u001b[0m\u001b[0mconverted_call\u001b[0m\u001b[0;34m(\u001b[0m\u001b[0mag__\u001b[0m\u001b[0;34m.\u001b[0m\u001b[0mld\u001b[0m\u001b[0;34m(\u001b[0m\u001b[0mfn\u001b[0m\u001b[0;34m)\u001b[0m\u001b[0;34m,\u001b[0m \u001b[0mtuple\u001b[0m\u001b[0;34m(\u001b[0m\u001b[0mag__\u001b[0m\u001b[0;34m.\u001b[0m\u001b[0mld\u001b[0m\u001b[0;34m(\u001b[0m\u001b[0margs\u001b[0m\u001b[0;34m)\u001b[0m\u001b[0;34m)\u001b[0m\u001b[0;34m,\u001b[0m \u001b[0mdict\u001b[0m\u001b[0;34m(\u001b[0m\u001b[0;34m**\u001b[0m\u001b[0mag__\u001b[0m\u001b[0;34m.\u001b[0m\u001b[0mld\u001b[0m\u001b[0;34m(\u001b[0m\u001b[0mkwargs\u001b[0m\u001b[0;34m)\u001b[0m\u001b[0;34m)\u001b[0m\u001b[0;34m,\u001b[0m \u001b[0mfscope\u001b[0m\u001b[0;34m)\u001b[0m\u001b[0;34m\u001b[0m\u001b[0;34m\u001b[0m\u001b[0m\n\u001b[0m\u001b[1;32m     35\u001b[0m                         \u001b[0;32mexcept\u001b[0m\u001b[0;34m:\u001b[0m\u001b[0;34m\u001b[0m\u001b[0;34m\u001b[0m\u001b[0m\n\u001b[1;32m     36\u001b[0m                             \u001b[0mdo_return\u001b[0m \u001b[0;34m=\u001b[0m \u001b[0;32mFalse\u001b[0m\u001b[0;34m\u001b[0m\u001b[0;34m\u001b[0m\u001b[0m\n",
            "\u001b[0;32m/usr/local/lib/python3.10/dist-packages/tensorflow/python/autograph/impl/api.py\u001b[0m in \u001b[0;36mconverted_call\u001b[0;34m(f, args, kwargs, caller_fn_scope, options)\u001b[0m\n\u001b[1;32m    437\u001b[0m     \u001b[0;32mtry\u001b[0m\u001b[0;34m:\u001b[0m\u001b[0;34m\u001b[0m\u001b[0;34m\u001b[0m\u001b[0m\n\u001b[1;32m    438\u001b[0m       \u001b[0;32mif\u001b[0m \u001b[0mkwargs\u001b[0m \u001b[0;32mis\u001b[0m \u001b[0;32mnot\u001b[0m \u001b[0;32mNone\u001b[0m\u001b[0;34m:\u001b[0m\u001b[0;34m\u001b[0m\u001b[0;34m\u001b[0m\u001b[0m\n\u001b[0;32m--> 439\u001b[0;31m         \u001b[0mresult\u001b[0m \u001b[0;34m=\u001b[0m \u001b[0mconverted_f\u001b[0m\u001b[0;34m(\u001b[0m\u001b[0;34m*\u001b[0m\u001b[0meffective_args\u001b[0m\u001b[0;34m,\u001b[0m \u001b[0;34m**\u001b[0m\u001b[0mkwargs\u001b[0m\u001b[0;34m)\u001b[0m\u001b[0;34m\u001b[0m\u001b[0;34m\u001b[0m\u001b[0m\n\u001b[0m\u001b[1;32m    440\u001b[0m       \u001b[0;32melse\u001b[0m\u001b[0;34m:\u001b[0m\u001b[0;34m\u001b[0m\u001b[0;34m\u001b[0m\u001b[0m\n\u001b[1;32m    441\u001b[0m         \u001b[0mresult\u001b[0m \u001b[0;34m=\u001b[0m \u001b[0mconverted_f\u001b[0m\u001b[0;34m(\u001b[0m\u001b[0;34m*\u001b[0m\u001b[0meffective_args\u001b[0m\u001b[0;34m)\u001b[0m\u001b[0;34m\u001b[0m\u001b[0;34m\u001b[0m\u001b[0m\n",
            "\u001b[0;32m/usr/local/lib/python3.10/dist-packages/tf_keras/src/engine/base_layer.py\u001b[0m in \u001b[0;36mtf____call__\u001b[0;34m(self, *args, **kwargs)\u001b[0m\n\u001b[1;32m    240\u001b[0m                 \u001b[0mmask_is_implicit\u001b[0m \u001b[0;34m=\u001b[0m \u001b[0mag__\u001b[0m\u001b[0;34m.\u001b[0m\u001b[0mUndefined\u001b[0m\u001b[0;34m(\u001b[0m\u001b[0;34m'mask_is_implicit'\u001b[0m\u001b[0;34m)\u001b[0m\u001b[0;34m\u001b[0m\u001b[0;34m\u001b[0m\u001b[0m\n\u001b[1;32m    241\u001b[0m                 \u001b[0mcall_fn\u001b[0m \u001b[0;34m=\u001b[0m \u001b[0mag__\u001b[0m\u001b[0;34m.\u001b[0m\u001b[0mUndefined\u001b[0m\u001b[0;34m(\u001b[0m\u001b[0;34m'call_fn'\u001b[0m\u001b[0;34m)\u001b[0m\u001b[0;34m\u001b[0m\u001b[0;34m\u001b[0m\u001b[0m\n\u001b[0;32m--> 242\u001b[0;31m                 \u001b[0mag__\u001b[0m\u001b[0;34m.\u001b[0m\u001b[0mif_stmt\u001b[0m\u001b[0;34m(\u001b[0m\u001b[0mag__\u001b[0m\u001b[0;34m.\u001b[0m\u001b[0mconverted_call\u001b[0m\u001b[0;34m(\u001b[0m\u001b[0mag__\u001b[0m\u001b[0;34m.\u001b[0m\u001b[0mld\u001b[0m\u001b[0;34m(\u001b[0m\u001b[0m_in_functional_construction_mode\u001b[0m\u001b[0;34m)\u001b[0m\u001b[0;34m,\u001b[0m \u001b[0;34m(\u001b[0m\u001b[0mag__\u001b[0m\u001b[0;34m.\u001b[0m\u001b[0mld\u001b[0m\u001b[0;34m(\u001b[0m\u001b[0mself\u001b[0m\u001b[0;34m)\u001b[0m\u001b[0;34m,\u001b[0m \u001b[0mag__\u001b[0m\u001b[0;34m.\u001b[0m\u001b[0mld\u001b[0m\u001b[0;34m(\u001b[0m\u001b[0minputs\u001b[0m\u001b[0;34m)\u001b[0m\u001b[0;34m,\u001b[0m \u001b[0mag__\u001b[0m\u001b[0;34m.\u001b[0m\u001b[0mld\u001b[0m\u001b[0;34m(\u001b[0m\u001b[0margs\u001b[0m\u001b[0;34m)\u001b[0m\u001b[0;34m,\u001b[0m \u001b[0mag__\u001b[0m\u001b[0;34m.\u001b[0m\u001b[0mld\u001b[0m\u001b[0;34m(\u001b[0m\u001b[0mkwargs\u001b[0m\u001b[0;34m)\u001b[0m\u001b[0;34m,\u001b[0m \u001b[0mag__\u001b[0m\u001b[0;34m.\u001b[0m\u001b[0mld\u001b[0m\u001b[0;34m(\u001b[0m\u001b[0minput_list\u001b[0m\u001b[0;34m)\u001b[0m\u001b[0;34m)\u001b[0m\u001b[0;34m,\u001b[0m \u001b[0;32mNone\u001b[0m\u001b[0;34m,\u001b[0m \u001b[0mfscope\u001b[0m\u001b[0;34m)\u001b[0m\u001b[0;34m,\u001b[0m \u001b[0mif_body_11\u001b[0m\u001b[0;34m,\u001b[0m \u001b[0melse_body_11\u001b[0m\u001b[0;34m,\u001b[0m \u001b[0mget_state_11\u001b[0m\u001b[0;34m,\u001b[0m \u001b[0mset_state_11\u001b[0m\u001b[0;34m,\u001b[0m \u001b[0;34m(\u001b[0m\u001b[0;34m'do_return'\u001b[0m\u001b[0;34m,\u001b[0m \u001b[0;34m\"kwargs['mask']\"\u001b[0m\u001b[0;34m,\u001b[0m \u001b[0;34m'retval_'\u001b[0m\u001b[0;34m,\u001b[0m \u001b[0;34m'args'\u001b[0m\u001b[0;34m,\u001b[0m \u001b[0;34m'input_list'\u001b[0m\u001b[0;34m,\u001b[0m \u001b[0;34m'inputs'\u001b[0m\u001b[0;34m,\u001b[0m \u001b[0;34m'kwargs'\u001b[0m\u001b[0;34m)\u001b[0m\u001b[0;34m,\u001b[0m \u001b[0;36m3\u001b[0m\u001b[0;34m)\u001b[0m\u001b[0;34m\u001b[0m\u001b[0;34m\u001b[0m\u001b[0m\n\u001b[0m\u001b[1;32m    243\u001b[0m                 \u001b[0;32mreturn\u001b[0m \u001b[0mfscope\u001b[0m\u001b[0;34m.\u001b[0m\u001b[0mret\u001b[0m\u001b[0;34m(\u001b[0m\u001b[0mretval_\u001b[0m\u001b[0;34m,\u001b[0m \u001b[0mdo_return\u001b[0m\u001b[0;34m)\u001b[0m\u001b[0;34m\u001b[0m\u001b[0;34m\u001b[0m\u001b[0m\n\u001b[1;32m    244\u001b[0m         \u001b[0;32mreturn\u001b[0m \u001b[0mtf____call__\u001b[0m\u001b[0;34m\u001b[0m\u001b[0;34m\u001b[0m\u001b[0m\n",
            "\u001b[0;32m/usr/local/lib/python3.10/dist-packages/tensorflow/python/autograph/operators/control_flow.py\u001b[0m in \u001b[0;36mif_stmt\u001b[0;34m(cond, body, orelse, get_state, set_state, symbol_names, nouts)\u001b[0m\n\u001b[1;32m   1215\u001b[0m     \u001b[0m_tf_if_stmt\u001b[0m\u001b[0;34m(\u001b[0m\u001b[0mcond\u001b[0m\u001b[0;34m,\u001b[0m \u001b[0mbody\u001b[0m\u001b[0;34m,\u001b[0m \u001b[0morelse\u001b[0m\u001b[0;34m,\u001b[0m \u001b[0mget_state\u001b[0m\u001b[0;34m,\u001b[0m \u001b[0mset_state\u001b[0m\u001b[0;34m,\u001b[0m \u001b[0msymbol_names\u001b[0m\u001b[0;34m,\u001b[0m \u001b[0mnouts\u001b[0m\u001b[0;34m)\u001b[0m\u001b[0;34m\u001b[0m\u001b[0;34m\u001b[0m\u001b[0m\n\u001b[1;32m   1216\u001b[0m   \u001b[0;32melse\u001b[0m\u001b[0;34m:\u001b[0m\u001b[0;34m\u001b[0m\u001b[0;34m\u001b[0m\u001b[0m\n\u001b[0;32m-> 1217\u001b[0;31m     \u001b[0m_py_if_stmt\u001b[0m\u001b[0;34m(\u001b[0m\u001b[0mcond\u001b[0m\u001b[0;34m,\u001b[0m \u001b[0mbody\u001b[0m\u001b[0;34m,\u001b[0m \u001b[0morelse\u001b[0m\u001b[0;34m)\u001b[0m\u001b[0;34m\u001b[0m\u001b[0;34m\u001b[0m\u001b[0m\n\u001b[0m\u001b[1;32m   1218\u001b[0m \u001b[0;34m\u001b[0m\u001b[0m\n\u001b[1;32m   1219\u001b[0m \u001b[0;34m\u001b[0m\u001b[0m\n",
            "\u001b[0;32m/usr/local/lib/python3.10/dist-packages/tensorflow/python/autograph/operators/control_flow.py\u001b[0m in \u001b[0;36m_py_if_stmt\u001b[0;34m(cond, body, orelse)\u001b[0m\n\u001b[1;32m   1268\u001b[0m \u001b[0;32mdef\u001b[0m \u001b[0m_py_if_stmt\u001b[0m\u001b[0;34m(\u001b[0m\u001b[0mcond\u001b[0m\u001b[0;34m,\u001b[0m \u001b[0mbody\u001b[0m\u001b[0;34m,\u001b[0m \u001b[0morelse\u001b[0m\u001b[0;34m)\u001b[0m\u001b[0;34m:\u001b[0m\u001b[0;34m\u001b[0m\u001b[0;34m\u001b[0m\u001b[0m\n\u001b[1;32m   1269\u001b[0m   \u001b[0;34m\"\"\"Overload of if_stmt that executes a Python if statement.\"\"\"\u001b[0m\u001b[0;34m\u001b[0m\u001b[0;34m\u001b[0m\u001b[0m\n\u001b[0;32m-> 1270\u001b[0;31m   \u001b[0;32mreturn\u001b[0m \u001b[0mbody\u001b[0m\u001b[0;34m(\u001b[0m\u001b[0;34m)\u001b[0m \u001b[0;32mif\u001b[0m \u001b[0mcond\u001b[0m \u001b[0;32melse\u001b[0m \u001b[0morelse\u001b[0m\u001b[0;34m(\u001b[0m\u001b[0;34m)\u001b[0m\u001b[0;34m\u001b[0m\u001b[0;34m\u001b[0m\u001b[0m\n\u001b[0m",
            "\u001b[0;32m/usr/local/lib/python3.10/dist-packages/tf_keras/src/engine/base_layer.py\u001b[0m in \u001b[0;36melse_body_11\u001b[0;34m()\u001b[0m\n\u001b[1;32m    118\u001b[0m                     \u001b[0meager\u001b[0m \u001b[0;34m=\u001b[0m \u001b[0mag__\u001b[0m\u001b[0;34m.\u001b[0m\u001b[0mconverted_call\u001b[0m\u001b[0;34m(\u001b[0m\u001b[0mag__\u001b[0m\u001b[0;34m.\u001b[0m\u001b[0mld\u001b[0m\u001b[0;34m(\u001b[0m\u001b[0mtf\u001b[0m\u001b[0;34m)\u001b[0m\u001b[0;34m.\u001b[0m\u001b[0mexecuting_eagerly\u001b[0m\u001b[0;34m,\u001b[0m \u001b[0;34m(\u001b[0m\u001b[0;34m)\u001b[0m\u001b[0;34m,\u001b[0m \u001b[0;32mNone\u001b[0m\u001b[0;34m,\u001b[0m \u001b[0mfscope\u001b[0m\u001b[0;34m)\u001b[0m\u001b[0;34m\u001b[0m\u001b[0;34m\u001b[0m\u001b[0m\n\u001b[1;32m    119\u001b[0m                     \u001b[0;32mwith\u001b[0m \u001b[0mag__\u001b[0m\u001b[0;34m.\u001b[0m\u001b[0mld\u001b[0m\u001b[0;34m(\u001b[0m\u001b[0mcall_context\u001b[0m\u001b[0;34m)\u001b[0m\u001b[0;34m.\u001b[0m\u001b[0menter\u001b[0m\u001b[0;34m(\u001b[0m\u001b[0mlayer\u001b[0m\u001b[0;34m=\u001b[0m\u001b[0mag__\u001b[0m\u001b[0;34m.\u001b[0m\u001b[0mld\u001b[0m\u001b[0;34m(\u001b[0m\u001b[0mself\u001b[0m\u001b[0;34m)\u001b[0m\u001b[0;34m,\u001b[0m \u001b[0minputs\u001b[0m\u001b[0;34m=\u001b[0m\u001b[0mag__\u001b[0m\u001b[0;34m.\u001b[0m\u001b[0mld\u001b[0m\u001b[0;34m(\u001b[0m\u001b[0minputs\u001b[0m\u001b[0;34m)\u001b[0m\u001b[0;34m,\u001b[0m \u001b[0mbuild_graph\u001b[0m\u001b[0;34m=\u001b[0m\u001b[0mag__\u001b[0m\u001b[0;34m.\u001b[0m\u001b[0mnot_\u001b[0m\u001b[0;34m(\u001b[0m\u001b[0mag__\u001b[0m\u001b[0;34m.\u001b[0m\u001b[0mld\u001b[0m\u001b[0;34m(\u001b[0m\u001b[0meager\u001b[0m\u001b[0;34m)\u001b[0m\u001b[0;34m)\u001b[0m\u001b[0;34m,\u001b[0m \u001b[0mtraining\u001b[0m\u001b[0;34m=\u001b[0m\u001b[0mag__\u001b[0m\u001b[0;34m.\u001b[0m\u001b[0mld\u001b[0m\u001b[0;34m(\u001b[0m\u001b[0mtraining_mode\u001b[0m\u001b[0;34m)\u001b[0m\u001b[0;34m)\u001b[0m\u001b[0;34m:\u001b[0m\u001b[0;34m\u001b[0m\u001b[0;34m\u001b[0m\u001b[0m\n\u001b[0;32m--> 120\u001b[0;31m                         \u001b[0mag__\u001b[0m\u001b[0;34m.\u001b[0m\u001b[0mconverted_call\u001b[0m\u001b[0;34m(\u001b[0m\u001b[0mag__\u001b[0m\u001b[0;34m.\u001b[0m\u001b[0mld\u001b[0m\u001b[0;34m(\u001b[0m\u001b[0minput_spec\u001b[0m\u001b[0;34m)\u001b[0m\u001b[0;34m.\u001b[0m\u001b[0massert_input_compatibility\u001b[0m\u001b[0;34m,\u001b[0m \u001b[0;34m(\u001b[0m\u001b[0mag__\u001b[0m\u001b[0;34m.\u001b[0m\u001b[0mld\u001b[0m\u001b[0;34m(\u001b[0m\u001b[0mself\u001b[0m\u001b[0;34m)\u001b[0m\u001b[0;34m.\u001b[0m\u001b[0minput_spec\u001b[0m\u001b[0;34m,\u001b[0m \u001b[0mag__\u001b[0m\u001b[0;34m.\u001b[0m\u001b[0mld\u001b[0m\u001b[0;34m(\u001b[0m\u001b[0minputs\u001b[0m\u001b[0;34m)\u001b[0m\u001b[0;34m,\u001b[0m \u001b[0mag__\u001b[0m\u001b[0;34m.\u001b[0m\u001b[0mld\u001b[0m\u001b[0;34m(\u001b[0m\u001b[0mself\u001b[0m\u001b[0;34m)\u001b[0m\u001b[0;34m.\u001b[0m\u001b[0mname\u001b[0m\u001b[0;34m)\u001b[0m\u001b[0;34m,\u001b[0m \u001b[0;32mNone\u001b[0m\u001b[0;34m,\u001b[0m \u001b[0mfscope\u001b[0m\u001b[0;34m)\u001b[0m\u001b[0;34m\u001b[0m\u001b[0;34m\u001b[0m\u001b[0m\n\u001b[0m\u001b[1;32m    121\u001b[0m \u001b[0;34m\u001b[0m\u001b[0m\n\u001b[1;32m    122\u001b[0m                         \u001b[0;32mdef\u001b[0m \u001b[0mget_state_4\u001b[0m\u001b[0;34m(\u001b[0m\u001b[0;34m)\u001b[0m\u001b[0;34m:\u001b[0m\u001b[0;34m\u001b[0m\u001b[0;34m\u001b[0m\u001b[0m\n",
            "\u001b[0;32m/usr/local/lib/python3.10/dist-packages/tensorflow/python/autograph/impl/api.py\u001b[0m in \u001b[0;36mconverted_call\u001b[0;34m(f, args, kwargs, caller_fn_scope, options)\u001b[0m\n\u001b[1;32m    425\u001b[0m   \u001b[0;32mtry\u001b[0m\u001b[0;34m:\u001b[0m\u001b[0;34m\u001b[0m\u001b[0;34m\u001b[0m\u001b[0m\n\u001b[1;32m    426\u001b[0m     \u001b[0mprogram_ctx\u001b[0m \u001b[0;34m=\u001b[0m \u001b[0mconverter\u001b[0m\u001b[0;34m.\u001b[0m\u001b[0mProgramContext\u001b[0m\u001b[0;34m(\u001b[0m\u001b[0moptions\u001b[0m\u001b[0;34m=\u001b[0m\u001b[0moptions\u001b[0m\u001b[0;34m)\u001b[0m\u001b[0;34m\u001b[0m\u001b[0;34m\u001b[0m\u001b[0m\n\u001b[0;32m--> 427\u001b[0;31m     \u001b[0mconverted_f\u001b[0m \u001b[0;34m=\u001b[0m \u001b[0m_convert_actual\u001b[0m\u001b[0;34m(\u001b[0m\u001b[0mtarget_entity\u001b[0m\u001b[0;34m,\u001b[0m \u001b[0mprogram_ctx\u001b[0m\u001b[0;34m)\u001b[0m\u001b[0;34m\u001b[0m\u001b[0;34m\u001b[0m\u001b[0m\n\u001b[0m\u001b[1;32m    428\u001b[0m     \u001b[0;32mif\u001b[0m \u001b[0mlogging\u001b[0m\u001b[0;34m.\u001b[0m\u001b[0mhas_verbosity\u001b[0m\u001b[0;34m(\u001b[0m\u001b[0;36m2\u001b[0m\u001b[0;34m)\u001b[0m\u001b[0;34m:\u001b[0m\u001b[0;34m\u001b[0m\u001b[0;34m\u001b[0m\u001b[0m\n\u001b[1;32m    429\u001b[0m       \u001b[0m_log_callargs\u001b[0m\u001b[0;34m(\u001b[0m\u001b[0mconverted_f\u001b[0m\u001b[0;34m,\u001b[0m \u001b[0meffective_args\u001b[0m\u001b[0;34m,\u001b[0m \u001b[0mkwargs\u001b[0m\u001b[0;34m)\u001b[0m\u001b[0;34m\u001b[0m\u001b[0;34m\u001b[0m\u001b[0m\n",
            "\u001b[0;32m/usr/local/lib/python3.10/dist-packages/tensorflow/python/autograph/impl/api.py\u001b[0m in \u001b[0;36m_convert_actual\u001b[0;34m(entity, program_ctx)\u001b[0m\n\u001b[1;32m    267\u001b[0m                      ' try passing f.python_function instead.')\n\u001b[1;32m    268\u001b[0m \u001b[0;34m\u001b[0m\u001b[0m\n\u001b[0;32m--> 269\u001b[0;31m   \u001b[0mtransformed\u001b[0m\u001b[0;34m,\u001b[0m \u001b[0mmodule\u001b[0m\u001b[0;34m,\u001b[0m \u001b[0msource_map\u001b[0m \u001b[0;34m=\u001b[0m \u001b[0m_TRANSPILER\u001b[0m\u001b[0;34m.\u001b[0m\u001b[0mtransform\u001b[0m\u001b[0;34m(\u001b[0m\u001b[0mentity\u001b[0m\u001b[0;34m,\u001b[0m \u001b[0mprogram_ctx\u001b[0m\u001b[0;34m)\u001b[0m\u001b[0;34m\u001b[0m\u001b[0;34m\u001b[0m\u001b[0m\n\u001b[0m\u001b[1;32m    270\u001b[0m \u001b[0;34m\u001b[0m\u001b[0m\n\u001b[1;32m    271\u001b[0m   \u001b[0;32massert\u001b[0m \u001b[0;32mnot\u001b[0m \u001b[0mhasattr\u001b[0m\u001b[0;34m(\u001b[0m\u001b[0mtransformed\u001b[0m\u001b[0;34m,\u001b[0m \u001b[0;34m'ag_module'\u001b[0m\u001b[0;34m)\u001b[0m\u001b[0;34m\u001b[0m\u001b[0;34m\u001b[0m\u001b[0m\n",
            "\u001b[0;32m/usr/local/lib/python3.10/dist-packages/tensorflow/python/autograph/pyct/transpiler.py\u001b[0m in \u001b[0;36mtransform\u001b[0;34m(self, obj, user_context)\u001b[0m\n\u001b[1;32m    280\u001b[0m     \"\"\"\n\u001b[1;32m    281\u001b[0m     \u001b[0;32mif\u001b[0m \u001b[0minspect\u001b[0m\u001b[0;34m.\u001b[0m\u001b[0misfunction\u001b[0m\u001b[0;34m(\u001b[0m\u001b[0mobj\u001b[0m\u001b[0;34m)\u001b[0m \u001b[0;32mor\u001b[0m \u001b[0minspect\u001b[0m\u001b[0;34m.\u001b[0m\u001b[0mismethod\u001b[0m\u001b[0;34m(\u001b[0m\u001b[0mobj\u001b[0m\u001b[0;34m)\u001b[0m\u001b[0;34m:\u001b[0m\u001b[0;34m\u001b[0m\u001b[0;34m\u001b[0m\u001b[0m\n\u001b[0;32m--> 282\u001b[0;31m       \u001b[0;32mreturn\u001b[0m \u001b[0mself\u001b[0m\u001b[0;34m.\u001b[0m\u001b[0mtransform_function\u001b[0m\u001b[0;34m(\u001b[0m\u001b[0mobj\u001b[0m\u001b[0;34m,\u001b[0m \u001b[0muser_context\u001b[0m\u001b[0;34m)\u001b[0m\u001b[0;34m\u001b[0m\u001b[0;34m\u001b[0m\u001b[0m\n\u001b[0m\u001b[1;32m    283\u001b[0m \u001b[0;34m\u001b[0m\u001b[0m\n\u001b[1;32m    284\u001b[0m     \u001b[0;32mraise\u001b[0m \u001b[0mNotImplementedError\u001b[0m\u001b[0;34m(\u001b[0m\u001b[0;34m'Non-function: {}'\u001b[0m\u001b[0;34m.\u001b[0m\u001b[0mformat\u001b[0m\u001b[0;34m(\u001b[0m\u001b[0mtype\u001b[0m\u001b[0;34m(\u001b[0m\u001b[0mobj\u001b[0m\u001b[0;34m)\u001b[0m\u001b[0;34m)\u001b[0m\u001b[0;34m)\u001b[0m\u001b[0;34m\u001b[0m\u001b[0;34m\u001b[0m\u001b[0m\n",
            "\u001b[0;32m/usr/local/lib/python3.10/dist-packages/tensorflow/python/autograph/pyct/transpiler.py\u001b[0m in \u001b[0;36mtransform_function\u001b[0;34m(self, fn, user_context)\u001b[0m\n\u001b[1;32m    464\u001b[0m           \u001b[0mlogging\u001b[0m\u001b[0;34m.\u001b[0m\u001b[0mlog\u001b[0m\u001b[0;34m(\u001b[0m\u001b[0;36m1\u001b[0m\u001b[0;34m,\u001b[0m \u001b[0;34m'%s is not cached for subkey %s'\u001b[0m\u001b[0;34m,\u001b[0m \u001b[0mfn\u001b[0m\u001b[0;34m,\u001b[0m \u001b[0mcache_subkey\u001b[0m\u001b[0;34m)\u001b[0m\u001b[0;34m\u001b[0m\u001b[0;34m\u001b[0m\u001b[0m\n\u001b[1;32m    465\u001b[0m           \u001b[0;31m# TODO(mdan): Confusing overloading pattern. Fix.\u001b[0m\u001b[0;34m\u001b[0m\u001b[0;34m\u001b[0m\u001b[0m\n\u001b[0;32m--> 466\u001b[0;31m           \u001b[0mnodes\u001b[0m\u001b[0;34m,\u001b[0m \u001b[0mctx\u001b[0m \u001b[0;34m=\u001b[0m \u001b[0msuper\u001b[0m\u001b[0;34m(\u001b[0m\u001b[0mPyToPy\u001b[0m\u001b[0;34m,\u001b[0m \u001b[0mself\u001b[0m\u001b[0;34m)\u001b[0m\u001b[0;34m.\u001b[0m\u001b[0mtransform_function\u001b[0m\u001b[0;34m(\u001b[0m\u001b[0mfn\u001b[0m\u001b[0;34m,\u001b[0m \u001b[0muser_context\u001b[0m\u001b[0;34m)\u001b[0m\u001b[0;34m\u001b[0m\u001b[0;34m\u001b[0m\u001b[0m\n\u001b[0m\u001b[1;32m    467\u001b[0m \u001b[0;34m\u001b[0m\u001b[0m\n\u001b[1;32m    468\u001b[0m           \u001b[0;32mif\u001b[0m \u001b[0misinstance\u001b[0m\u001b[0;34m(\u001b[0m\u001b[0mnodes\u001b[0m\u001b[0;34m,\u001b[0m \u001b[0mgast\u001b[0m\u001b[0;34m.\u001b[0m\u001b[0mLambda\u001b[0m\u001b[0;34m)\u001b[0m\u001b[0;34m:\u001b[0m\u001b[0;34m\u001b[0m\u001b[0;34m\u001b[0m\u001b[0m\n",
            "\u001b[0;32m/usr/local/lib/python3.10/dist-packages/tensorflow/python/autograph/pyct/transpiler.py\u001b[0m in \u001b[0;36mtransform_function\u001b[0;34m(self, fn, user_context)\u001b[0m\n\u001b[1;32m    357\u001b[0m \u001b[0;34m\u001b[0m\u001b[0m\n\u001b[1;32m    358\u001b[0m     \u001b[0mnode\u001b[0m \u001b[0;34m=\u001b[0m \u001b[0mself\u001b[0m\u001b[0;34m.\u001b[0m\u001b[0m_erase_arg_defaults\u001b[0m\u001b[0;34m(\u001b[0m\u001b[0mnode\u001b[0m\u001b[0;34m)\u001b[0m\u001b[0;34m\u001b[0m\u001b[0;34m\u001b[0m\u001b[0m\n\u001b[0;32m--> 359\u001b[0;31m     \u001b[0mresult\u001b[0m \u001b[0;34m=\u001b[0m \u001b[0mself\u001b[0m\u001b[0;34m.\u001b[0m\u001b[0mtransform_ast\u001b[0m\u001b[0;34m(\u001b[0m\u001b[0mnode\u001b[0m\u001b[0;34m,\u001b[0m \u001b[0mcontext\u001b[0m\u001b[0;34m)\u001b[0m\u001b[0;34m\u001b[0m\u001b[0;34m\u001b[0m\u001b[0m\n\u001b[0m\u001b[1;32m    360\u001b[0m \u001b[0;34m\u001b[0m\u001b[0m\n\u001b[1;32m    361\u001b[0m     \u001b[0;32mreturn\u001b[0m \u001b[0mresult\u001b[0m\u001b[0;34m,\u001b[0m \u001b[0mcontext\u001b[0m\u001b[0;34m\u001b[0m\u001b[0;34m\u001b[0m\u001b[0m\n",
            "\u001b[0;32m/usr/local/lib/python3.10/dist-packages/tensorflow/python/autograph/impl/api.py\u001b[0m in \u001b[0;36mtransform_ast\u001b[0;34m(self, node, ctx)\u001b[0m\n\u001b[1;32m    253\u001b[0m     \u001b[0mnode\u001b[0m \u001b[0;34m=\u001b[0m \u001b[0mcontrol_flow\u001b[0m\u001b[0;34m.\u001b[0m\u001b[0mtransform\u001b[0m\u001b[0;34m(\u001b[0m\u001b[0mnode\u001b[0m\u001b[0;34m,\u001b[0m \u001b[0mctx\u001b[0m\u001b[0;34m)\u001b[0m\u001b[0;34m\u001b[0m\u001b[0;34m\u001b[0m\u001b[0m\n\u001b[1;32m    254\u001b[0m     \u001b[0mnode\u001b[0m \u001b[0;34m=\u001b[0m \u001b[0mconditional_expressions\u001b[0m\u001b[0;34m.\u001b[0m\u001b[0mtransform\u001b[0m\u001b[0;34m(\u001b[0m\u001b[0mnode\u001b[0m\u001b[0;34m,\u001b[0m \u001b[0mctx\u001b[0m\u001b[0;34m)\u001b[0m\u001b[0;34m\u001b[0m\u001b[0;34m\u001b[0m\u001b[0m\n\u001b[0;32m--> 255\u001b[0;31m     \u001b[0mnode\u001b[0m \u001b[0;34m=\u001b[0m \u001b[0mlogical_expressions\u001b[0m\u001b[0;34m.\u001b[0m\u001b[0mtransform\u001b[0m\u001b[0;34m(\u001b[0m\u001b[0mnode\u001b[0m\u001b[0;34m,\u001b[0m \u001b[0mctx\u001b[0m\u001b[0;34m)\u001b[0m\u001b[0;34m\u001b[0m\u001b[0;34m\u001b[0m\u001b[0m\n\u001b[0m\u001b[1;32m    256\u001b[0m     \u001b[0mnode\u001b[0m \u001b[0;34m=\u001b[0m \u001b[0mvariables\u001b[0m\u001b[0;34m.\u001b[0m\u001b[0mtransform\u001b[0m\u001b[0;34m(\u001b[0m\u001b[0mnode\u001b[0m\u001b[0;34m,\u001b[0m \u001b[0mctx\u001b[0m\u001b[0;34m)\u001b[0m\u001b[0;34m\u001b[0m\u001b[0;34m\u001b[0m\u001b[0m\n\u001b[1;32m    257\u001b[0m     \u001b[0;32mreturn\u001b[0m \u001b[0mnode\u001b[0m\u001b[0;34m\u001b[0m\u001b[0;34m\u001b[0m\u001b[0m\n",
            "\u001b[0;32m/usr/local/lib/python3.10/dist-packages/tensorflow/python/autograph/converters/logical_expressions.py\u001b[0m in \u001b[0;36mtransform\u001b[0;34m(node, ctx)\u001b[0m\n\u001b[1;32m    129\u001b[0m \u001b[0;32mdef\u001b[0m \u001b[0mtransform\u001b[0m\u001b[0;34m(\u001b[0m\u001b[0mnode\u001b[0m\u001b[0;34m,\u001b[0m \u001b[0mctx\u001b[0m\u001b[0;34m)\u001b[0m\u001b[0;34m:\u001b[0m\u001b[0;34m\u001b[0m\u001b[0;34m\u001b[0m\u001b[0m\n\u001b[1;32m    130\u001b[0m   \u001b[0mtransformer\u001b[0m \u001b[0;34m=\u001b[0m \u001b[0mLogicalExpressionTransformer\u001b[0m\u001b[0;34m(\u001b[0m\u001b[0mctx\u001b[0m\u001b[0;34m)\u001b[0m\u001b[0;34m\u001b[0m\u001b[0;34m\u001b[0m\u001b[0m\n\u001b[0;32m--> 131\u001b[0;31m   \u001b[0;32mreturn\u001b[0m \u001b[0mtransformer\u001b[0m\u001b[0;34m.\u001b[0m\u001b[0mvisit\u001b[0m\u001b[0;34m(\u001b[0m\u001b[0mnode\u001b[0m\u001b[0;34m)\u001b[0m\u001b[0;34m\u001b[0m\u001b[0;34m\u001b[0m\u001b[0m\n\u001b[0m",
            "\u001b[0;32m/usr/local/lib/python3.10/dist-packages/tensorflow/python/autograph/core/converter.py\u001b[0m in \u001b[0;36mvisit\u001b[0;34m(self, node)\u001b[0m\n\u001b[1;32m    312\u001b[0m     \u001b[0mself\u001b[0m\u001b[0;34m.\u001b[0m\u001b[0m_ast_depth\u001b[0m \u001b[0;34m+=\u001b[0m \u001b[0;36m1\u001b[0m\u001b[0;34m\u001b[0m\u001b[0;34m\u001b[0m\u001b[0m\n\u001b[1;32m    313\u001b[0m     \u001b[0;32mtry\u001b[0m\u001b[0;34m:\u001b[0m\u001b[0;34m\u001b[0m\u001b[0;34m\u001b[0m\u001b[0m\n\u001b[0;32m--> 314\u001b[0;31m       \u001b[0;32mreturn\u001b[0m \u001b[0msuper\u001b[0m\u001b[0;34m(\u001b[0m\u001b[0mBase\u001b[0m\u001b[0;34m,\u001b[0m \u001b[0mself\u001b[0m\u001b[0;34m)\u001b[0m\u001b[0;34m.\u001b[0m\u001b[0mvisit\u001b[0m\u001b[0;34m(\u001b[0m\u001b[0mnode\u001b[0m\u001b[0;34m)\u001b[0m\u001b[0;34m\u001b[0m\u001b[0;34m\u001b[0m\u001b[0m\n\u001b[0m\u001b[1;32m    315\u001b[0m     \u001b[0;32mfinally\u001b[0m\u001b[0;34m:\u001b[0m\u001b[0;34m\u001b[0m\u001b[0;34m\u001b[0m\u001b[0m\n\u001b[1;32m    316\u001b[0m       \u001b[0mself\u001b[0m\u001b[0;34m.\u001b[0m\u001b[0m_ast_depth\u001b[0m \u001b[0;34m-=\u001b[0m \u001b[0;36m1\u001b[0m\u001b[0;34m\u001b[0m\u001b[0;34m\u001b[0m\u001b[0m\n",
            "\u001b[0;32m/usr/local/lib/python3.10/dist-packages/tensorflow/python/autograph/pyct/transformer.py\u001b[0m in \u001b[0;36mvisit\u001b[0;34m(self, node)\u001b[0m\n\u001b[1;32m    439\u001b[0m         \u001b[0mentry_expr_value\u001b[0m \u001b[0;34m=\u001b[0m \u001b[0mnode\u001b[0m\u001b[0;34m.\u001b[0m\u001b[0mvalue\u001b[0m\u001b[0;34m\u001b[0m\u001b[0;34m\u001b[0m\u001b[0m\n\u001b[1;32m    440\u001b[0m \u001b[0;34m\u001b[0m\u001b[0m\n\u001b[0;32m--> 441\u001b[0;31m       \u001b[0mresult\u001b[0m \u001b[0;34m=\u001b[0m \u001b[0msuper\u001b[0m\u001b[0;34m(\u001b[0m\u001b[0mBase\u001b[0m\u001b[0;34m,\u001b[0m \u001b[0mself\u001b[0m\u001b[0;34m)\u001b[0m\u001b[0;34m.\u001b[0m\u001b[0mvisit\u001b[0m\u001b[0;34m(\u001b[0m\u001b[0mnode\u001b[0m\u001b[0;34m)\u001b[0m\u001b[0;34m\u001b[0m\u001b[0;34m\u001b[0m\u001b[0m\n\u001b[0m\u001b[1;32m    442\u001b[0m \u001b[0;34m\u001b[0m\u001b[0m\n\u001b[1;32m    443\u001b[0m       \u001b[0;31m# Adjust for consistency: replacing the value of an Expr with\u001b[0m\u001b[0;34m\u001b[0m\u001b[0;34m\u001b[0m\u001b[0m\n",
            "\u001b[0;32m/usr/lib/python3.10/ast.py\u001b[0m in \u001b[0;36mvisit\u001b[0;34m(self, node)\u001b[0m\n\u001b[1;32m    416\u001b[0m         \u001b[0mmethod\u001b[0m \u001b[0;34m=\u001b[0m \u001b[0;34m'visit_'\u001b[0m \u001b[0;34m+\u001b[0m \u001b[0mnode\u001b[0m\u001b[0;34m.\u001b[0m\u001b[0m__class__\u001b[0m\u001b[0;34m.\u001b[0m\u001b[0m__name__\u001b[0m\u001b[0;34m\u001b[0m\u001b[0;34m\u001b[0m\u001b[0m\n\u001b[1;32m    417\u001b[0m         \u001b[0mvisitor\u001b[0m \u001b[0;34m=\u001b[0m \u001b[0mgetattr\u001b[0m\u001b[0;34m(\u001b[0m\u001b[0mself\u001b[0m\u001b[0;34m,\u001b[0m \u001b[0mmethod\u001b[0m\u001b[0;34m,\u001b[0m \u001b[0mself\u001b[0m\u001b[0;34m.\u001b[0m\u001b[0mgeneric_visit\u001b[0m\u001b[0;34m)\u001b[0m\u001b[0;34m\u001b[0m\u001b[0;34m\u001b[0m\u001b[0m\n\u001b[0;32m--> 418\u001b[0;31m         \u001b[0;32mreturn\u001b[0m \u001b[0mvisitor\u001b[0m\u001b[0;34m(\u001b[0m\u001b[0mnode\u001b[0m\u001b[0;34m)\u001b[0m\u001b[0;34m\u001b[0m\u001b[0;34m\u001b[0m\u001b[0m\n\u001b[0m\u001b[1;32m    419\u001b[0m \u001b[0;34m\u001b[0m\u001b[0m\n\u001b[1;32m    420\u001b[0m     \u001b[0;32mdef\u001b[0m \u001b[0mgeneric_visit\u001b[0m\u001b[0;34m(\u001b[0m\u001b[0mself\u001b[0m\u001b[0;34m,\u001b[0m \u001b[0mnode\u001b[0m\u001b[0;34m)\u001b[0m\u001b[0;34m:\u001b[0m\u001b[0;34m\u001b[0m\u001b[0;34m\u001b[0m\u001b[0m\n",
            "\u001b[0;32m/usr/lib/python3.10/ast.py\u001b[0m in \u001b[0;36mgeneric_visit\u001b[0;34m(self, node)\u001b[0m\n\u001b[1;32m    492\u001b[0m                 \u001b[0;32mfor\u001b[0m \u001b[0mvalue\u001b[0m \u001b[0;32min\u001b[0m \u001b[0mold_value\u001b[0m\u001b[0;34m:\u001b[0m\u001b[0;34m\u001b[0m\u001b[0;34m\u001b[0m\u001b[0m\n\u001b[1;32m    493\u001b[0m                     \u001b[0;32mif\u001b[0m \u001b[0misinstance\u001b[0m\u001b[0;34m(\u001b[0m\u001b[0mvalue\u001b[0m\u001b[0;34m,\u001b[0m \u001b[0mAST\u001b[0m\u001b[0;34m)\u001b[0m\u001b[0;34m:\u001b[0m\u001b[0;34m\u001b[0m\u001b[0;34m\u001b[0m\u001b[0m\n\u001b[0;32m--> 494\u001b[0;31m                         \u001b[0mvalue\u001b[0m \u001b[0;34m=\u001b[0m \u001b[0mself\u001b[0m\u001b[0;34m.\u001b[0m\u001b[0mvisit\u001b[0m\u001b[0;34m(\u001b[0m\u001b[0mvalue\u001b[0m\u001b[0;34m)\u001b[0m\u001b[0;34m\u001b[0m\u001b[0;34m\u001b[0m\u001b[0m\n\u001b[0m\u001b[1;32m    495\u001b[0m                         \u001b[0;32mif\u001b[0m \u001b[0mvalue\u001b[0m \u001b[0;32mis\u001b[0m \u001b[0;32mNone\u001b[0m\u001b[0;34m:\u001b[0m\u001b[0;34m\u001b[0m\u001b[0;34m\u001b[0m\u001b[0m\n\u001b[1;32m    496\u001b[0m                             \u001b[0;32mcontinue\u001b[0m\u001b[0;34m\u001b[0m\u001b[0;34m\u001b[0m\u001b[0m\n",
            "\u001b[0;32m/usr/local/lib/python3.10/dist-packages/tensorflow/python/autograph/core/converter.py\u001b[0m in \u001b[0;36mvisit\u001b[0;34m(self, node)\u001b[0m\n\u001b[1;32m    312\u001b[0m     \u001b[0mself\u001b[0m\u001b[0;34m.\u001b[0m\u001b[0m_ast_depth\u001b[0m \u001b[0;34m+=\u001b[0m \u001b[0;36m1\u001b[0m\u001b[0;34m\u001b[0m\u001b[0;34m\u001b[0m\u001b[0m\n\u001b[1;32m    313\u001b[0m     \u001b[0;32mtry\u001b[0m\u001b[0;34m:\u001b[0m\u001b[0;34m\u001b[0m\u001b[0;34m\u001b[0m\u001b[0m\n\u001b[0;32m--> 314\u001b[0;31m       \u001b[0;32mreturn\u001b[0m \u001b[0msuper\u001b[0m\u001b[0;34m(\u001b[0m\u001b[0mBase\u001b[0m\u001b[0;34m,\u001b[0m \u001b[0mself\u001b[0m\u001b[0;34m)\u001b[0m\u001b[0;34m.\u001b[0m\u001b[0mvisit\u001b[0m\u001b[0;34m(\u001b[0m\u001b[0mnode\u001b[0m\u001b[0;34m)\u001b[0m\u001b[0;34m\u001b[0m\u001b[0;34m\u001b[0m\u001b[0m\n\u001b[0m\u001b[1;32m    315\u001b[0m     \u001b[0;32mfinally\u001b[0m\u001b[0;34m:\u001b[0m\u001b[0;34m\u001b[0m\u001b[0;34m\u001b[0m\u001b[0m\n\u001b[1;32m    316\u001b[0m       \u001b[0mself\u001b[0m\u001b[0;34m.\u001b[0m\u001b[0m_ast_depth\u001b[0m \u001b[0;34m-=\u001b[0m \u001b[0;36m1\u001b[0m\u001b[0;34m\u001b[0m\u001b[0;34m\u001b[0m\u001b[0m\n",
            "\u001b[0;32m/usr/local/lib/python3.10/dist-packages/tensorflow/python/autograph/pyct/transformer.py\u001b[0m in \u001b[0;36mvisit\u001b[0;34m(self, node)\u001b[0m\n\u001b[1;32m    439\u001b[0m         \u001b[0mentry_expr_value\u001b[0m \u001b[0;34m=\u001b[0m \u001b[0mnode\u001b[0m\u001b[0;34m.\u001b[0m\u001b[0mvalue\u001b[0m\u001b[0;34m\u001b[0m\u001b[0;34m\u001b[0m\u001b[0m\n\u001b[1;32m    440\u001b[0m \u001b[0;34m\u001b[0m\u001b[0m\n\u001b[0;32m--> 441\u001b[0;31m       \u001b[0mresult\u001b[0m \u001b[0;34m=\u001b[0m \u001b[0msuper\u001b[0m\u001b[0;34m(\u001b[0m\u001b[0mBase\u001b[0m\u001b[0;34m,\u001b[0m \u001b[0mself\u001b[0m\u001b[0;34m)\u001b[0m\u001b[0;34m.\u001b[0m\u001b[0mvisit\u001b[0m\u001b[0;34m(\u001b[0m\u001b[0mnode\u001b[0m\u001b[0;34m)\u001b[0m\u001b[0;34m\u001b[0m\u001b[0;34m\u001b[0m\u001b[0m\n\u001b[0m\u001b[1;32m    442\u001b[0m \u001b[0;34m\u001b[0m\u001b[0m\n\u001b[1;32m    443\u001b[0m       \u001b[0;31m# Adjust for consistency: replacing the value of an Expr with\u001b[0m\u001b[0;34m\u001b[0m\u001b[0;34m\u001b[0m\u001b[0m\n",
            "\u001b[0;32m/usr/lib/python3.10/ast.py\u001b[0m in \u001b[0;36mvisit\u001b[0;34m(self, node)\u001b[0m\n\u001b[1;32m    416\u001b[0m         \u001b[0mmethod\u001b[0m \u001b[0;34m=\u001b[0m \u001b[0;34m'visit_'\u001b[0m \u001b[0;34m+\u001b[0m \u001b[0mnode\u001b[0m\u001b[0;34m.\u001b[0m\u001b[0m__class__\u001b[0m\u001b[0;34m.\u001b[0m\u001b[0m__name__\u001b[0m\u001b[0;34m\u001b[0m\u001b[0;34m\u001b[0m\u001b[0m\n\u001b[1;32m    417\u001b[0m         \u001b[0mvisitor\u001b[0m \u001b[0;34m=\u001b[0m \u001b[0mgetattr\u001b[0m\u001b[0;34m(\u001b[0m\u001b[0mself\u001b[0m\u001b[0;34m,\u001b[0m \u001b[0mmethod\u001b[0m\u001b[0;34m,\u001b[0m \u001b[0mself\u001b[0m\u001b[0;34m.\u001b[0m\u001b[0mgeneric_visit\u001b[0m\u001b[0;34m)\u001b[0m\u001b[0;34m\u001b[0m\u001b[0;34m\u001b[0m\u001b[0m\n\u001b[0;32m--> 418\u001b[0;31m         \u001b[0;32mreturn\u001b[0m \u001b[0mvisitor\u001b[0m\u001b[0;34m(\u001b[0m\u001b[0mnode\u001b[0m\u001b[0;34m)\u001b[0m\u001b[0;34m\u001b[0m\u001b[0;34m\u001b[0m\u001b[0m\n\u001b[0m\u001b[1;32m    419\u001b[0m \u001b[0;34m\u001b[0m\u001b[0m\n\u001b[1;32m    420\u001b[0m     \u001b[0;32mdef\u001b[0m \u001b[0mgeneric_visit\u001b[0m\u001b[0;34m(\u001b[0m\u001b[0mself\u001b[0m\u001b[0;34m,\u001b[0m \u001b[0mnode\u001b[0m\u001b[0;34m)\u001b[0m\u001b[0;34m:\u001b[0m\u001b[0;34m\u001b[0m\u001b[0;34m\u001b[0m\u001b[0m\n",
            "\u001b[0;32m/usr/lib/python3.10/ast.py\u001b[0m in \u001b[0;36mgeneric_visit\u001b[0;34m(self, node)\u001b[0m\n\u001b[1;32m    492\u001b[0m                 \u001b[0;32mfor\u001b[0m \u001b[0mvalue\u001b[0m \u001b[0;32min\u001b[0m \u001b[0mold_value\u001b[0m\u001b[0;34m:\u001b[0m\u001b[0;34m\u001b[0m\u001b[0;34m\u001b[0m\u001b[0m\n\u001b[1;32m    493\u001b[0m                     \u001b[0;32mif\u001b[0m \u001b[0misinstance\u001b[0m\u001b[0;34m(\u001b[0m\u001b[0mvalue\u001b[0m\u001b[0;34m,\u001b[0m \u001b[0mAST\u001b[0m\u001b[0;34m)\u001b[0m\u001b[0;34m:\u001b[0m\u001b[0;34m\u001b[0m\u001b[0;34m\u001b[0m\u001b[0m\n\u001b[0;32m--> 494\u001b[0;31m                         \u001b[0mvalue\u001b[0m \u001b[0;34m=\u001b[0m \u001b[0mself\u001b[0m\u001b[0;34m.\u001b[0m\u001b[0mvisit\u001b[0m\u001b[0;34m(\u001b[0m\u001b[0mvalue\u001b[0m\u001b[0;34m)\u001b[0m\u001b[0;34m\u001b[0m\u001b[0;34m\u001b[0m\u001b[0m\n\u001b[0m\u001b[1;32m    495\u001b[0m                         \u001b[0;32mif\u001b[0m \u001b[0mvalue\u001b[0m \u001b[0;32mis\u001b[0m \u001b[0;32mNone\u001b[0m\u001b[0;34m:\u001b[0m\u001b[0;34m\u001b[0m\u001b[0;34m\u001b[0m\u001b[0m\n\u001b[1;32m    496\u001b[0m                             \u001b[0;32mcontinue\u001b[0m\u001b[0;34m\u001b[0m\u001b[0;34m\u001b[0m\u001b[0m\n",
            "\u001b[0;32m/usr/local/lib/python3.10/dist-packages/tensorflow/python/autograph/core/converter.py\u001b[0m in \u001b[0;36mvisit\u001b[0;34m(self, node)\u001b[0m\n\u001b[1;32m    312\u001b[0m     \u001b[0mself\u001b[0m\u001b[0;34m.\u001b[0m\u001b[0m_ast_depth\u001b[0m \u001b[0;34m+=\u001b[0m \u001b[0;36m1\u001b[0m\u001b[0;34m\u001b[0m\u001b[0;34m\u001b[0m\u001b[0m\n\u001b[1;32m    313\u001b[0m     \u001b[0;32mtry\u001b[0m\u001b[0;34m:\u001b[0m\u001b[0;34m\u001b[0m\u001b[0;34m\u001b[0m\u001b[0m\n\u001b[0;32m--> 314\u001b[0;31m       \u001b[0;32mreturn\u001b[0m \u001b[0msuper\u001b[0m\u001b[0;34m(\u001b[0m\u001b[0mBase\u001b[0m\u001b[0;34m,\u001b[0m \u001b[0mself\u001b[0m\u001b[0;34m)\u001b[0m\u001b[0;34m.\u001b[0m\u001b[0mvisit\u001b[0m\u001b[0;34m(\u001b[0m\u001b[0mnode\u001b[0m\u001b[0;34m)\u001b[0m\u001b[0;34m\u001b[0m\u001b[0;34m\u001b[0m\u001b[0m\n\u001b[0m\u001b[1;32m    315\u001b[0m     \u001b[0;32mfinally\u001b[0m\u001b[0;34m:\u001b[0m\u001b[0;34m\u001b[0m\u001b[0;34m\u001b[0m\u001b[0m\n\u001b[1;32m    316\u001b[0m       \u001b[0mself\u001b[0m\u001b[0;34m.\u001b[0m\u001b[0m_ast_depth\u001b[0m \u001b[0;34m-=\u001b[0m \u001b[0;36m1\u001b[0m\u001b[0;34m\u001b[0m\u001b[0;34m\u001b[0m\u001b[0m\n",
            "\u001b[0;32m/usr/local/lib/python3.10/dist-packages/tensorflow/python/autograph/pyct/transformer.py\u001b[0m in \u001b[0;36mvisit\u001b[0;34m(self, node)\u001b[0m\n\u001b[1;32m    439\u001b[0m         \u001b[0mentry_expr_value\u001b[0m \u001b[0;34m=\u001b[0m \u001b[0mnode\u001b[0m\u001b[0;34m.\u001b[0m\u001b[0mvalue\u001b[0m\u001b[0;34m\u001b[0m\u001b[0;34m\u001b[0m\u001b[0m\n\u001b[1;32m    440\u001b[0m \u001b[0;34m\u001b[0m\u001b[0m\n\u001b[0;32m--> 441\u001b[0;31m       \u001b[0mresult\u001b[0m \u001b[0;34m=\u001b[0m \u001b[0msuper\u001b[0m\u001b[0;34m(\u001b[0m\u001b[0mBase\u001b[0m\u001b[0;34m,\u001b[0m \u001b[0mself\u001b[0m\u001b[0;34m)\u001b[0m\u001b[0;34m.\u001b[0m\u001b[0mvisit\u001b[0m\u001b[0;34m(\u001b[0m\u001b[0mnode\u001b[0m\u001b[0;34m)\u001b[0m\u001b[0;34m\u001b[0m\u001b[0;34m\u001b[0m\u001b[0m\n\u001b[0m\u001b[1;32m    442\u001b[0m \u001b[0;34m\u001b[0m\u001b[0m\n\u001b[1;32m    443\u001b[0m       \u001b[0;31m# Adjust for consistency: replacing the value of an Expr with\u001b[0m\u001b[0;34m\u001b[0m\u001b[0;34m\u001b[0m\u001b[0m\n",
            "\u001b[0;32m/usr/lib/python3.10/ast.py\u001b[0m in \u001b[0;36mvisit\u001b[0;34m(self, node)\u001b[0m\n\u001b[1;32m    416\u001b[0m         \u001b[0mmethod\u001b[0m \u001b[0;34m=\u001b[0m \u001b[0;34m'visit_'\u001b[0m \u001b[0;34m+\u001b[0m \u001b[0mnode\u001b[0m\u001b[0;34m.\u001b[0m\u001b[0m__class__\u001b[0m\u001b[0;34m.\u001b[0m\u001b[0m__name__\u001b[0m\u001b[0;34m\u001b[0m\u001b[0;34m\u001b[0m\u001b[0m\n\u001b[1;32m    417\u001b[0m         \u001b[0mvisitor\u001b[0m \u001b[0;34m=\u001b[0m \u001b[0mgetattr\u001b[0m\u001b[0;34m(\u001b[0m\u001b[0mself\u001b[0m\u001b[0;34m,\u001b[0m \u001b[0mmethod\u001b[0m\u001b[0;34m,\u001b[0m \u001b[0mself\u001b[0m\u001b[0;34m.\u001b[0m\u001b[0mgeneric_visit\u001b[0m\u001b[0;34m)\u001b[0m\u001b[0;34m\u001b[0m\u001b[0;34m\u001b[0m\u001b[0m\n\u001b[0;32m--> 418\u001b[0;31m         \u001b[0;32mreturn\u001b[0m \u001b[0mvisitor\u001b[0m\u001b[0;34m(\u001b[0m\u001b[0mnode\u001b[0m\u001b[0;34m)\u001b[0m\u001b[0;34m\u001b[0m\u001b[0;34m\u001b[0m\u001b[0m\n\u001b[0m\u001b[1;32m    419\u001b[0m \u001b[0;34m\u001b[0m\u001b[0m\n\u001b[1;32m    420\u001b[0m     \u001b[0;32mdef\u001b[0m \u001b[0mgeneric_visit\u001b[0m\u001b[0;34m(\u001b[0m\u001b[0mself\u001b[0m\u001b[0;34m,\u001b[0m \u001b[0mnode\u001b[0m\u001b[0;34m)\u001b[0m\u001b[0;34m:\u001b[0m\u001b[0;34m\u001b[0m\u001b[0;34m\u001b[0m\u001b[0m\n",
            "\u001b[0;32m/usr/lib/python3.10/ast.py\u001b[0m in \u001b[0;36mgeneric_visit\u001b[0;34m(self, node)\u001b[0m\n\u001b[1;32m    492\u001b[0m                 \u001b[0;32mfor\u001b[0m \u001b[0mvalue\u001b[0m \u001b[0;32min\u001b[0m \u001b[0mold_value\u001b[0m\u001b[0;34m:\u001b[0m\u001b[0;34m\u001b[0m\u001b[0;34m\u001b[0m\u001b[0m\n\u001b[1;32m    493\u001b[0m                     \u001b[0;32mif\u001b[0m \u001b[0misinstance\u001b[0m\u001b[0;34m(\u001b[0m\u001b[0mvalue\u001b[0m\u001b[0;34m,\u001b[0m \u001b[0mAST\u001b[0m\u001b[0;34m)\u001b[0m\u001b[0;34m:\u001b[0m\u001b[0;34m\u001b[0m\u001b[0;34m\u001b[0m\u001b[0m\n\u001b[0;32m--> 494\u001b[0;31m                         \u001b[0mvalue\u001b[0m \u001b[0;34m=\u001b[0m \u001b[0mself\u001b[0m\u001b[0;34m.\u001b[0m\u001b[0mvisit\u001b[0m\u001b[0;34m(\u001b[0m\u001b[0mvalue\u001b[0m\u001b[0;34m)\u001b[0m\u001b[0;34m\u001b[0m\u001b[0;34m\u001b[0m\u001b[0m\n\u001b[0m\u001b[1;32m    495\u001b[0m                         \u001b[0;32mif\u001b[0m \u001b[0mvalue\u001b[0m \u001b[0;32mis\u001b[0m \u001b[0;32mNone\u001b[0m\u001b[0;34m:\u001b[0m\u001b[0;34m\u001b[0m\u001b[0;34m\u001b[0m\u001b[0m\n\u001b[1;32m    496\u001b[0m                             \u001b[0;32mcontinue\u001b[0m\u001b[0;34m\u001b[0m\u001b[0;34m\u001b[0m\u001b[0m\n",
            "\u001b[0;32m/usr/local/lib/python3.10/dist-packages/tensorflow/python/autograph/core/converter.py\u001b[0m in \u001b[0;36mvisit\u001b[0;34m(self, node)\u001b[0m\n\u001b[1;32m    312\u001b[0m     \u001b[0mself\u001b[0m\u001b[0;34m.\u001b[0m\u001b[0m_ast_depth\u001b[0m \u001b[0;34m+=\u001b[0m \u001b[0;36m1\u001b[0m\u001b[0;34m\u001b[0m\u001b[0;34m\u001b[0m\u001b[0m\n\u001b[1;32m    313\u001b[0m     \u001b[0;32mtry\u001b[0m\u001b[0;34m:\u001b[0m\u001b[0;34m\u001b[0m\u001b[0;34m\u001b[0m\u001b[0m\n\u001b[0;32m--> 314\u001b[0;31m       \u001b[0;32mreturn\u001b[0m \u001b[0msuper\u001b[0m\u001b[0;34m(\u001b[0m\u001b[0mBase\u001b[0m\u001b[0;34m,\u001b[0m \u001b[0mself\u001b[0m\u001b[0;34m)\u001b[0m\u001b[0;34m.\u001b[0m\u001b[0mvisit\u001b[0m\u001b[0;34m(\u001b[0m\u001b[0mnode\u001b[0m\u001b[0;34m)\u001b[0m\u001b[0;34m\u001b[0m\u001b[0;34m\u001b[0m\u001b[0m\n\u001b[0m\u001b[1;32m    315\u001b[0m     \u001b[0;32mfinally\u001b[0m\u001b[0;34m:\u001b[0m\u001b[0;34m\u001b[0m\u001b[0;34m\u001b[0m\u001b[0m\n\u001b[1;32m    316\u001b[0m       \u001b[0mself\u001b[0m\u001b[0;34m.\u001b[0m\u001b[0m_ast_depth\u001b[0m \u001b[0;34m-=\u001b[0m \u001b[0;36m1\u001b[0m\u001b[0;34m\u001b[0m\u001b[0;34m\u001b[0m\u001b[0m\n",
            "\u001b[0;32m/usr/local/lib/python3.10/dist-packages/tensorflow/python/autograph/pyct/transformer.py\u001b[0m in \u001b[0;36mvisit\u001b[0;34m(self, node)\u001b[0m\n\u001b[1;32m    439\u001b[0m         \u001b[0mentry_expr_value\u001b[0m \u001b[0;34m=\u001b[0m \u001b[0mnode\u001b[0m\u001b[0;34m.\u001b[0m\u001b[0mvalue\u001b[0m\u001b[0;34m\u001b[0m\u001b[0;34m\u001b[0m\u001b[0m\n\u001b[1;32m    440\u001b[0m \u001b[0;34m\u001b[0m\u001b[0m\n\u001b[0;32m--> 441\u001b[0;31m       \u001b[0mresult\u001b[0m \u001b[0;34m=\u001b[0m \u001b[0msuper\u001b[0m\u001b[0;34m(\u001b[0m\u001b[0mBase\u001b[0m\u001b[0;34m,\u001b[0m \u001b[0mself\u001b[0m\u001b[0;34m)\u001b[0m\u001b[0;34m.\u001b[0m\u001b[0mvisit\u001b[0m\u001b[0;34m(\u001b[0m\u001b[0mnode\u001b[0m\u001b[0;34m)\u001b[0m\u001b[0;34m\u001b[0m\u001b[0;34m\u001b[0m\u001b[0m\n\u001b[0m\u001b[1;32m    442\u001b[0m \u001b[0;34m\u001b[0m\u001b[0m\n\u001b[1;32m    443\u001b[0m       \u001b[0;31m# Adjust for consistency: replacing the value of an Expr with\u001b[0m\u001b[0;34m\u001b[0m\u001b[0;34m\u001b[0m\u001b[0m\n",
            "\u001b[0;32m/usr/lib/python3.10/ast.py\u001b[0m in \u001b[0;36mvisit\u001b[0;34m(self, node)\u001b[0m\n\u001b[1;32m    416\u001b[0m         \u001b[0mmethod\u001b[0m \u001b[0;34m=\u001b[0m \u001b[0;34m'visit_'\u001b[0m \u001b[0;34m+\u001b[0m \u001b[0mnode\u001b[0m\u001b[0;34m.\u001b[0m\u001b[0m__class__\u001b[0m\u001b[0;34m.\u001b[0m\u001b[0m__name__\u001b[0m\u001b[0;34m\u001b[0m\u001b[0;34m\u001b[0m\u001b[0m\n\u001b[1;32m    417\u001b[0m         \u001b[0mvisitor\u001b[0m \u001b[0;34m=\u001b[0m \u001b[0mgetattr\u001b[0m\u001b[0;34m(\u001b[0m\u001b[0mself\u001b[0m\u001b[0;34m,\u001b[0m \u001b[0mmethod\u001b[0m\u001b[0;34m,\u001b[0m \u001b[0mself\u001b[0m\u001b[0;34m.\u001b[0m\u001b[0mgeneric_visit\u001b[0m\u001b[0;34m)\u001b[0m\u001b[0;34m\u001b[0m\u001b[0;34m\u001b[0m\u001b[0m\n\u001b[0;32m--> 418\u001b[0;31m         \u001b[0;32mreturn\u001b[0m \u001b[0mvisitor\u001b[0m\u001b[0;34m(\u001b[0m\u001b[0mnode\u001b[0m\u001b[0;34m)\u001b[0m\u001b[0;34m\u001b[0m\u001b[0;34m\u001b[0m\u001b[0m\n\u001b[0m\u001b[1;32m    419\u001b[0m \u001b[0;34m\u001b[0m\u001b[0m\n\u001b[1;32m    420\u001b[0m     \u001b[0;32mdef\u001b[0m \u001b[0mgeneric_visit\u001b[0m\u001b[0;34m(\u001b[0m\u001b[0mself\u001b[0m\u001b[0;34m,\u001b[0m \u001b[0mnode\u001b[0m\u001b[0;34m)\u001b[0m\u001b[0;34m:\u001b[0m\u001b[0;34m\u001b[0m\u001b[0;34m\u001b[0m\u001b[0m\n",
            "\u001b[0;32m/usr/lib/python3.10/ast.py\u001b[0m in \u001b[0;36mgeneric_visit\u001b[0;34m(self, node)\u001b[0m\n\u001b[1;32m    492\u001b[0m                 \u001b[0;32mfor\u001b[0m \u001b[0mvalue\u001b[0m \u001b[0;32min\u001b[0m \u001b[0mold_value\u001b[0m\u001b[0;34m:\u001b[0m\u001b[0;34m\u001b[0m\u001b[0;34m\u001b[0m\u001b[0m\n\u001b[1;32m    493\u001b[0m                     \u001b[0;32mif\u001b[0m \u001b[0misinstance\u001b[0m\u001b[0;34m(\u001b[0m\u001b[0mvalue\u001b[0m\u001b[0;34m,\u001b[0m \u001b[0mAST\u001b[0m\u001b[0;34m)\u001b[0m\u001b[0;34m:\u001b[0m\u001b[0;34m\u001b[0m\u001b[0;34m\u001b[0m\u001b[0m\n\u001b[0;32m--> 494\u001b[0;31m                         \u001b[0mvalue\u001b[0m \u001b[0;34m=\u001b[0m \u001b[0mself\u001b[0m\u001b[0;34m.\u001b[0m\u001b[0mvisit\u001b[0m\u001b[0;34m(\u001b[0m\u001b[0mvalue\u001b[0m\u001b[0;34m)\u001b[0m\u001b[0;34m\u001b[0m\u001b[0;34m\u001b[0m\u001b[0m\n\u001b[0m\u001b[1;32m    495\u001b[0m                         \u001b[0;32mif\u001b[0m \u001b[0mvalue\u001b[0m \u001b[0;32mis\u001b[0m \u001b[0;32mNone\u001b[0m\u001b[0;34m:\u001b[0m\u001b[0;34m\u001b[0m\u001b[0;34m\u001b[0m\u001b[0m\n\u001b[1;32m    496\u001b[0m                             \u001b[0;32mcontinue\u001b[0m\u001b[0;34m\u001b[0m\u001b[0;34m\u001b[0m\u001b[0m\n",
            "\u001b[0;32m/usr/local/lib/python3.10/dist-packages/tensorflow/python/autograph/core/converter.py\u001b[0m in \u001b[0;36mvisit\u001b[0;34m(self, node)\u001b[0m\n\u001b[1;32m    312\u001b[0m     \u001b[0mself\u001b[0m\u001b[0;34m.\u001b[0m\u001b[0m_ast_depth\u001b[0m \u001b[0;34m+=\u001b[0m \u001b[0;36m1\u001b[0m\u001b[0;34m\u001b[0m\u001b[0;34m\u001b[0m\u001b[0m\n\u001b[1;32m    313\u001b[0m     \u001b[0;32mtry\u001b[0m\u001b[0;34m:\u001b[0m\u001b[0;34m\u001b[0m\u001b[0;34m\u001b[0m\u001b[0m\n\u001b[0;32m--> 314\u001b[0;31m       \u001b[0;32mreturn\u001b[0m \u001b[0msuper\u001b[0m\u001b[0;34m(\u001b[0m\u001b[0mBase\u001b[0m\u001b[0;34m,\u001b[0m \u001b[0mself\u001b[0m\u001b[0;34m)\u001b[0m\u001b[0;34m.\u001b[0m\u001b[0mvisit\u001b[0m\u001b[0;34m(\u001b[0m\u001b[0mnode\u001b[0m\u001b[0;34m)\u001b[0m\u001b[0;34m\u001b[0m\u001b[0;34m\u001b[0m\u001b[0m\n\u001b[0m\u001b[1;32m    315\u001b[0m     \u001b[0;32mfinally\u001b[0m\u001b[0;34m:\u001b[0m\u001b[0;34m\u001b[0m\u001b[0;34m\u001b[0m\u001b[0m\n\u001b[1;32m    316\u001b[0m       \u001b[0mself\u001b[0m\u001b[0;34m.\u001b[0m\u001b[0m_ast_depth\u001b[0m \u001b[0;34m-=\u001b[0m \u001b[0;36m1\u001b[0m\u001b[0;34m\u001b[0m\u001b[0;34m\u001b[0m\u001b[0m\n",
            "\u001b[0;32m/usr/local/lib/python3.10/dist-packages/tensorflow/python/autograph/pyct/transformer.py\u001b[0m in \u001b[0;36mvisit\u001b[0;34m(self, node)\u001b[0m\n\u001b[1;32m    439\u001b[0m         \u001b[0mentry_expr_value\u001b[0m \u001b[0;34m=\u001b[0m \u001b[0mnode\u001b[0m\u001b[0;34m.\u001b[0m\u001b[0mvalue\u001b[0m\u001b[0;34m\u001b[0m\u001b[0;34m\u001b[0m\u001b[0m\n\u001b[1;32m    440\u001b[0m \u001b[0;34m\u001b[0m\u001b[0m\n\u001b[0;32m--> 441\u001b[0;31m       \u001b[0mresult\u001b[0m \u001b[0;34m=\u001b[0m \u001b[0msuper\u001b[0m\u001b[0;34m(\u001b[0m\u001b[0mBase\u001b[0m\u001b[0;34m,\u001b[0m \u001b[0mself\u001b[0m\u001b[0;34m)\u001b[0m\u001b[0;34m.\u001b[0m\u001b[0mvisit\u001b[0m\u001b[0;34m(\u001b[0m\u001b[0mnode\u001b[0m\u001b[0;34m)\u001b[0m\u001b[0;34m\u001b[0m\u001b[0;34m\u001b[0m\u001b[0m\n\u001b[0m\u001b[1;32m    442\u001b[0m \u001b[0;34m\u001b[0m\u001b[0m\n\u001b[1;32m    443\u001b[0m       \u001b[0;31m# Adjust for consistency: replacing the value of an Expr with\u001b[0m\u001b[0;34m\u001b[0m\u001b[0;34m\u001b[0m\u001b[0m\n",
            "\u001b[0;32m/usr/lib/python3.10/ast.py\u001b[0m in \u001b[0;36mvisit\u001b[0;34m(self, node)\u001b[0m\n\u001b[1;32m    416\u001b[0m         \u001b[0mmethod\u001b[0m \u001b[0;34m=\u001b[0m \u001b[0;34m'visit_'\u001b[0m \u001b[0;34m+\u001b[0m \u001b[0mnode\u001b[0m\u001b[0;34m.\u001b[0m\u001b[0m__class__\u001b[0m\u001b[0;34m.\u001b[0m\u001b[0m__name__\u001b[0m\u001b[0;34m\u001b[0m\u001b[0;34m\u001b[0m\u001b[0m\n\u001b[1;32m    417\u001b[0m         \u001b[0mvisitor\u001b[0m \u001b[0;34m=\u001b[0m \u001b[0mgetattr\u001b[0m\u001b[0;34m(\u001b[0m\u001b[0mself\u001b[0m\u001b[0;34m,\u001b[0m \u001b[0mmethod\u001b[0m\u001b[0;34m,\u001b[0m \u001b[0mself\u001b[0m\u001b[0;34m.\u001b[0m\u001b[0mgeneric_visit\u001b[0m\u001b[0;34m)\u001b[0m\u001b[0;34m\u001b[0m\u001b[0;34m\u001b[0m\u001b[0m\n\u001b[0;32m--> 418\u001b[0;31m         \u001b[0;32mreturn\u001b[0m \u001b[0mvisitor\u001b[0m\u001b[0;34m(\u001b[0m\u001b[0mnode\u001b[0m\u001b[0;34m)\u001b[0m\u001b[0;34m\u001b[0m\u001b[0;34m\u001b[0m\u001b[0m\n\u001b[0m\u001b[1;32m    419\u001b[0m \u001b[0;34m\u001b[0m\u001b[0m\n\u001b[1;32m    420\u001b[0m     \u001b[0;32mdef\u001b[0m \u001b[0mgeneric_visit\u001b[0m\u001b[0;34m(\u001b[0m\u001b[0mself\u001b[0m\u001b[0;34m,\u001b[0m \u001b[0mnode\u001b[0m\u001b[0;34m)\u001b[0m\u001b[0;34m:\u001b[0m\u001b[0;34m\u001b[0m\u001b[0;34m\u001b[0m\u001b[0m\n",
            "\u001b[0;32m/usr/lib/python3.10/ast.py\u001b[0m in \u001b[0;36mgeneric_visit\u001b[0;34m(self, node)\u001b[0m\n\u001b[1;32m    501\u001b[0m                 \u001b[0mold_value\u001b[0m\u001b[0;34m[\u001b[0m\u001b[0;34m:\u001b[0m\u001b[0;34m]\u001b[0m \u001b[0;34m=\u001b[0m \u001b[0mnew_values\u001b[0m\u001b[0;34m\u001b[0m\u001b[0;34m\u001b[0m\u001b[0m\n\u001b[1;32m    502\u001b[0m             \u001b[0;32melif\u001b[0m \u001b[0misinstance\u001b[0m\u001b[0;34m(\u001b[0m\u001b[0mold_value\u001b[0m\u001b[0;34m,\u001b[0m \u001b[0mAST\u001b[0m\u001b[0;34m)\u001b[0m\u001b[0;34m:\u001b[0m\u001b[0;34m\u001b[0m\u001b[0;34m\u001b[0m\u001b[0m\n\u001b[0;32m--> 503\u001b[0;31m                 \u001b[0mnew_node\u001b[0m \u001b[0;34m=\u001b[0m \u001b[0mself\u001b[0m\u001b[0;34m.\u001b[0m\u001b[0mvisit\u001b[0m\u001b[0;34m(\u001b[0m\u001b[0mold_value\u001b[0m\u001b[0;34m)\u001b[0m\u001b[0;34m\u001b[0m\u001b[0;34m\u001b[0m\u001b[0m\n\u001b[0m\u001b[1;32m    504\u001b[0m                 \u001b[0;32mif\u001b[0m \u001b[0mnew_node\u001b[0m \u001b[0;32mis\u001b[0m \u001b[0;32mNone\u001b[0m\u001b[0;34m:\u001b[0m\u001b[0;34m\u001b[0m\u001b[0;34m\u001b[0m\u001b[0m\n\u001b[1;32m    505\u001b[0m                     \u001b[0mdelattr\u001b[0m\u001b[0;34m(\u001b[0m\u001b[0mnode\u001b[0m\u001b[0;34m,\u001b[0m \u001b[0mfield\u001b[0m\u001b[0;34m)\u001b[0m\u001b[0;34m\u001b[0m\u001b[0;34m\u001b[0m\u001b[0m\n",
            "\u001b[0;32m/usr/local/lib/python3.10/dist-packages/tensorflow/python/autograph/core/converter.py\u001b[0m in \u001b[0;36mvisit\u001b[0;34m(self, node)\u001b[0m\n\u001b[1;32m    312\u001b[0m     \u001b[0mself\u001b[0m\u001b[0;34m.\u001b[0m\u001b[0m_ast_depth\u001b[0m \u001b[0;34m+=\u001b[0m \u001b[0;36m1\u001b[0m\u001b[0;34m\u001b[0m\u001b[0;34m\u001b[0m\u001b[0m\n\u001b[1;32m    313\u001b[0m     \u001b[0;32mtry\u001b[0m\u001b[0;34m:\u001b[0m\u001b[0;34m\u001b[0m\u001b[0;34m\u001b[0m\u001b[0m\n\u001b[0;32m--> 314\u001b[0;31m       \u001b[0;32mreturn\u001b[0m \u001b[0msuper\u001b[0m\u001b[0;34m(\u001b[0m\u001b[0mBase\u001b[0m\u001b[0;34m,\u001b[0m \u001b[0mself\u001b[0m\u001b[0;34m)\u001b[0m\u001b[0;34m.\u001b[0m\u001b[0mvisit\u001b[0m\u001b[0;34m(\u001b[0m\u001b[0mnode\u001b[0m\u001b[0;34m)\u001b[0m\u001b[0;34m\u001b[0m\u001b[0;34m\u001b[0m\u001b[0m\n\u001b[0m\u001b[1;32m    315\u001b[0m     \u001b[0;32mfinally\u001b[0m\u001b[0;34m:\u001b[0m\u001b[0;34m\u001b[0m\u001b[0;34m\u001b[0m\u001b[0m\n\u001b[1;32m    316\u001b[0m       \u001b[0mself\u001b[0m\u001b[0;34m.\u001b[0m\u001b[0m_ast_depth\u001b[0m \u001b[0;34m-=\u001b[0m \u001b[0;36m1\u001b[0m\u001b[0;34m\u001b[0m\u001b[0;34m\u001b[0m\u001b[0m\n",
            "\u001b[0;32m/usr/local/lib/python3.10/dist-packages/tensorflow/python/autograph/pyct/transformer.py\u001b[0m in \u001b[0;36mvisit\u001b[0;34m(self, node)\u001b[0m\n\u001b[1;32m    439\u001b[0m         \u001b[0mentry_expr_value\u001b[0m \u001b[0;34m=\u001b[0m \u001b[0mnode\u001b[0m\u001b[0;34m.\u001b[0m\u001b[0mvalue\u001b[0m\u001b[0;34m\u001b[0m\u001b[0;34m\u001b[0m\u001b[0m\n\u001b[1;32m    440\u001b[0m \u001b[0;34m\u001b[0m\u001b[0m\n\u001b[0;32m--> 441\u001b[0;31m       \u001b[0mresult\u001b[0m \u001b[0;34m=\u001b[0m \u001b[0msuper\u001b[0m\u001b[0;34m(\u001b[0m\u001b[0mBase\u001b[0m\u001b[0;34m,\u001b[0m \u001b[0mself\u001b[0m\u001b[0;34m)\u001b[0m\u001b[0;34m.\u001b[0m\u001b[0mvisit\u001b[0m\u001b[0;34m(\u001b[0m\u001b[0mnode\u001b[0m\u001b[0;34m)\u001b[0m\u001b[0;34m\u001b[0m\u001b[0;34m\u001b[0m\u001b[0m\n\u001b[0m\u001b[1;32m    442\u001b[0m \u001b[0;34m\u001b[0m\u001b[0m\n\u001b[1;32m    443\u001b[0m       \u001b[0;31m# Adjust for consistency: replacing the value of an Expr with\u001b[0m\u001b[0;34m\u001b[0m\u001b[0;34m\u001b[0m\u001b[0m\n",
            "\u001b[0;32m/usr/lib/python3.10/ast.py\u001b[0m in \u001b[0;36mvisit\u001b[0;34m(self, node)\u001b[0m\n\u001b[1;32m    416\u001b[0m         \u001b[0mmethod\u001b[0m \u001b[0;34m=\u001b[0m \u001b[0;34m'visit_'\u001b[0m \u001b[0;34m+\u001b[0m \u001b[0mnode\u001b[0m\u001b[0;34m.\u001b[0m\u001b[0m__class__\u001b[0m\u001b[0;34m.\u001b[0m\u001b[0m__name__\u001b[0m\u001b[0;34m\u001b[0m\u001b[0;34m\u001b[0m\u001b[0m\n\u001b[1;32m    417\u001b[0m         \u001b[0mvisitor\u001b[0m \u001b[0;34m=\u001b[0m \u001b[0mgetattr\u001b[0m\u001b[0;34m(\u001b[0m\u001b[0mself\u001b[0m\u001b[0;34m,\u001b[0m \u001b[0mmethod\u001b[0m\u001b[0;34m,\u001b[0m \u001b[0mself\u001b[0m\u001b[0;34m.\u001b[0m\u001b[0mgeneric_visit\u001b[0m\u001b[0;34m)\u001b[0m\u001b[0;34m\u001b[0m\u001b[0;34m\u001b[0m\u001b[0m\n\u001b[0;32m--> 418\u001b[0;31m         \u001b[0;32mreturn\u001b[0m \u001b[0mvisitor\u001b[0m\u001b[0;34m(\u001b[0m\u001b[0mnode\u001b[0m\u001b[0;34m)\u001b[0m\u001b[0;34m\u001b[0m\u001b[0;34m\u001b[0m\u001b[0m\n\u001b[0m\u001b[1;32m    419\u001b[0m \u001b[0;34m\u001b[0m\u001b[0m\n\u001b[1;32m    420\u001b[0m     \u001b[0;32mdef\u001b[0m \u001b[0mgeneric_visit\u001b[0m\u001b[0;34m(\u001b[0m\u001b[0mself\u001b[0m\u001b[0;34m,\u001b[0m \u001b[0mnode\u001b[0m\u001b[0;34m)\u001b[0m\u001b[0;34m:\u001b[0m\u001b[0;34m\u001b[0m\u001b[0;34m\u001b[0m\u001b[0m\n",
            "\u001b[0;32m/usr/lib/python3.10/ast.py\u001b[0m in \u001b[0;36mgeneric_visit\u001b[0;34m(self, node)\u001b[0m\n\u001b[1;32m    492\u001b[0m                 \u001b[0;32mfor\u001b[0m \u001b[0mvalue\u001b[0m \u001b[0;32min\u001b[0m \u001b[0mold_value\u001b[0m\u001b[0;34m:\u001b[0m\u001b[0;34m\u001b[0m\u001b[0;34m\u001b[0m\u001b[0m\n\u001b[1;32m    493\u001b[0m                     \u001b[0;32mif\u001b[0m \u001b[0misinstance\u001b[0m\u001b[0;34m(\u001b[0m\u001b[0mvalue\u001b[0m\u001b[0;34m,\u001b[0m \u001b[0mAST\u001b[0m\u001b[0;34m)\u001b[0m\u001b[0;34m:\u001b[0m\u001b[0;34m\u001b[0m\u001b[0;34m\u001b[0m\u001b[0m\n\u001b[0;32m--> 494\u001b[0;31m                         \u001b[0mvalue\u001b[0m \u001b[0;34m=\u001b[0m \u001b[0mself\u001b[0m\u001b[0;34m.\u001b[0m\u001b[0mvisit\u001b[0m\u001b[0;34m(\u001b[0m\u001b[0mvalue\u001b[0m\u001b[0;34m)\u001b[0m\u001b[0;34m\u001b[0m\u001b[0;34m\u001b[0m\u001b[0m\n\u001b[0m\u001b[1;32m    495\u001b[0m                         \u001b[0;32mif\u001b[0m \u001b[0mvalue\u001b[0m \u001b[0;32mis\u001b[0m \u001b[0;32mNone\u001b[0m\u001b[0;34m:\u001b[0m\u001b[0;34m\u001b[0m\u001b[0;34m\u001b[0m\u001b[0m\n\u001b[1;32m    496\u001b[0m                             \u001b[0;32mcontinue\u001b[0m\u001b[0;34m\u001b[0m\u001b[0;34m\u001b[0m\u001b[0m\n",
            "\u001b[0;32m/usr/local/lib/python3.10/dist-packages/tensorflow/python/autograph/core/converter.py\u001b[0m in \u001b[0;36mvisit\u001b[0;34m(self, node)\u001b[0m\n\u001b[1;32m    312\u001b[0m     \u001b[0mself\u001b[0m\u001b[0;34m.\u001b[0m\u001b[0m_ast_depth\u001b[0m \u001b[0;34m+=\u001b[0m \u001b[0;36m1\u001b[0m\u001b[0;34m\u001b[0m\u001b[0;34m\u001b[0m\u001b[0m\n\u001b[1;32m    313\u001b[0m     \u001b[0;32mtry\u001b[0m\u001b[0;34m:\u001b[0m\u001b[0;34m\u001b[0m\u001b[0;34m\u001b[0m\u001b[0m\n\u001b[0;32m--> 314\u001b[0;31m       \u001b[0;32mreturn\u001b[0m \u001b[0msuper\u001b[0m\u001b[0;34m(\u001b[0m\u001b[0mBase\u001b[0m\u001b[0;34m,\u001b[0m \u001b[0mself\u001b[0m\u001b[0;34m)\u001b[0m\u001b[0;34m.\u001b[0m\u001b[0mvisit\u001b[0m\u001b[0;34m(\u001b[0m\u001b[0mnode\u001b[0m\u001b[0;34m)\u001b[0m\u001b[0;34m\u001b[0m\u001b[0;34m\u001b[0m\u001b[0m\n\u001b[0m\u001b[1;32m    315\u001b[0m     \u001b[0;32mfinally\u001b[0m\u001b[0;34m:\u001b[0m\u001b[0;34m\u001b[0m\u001b[0;34m\u001b[0m\u001b[0m\n\u001b[1;32m    316\u001b[0m       \u001b[0mself\u001b[0m\u001b[0;34m.\u001b[0m\u001b[0m_ast_depth\u001b[0m \u001b[0;34m-=\u001b[0m \u001b[0;36m1\u001b[0m\u001b[0;34m\u001b[0m\u001b[0;34m\u001b[0m\u001b[0m\n",
            "\u001b[0;32m/usr/local/lib/python3.10/dist-packages/tensorflow/python/autograph/pyct/transformer.py\u001b[0m in \u001b[0;36mvisit\u001b[0;34m(self, node)\u001b[0m\n\u001b[1;32m    439\u001b[0m         \u001b[0mentry_expr_value\u001b[0m \u001b[0;34m=\u001b[0m \u001b[0mnode\u001b[0m\u001b[0;34m.\u001b[0m\u001b[0mvalue\u001b[0m\u001b[0;34m\u001b[0m\u001b[0;34m\u001b[0m\u001b[0m\n\u001b[1;32m    440\u001b[0m \u001b[0;34m\u001b[0m\u001b[0m\n\u001b[0;32m--> 441\u001b[0;31m       \u001b[0mresult\u001b[0m \u001b[0;34m=\u001b[0m \u001b[0msuper\u001b[0m\u001b[0;34m(\u001b[0m\u001b[0mBase\u001b[0m\u001b[0;34m,\u001b[0m \u001b[0mself\u001b[0m\u001b[0;34m)\u001b[0m\u001b[0;34m.\u001b[0m\u001b[0mvisit\u001b[0m\u001b[0;34m(\u001b[0m\u001b[0mnode\u001b[0m\u001b[0;34m)\u001b[0m\u001b[0;34m\u001b[0m\u001b[0;34m\u001b[0m\u001b[0m\n\u001b[0m\u001b[1;32m    442\u001b[0m \u001b[0;34m\u001b[0m\u001b[0m\n\u001b[1;32m    443\u001b[0m       \u001b[0;31m# Adjust for consistency: replacing the value of an Expr with\u001b[0m\u001b[0;34m\u001b[0m\u001b[0;34m\u001b[0m\u001b[0m\n",
            "\u001b[0;32m/usr/lib/python3.10/ast.py\u001b[0m in \u001b[0;36mvisit\u001b[0;34m(self, node)\u001b[0m\n\u001b[1;32m    416\u001b[0m         \u001b[0mmethod\u001b[0m \u001b[0;34m=\u001b[0m \u001b[0;34m'visit_'\u001b[0m \u001b[0;34m+\u001b[0m \u001b[0mnode\u001b[0m\u001b[0;34m.\u001b[0m\u001b[0m__class__\u001b[0m\u001b[0;34m.\u001b[0m\u001b[0m__name__\u001b[0m\u001b[0;34m\u001b[0m\u001b[0;34m\u001b[0m\u001b[0m\n\u001b[1;32m    417\u001b[0m         \u001b[0mvisitor\u001b[0m \u001b[0;34m=\u001b[0m \u001b[0mgetattr\u001b[0m\u001b[0;34m(\u001b[0m\u001b[0mself\u001b[0m\u001b[0;34m,\u001b[0m \u001b[0mmethod\u001b[0m\u001b[0;34m,\u001b[0m \u001b[0mself\u001b[0m\u001b[0;34m.\u001b[0m\u001b[0mgeneric_visit\u001b[0m\u001b[0;34m)\u001b[0m\u001b[0;34m\u001b[0m\u001b[0;34m\u001b[0m\u001b[0m\n\u001b[0;32m--> 418\u001b[0;31m         \u001b[0;32mreturn\u001b[0m \u001b[0mvisitor\u001b[0m\u001b[0;34m(\u001b[0m\u001b[0mnode\u001b[0m\u001b[0;34m)\u001b[0m\u001b[0;34m\u001b[0m\u001b[0;34m\u001b[0m\u001b[0m\n\u001b[0m\u001b[1;32m    419\u001b[0m \u001b[0;34m\u001b[0m\u001b[0m\n\u001b[1;32m    420\u001b[0m     \u001b[0;32mdef\u001b[0m \u001b[0mgeneric_visit\u001b[0m\u001b[0;34m(\u001b[0m\u001b[0mself\u001b[0m\u001b[0;34m,\u001b[0m \u001b[0mnode\u001b[0m\u001b[0;34m)\u001b[0m\u001b[0;34m:\u001b[0m\u001b[0;34m\u001b[0m\u001b[0;34m\u001b[0m\u001b[0m\n",
            "\u001b[0;32m/usr/local/lib/python3.10/dist-packages/tensorflow/python/autograph/converters/logical_expressions.py\u001b[0m in \u001b[0;36mvisit_Compare\u001b[0;34m(self, node)\u001b[0m\n\u001b[1;32m     84\u001b[0m \u001b[0;34m\u001b[0m\u001b[0m\n\u001b[1;32m     85\u001b[0m   \u001b[0;32mdef\u001b[0m \u001b[0mvisit_Compare\u001b[0m\u001b[0;34m(\u001b[0m\u001b[0mself\u001b[0m\u001b[0;34m,\u001b[0m \u001b[0mnode\u001b[0m\u001b[0;34m)\u001b[0m\u001b[0;34m:\u001b[0m\u001b[0;34m\u001b[0m\u001b[0;34m\u001b[0m\u001b[0m\n\u001b[0;32m---> 86\u001b[0;31m     \u001b[0mnode\u001b[0m \u001b[0;34m=\u001b[0m \u001b[0mself\u001b[0m\u001b[0;34m.\u001b[0m\u001b[0mgeneric_visit\u001b[0m\u001b[0;34m(\u001b[0m\u001b[0mnode\u001b[0m\u001b[0;34m)\u001b[0m\u001b[0;34m\u001b[0m\u001b[0;34m\u001b[0m\u001b[0m\n\u001b[0m\u001b[1;32m     87\u001b[0m \u001b[0;34m\u001b[0m\u001b[0m\n\u001b[1;32m     88\u001b[0m     \u001b[0mops_and_comps\u001b[0m \u001b[0;34m=\u001b[0m \u001b[0mlist\u001b[0m\u001b[0;34m(\u001b[0m\u001b[0mzip\u001b[0m\u001b[0;34m(\u001b[0m\u001b[0mnode\u001b[0m\u001b[0;34m.\u001b[0m\u001b[0mops\u001b[0m\u001b[0;34m,\u001b[0m \u001b[0mnode\u001b[0m\u001b[0;34m.\u001b[0m\u001b[0mcomparators\u001b[0m\u001b[0;34m)\u001b[0m\u001b[0;34m)\u001b[0m\u001b[0;34m\u001b[0m\u001b[0;34m\u001b[0m\u001b[0m\n",
            "\u001b[0;32m/usr/lib/python3.10/ast.py\u001b[0m in \u001b[0;36mgeneric_visit\u001b[0;34m(self, node)\u001b[0m\n\u001b[1;32m    492\u001b[0m                 \u001b[0;32mfor\u001b[0m \u001b[0mvalue\u001b[0m \u001b[0;32min\u001b[0m \u001b[0mold_value\u001b[0m\u001b[0;34m:\u001b[0m\u001b[0;34m\u001b[0m\u001b[0;34m\u001b[0m\u001b[0m\n\u001b[1;32m    493\u001b[0m                     \u001b[0;32mif\u001b[0m \u001b[0misinstance\u001b[0m\u001b[0;34m(\u001b[0m\u001b[0mvalue\u001b[0m\u001b[0;34m,\u001b[0m \u001b[0mAST\u001b[0m\u001b[0;34m)\u001b[0m\u001b[0;34m:\u001b[0m\u001b[0;34m\u001b[0m\u001b[0;34m\u001b[0m\u001b[0m\n\u001b[0;32m--> 494\u001b[0;31m                         \u001b[0mvalue\u001b[0m \u001b[0;34m=\u001b[0m \u001b[0mself\u001b[0m\u001b[0;34m.\u001b[0m\u001b[0mvisit\u001b[0m\u001b[0;34m(\u001b[0m\u001b[0mvalue\u001b[0m\u001b[0;34m)\u001b[0m\u001b[0;34m\u001b[0m\u001b[0;34m\u001b[0m\u001b[0m\n\u001b[0m\u001b[1;32m    495\u001b[0m                         \u001b[0;32mif\u001b[0m \u001b[0mvalue\u001b[0m \u001b[0;32mis\u001b[0m \u001b[0;32mNone\u001b[0m\u001b[0;34m:\u001b[0m\u001b[0;34m\u001b[0m\u001b[0;34m\u001b[0m\u001b[0m\n\u001b[1;32m    496\u001b[0m                             \u001b[0;32mcontinue\u001b[0m\u001b[0;34m\u001b[0m\u001b[0;34m\u001b[0m\u001b[0m\n",
            "\u001b[0;32m/usr/local/lib/python3.10/dist-packages/tensorflow/python/autograph/core/converter.py\u001b[0m in \u001b[0;36mvisit\u001b[0;34m(self, node)\u001b[0m\n\u001b[1;32m    312\u001b[0m     \u001b[0mself\u001b[0m\u001b[0;34m.\u001b[0m\u001b[0m_ast_depth\u001b[0m \u001b[0;34m+=\u001b[0m \u001b[0;36m1\u001b[0m\u001b[0;34m\u001b[0m\u001b[0;34m\u001b[0m\u001b[0m\n\u001b[1;32m    313\u001b[0m     \u001b[0;32mtry\u001b[0m\u001b[0;34m:\u001b[0m\u001b[0;34m\u001b[0m\u001b[0;34m\u001b[0m\u001b[0m\n\u001b[0;32m--> 314\u001b[0;31m       \u001b[0;32mreturn\u001b[0m \u001b[0msuper\u001b[0m\u001b[0;34m(\u001b[0m\u001b[0mBase\u001b[0m\u001b[0;34m,\u001b[0m \u001b[0mself\u001b[0m\u001b[0;34m)\u001b[0m\u001b[0;34m.\u001b[0m\u001b[0mvisit\u001b[0m\u001b[0;34m(\u001b[0m\u001b[0mnode\u001b[0m\u001b[0;34m)\u001b[0m\u001b[0;34m\u001b[0m\u001b[0;34m\u001b[0m\u001b[0m\n\u001b[0m\u001b[1;32m    315\u001b[0m     \u001b[0;32mfinally\u001b[0m\u001b[0;34m:\u001b[0m\u001b[0;34m\u001b[0m\u001b[0;34m\u001b[0m\u001b[0m\n\u001b[1;32m    316\u001b[0m       \u001b[0mself\u001b[0m\u001b[0;34m.\u001b[0m\u001b[0m_ast_depth\u001b[0m \u001b[0;34m-=\u001b[0m \u001b[0;36m1\u001b[0m\u001b[0;34m\u001b[0m\u001b[0;34m\u001b[0m\u001b[0m\n",
            "\u001b[0;32m/usr/local/lib/python3.10/dist-packages/tensorflow/python/autograph/pyct/transformer.py\u001b[0m in \u001b[0;36mvisit\u001b[0;34m(self, node)\u001b[0m\n\u001b[1;32m    439\u001b[0m         \u001b[0mentry_expr_value\u001b[0m \u001b[0;34m=\u001b[0m \u001b[0mnode\u001b[0m\u001b[0;34m.\u001b[0m\u001b[0mvalue\u001b[0m\u001b[0;34m\u001b[0m\u001b[0;34m\u001b[0m\u001b[0m\n\u001b[1;32m    440\u001b[0m \u001b[0;34m\u001b[0m\u001b[0m\n\u001b[0;32m--> 441\u001b[0;31m       \u001b[0mresult\u001b[0m \u001b[0;34m=\u001b[0m \u001b[0msuper\u001b[0m\u001b[0;34m(\u001b[0m\u001b[0mBase\u001b[0m\u001b[0;34m,\u001b[0m \u001b[0mself\u001b[0m\u001b[0;34m)\u001b[0m\u001b[0;34m.\u001b[0m\u001b[0mvisit\u001b[0m\u001b[0;34m(\u001b[0m\u001b[0mnode\u001b[0m\u001b[0;34m)\u001b[0m\u001b[0;34m\u001b[0m\u001b[0;34m\u001b[0m\u001b[0m\n\u001b[0m\u001b[1;32m    442\u001b[0m \u001b[0;34m\u001b[0m\u001b[0m\n\u001b[1;32m    443\u001b[0m       \u001b[0;31m# Adjust for consistency: replacing the value of an Expr with\u001b[0m\u001b[0;34m\u001b[0m\u001b[0;34m\u001b[0m\u001b[0m\n",
            "\u001b[0;32m/usr/lib/python3.10/ast.py\u001b[0m in \u001b[0;36mvisit\u001b[0;34m(self, node)\u001b[0m\n\u001b[1;32m    416\u001b[0m         \u001b[0mmethod\u001b[0m \u001b[0;34m=\u001b[0m \u001b[0;34m'visit_'\u001b[0m \u001b[0;34m+\u001b[0m \u001b[0mnode\u001b[0m\u001b[0;34m.\u001b[0m\u001b[0m__class__\u001b[0m\u001b[0;34m.\u001b[0m\u001b[0m__name__\u001b[0m\u001b[0;34m\u001b[0m\u001b[0;34m\u001b[0m\u001b[0m\n\u001b[1;32m    417\u001b[0m         \u001b[0mvisitor\u001b[0m \u001b[0;34m=\u001b[0m \u001b[0mgetattr\u001b[0m\u001b[0;34m(\u001b[0m\u001b[0mself\u001b[0m\u001b[0;34m,\u001b[0m \u001b[0mmethod\u001b[0m\u001b[0;34m,\u001b[0m \u001b[0mself\u001b[0m\u001b[0;34m.\u001b[0m\u001b[0mgeneric_visit\u001b[0m\u001b[0;34m)\u001b[0m\u001b[0;34m\u001b[0m\u001b[0;34m\u001b[0m\u001b[0m\n\u001b[0;32m--> 418\u001b[0;31m         \u001b[0;32mreturn\u001b[0m \u001b[0mvisitor\u001b[0m\u001b[0;34m(\u001b[0m\u001b[0mnode\u001b[0m\u001b[0;34m)\u001b[0m\u001b[0;34m\u001b[0m\u001b[0;34m\u001b[0m\u001b[0m\n\u001b[0m\u001b[1;32m    419\u001b[0m \u001b[0;34m\u001b[0m\u001b[0m\n\u001b[1;32m    420\u001b[0m     \u001b[0;32mdef\u001b[0m \u001b[0mgeneric_visit\u001b[0m\u001b[0;34m(\u001b[0m\u001b[0mself\u001b[0m\u001b[0;34m,\u001b[0m \u001b[0mnode\u001b[0m\u001b[0;34m)\u001b[0m\u001b[0;34m:\u001b[0m\u001b[0;34m\u001b[0m\u001b[0;34m\u001b[0m\u001b[0m\n",
            "\u001b[0;32m/usr/lib/python3.10/ast.py\u001b[0m in \u001b[0;36mvisit_Constant\u001b[0;34m(self, node)\u001b[0m\n\u001b[1;32m    447\u001b[0m                               DeprecationWarning, 2)\n\u001b[1;32m    448\u001b[0m                 \u001b[0;32mreturn\u001b[0m \u001b[0mvisitor\u001b[0m\u001b[0;34m(\u001b[0m\u001b[0mnode\u001b[0m\u001b[0;34m)\u001b[0m\u001b[0;34m\u001b[0m\u001b[0;34m\u001b[0m\u001b[0m\n\u001b[0;32m--> 449\u001b[0;31m         \u001b[0;32mreturn\u001b[0m \u001b[0mself\u001b[0m\u001b[0;34m.\u001b[0m\u001b[0mgeneric_visit\u001b[0m\u001b[0;34m(\u001b[0m\u001b[0mnode\u001b[0m\u001b[0;34m)\u001b[0m\u001b[0;34m\u001b[0m\u001b[0;34m\u001b[0m\u001b[0m\n\u001b[0m\u001b[1;32m    450\u001b[0m \u001b[0;34m\u001b[0m\u001b[0m\n\u001b[1;32m    451\u001b[0m \u001b[0;34m\u001b[0m\u001b[0m\n",
            "\u001b[0;32m/usr/lib/python3.10/ast.py\u001b[0m in \u001b[0;36mgeneric_visit\u001b[0;34m(self, node)\u001b[0m\n\u001b[1;32m    486\u001b[0m     \"\"\"\n\u001b[1;32m    487\u001b[0m \u001b[0;34m\u001b[0m\u001b[0m\n\u001b[0;32m--> 488\u001b[0;31m     \u001b[0;32mdef\u001b[0m \u001b[0mgeneric_visit\u001b[0m\u001b[0;34m(\u001b[0m\u001b[0mself\u001b[0m\u001b[0;34m,\u001b[0m \u001b[0mnode\u001b[0m\u001b[0;34m)\u001b[0m\u001b[0;34m:\u001b[0m\u001b[0;34m\u001b[0m\u001b[0;34m\u001b[0m\u001b[0m\n\u001b[0m\u001b[1;32m    489\u001b[0m         \u001b[0;32mfor\u001b[0m \u001b[0mfield\u001b[0m\u001b[0;34m,\u001b[0m \u001b[0mold_value\u001b[0m \u001b[0;32min\u001b[0m \u001b[0miter_fields\u001b[0m\u001b[0;34m(\u001b[0m\u001b[0mnode\u001b[0m\u001b[0;34m)\u001b[0m\u001b[0;34m:\u001b[0m\u001b[0;34m\u001b[0m\u001b[0;34m\u001b[0m\u001b[0m\n\u001b[1;32m    490\u001b[0m             \u001b[0;32mif\u001b[0m \u001b[0misinstance\u001b[0m\u001b[0;34m(\u001b[0m\u001b[0mold_value\u001b[0m\u001b[0;34m,\u001b[0m \u001b[0mlist\u001b[0m\u001b[0;34m)\u001b[0m\u001b[0;34m:\u001b[0m\u001b[0;34m\u001b[0m\u001b[0;34m\u001b[0m\u001b[0m\n",
            "\u001b[0;31mKeyboardInterrupt\u001b[0m: "
          ]
        }
      ]
    },
    {
      "cell_type": "code",
      "source": [
        "del model\n",
        "del pytorch_model\n",
        "del trainer\n",
        "torch.cuda.empty_cache()"
      ],
      "metadata": {
        "id": "Iq06PHdfiW9V"
      },
      "execution_count": null,
      "outputs": []
    },
    {
      "cell_type": "code",
      "source": [
        "\n",
        "small_train_dataset = tokenized_datasets[\"train\"].shuffle(seed=42).select(range(1000))\n",
        "small_eval_dataset = tokenized_datasets[\"test\"].shuffle(seed=42).select(range(1000))"
      ],
      "metadata": {
        "id": "Y4ehRXLViQRd"
      },
      "execution_count": 25,
      "outputs": []
    },
    {
      "cell_type": "code",
      "source": [
        "\n",
        "from torch.utils.data import DataLoader\n",
        "\n",
        "train_dataloader = DataLoader(small_train_dataset, shuffle=True, batch_size=8)\n",
        "eval_dataloader = DataLoader(small_eval_dataset, batch_size=8)\n",
        ""
      ],
      "metadata": {
        "id": "3B76CucciQTt"
      },
      "execution_count": 34,
      "outputs": []
    },
    {
      "cell_type": "code",
      "source": [
        "\n",
        "from transformers import AutoModelForSequenceClassification\n",
        "\n",
        "model = AutoModelForSequenceClassification.from_pretrained(\"bert-base-cased\", num_labels=5)"
      ],
      "metadata": {
        "colab": {
          "base_uri": "https://localhost:8080/"
        },
        "id": "ZyKqbCHjiQV3",
        "outputId": "127f1ae6-2e18-4e23-b12e-a6a6c90b590f"
      },
      "execution_count": 27,
      "outputs": [
        {
          "output_type": "stream",
          "name": "stderr",
          "text": [
            "Some weights of BertForSequenceClassification were not initialized from the model checkpoint at bert-base-cased and are newly initialized: ['classifier.bias', 'classifier.weight']\n",
            "You should probably TRAIN this model on a down-stream task to be able to use it for predictions and inference.\n"
          ]
        }
      ]
    },
    {
      "cell_type": "code",
      "source": [
        "\n",
        "from torch.optim import AdamW\n",
        "\n",
        "optimizer = AdamW(model.parameters(), lr=5e-5)\n",
        ""
      ],
      "metadata": {
        "id": "NkqDHDwliQYK"
      },
      "execution_count": 28,
      "outputs": []
    },
    {
      "cell_type": "code",
      "source": [
        "\n",
        "import torch\n",
        "\n",
        "device = torch.device(\"cuda\") if torch.cuda.is_available() else torch.device(\"cpu\")\n",
        "model.to(device)"
      ],
      "metadata": {
        "colab": {
          "base_uri": "https://localhost:8080/"
        },
        "id": "0xi6RB9NoxO6",
        "outputId": "db40db6b-d07e-44d6-ce1e-60f32e5e2af0"
      },
      "execution_count": 31,
      "outputs": [
        {
          "output_type": "execute_result",
          "data": {
            "text/plain": [
              "BertForSequenceClassification(\n",
              "  (bert): BertModel(\n",
              "    (embeddings): BertEmbeddings(\n",
              "      (word_embeddings): Embedding(28996, 768, padding_idx=0)\n",
              "      (position_embeddings): Embedding(512, 768)\n",
              "      (token_type_embeddings): Embedding(2, 768)\n",
              "      (LayerNorm): LayerNorm((768,), eps=1e-12, elementwise_affine=True)\n",
              "      (dropout): Dropout(p=0.1, inplace=False)\n",
              "    )\n",
              "    (encoder): BertEncoder(\n",
              "      (layer): ModuleList(\n",
              "        (0-11): 12 x BertLayer(\n",
              "          (attention): BertAttention(\n",
              "            (self): BertSdpaSelfAttention(\n",
              "              (query): Linear(in_features=768, out_features=768, bias=True)\n",
              "              (key): Linear(in_features=768, out_features=768, bias=True)\n",
              "              (value): Linear(in_features=768, out_features=768, bias=True)\n",
              "              (dropout): Dropout(p=0.1, inplace=False)\n",
              "            )\n",
              "            (output): BertSelfOutput(\n",
              "              (dense): Linear(in_features=768, out_features=768, bias=True)\n",
              "              (LayerNorm): LayerNorm((768,), eps=1e-12, elementwise_affine=True)\n",
              "              (dropout): Dropout(p=0.1, inplace=False)\n",
              "            )\n",
              "          )\n",
              "          (intermediate): BertIntermediate(\n",
              "            (dense): Linear(in_features=768, out_features=3072, bias=True)\n",
              "            (intermediate_act_fn): GELUActivation()\n",
              "          )\n",
              "          (output): BertOutput(\n",
              "            (dense): Linear(in_features=3072, out_features=768, bias=True)\n",
              "            (LayerNorm): LayerNorm((768,), eps=1e-12, elementwise_affine=True)\n",
              "            (dropout): Dropout(p=0.1, inplace=False)\n",
              "          )\n",
              "        )\n",
              "      )\n",
              "    )\n",
              "    (pooler): BertPooler(\n",
              "      (dense): Linear(in_features=768, out_features=768, bias=True)\n",
              "      (activation): Tanh()\n",
              "    )\n",
              "  )\n",
              "  (dropout): Dropout(p=0.1, inplace=False)\n",
              "  (classifier): Linear(in_features=768, out_features=5, bias=True)\n",
              ")"
            ]
          },
          "metadata": {},
          "execution_count": 31
        }
      ]
    },
    {
      "cell_type": "code",
      "source": [
        "\n",
        "from transformers import get_scheduler\n",
        "\n",
        "num_epochs = 1\n",
        "num_training_steps = num_epochs * len(train_dataloader)\n",
        "lr_scheduler = get_scheduler(\n",
        "    name=\"linear\", optimizer=optimizer, num_warmup_steps=0, num_training_steps=num_training_steps\n",
        ")"
      ],
      "metadata": {
        "id": "MVdunGG8iQaS"
      },
      "execution_count": 32,
      "outputs": []
    },
    {
      "cell_type": "code",
      "source": [
        "\n",
        "from tqdm.auto import tqdm\n",
        "\n",
        "progress_bar = tqdm(range(num_training_steps))\n",
        "\n",
        "model.train()\n",
        "for epoch in range(num_epochs):\n",
        "    for batch in train_dataloader:\n",
        "        batch = {k: v.to(device) for k, v in batch.items()}\n",
        "        outputs = model(**batch)\n",
        "        loss = outputs.loss\n",
        "        loss.backward()\n",
        "\n",
        "        optimizer.step()\n",
        "        lr_scheduler.step()\n",
        "        optimizer.zero_grad()\n",
        "        progress_bar.update(1)"
      ],
      "metadata": {
        "colab": {
          "base_uri": "https://localhost:8080/",
          "height": 364,
          "referenced_widgets": [
            "80773b5367da42b78d999168fa7c06c8",
            "48686baab71444cf99ebc0f0d211bf63",
            "e5c15ed4734644b0a98f6ad14d10d256",
            "7c65b4dbd4144df5bcc10ece956bfabe",
            "56fa319ff9954dcc83ea2835255e1f2e",
            "e98e818c7373418c982d5d5e489a2a06",
            "459610fe2a624a259d1de2bf91ca6de1",
            "fba33b95474e4c1282fb24565caed9ac",
            "402dbdf409054cd59ab01a9b19c93ea7",
            "788489c856364b02a8b5010d57c986d1",
            "ae1a404610654bf6bdbc778c2551cbd5"
          ]
        },
        "id": "hBjLTal1iQcI",
        "outputId": "52963f6a-a3a9-495b-923a-1e6ed065702e"
      },
      "execution_count": 35,
      "outputs": [
        {
          "output_type": "display_data",
          "data": {
            "text/plain": [
              "  0%|          | 0/125 [00:00<?, ?it/s]"
            ],
            "application/vnd.jupyter.widget-view+json": {
              "version_major": 2,
              "version_minor": 0,
              "model_id": "80773b5367da42b78d999168fa7c06c8"
            }
          },
          "metadata": {}
        },
        {
          "output_type": "error",
          "ename": "AttributeError",
          "evalue": "'list' object has no attribute 'to'",
          "traceback": [
            "\u001b[0;31m---------------------------------------------------------------------------\u001b[0m",
            "\u001b[0;31mAttributeError\u001b[0m                            Traceback (most recent call last)",
            "\u001b[0;32m<ipython-input-35-b86b10a2f8e7>\u001b[0m in \u001b[0;36m<cell line: 6>\u001b[0;34m()\u001b[0m\n\u001b[1;32m      6\u001b[0m \u001b[0;32mfor\u001b[0m \u001b[0mepoch\u001b[0m \u001b[0;32min\u001b[0m \u001b[0mrange\u001b[0m\u001b[0;34m(\u001b[0m\u001b[0mnum_epochs\u001b[0m\u001b[0;34m)\u001b[0m\u001b[0;34m:\u001b[0m\u001b[0;34m\u001b[0m\u001b[0;34m\u001b[0m\u001b[0m\n\u001b[1;32m      7\u001b[0m     \u001b[0;32mfor\u001b[0m \u001b[0mbatch\u001b[0m \u001b[0;32min\u001b[0m \u001b[0mtrain_dataloader\u001b[0m\u001b[0;34m:\u001b[0m\u001b[0;34m\u001b[0m\u001b[0;34m\u001b[0m\u001b[0m\n\u001b[0;32m----> 8\u001b[0;31m         \u001b[0mbatch\u001b[0m \u001b[0;34m=\u001b[0m \u001b[0;34m{\u001b[0m\u001b[0mk\u001b[0m\u001b[0;34m:\u001b[0m \u001b[0mv\u001b[0m\u001b[0;34m.\u001b[0m\u001b[0mto\u001b[0m\u001b[0;34m(\u001b[0m\u001b[0mdevice\u001b[0m\u001b[0;34m)\u001b[0m \u001b[0;32mfor\u001b[0m \u001b[0mk\u001b[0m\u001b[0;34m,\u001b[0m \u001b[0mv\u001b[0m \u001b[0;32min\u001b[0m \u001b[0mbatch\u001b[0m\u001b[0;34m.\u001b[0m\u001b[0mitems\u001b[0m\u001b[0;34m(\u001b[0m\u001b[0;34m)\u001b[0m\u001b[0;34m}\u001b[0m\u001b[0;34m\u001b[0m\u001b[0;34m\u001b[0m\u001b[0m\n\u001b[0m\u001b[1;32m      9\u001b[0m         \u001b[0moutputs\u001b[0m \u001b[0;34m=\u001b[0m \u001b[0mmodel\u001b[0m\u001b[0;34m(\u001b[0m\u001b[0;34m**\u001b[0m\u001b[0mbatch\u001b[0m\u001b[0;34m)\u001b[0m\u001b[0;34m\u001b[0m\u001b[0;34m\u001b[0m\u001b[0m\n\u001b[1;32m     10\u001b[0m         \u001b[0mloss\u001b[0m \u001b[0;34m=\u001b[0m \u001b[0moutputs\u001b[0m\u001b[0;34m.\u001b[0m\u001b[0mloss\u001b[0m\u001b[0;34m\u001b[0m\u001b[0;34m\u001b[0m\u001b[0m\n",
            "\u001b[0;32m<ipython-input-35-b86b10a2f8e7>\u001b[0m in \u001b[0;36m<dictcomp>\u001b[0;34m(.0)\u001b[0m\n\u001b[1;32m      6\u001b[0m \u001b[0;32mfor\u001b[0m \u001b[0mepoch\u001b[0m \u001b[0;32min\u001b[0m \u001b[0mrange\u001b[0m\u001b[0;34m(\u001b[0m\u001b[0mnum_epochs\u001b[0m\u001b[0;34m)\u001b[0m\u001b[0;34m:\u001b[0m\u001b[0;34m\u001b[0m\u001b[0;34m\u001b[0m\u001b[0m\n\u001b[1;32m      7\u001b[0m     \u001b[0;32mfor\u001b[0m \u001b[0mbatch\u001b[0m \u001b[0;32min\u001b[0m \u001b[0mtrain_dataloader\u001b[0m\u001b[0;34m:\u001b[0m\u001b[0;34m\u001b[0m\u001b[0;34m\u001b[0m\u001b[0m\n\u001b[0;32m----> 8\u001b[0;31m         \u001b[0mbatch\u001b[0m \u001b[0;34m=\u001b[0m \u001b[0;34m{\u001b[0m\u001b[0mk\u001b[0m\u001b[0;34m:\u001b[0m \u001b[0mv\u001b[0m\u001b[0;34m.\u001b[0m\u001b[0mto\u001b[0m\u001b[0;34m(\u001b[0m\u001b[0mdevice\u001b[0m\u001b[0;34m)\u001b[0m \u001b[0;32mfor\u001b[0m \u001b[0mk\u001b[0m\u001b[0;34m,\u001b[0m \u001b[0mv\u001b[0m \u001b[0;32min\u001b[0m \u001b[0mbatch\u001b[0m\u001b[0;34m.\u001b[0m\u001b[0mitems\u001b[0m\u001b[0;34m(\u001b[0m\u001b[0;34m)\u001b[0m\u001b[0;34m}\u001b[0m\u001b[0;34m\u001b[0m\u001b[0;34m\u001b[0m\u001b[0m\n\u001b[0m\u001b[1;32m      9\u001b[0m         \u001b[0moutputs\u001b[0m \u001b[0;34m=\u001b[0m \u001b[0mmodel\u001b[0m\u001b[0;34m(\u001b[0m\u001b[0;34m**\u001b[0m\u001b[0mbatch\u001b[0m\u001b[0;34m)\u001b[0m\u001b[0;34m\u001b[0m\u001b[0;34m\u001b[0m\u001b[0m\n\u001b[1;32m     10\u001b[0m         \u001b[0mloss\u001b[0m \u001b[0;34m=\u001b[0m \u001b[0moutputs\u001b[0m\u001b[0;34m.\u001b[0m\u001b[0mloss\u001b[0m\u001b[0;34m\u001b[0m\u001b[0;34m\u001b[0m\u001b[0m\n",
            "\u001b[0;31mAttributeError\u001b[0m: 'list' object has no attribute 'to'"
          ]
        }
      ]
    },
    {
      "cell_type": "code",
      "source": [
        "\n",
        "metric = load_metric(\"accuracy\")\n",
        "model.eval()\n",
        "for batch in eval_dataloader:\n",
        "    batch = {k: v.to(device) for k, v in batch.items()}\n",
        "    with torch.no_grad():\n",
        "        outputs = model(**batch)\n",
        "\n",
        "    logits = outputs.logits\n",
        "    predictions = torch.argmax(logits, dim=-1)\n",
        "    metric.add_batch(predictions=predictions, references=batch[\"labels\"])\n",
        "\n",
        "metric.compute()"
      ],
      "metadata": {
        "id": "sQhIZ03oiuIi"
      },
      "execution_count": null,
      "outputs": []
    },
    {
      "cell_type": "code",
      "source": [],
      "metadata": {
        "id": "_2lRorBNiuLM"
      },
      "execution_count": null,
      "outputs": []
    },
    {
      "cell_type": "code",
      "source": [],
      "metadata": {
        "id": "l9qhmCx0iuNp"
      },
      "execution_count": null,
      "outputs": []
    },
    {
      "cell_type": "code",
      "source": [],
      "metadata": {
        "id": "IpYX5zPhiuQO"
      },
      "execution_count": null,
      "outputs": []
    },
    {
      "cell_type": "code",
      "source": [],
      "metadata": {
        "id": "7r46JqdoiuSq"
      },
      "execution_count": null,
      "outputs": []
    },
    {
      "cell_type": "code",
      "source": [],
      "metadata": {
        "id": "DwBm80_0YXyC"
      },
      "execution_count": null,
      "outputs": []
    },
    {
      "cell_type": "code",
      "source": [],
      "metadata": {
        "id": "hrTpE-XPYX0b"
      },
      "execution_count": null,
      "outputs": []
    },
    {
      "cell_type": "markdown",
      "source": [
        "### **APPLICATION OF THIS PROJECT **\n",
        "# New section\n",
        "\n",
        "Code search and chat on a Github repo\n",
        "MY OPENAI key was giving error 429\n",
        "\n",
        "And after using huggingface and gpt4all models there was issue of RAM crash which is due to lack of computational resources\n",
        "\n",
        "\n",
        "which means quota exceed![Screenshot from 2024-06-15 13-20-27.png](data:image/png;base64,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)"
      ],
      "metadata": {
        "id": "l74YED0-TQZ9"
      }
    },
    {
      "cell_type": "code",
      "source": [
        "#DEMO HOW THESE WORKS\n",
        "#JUST A SHOWCASE\n",
        "\n",
        "\n",
        "\n",
        "from genai_stack.model import OpenAIGpt35Model\n",
        "\n",
        "model = OpenAIGpt35Model.from_kwargs(\n",
        " fields={\"openai_api_key\": \"Paste your Open AI key\"}\n",
        ")\n",
        "model.add_source(\"web\", \"valid_web_url\")\n",
        "model.predict(\"<Any question on top of the webpage>\")"
      ],
      "metadata": {
        "id": "O-X6MhZ8S_XD"
      },
      "execution_count": null,
      "outputs": []
    },
    {
      "cell_type": "code",
      "source": [
        "#reference\n",
        "#https://genaistack.aiplanet.com/components/etl/quickstart\n"
      ],
      "metadata": {
        "id": "y75BsQgMNEIF"
      },
      "execution_count": null,
      "outputs": []
    },
    {
      "cell_type": "markdown",
      "source": [
        "# **now starting different**\n",
        "These Topics\n",
        "1) Intelligent customer support chatbot using historic support queries, website chatbot and product documentation\n",
        "\n",
        "2) Build document search and chat on over 1000+ documents."
      ],
      "metadata": {
        "id": "1D-rO036TbAl"
      }
    },
    {
      "cell_type": "code",
      "source": [
        "import pandas as pd\n",
        "df =  pd.read_csv('/content/all_data_by_threshold.csv')\n",
        "df.head()\n"
      ],
      "metadata": {
        "colab": {
          "base_uri": "https://localhost:8080/",
          "height": 640
        },
        "id": "qUSrtW1GNgBv",
        "outputId": "f0b51c73-5ecb-4ea5-c6f4-d0c50f47e065"
      },
      "execution_count": 21,
      "outputs": [
        {
          "output_type": "execute_result",
          "data": {
            "text/plain": [
              "   Dataset ID  Group ID  Request ID  MultiIntent  Threshold  \\\n",
              "0           1         1        1483            0          1   \n",
              "1           1         1        2439            0          1   \n",
              "2           1         1        2367            0          1   \n",
              "3           1         1        2467            0          1   \n",
              "4           1         1        2488            0          1   \n",
              "\n",
              "                                    MergedSelections  \\\n",
              "0  [Today Ellemay wrote: “I however, like Qantas ...   \n",
              "1  [This links to the latest domestic Air NZ ads,...   \n",
              "2  [The reason of this email is to explain an unf...   \n",
              "3  [Hi. I am 6ft 5 tall and hoping to fly to Japa...   \n",
              "4  [We will be there at lunch time. ]Do they offe...   \n",
              "\n",
              "                                          Unselected  \\\n",
              "0  I would really like to know the criteria which...   \n",
              "1                                                NaN   \n",
              "2                                                NaN   \n",
              "3   Just wondered which airline would give any so...   \n",
              "4      Do they offer lunch or should we eat outside?   \n",
              "\n",
              "                                            Selected   Removed  \n",
              "0  Today Ellemay wrote: “I however, like Qantas a...  0.892382  \n",
              "1  This links to the latest domestic Air NZ ads, ...  1.000000  \n",
              "2  The reason of this email is to explain an unfo...  1.000000  \n",
              "3  Hi. I am 6ft 5 tall and hoping to fly to Japan...  0.654167  \n",
              "4                   We will be there at lunch time.   0.415584  "
            ],
            "text/html": [
              "\n",
              "  <div id=\"df-4549fae5-1162-4708-b4a8-13ec29ddb843\" class=\"colab-df-container\">\n",
              "    <div>\n",
              "<style scoped>\n",
              "    .dataframe tbody tr th:only-of-type {\n",
              "        vertical-align: middle;\n",
              "    }\n",
              "\n",
              "    .dataframe tbody tr th {\n",
              "        vertical-align: top;\n",
              "    }\n",
              "\n",
              "    .dataframe thead th {\n",
              "        text-align: right;\n",
              "    }\n",
              "</style>\n",
              "<table border=\"1\" class=\"dataframe\">\n",
              "  <thead>\n",
              "    <tr style=\"text-align: right;\">\n",
              "      <th></th>\n",
              "      <th>Dataset ID</th>\n",
              "      <th>Group ID</th>\n",
              "      <th>Request ID</th>\n",
              "      <th>MultiIntent</th>\n",
              "      <th>Threshold</th>\n",
              "      <th>MergedSelections</th>\n",
              "      <th>Unselected</th>\n",
              "      <th>Selected</th>\n",
              "      <th>Removed</th>\n",
              "    </tr>\n",
              "  </thead>\n",
              "  <tbody>\n",
              "    <tr>\n",
              "      <th>0</th>\n",
              "      <td>1</td>\n",
              "      <td>1</td>\n",
              "      <td>1483</td>\n",
              "      <td>0</td>\n",
              "      <td>1</td>\n",
              "      <td>[Today Ellemay wrote: “I however, like Qantas ...</td>\n",
              "      <td>I would really like to know the criteria which...</td>\n",
              "      <td>Today Ellemay wrote: “I however, like Qantas a...</td>\n",
              "      <td>0.892382</td>\n",
              "    </tr>\n",
              "    <tr>\n",
              "      <th>1</th>\n",
              "      <td>1</td>\n",
              "      <td>1</td>\n",
              "      <td>2439</td>\n",
              "      <td>0</td>\n",
              "      <td>1</td>\n",
              "      <td>[This links to the latest domestic Air NZ ads,...</td>\n",
              "      <td>NaN</td>\n",
              "      <td>This links to the latest domestic Air NZ ads, ...</td>\n",
              "      <td>1.000000</td>\n",
              "    </tr>\n",
              "    <tr>\n",
              "      <th>2</th>\n",
              "      <td>1</td>\n",
              "      <td>1</td>\n",
              "      <td>2367</td>\n",
              "      <td>0</td>\n",
              "      <td>1</td>\n",
              "      <td>[The reason of this email is to explain an unf...</td>\n",
              "      <td>NaN</td>\n",
              "      <td>The reason of this email is to explain an unfo...</td>\n",
              "      <td>1.000000</td>\n",
              "    </tr>\n",
              "    <tr>\n",
              "      <th>3</th>\n",
              "      <td>1</td>\n",
              "      <td>1</td>\n",
              "      <td>2467</td>\n",
              "      <td>0</td>\n",
              "      <td>1</td>\n",
              "      <td>[Hi. I am 6ft 5 tall and hoping to fly to Japa...</td>\n",
              "      <td>Just wondered which airline would give any so...</td>\n",
              "      <td>Hi. I am 6ft 5 tall and hoping to fly to Japan...</td>\n",
              "      <td>0.654167</td>\n",
              "    </tr>\n",
              "    <tr>\n",
              "      <th>4</th>\n",
              "      <td>1</td>\n",
              "      <td>1</td>\n",
              "      <td>2488</td>\n",
              "      <td>0</td>\n",
              "      <td>1</td>\n",
              "      <td>[We will be there at lunch time. ]Do they offe...</td>\n",
              "      <td>Do they offer lunch or should we eat outside?</td>\n",
              "      <td>We will be there at lunch time.</td>\n",
              "      <td>0.415584</td>\n",
              "    </tr>\n",
              "  </tbody>\n",
              "</table>\n",
              "</div>\n",
              "    <div class=\"colab-df-buttons\">\n",
              "\n",
              "  <div class=\"colab-df-container\">\n",
              "    <button class=\"colab-df-convert\" onclick=\"convertToInteractive('df-4549fae5-1162-4708-b4a8-13ec29ddb843')\"\n",
              "            title=\"Convert this dataframe to an interactive table.\"\n",
              "            style=\"display:none;\">\n",
              "\n",
              "  <svg xmlns=\"http://www.w3.org/2000/svg\" height=\"24px\" viewBox=\"0 -960 960 960\">\n",
              "    <path d=\"M120-120v-720h720v720H120Zm60-500h600v-160H180v160Zm220 220h160v-160H400v160Zm0 220h160v-160H400v160ZM180-400h160v-160H180v160Zm440 0h160v-160H620v160ZM180-180h160v-160H180v160Zm440 0h160v-160H620v160Z\"/>\n",
              "  </svg>\n",
              "    </button>\n",
              "\n",
              "  <style>\n",
              "    .colab-df-container {\n",
              "      display:flex;\n",
              "      gap: 12px;\n",
              "    }\n",
              "\n",
              "    .colab-df-convert {\n",
              "      background-color: #E8F0FE;\n",
              "      border: none;\n",
              "      border-radius: 50%;\n",
              "      cursor: pointer;\n",
              "      display: none;\n",
              "      fill: #1967D2;\n",
              "      height: 32px;\n",
              "      padding: 0 0 0 0;\n",
              "      width: 32px;\n",
              "    }\n",
              "\n",
              "    .colab-df-convert:hover {\n",
              "      background-color: #E2EBFA;\n",
              "      box-shadow: 0px 1px 2px rgba(60, 64, 67, 0.3), 0px 1px 3px 1px rgba(60, 64, 67, 0.15);\n",
              "      fill: #174EA6;\n",
              "    }\n",
              "\n",
              "    .colab-df-buttons div {\n",
              "      margin-bottom: 4px;\n",
              "    }\n",
              "\n",
              "    [theme=dark] .colab-df-convert {\n",
              "      background-color: #3B4455;\n",
              "      fill: #D2E3FC;\n",
              "    }\n",
              "\n",
              "    [theme=dark] .colab-df-convert:hover {\n",
              "      background-color: #434B5C;\n",
              "      box-shadow: 0px 1px 3px 1px rgba(0, 0, 0, 0.15);\n",
              "      filter: drop-shadow(0px 1px 2px rgba(0, 0, 0, 0.3));\n",
              "      fill: #FFFFFF;\n",
              "    }\n",
              "  </style>\n",
              "\n",
              "    <script>\n",
              "      const buttonEl =\n",
              "        document.querySelector('#df-4549fae5-1162-4708-b4a8-13ec29ddb843 button.colab-df-convert');\n",
              "      buttonEl.style.display =\n",
              "        google.colab.kernel.accessAllowed ? 'block' : 'none';\n",
              "\n",
              "      async function convertToInteractive(key) {\n",
              "        const element = document.querySelector('#df-4549fae5-1162-4708-b4a8-13ec29ddb843');\n",
              "        const dataTable =\n",
              "          await google.colab.kernel.invokeFunction('convertToInteractive',\n",
              "                                                    [key], {});\n",
              "        if (!dataTable) return;\n",
              "\n",
              "        const docLinkHtml = 'Like what you see? Visit the ' +\n",
              "          '<a target=\"_blank\" href=https://colab.research.google.com/notebooks/data_table.ipynb>data table notebook</a>'\n",
              "          + ' to learn more about interactive tables.';\n",
              "        element.innerHTML = '';\n",
              "        dataTable['output_type'] = 'display_data';\n",
              "        await google.colab.output.renderOutput(dataTable, element);\n",
              "        const docLink = document.createElement('div');\n",
              "        docLink.innerHTML = docLinkHtml;\n",
              "        element.appendChild(docLink);\n",
              "      }\n",
              "    </script>\n",
              "  </div>\n",
              "\n",
              "\n",
              "<div id=\"df-7394d006-4c24-46aa-bbe7-2e736a39ebbf\">\n",
              "  <button class=\"colab-df-quickchart\" onclick=\"quickchart('df-7394d006-4c24-46aa-bbe7-2e736a39ebbf')\"\n",
              "            title=\"Suggest charts\"\n",
              "            style=\"display:none;\">\n",
              "\n",
              "<svg xmlns=\"http://www.w3.org/2000/svg\" height=\"24px\"viewBox=\"0 0 24 24\"\n",
              "     width=\"24px\">\n",
              "    <g>\n",
              "        <path d=\"M19 3H5c-1.1 0-2 .9-2 2v14c0 1.1.9 2 2 2h14c1.1 0 2-.9 2-2V5c0-1.1-.9-2-2-2zM9 17H7v-7h2v7zm4 0h-2V7h2v10zm4 0h-2v-4h2v4z\"/>\n",
              "    </g>\n",
              "</svg>\n",
              "  </button>\n",
              "\n",
              "<style>\n",
              "  .colab-df-quickchart {\n",
              "      --bg-color: #E8F0FE;\n",
              "      --fill-color: #1967D2;\n",
              "      --hover-bg-color: #E2EBFA;\n",
              "      --hover-fill-color: #174EA6;\n",
              "      --disabled-fill-color: #AAA;\n",
              "      --disabled-bg-color: #DDD;\n",
              "  }\n",
              "\n",
              "  [theme=dark] .colab-df-quickchart {\n",
              "      --bg-color: #3B4455;\n",
              "      --fill-color: #D2E3FC;\n",
              "      --hover-bg-color: #434B5C;\n",
              "      --hover-fill-color: #FFFFFF;\n",
              "      --disabled-bg-color: #3B4455;\n",
              "      --disabled-fill-color: #666;\n",
              "  }\n",
              "\n",
              "  .colab-df-quickchart {\n",
              "    background-color: var(--bg-color);\n",
              "    border: none;\n",
              "    border-radius: 50%;\n",
              "    cursor: pointer;\n",
              "    display: none;\n",
              "    fill: var(--fill-color);\n",
              "    height: 32px;\n",
              "    padding: 0;\n",
              "    width: 32px;\n",
              "  }\n",
              "\n",
              "  .colab-df-quickchart:hover {\n",
              "    background-color: var(--hover-bg-color);\n",
              "    box-shadow: 0 1px 2px rgba(60, 64, 67, 0.3), 0 1px 3px 1px rgba(60, 64, 67, 0.15);\n",
              "    fill: var(--button-hover-fill-color);\n",
              "  }\n",
              "\n",
              "  .colab-df-quickchart-complete:disabled,\n",
              "  .colab-df-quickchart-complete:disabled:hover {\n",
              "    background-color: var(--disabled-bg-color);\n",
              "    fill: var(--disabled-fill-color);\n",
              "    box-shadow: none;\n",
              "  }\n",
              "\n",
              "  .colab-df-spinner {\n",
              "    border: 2px solid var(--fill-color);\n",
              "    border-color: transparent;\n",
              "    border-bottom-color: var(--fill-color);\n",
              "    animation:\n",
              "      spin 1s steps(1) infinite;\n",
              "  }\n",
              "\n",
              "  @keyframes spin {\n",
              "    0% {\n",
              "      border-color: transparent;\n",
              "      border-bottom-color: var(--fill-color);\n",
              "      border-left-color: var(--fill-color);\n",
              "    }\n",
              "    20% {\n",
              "      border-color: transparent;\n",
              "      border-left-color: var(--fill-color);\n",
              "      border-top-color: var(--fill-color);\n",
              "    }\n",
              "    30% {\n",
              "      border-color: transparent;\n",
              "      border-left-color: var(--fill-color);\n",
              "      border-top-color: var(--fill-color);\n",
              "      border-right-color: var(--fill-color);\n",
              "    }\n",
              "    40% {\n",
              "      border-color: transparent;\n",
              "      border-right-color: var(--fill-color);\n",
              "      border-top-color: var(--fill-color);\n",
              "    }\n",
              "    60% {\n",
              "      border-color: transparent;\n",
              "      border-right-color: var(--fill-color);\n",
              "    }\n",
              "    80% {\n",
              "      border-color: transparent;\n",
              "      border-right-color: var(--fill-color);\n",
              "      border-bottom-color: var(--fill-color);\n",
              "    }\n",
              "    90% {\n",
              "      border-color: transparent;\n",
              "      border-bottom-color: var(--fill-color);\n",
              "    }\n",
              "  }\n",
              "</style>\n",
              "\n",
              "  <script>\n",
              "    async function quickchart(key) {\n",
              "      const quickchartButtonEl =\n",
              "        document.querySelector('#' + key + ' button');\n",
              "      quickchartButtonEl.disabled = true;  // To prevent multiple clicks.\n",
              "      quickchartButtonEl.classList.add('colab-df-spinner');\n",
              "      try {\n",
              "        const charts = await google.colab.kernel.invokeFunction(\n",
              "            'suggestCharts', [key], {});\n",
              "      } catch (error) {\n",
              "        console.error('Error during call to suggestCharts:', error);\n",
              "      }\n",
              "      quickchartButtonEl.classList.remove('colab-df-spinner');\n",
              "      quickchartButtonEl.classList.add('colab-df-quickchart-complete');\n",
              "    }\n",
              "    (() => {\n",
              "      let quickchartButtonEl =\n",
              "        document.querySelector('#df-7394d006-4c24-46aa-bbe7-2e736a39ebbf button');\n",
              "      quickchartButtonEl.style.display =\n",
              "        google.colab.kernel.accessAllowed ? 'block' : 'none';\n",
              "    })();\n",
              "  </script>\n",
              "</div>\n",
              "\n",
              "    </div>\n",
              "  </div>\n"
            ],
            "application/vnd.google.colaboratory.intrinsic+json": {
              "type": "dataframe",
              "variable_name": "df",
              "summary": "{\n  \"name\": \"df\",\n  \"rows\": 32000,\n  \"fields\": [\n    {\n      \"column\": \"Dataset ID\",\n      \"properties\": {\n        \"dtype\": \"number\",\n        \"std\": 1,\n        \"min\": 1,\n        \"max\": 4,\n        \"num_unique_values\": 4,\n        \"samples\": [\n          2,\n          4,\n          1\n        ],\n        \"semantic_type\": \"\",\n        \"description\": \"\"\n      }\n    },\n    {\n      \"column\": \"Group ID\",\n      \"properties\": {\n        \"dtype\": \"number\",\n        \"std\": 0,\n        \"min\": 1,\n        \"max\": 2,\n        \"num_unique_values\": 2,\n        \"samples\": [\n          2,\n          1\n        ],\n        \"semantic_type\": \"\",\n        \"description\": \"\"\n      }\n    },\n    {\n      \"column\": \"Request ID\",\n      \"properties\": {\n        \"dtype\": \"number\",\n        \"std\": 2664,\n        \"min\": 1464,\n        \"max\": 10521,\n        \"num_unique_values\": 8000,\n        \"samples\": [\n          3580,\n          3468\n        ],\n        \"semantic_type\": \"\",\n        \"description\": \"\"\n      }\n    },\n    {\n      \"column\": \"MultiIntent\",\n      \"properties\": {\n        \"dtype\": \"number\",\n        \"std\": 0,\n        \"min\": 0,\n        \"max\": 1,\n        \"num_unique_values\": 2,\n        \"samples\": [\n          1,\n          0\n        ],\n        \"semantic_type\": \"\",\n        \"description\": \"\"\n      }\n    },\n    {\n      \"column\": \"Threshold\",\n      \"properties\": {\n        \"dtype\": \"number\",\n        \"std\": 1,\n        \"min\": 1,\n        \"max\": 4,\n        \"num_unique_values\": 4,\n        \"samples\": [\n          2,\n          4\n        ],\n        \"semantic_type\": \"\",\n        \"description\": \"\"\n      }\n    },\n    {\n      \"column\": \"MergedSelections\",\n      \"properties\": {\n        \"dtype\": \"string\",\n        \"num_unique_values\": 19015,\n        \"samples\": [\n          \"[hi, ]my first name is spelled wrong on my account. [how do I change this]\",\n          \"can a child age 12 travel alone on a non-stop flight? is there an add'l charge? If so, what is the charge for the round trip?\"\n        ],\n        \"semantic_type\": \"\",\n        \"description\": \"\"\n      }\n    },\n    {\n      \"column\": \"Unselected\",\n      \"properties\": {\n        \"dtype\": \"string\",\n        \"num_unique_values\": 18223,\n        \"samples\": [\n          \"The message states that a temporary password has been sent to me email, but hasn'\",\n          \"what if I was to get rid of cable and phone how much would this save me a month?\"\n        ],\n        \"semantic_type\": \"\",\n        \"description\": \"\"\n      }\n    },\n    {\n      \"column\": \"Selected\",\n      \"properties\": {\n        \"dtype\": \"category\",\n        \"num_unique_values\": 11734,\n        \"samples\": [\n          \"hello-....this is the first time I have booked cname- in my system\",\n          \"Hi. This was a disaster for me because on the 26th I am meeting up with my sister who lives in Sydney, before she flies back on the 27th. I haven't seen her since 2008. I informed Silkair of the problem and they asked if I wanted a refund. I immediately said yes and then rebooked with Air Asia to land in Singapore on the 27th. But then said they could re-route me via KL on the 27th, so I told them I had already booked the other tickets and asked for a refund. They then It was their decision to change the dates of the flights.\"\n        ],\n        \"semantic_type\": \"\",\n        \"description\": \"\"\n      }\n    },\n    {\n      \"column\": \"Removed\",\n      \"properties\": {\n        \"dtype\": \"number\",\n        \"std\": 0.2898367034422142,\n        \"min\": 0.0,\n        \"max\": 1.0,\n        \"num_unique_values\": 7604,\n        \"samples\": [\n          0.1447368421,\n          0.1544715447\n        ],\n        \"semantic_type\": \"\",\n        \"description\": \"\"\n      }\n    }\n  ]\n}"
            }
          },
          "metadata": {},
          "execution_count": 21
        }
      ]
    },
    {
      "cell_type": "code",
      "source": [],
      "metadata": {
        "id": "keL_-ss_VQ_C"
      },
      "execution_count": null,
      "outputs": []
    },
    {
      "cell_type": "code",
      "source": [
        "import pandas as pd\n",
        "\n",
        "# Specify the path to your Excel file\n",
        "excel_file = '/content/20000-Utterances-Training-dataset-for-chatbots-virtual-assistant-Bitext-sample.xlsx'\n",
        "\n",
        "# Load the Excel file\n",
        "df = pd.read_excel(excel_file)\n",
        "\n",
        "# Specify the path to save the CSV file\n",
        "csv_file = '/content/20000-Utterances-Training-dataset-for-chatbots-virtual-assistant-Bitext-sample.csv'\n",
        "\n",
        "# Save as CSV\n",
        "df.to_csv(csv_file, index=False)\n",
        "\n",
        "print(f'CSV file saved: {csv_file}')\n"
      ],
      "metadata": {
        "colab": {
          "base_uri": "https://localhost:8080/"
        },
        "id": "LrIQ1euCPIQX",
        "outputId": "e3fdf49d-0b9a-42df-e037-f53703cf634e"
      },
      "execution_count": 27,
      "outputs": [
        {
          "output_type": "stream",
          "name": "stdout",
          "text": [
            "CSV file saved: /content/20000-Utterances-Training-dataset-for-chatbots-virtual-assistant-Bitext-sample.csv\n"
          ]
        }
      ]
    },
    {
      "cell_type": "code",
      "source": [
        "df1 = pd.read_csv(r'/content/20000-Utterances-Training-dataset-for-chatbots-virtual-assistant-Bitext-sample.csv')\n",
        "df1.head()"
      ],
      "metadata": {
        "colab": {
          "base_uri": "https://localhost:8080/",
          "height": 206
        },
        "id": "jXUPX2ycUraG",
        "outputId": "5117d1f6-3b5d-4172-fe6e-e0705b078446"
      },
      "execution_count": 28,
      "outputs": [
        {
          "output_type": "execute_result",
          "data": {
            "text/plain": [
              "   flags                                          utterance category  \\\n",
              "0   BILC  I don't have an online account, what do I have...  ACCOUNT   \n",
              "1  BILQZ  can you tell me if i can regisger two accounts...  ACCOUNT   \n",
              "2   BPLC         I have no online account, open one, please  ACCOUNT   \n",
              "3  BIPLD  could you ask an agent how to open an account,...  ACCOUNT   \n",
              "4   BLQC               i want an online account, create one  ACCOUNT   \n",
              "\n",
              "           intent  \n",
              "0  create_account  \n",
              "1  create_account  \n",
              "2  create_account  \n",
              "3  create_account  \n",
              "4  create_account  "
            ],
            "text/html": [
              "\n",
              "  <div id=\"df-9e2c6f80-01f7-4c4c-8831-2d5354825ee7\" class=\"colab-df-container\">\n",
              "    <div>\n",
              "<style scoped>\n",
              "    .dataframe tbody tr th:only-of-type {\n",
              "        vertical-align: middle;\n",
              "    }\n",
              "\n",
              "    .dataframe tbody tr th {\n",
              "        vertical-align: top;\n",
              "    }\n",
              "\n",
              "    .dataframe thead th {\n",
              "        text-align: right;\n",
              "    }\n",
              "</style>\n",
              "<table border=\"1\" class=\"dataframe\">\n",
              "  <thead>\n",
              "    <tr style=\"text-align: right;\">\n",
              "      <th></th>\n",
              "      <th>flags</th>\n",
              "      <th>utterance</th>\n",
              "      <th>category</th>\n",
              "      <th>intent</th>\n",
              "    </tr>\n",
              "  </thead>\n",
              "  <tbody>\n",
              "    <tr>\n",
              "      <th>0</th>\n",
              "      <td>BILC</td>\n",
              "      <td>I don't have an online account, what do I have...</td>\n",
              "      <td>ACCOUNT</td>\n",
              "      <td>create_account</td>\n",
              "    </tr>\n",
              "    <tr>\n",
              "      <th>1</th>\n",
              "      <td>BILQZ</td>\n",
              "      <td>can you tell me if i can regisger two accounts...</td>\n",
              "      <td>ACCOUNT</td>\n",
              "      <td>create_account</td>\n",
              "    </tr>\n",
              "    <tr>\n",
              "      <th>2</th>\n",
              "      <td>BPLC</td>\n",
              "      <td>I have no online account, open one, please</td>\n",
              "      <td>ACCOUNT</td>\n",
              "      <td>create_account</td>\n",
              "    </tr>\n",
              "    <tr>\n",
              "      <th>3</th>\n",
              "      <td>BIPLD</td>\n",
              "      <td>could you ask an agent how to open an account,...</td>\n",
              "      <td>ACCOUNT</td>\n",
              "      <td>create_account</td>\n",
              "    </tr>\n",
              "    <tr>\n",
              "      <th>4</th>\n",
              "      <td>BLQC</td>\n",
              "      <td>i want an online account, create one</td>\n",
              "      <td>ACCOUNT</td>\n",
              "      <td>create_account</td>\n",
              "    </tr>\n",
              "  </tbody>\n",
              "</table>\n",
              "</div>\n",
              "    <div class=\"colab-df-buttons\">\n",
              "\n",
              "  <div class=\"colab-df-container\">\n",
              "    <button class=\"colab-df-convert\" onclick=\"convertToInteractive('df-9e2c6f80-01f7-4c4c-8831-2d5354825ee7')\"\n",
              "            title=\"Convert this dataframe to an interactive table.\"\n",
              "            style=\"display:none;\">\n",
              "\n",
              "  <svg xmlns=\"http://www.w3.org/2000/svg\" height=\"24px\" viewBox=\"0 -960 960 960\">\n",
              "    <path d=\"M120-120v-720h720v720H120Zm60-500h600v-160H180v160Zm220 220h160v-160H400v160Zm0 220h160v-160H400v160ZM180-400h160v-160H180v160Zm440 0h160v-160H620v160ZM180-180h160v-160H180v160Zm440 0h160v-160H620v160Z\"/>\n",
              "  </svg>\n",
              "    </button>\n",
              "\n",
              "  <style>\n",
              "    .colab-df-container {\n",
              "      display:flex;\n",
              "      gap: 12px;\n",
              "    }\n",
              "\n",
              "    .colab-df-convert {\n",
              "      background-color: #E8F0FE;\n",
              "      border: none;\n",
              "      border-radius: 50%;\n",
              "      cursor: pointer;\n",
              "      display: none;\n",
              "      fill: #1967D2;\n",
              "      height: 32px;\n",
              "      padding: 0 0 0 0;\n",
              "      width: 32px;\n",
              "    }\n",
              "\n",
              "    .colab-df-convert:hover {\n",
              "      background-color: #E2EBFA;\n",
              "      box-shadow: 0px 1px 2px rgba(60, 64, 67, 0.3), 0px 1px 3px 1px rgba(60, 64, 67, 0.15);\n",
              "      fill: #174EA6;\n",
              "    }\n",
              "\n",
              "    .colab-df-buttons div {\n",
              "      margin-bottom: 4px;\n",
              "    }\n",
              "\n",
              "    [theme=dark] .colab-df-convert {\n",
              "      background-color: #3B4455;\n",
              "      fill: #D2E3FC;\n",
              "    }\n",
              "\n",
              "    [theme=dark] .colab-df-convert:hover {\n",
              "      background-color: #434B5C;\n",
              "      box-shadow: 0px 1px 3px 1px rgba(0, 0, 0, 0.15);\n",
              "      filter: drop-shadow(0px 1px 2px rgba(0, 0, 0, 0.3));\n",
              "      fill: #FFFFFF;\n",
              "    }\n",
              "  </style>\n",
              "\n",
              "    <script>\n",
              "      const buttonEl =\n",
              "        document.querySelector('#df-9e2c6f80-01f7-4c4c-8831-2d5354825ee7 button.colab-df-convert');\n",
              "      buttonEl.style.display =\n",
              "        google.colab.kernel.accessAllowed ? 'block' : 'none';\n",
              "\n",
              "      async function convertToInteractive(key) {\n",
              "        const element = document.querySelector('#df-9e2c6f80-01f7-4c4c-8831-2d5354825ee7');\n",
              "        const dataTable =\n",
              "          await google.colab.kernel.invokeFunction('convertToInteractive',\n",
              "                                                    [key], {});\n",
              "        if (!dataTable) return;\n",
              "\n",
              "        const docLinkHtml = 'Like what you see? Visit the ' +\n",
              "          '<a target=\"_blank\" href=https://colab.research.google.com/notebooks/data_table.ipynb>data table notebook</a>'\n",
              "          + ' to learn more about interactive tables.';\n",
              "        element.innerHTML = '';\n",
              "        dataTable['output_type'] = 'display_data';\n",
              "        await google.colab.output.renderOutput(dataTable, element);\n",
              "        const docLink = document.createElement('div');\n",
              "        docLink.innerHTML = docLinkHtml;\n",
              "        element.appendChild(docLink);\n",
              "      }\n",
              "    </script>\n",
              "  </div>\n",
              "\n",
              "\n",
              "<div id=\"df-94ff156b-c321-4d52-8367-5f5a7955e196\">\n",
              "  <button class=\"colab-df-quickchart\" onclick=\"quickchart('df-94ff156b-c321-4d52-8367-5f5a7955e196')\"\n",
              "            title=\"Suggest charts\"\n",
              "            style=\"display:none;\">\n",
              "\n",
              "<svg xmlns=\"http://www.w3.org/2000/svg\" height=\"24px\"viewBox=\"0 0 24 24\"\n",
              "     width=\"24px\">\n",
              "    <g>\n",
              "        <path d=\"M19 3H5c-1.1 0-2 .9-2 2v14c0 1.1.9 2 2 2h14c1.1 0 2-.9 2-2V5c0-1.1-.9-2-2-2zM9 17H7v-7h2v7zm4 0h-2V7h2v10zm4 0h-2v-4h2v4z\"/>\n",
              "    </g>\n",
              "</svg>\n",
              "  </button>\n",
              "\n",
              "<style>\n",
              "  .colab-df-quickchart {\n",
              "      --bg-color: #E8F0FE;\n",
              "      --fill-color: #1967D2;\n",
              "      --hover-bg-color: #E2EBFA;\n",
              "      --hover-fill-color: #174EA6;\n",
              "      --disabled-fill-color: #AAA;\n",
              "      --disabled-bg-color: #DDD;\n",
              "  }\n",
              "\n",
              "  [theme=dark] .colab-df-quickchart {\n",
              "      --bg-color: #3B4455;\n",
              "      --fill-color: #D2E3FC;\n",
              "      --hover-bg-color: #434B5C;\n",
              "      --hover-fill-color: #FFFFFF;\n",
              "      --disabled-bg-color: #3B4455;\n",
              "      --disabled-fill-color: #666;\n",
              "  }\n",
              "\n",
              "  .colab-df-quickchart {\n",
              "    background-color: var(--bg-color);\n",
              "    border: none;\n",
              "    border-radius: 50%;\n",
              "    cursor: pointer;\n",
              "    display: none;\n",
              "    fill: var(--fill-color);\n",
              "    height: 32px;\n",
              "    padding: 0;\n",
              "    width: 32px;\n",
              "  }\n",
              "\n",
              "  .colab-df-quickchart:hover {\n",
              "    background-color: var(--hover-bg-color);\n",
              "    box-shadow: 0 1px 2px rgba(60, 64, 67, 0.3), 0 1px 3px 1px rgba(60, 64, 67, 0.15);\n",
              "    fill: var(--button-hover-fill-color);\n",
              "  }\n",
              "\n",
              "  .colab-df-quickchart-complete:disabled,\n",
              "  .colab-df-quickchart-complete:disabled:hover {\n",
              "    background-color: var(--disabled-bg-color);\n",
              "    fill: var(--disabled-fill-color);\n",
              "    box-shadow: none;\n",
              "  }\n",
              "\n",
              "  .colab-df-spinner {\n",
              "    border: 2px solid var(--fill-color);\n",
              "    border-color: transparent;\n",
              "    border-bottom-color: var(--fill-color);\n",
              "    animation:\n",
              "      spin 1s steps(1) infinite;\n",
              "  }\n",
              "\n",
              "  @keyframes spin {\n",
              "    0% {\n",
              "      border-color: transparent;\n",
              "      border-bottom-color: var(--fill-color);\n",
              "      border-left-color: var(--fill-color);\n",
              "    }\n",
              "    20% {\n",
              "      border-color: transparent;\n",
              "      border-left-color: var(--fill-color);\n",
              "      border-top-color: var(--fill-color);\n",
              "    }\n",
              "    30% {\n",
              "      border-color: transparent;\n",
              "      border-left-color: var(--fill-color);\n",
              "      border-top-color: var(--fill-color);\n",
              "      border-right-color: var(--fill-color);\n",
              "    }\n",
              "    40% {\n",
              "      border-color: transparent;\n",
              "      border-right-color: var(--fill-color);\n",
              "      border-top-color: var(--fill-color);\n",
              "    }\n",
              "    60% {\n",
              "      border-color: transparent;\n",
              "      border-right-color: var(--fill-color);\n",
              "    }\n",
              "    80% {\n",
              "      border-color: transparent;\n",
              "      border-right-color: var(--fill-color);\n",
              "      border-bottom-color: var(--fill-color);\n",
              "    }\n",
              "    90% {\n",
              "      border-color: transparent;\n",
              "      border-bottom-color: var(--fill-color);\n",
              "    }\n",
              "  }\n",
              "</style>\n",
              "\n",
              "  <script>\n",
              "    async function quickchart(key) {\n",
              "      const quickchartButtonEl =\n",
              "        document.querySelector('#' + key + ' button');\n",
              "      quickchartButtonEl.disabled = true;  // To prevent multiple clicks.\n",
              "      quickchartButtonEl.classList.add('colab-df-spinner');\n",
              "      try {\n",
              "        const charts = await google.colab.kernel.invokeFunction(\n",
              "            'suggestCharts', [key], {});\n",
              "      } catch (error) {\n",
              "        console.error('Error during call to suggestCharts:', error);\n",
              "      }\n",
              "      quickchartButtonEl.classList.remove('colab-df-spinner');\n",
              "      quickchartButtonEl.classList.add('colab-df-quickchart-complete');\n",
              "    }\n",
              "    (() => {\n",
              "      let quickchartButtonEl =\n",
              "        document.querySelector('#df-94ff156b-c321-4d52-8367-5f5a7955e196 button');\n",
              "      quickchartButtonEl.style.display =\n",
              "        google.colab.kernel.accessAllowed ? 'block' : 'none';\n",
              "    })();\n",
              "  </script>\n",
              "</div>\n",
              "\n",
              "    </div>\n",
              "  </div>\n"
            ],
            "application/vnd.google.colaboratory.intrinsic+json": {
              "type": "dataframe",
              "variable_name": "df1",
              "summary": "{\n  \"name\": \"df1\",\n  \"rows\": 21534,\n  \"fields\": [\n    {\n      \"column\": \"flags\",\n      \"properties\": {\n        \"dtype\": \"category\",\n        \"num_unique_values\": 511,\n        \"samples\": [\n          \"BCZ\",\n          \"BSQC\",\n          \"BPLEDW\"\n        ],\n        \"semantic_type\": \"\",\n        \"description\": \"\"\n      }\n    },\n    {\n      \"column\": \"utterance\",\n      \"properties\": {\n        \"dtype\": \"string\",\n        \"num_unique_values\": 21513,\n        \"samples\": [\n          \"i have no fucking user account, what should i do to create one ?\",\n          \"youre not helping, can u contact a human agent?\",\n          \"help me contact Customer Service\"\n        ],\n        \"semantic_type\": \"\",\n        \"description\": \"\"\n      }\n    },\n    {\n      \"column\": \"category\",\n      \"properties\": {\n        \"dtype\": \"category\",\n        \"num_unique_values\": 11,\n        \"samples\": [\n          \"INVOICES\",\n          \"ACCOUNT\",\n          \"REFUNDS\"\n        ],\n        \"semantic_type\": \"\",\n        \"description\": \"\"\n      }\n    },\n    {\n      \"column\": \"intent\",\n      \"properties\": {\n        \"dtype\": \"category\",\n        \"num_unique_values\": 27,\n        \"samples\": [\n          \"contact_human_agent\",\n          \"check_invoices\",\n          \"delivery_options\"\n        ],\n        \"semantic_type\": \"\",\n        \"description\": \"\"\n      }\n    }\n  ]\n}"
            }
          },
          "metadata": {},
          "execution_count": 28
        }
      ]
    },
    {
      "cell_type": "code",
      "source": [
        "import pandas as pd\n",
        "\n",
        "# Load the dataset\n",
        "file_path = '/content/20000-Utterances-Training-dataset-for-chatbots-virtual-assistant-Bitext-sample.csv'\n",
        "df = pd.read_csv(file_path)\n",
        "\n",
        "# Display the original DataFrame (optional)\n",
        "print(\"Original DataFrame:\")\n",
        "print(df.head())\n",
        "\n",
        "# Drop the 'flags' and 'category' columns\n",
        "df = df.drop(columns=['flags', 'category'])\n",
        "\n",
        "# Display the modified DataFrame (optional)\n",
        "print(\"\\nModified DataFrame:\")\n",
        "print(df.head())\n",
        "\n",
        "# Save the modified DataFrame back to the original CSV file\n",
        "df.to_csv(file_path, index=False)\n",
        "\n",
        "print(f\"\\nModified dataset saved to {file_path}\")\n"
      ],
      "metadata": {
        "colab": {
          "base_uri": "https://localhost:8080/"
        },
        "id": "glGlB71vWQJH",
        "outputId": "e855a1c5-24bd-4d30-b65f-691716b99808"
      },
      "execution_count": 30,
      "outputs": [
        {
          "output_type": "stream",
          "name": "stdout",
          "text": [
            "Original DataFrame:\n",
            "   flags                                          utterance category  \\\n",
            "0   BILC  I don't have an online account, what do I have...  ACCOUNT   \n",
            "1  BILQZ  can you tell me if i can regisger two accounts...  ACCOUNT   \n",
            "2   BPLC         I have no online account, open one, please  ACCOUNT   \n",
            "3  BIPLD  could you ask an agent how to open an account,...  ACCOUNT   \n",
            "4   BLQC               i want an online account, create one  ACCOUNT   \n",
            "\n",
            "           intent  \n",
            "0  create_account  \n",
            "1  create_account  \n",
            "2  create_account  \n",
            "3  create_account  \n",
            "4  create_account  \n",
            "\n",
            "Modified DataFrame:\n",
            "                                           utterance          intent\n",
            "0  I don't have an online account, what do I have...  create_account\n",
            "1  can you tell me if i can regisger two accounts...  create_account\n",
            "2         I have no online account, open one, please  create_account\n",
            "3  could you ask an agent how to open an account,...  create_account\n",
            "4               i want an online account, create one  create_account\n",
            "\n",
            "Modified dataset saved to /content/20000-Utterances-Training-dataset-for-chatbots-virtual-assistant-Bitext-sample.csv\n"
          ]
        }
      ]
    },
    {
      "cell_type": "code",
      "source": [
        "/content/20000-Utterances-Training-dataset-for-chatbots-virtual-assistant-Bitext-sample.csv\n"
      ],
      "metadata": {
        "id": "OJl1zn4sVztL"
      },
      "execution_count": null,
      "outputs": []
    },
    {
      "cell_type": "code",
      "source": [
        "'''#FOR PDF\n",
        "document_path = \"/content/dialog_reduced.pdf\"\n",
        "etl = LangchainETL.from_kwargs(name=\"PyPDFLoader\", fields={\"file_path\": document_path})'''"
      ],
      "metadata": {
        "id": "5a2qcZ-cdG_1"
      },
      "execution_count": null,
      "outputs": []
    },
    {
      "cell_type": "code",
      "source": [
        "#FOR CSV\n",
        "etl = LangchainETL.from_kwargs(name=\"CSVLoader\", fields={\"file_path\": \"/content/20000-Utterances-Training-dataset-for-chatbots-virtual-assistant-Bitext-sample.csv\"})"
      ],
      "metadata": {
        "id": "oM8_TZO05MN6"
      },
      "execution_count": 31,
      "outputs": []
    },
    {
      "cell_type": "code",
      "source": [
        "#if you want to do similarity search with json search\n"
      ],
      "metadata": {
        "id": "Pi-eiIrg5MSG"
      },
      "execution_count": null,
      "outputs": []
    },
    {
      "cell_type": "markdown",
      "source": [
        "**Imp Links for downloading datasets for training chatbot **\n",
        "\n",
        "https://huggingface.co/datasets/bitext/Bitext-customer-support-llm-chatbot-training-dataset/tree/main\n",
        "\n",
        "https://www.kaggle.com/datasets/grafstor/simple-dialogs-for-chatbot\n",
        "\n",
        "https://www.kaggle.com/datasets/bitext/training-dataset-for-chatbotsvirtual-assistants"
      ],
      "metadata": {
        "id": "baE6RXhe5vLl"
      }
    },
    {
      "cell_type": "code",
      "source": [],
      "metadata": {
        "id": "fv4FVGSe5MU4"
      },
      "execution_count": null,
      "outputs": []
    },
    {
      "cell_type": "code",
      "source": [],
      "metadata": {
        "id": "AC_x5E0l5MXT"
      },
      "execution_count": null,
      "outputs": []
    },
    {
      "cell_type": "code",
      "source": [
        "'''#1st choise\n",
        "llm = Gpt4AllModel.from_kwargs()\n",
        "'''"
      ],
      "metadata": {
        "id": "sIrnPFtrl4dc"
      },
      "execution_count": null,
      "outputs": []
    },
    {
      "cell_type": "code",
      "source": [
        "'''2nd choice\n",
        "llm = Gpt4AllModel.from_kwargs()"
      ],
      "metadata": {
        "id": "jFsdefrS4wvN"
      },
      "execution_count": null,
      "outputs": []
    },
    {
      "cell_type": "code",
      "source": [
        "llm = HuggingFaceModel.from_kwargs()"
      ],
      "metadata": {
        "id": "LghxYNhBXVEg"
      },
      "execution_count": 34,
      "outputs": []
    },
    {
      "cell_type": "code",
      "source": [
        "'''\n",
        "import os\n",
        "from getpass import getpass\n",
        "api_key = getpass(\"Enter your openai api key ...\")'''"
      ],
      "metadata": {
        "colab": {
          "base_uri": "https://localhost:8080/",
          "height": 35
        },
        "id": "o1Xe29IF4w23",
        "outputId": "9cb12009-fa99-4bb8-e3dc-a2ac93284810"
      },
      "execution_count": null,
      "outputs": [
        {
          "output_type": "execute_result",
          "data": {
            "text/plain": [
              "'\\nimport os\\nfrom getpass import getpass\\napi_key = getpass(\"Enter your openai api key ...\")'"
            ],
            "application/vnd.google.colaboratory.intrinsic+json": {
              "type": "string"
            }
          },
          "metadata": {},
          "execution_count": 10
        }
      ]
    },
    {
      "cell_type": "code",
      "source": [
        "#Instantiate the LLM\n",
        "\n",
        "#using huggingfacemodel as my openAI API was giving error no 429\n",
        "\n",
        "#llm = OpenAIGpt35Model.from_kwargs(parameters={\"openai_api_key\": \"YOUR OPENAI API KEY\"})"
      ],
      "metadata": {
        "id": "SbpX82HoNeqI"
      },
      "execution_count": null,
      "outputs": []
    },
    {
      "cell_type": "code",
      "source": [
        "config = {\n",
        "    \"model_name\": \"sentence-transformers/all-mpnet-base-v2\",\n",
        "    \"model_kwargs\": {\"device\": \"cpu\"},\n",
        "    \"encode_kwargs\": {\"normalize_embeddings\": False},\n",
        "}\n",
        "embedding = LangchainEmbedding.from_kwargs(name=\"HuggingFaceEmbeddings\", fields=config)"
      ],
      "metadata": {
        "id": "acI0FPc3c-uJ"
      },
      "execution_count": null,
      "outputs": []
    },
    {
      "cell_type": "markdown",
      "source": [
        "***IF YOU ARE DOWNLOADING DATASET FROM ***\n",
        "\n",
        "\n",
        " https://www.kaggle.com/datasets/grafstor/simple-dialogs-for-chatbot\n",
        "\n",
        " then convert .txt to pdf by using the above code"
      ],
      "metadata": {
        "id": "PTmFaSwu6IbT"
      }
    },
    {
      "cell_type": "code",
      "source": [
        "\n",
        "from reportlab.lib.pagesizes import letter\n",
        "from reportlab.pdfgen import canvas\n",
        "\n",
        "def text_to_pdf(input_file, output_file):\n",
        "    # Create a canvas object\n",
        "    c = canvas.Canvas(output_file, pagesize=letter)\n",
        "    width, height = letter\n",
        "\n",
        "    # Set title\n",
        "    c.setTitle(\"Dialogs\")\n",
        "\n",
        "    # Define the starting position\n",
        "    x_offset = 40\n",
        "    y_offset = height - 40\n",
        "    line_height = 14\n",
        "\n",
        "    # Read the input text file\n",
        "    with open(input_file, 'r') as file:\n",
        "        lines = file.readlines()\n",
        "\n",
        "    # Write each line to the PDF\n",
        "    for line in lines:\n",
        "        # Check if we need a new page\n",
        "        if y_offset < 40:\n",
        "            c.showPage()\n",
        "            y_offset = height - 40\n",
        "\n",
        "        # Draw the line on the PDF\n",
        "        c.drawString(x_offset, y_offset, line.strip())\n",
        "        y_offset -= line_height\n",
        "\n",
        "    # Save the PDF file\n",
        "    c.save()\n",
        "\n",
        "# Usage\n",
        "input_file = '/content/dialogs.txt'\n",
        "output_file = '/content/dialogs.pdf'\n",
        "text_to_pdf(input_file, output_file)\n",
        "\n"
      ],
      "metadata": {
        "id": "H_LZSxcMdDaJ"
      },
      "execution_count": null,
      "outputs": []
    },
    {
      "cell_type": "code",
      "source": [
        "!pip install reportlab\n"
      ],
      "metadata": {
        "colab": {
          "base_uri": "https://localhost:8080/"
        },
        "id": "cY_h9woHeXNR",
        "outputId": "1ca2d117-79db-4049-d4f3-c559a5bb6be9"
      },
      "execution_count": null,
      "outputs": [
        {
          "output_type": "stream",
          "name": "stdout",
          "text": [
            "Collecting reportlab\n",
            "  Downloading reportlab-4.2.0-py3-none-any.whl (1.9 MB)\n",
            "\u001b[2K     \u001b[90m━━━━━━━━━━━━━━━━━━━━━━━━━━━━━━━━━━━━━━━━\u001b[0m \u001b[32m1.9/1.9 MB\u001b[0m \u001b[31m7.5 MB/s\u001b[0m eta \u001b[36m0:00:00\u001b[0m\n",
            "\u001b[?25hRequirement already satisfied: pillow>=9.0.0 in /usr/local/lib/python3.10/dist-packages (from reportlab) (9.4.0)\n",
            "Requirement already satisfied: chardet in /usr/local/lib/python3.10/dist-packages (from reportlab) (5.2.0)\n",
            "Installing collected packages: reportlab\n",
            "Successfully installed reportlab-4.2.0\n"
          ]
        }
      ]
    },
    {
      "cell_type": "code",
      "source": [
        "# Will use default persistent settings for a quick start\n",
        "weaviatedb = Weaviate.from_kwargs(url=\"http://localhost:8080/\", index_name=\"Testing\", text_key=\"test\")\n"
      ],
      "metadata": {
        "id": "z6aKeWLqeZEK"
      },
      "execution_count": null,
      "outputs": []
    },
    {
      "cell_type": "code",
      "source": [
        "'''\n",
        "FOR CHROMADB , WE CAN USE\n",
        "\n",
        "chromadb = ChromaDB.from_kwargs()'''\n",
        "\n",
        "\n",
        "\n",
        "\n",
        "\n",
        "\n",
        "\n",
        "'''. By default we use \"HuggingFaceEmbedding\" This eliminates the need to configure embeddings, making the process effortless.\n",
        "\n",
        "To utilize the vectordb configuration with the default embedding:\n",
        "\n",
        "=> Vectordb Usage\n",
        "\n",
        "Copy\n",
        "from langchain.docstore.document import Document as LangDocument\n",
        "\n",
        "from genai_stack.vectordb.chromadb import ChromaDB\n",
        "from genai_stack.vectordb.weaviate_db import Weaviate\n",
        "from genai_stack.embedding.utils import get_default_embedding\n",
        "from genai_stack.stack.stack import Stack\n",
        "\n",
        "\n",
        "embedding = get_default_embedding()\n",
        "chromadb = ChromaDB.from_kwargs()\n",
        "chroma_stack = Stack(model=None, embedding=embedding, vectordb=chromadb)\n",
        "\n",
        "# Add your documents\n",
        "chroma_stack.vectordb.add_documents(\n",
        "            documents=[\n",
        "                LangDocument(\n",
        "                    page_content=\"Some page content explaining something\", metadata={\"some_metadata\": \"some_metadata\"}\n",
        "                )\n",
        "            ]\n",
        "        )\n",
        "chroma_stack.vectordb.search(\"page\")\n",
        "\n",
        "# Output\n",
        "# Your search results '''"
      ],
      "metadata": {
        "id": "66ZJy1oY6hUL"
      },
      "execution_count": null,
      "outputs": []
    },
    {
      "cell_type": "code",
      "source": [],
      "metadata": {
        "id": "Ux_2jath6s9J"
      },
      "execution_count": 19,
      "outputs": []
    },
    {
      "cell_type": "code",
      "source": [
        "#Instantiate the Retriver\n",
        "\n",
        "retriever = LangChainRetriever.from_kwargs()\n"
      ],
      "metadata": {
        "id": "m794qVXwfGP8"
      },
      "execution_count": 32,
      "outputs": []
    },
    {
      "cell_type": "code",
      "source": [
        "\n",
        "promptengine = PromptEngine.from_kwargs(should_validate=False)"
      ],
      "metadata": {
        "id": "I57EfTQFfNTA"
      },
      "execution_count": null,
      "outputs": []
    },
    {
      "cell_type": "code",
      "source": [
        "\n",
        "memory = ConversationBufferMemory.from_kwargs()\n"
      ],
      "metadata": {
        "id": "5673GjdQfPYp"
      },
      "execution_count": null,
      "outputs": []
    },
    {
      "cell_type": "code",
      "source": [
        "\n",
        "\n",
        "stack = Stack(\n",
        "    etl=etl,\n",
        "    embedding=embedding,\n",
        "    vectordb=chromadb,\n",
        "    model=llm,\n",
        "    prompt_engine=promptengine,\n",
        "    retriever=retriever,\n",
        "    memory=memory\n",
        ")"
      ],
      "metadata": {
        "colab": {
          "base_uri": "https://localhost:8080/",
          "height": 356
        },
        "id": "xihkeM3PfRa2",
        "outputId": "f2983292-cb9a-48f0-d4fb-804ffbaf7f0b"
      },
      "execution_count": null,
      "outputs": [
        {
          "output_type": "error",
          "ename": "ValueError",
          "evalue": "Request failed: HTTP 404 Not Found",
          "traceback": [
            "\u001b[0;31m---------------------------------------------------------------------------\u001b[0m",
            "\u001b[0;31mValueError\u001b[0m                                Traceback (most recent call last)",
            "\u001b[0;32m<ipython-input-11-e7d329a525c4>\u001b[0m in \u001b[0;36m<cell line: 1>\u001b[0;34m()\u001b[0m\n\u001b[0;32m----> 1\u001b[0;31m stack = Stack(\n\u001b[0m\u001b[1;32m      2\u001b[0m     \u001b[0metl\u001b[0m\u001b[0;34m=\u001b[0m\u001b[0metl\u001b[0m\u001b[0;34m,\u001b[0m\u001b[0;34m\u001b[0m\u001b[0;34m\u001b[0m\u001b[0m\n\u001b[1;32m      3\u001b[0m     \u001b[0membedding\u001b[0m\u001b[0;34m=\u001b[0m\u001b[0membedding\u001b[0m\u001b[0;34m,\u001b[0m\u001b[0;34m\u001b[0m\u001b[0;34m\u001b[0m\u001b[0m\n\u001b[1;32m      4\u001b[0m     \u001b[0mvectordb\u001b[0m\u001b[0;34m=\u001b[0m\u001b[0mchromadb\u001b[0m\u001b[0;34m,\u001b[0m\u001b[0;34m\u001b[0m\u001b[0;34m\u001b[0m\u001b[0m\n\u001b[1;32m      5\u001b[0m     \u001b[0mmodel\u001b[0m\u001b[0;34m=\u001b[0m\u001b[0mllm\u001b[0m\u001b[0;34m,\u001b[0m\u001b[0;34m\u001b[0m\u001b[0;34m\u001b[0m\u001b[0m\n",
            "\u001b[0;32m/usr/local/lib/python3.10/dist-packages/genai_stack/stack/stack.py\u001b[0m in \u001b[0;36m__init__\u001b[0;34m(self, model, embedding, etl, vectordb, llm_cache, retriever, prompt_engine, response_evaluator, memory, run_etl)\u001b[0m\n\u001b[1;32m     61\u001b[0m         \u001b[0;32mif\u001b[0m \u001b[0mself\u001b[0m\u001b[0;34m.\u001b[0m\u001b[0m_model\u001b[0m\u001b[0;34m:\u001b[0m\u001b[0;34m\u001b[0m\u001b[0;34m\u001b[0m\u001b[0m\n\u001b[1;32m     62\u001b[0m             \u001b[0mself\u001b[0m\u001b[0;34m.\u001b[0m\u001b[0m_model\u001b[0m\u001b[0;34m.\u001b[0m\u001b[0mmediator\u001b[0m \u001b[0;34m=\u001b[0m \u001b[0mself\u001b[0m\u001b[0;34m.\u001b[0m\u001b[0m_mediator\u001b[0m\u001b[0;34m\u001b[0m\u001b[0;34m\u001b[0m\u001b[0m\n\u001b[0;32m---> 63\u001b[0;31m             \u001b[0mself\u001b[0m\u001b[0;34m.\u001b[0m\u001b[0m_model\u001b[0m\u001b[0;34m.\u001b[0m\u001b[0m_post_init\u001b[0m\u001b[0;34m(\u001b[0m\u001b[0;34m)\u001b[0m\u001b[0;34m\u001b[0m\u001b[0;34m\u001b[0m\u001b[0m\n\u001b[0m\u001b[1;32m     64\u001b[0m         \u001b[0;32mif\u001b[0m \u001b[0mself\u001b[0m\u001b[0;34m.\u001b[0m\u001b[0m_embedding\u001b[0m\u001b[0;34m:\u001b[0m\u001b[0;34m\u001b[0m\u001b[0;34m\u001b[0m\u001b[0m\n\u001b[1;32m     65\u001b[0m             \u001b[0mself\u001b[0m\u001b[0;34m.\u001b[0m\u001b[0m_embedding\u001b[0m\u001b[0;34m.\u001b[0m\u001b[0mmediator\u001b[0m \u001b[0;34m=\u001b[0m \u001b[0mself\u001b[0m\u001b[0;34m.\u001b[0m\u001b[0m_mediator\u001b[0m\u001b[0;34m\u001b[0m\u001b[0;34m\u001b[0m\u001b[0m\n",
            "\u001b[0;32m/usr/local/lib/python3.10/dist-packages/genai_stack/model/gpt4all.py\u001b[0m in \u001b[0;36m_post_init\u001b[0;34m(self, *args, **kwargs)\u001b[0m\n\u001b[1;32m     98\u001b[0m \u001b[0;34m\u001b[0m\u001b[0m\n\u001b[1;32m     99\u001b[0m     \u001b[0;32mdef\u001b[0m \u001b[0m_post_init\u001b[0m\u001b[0;34m(\u001b[0m\u001b[0mself\u001b[0m\u001b[0;34m,\u001b[0m \u001b[0;34m*\u001b[0m\u001b[0margs\u001b[0m\u001b[0;34m,\u001b[0m \u001b[0;34m**\u001b[0m\u001b[0mkwargs\u001b[0m\u001b[0;34m)\u001b[0m\u001b[0;34m:\u001b[0m\u001b[0;34m\u001b[0m\u001b[0;34m\u001b[0m\u001b[0m\n\u001b[0;32m--> 100\u001b[0;31m         \u001b[0mself\u001b[0m\u001b[0;34m.\u001b[0m\u001b[0mmodel\u001b[0m \u001b[0;34m=\u001b[0m \u001b[0mself\u001b[0m\u001b[0;34m.\u001b[0m\u001b[0mload\u001b[0m\u001b[0;34m(\u001b[0m\u001b[0;34m)\u001b[0m\u001b[0;34m\u001b[0m\u001b[0;34m\u001b[0m\u001b[0m\n\u001b[0m\u001b[1;32m    101\u001b[0m \u001b[0;34m\u001b[0m\u001b[0m\n\u001b[1;32m    102\u001b[0m     \u001b[0;32mdef\u001b[0m \u001b[0mload\u001b[0m\u001b[0;34m(\u001b[0m\u001b[0mself\u001b[0m\u001b[0;34m)\u001b[0m\u001b[0;34m:\u001b[0m\u001b[0;34m\u001b[0m\u001b[0;34m\u001b[0m\u001b[0m\n",
            "\u001b[0;32m/usr/local/lib/python3.10/dist-packages/genai_stack/model/gpt4all.py\u001b[0m in \u001b[0;36mload\u001b[0;34m(self)\u001b[0m\n\u001b[1;32m    106\u001b[0m         \u001b[0mDownloading\u001b[0m \u001b[0mthe\u001b[0m \u001b[0mmodel\u001b[0m \u001b[0mweights\u001b[0m\u001b[0;34m\u001b[0m\u001b[0;34m\u001b[0m\u001b[0m\n\u001b[1;32m    107\u001b[0m         \"\"\"\n\u001b[0;32m--> 108\u001b[0;31m         \u001b[0mGPT4All\u001b[0m\u001b[0;34m.\u001b[0m\u001b[0mretrieve_model\u001b[0m\u001b[0;34m(\u001b[0m\u001b[0mmodel_name\u001b[0m\u001b[0;34m=\u001b[0m\u001b[0mself\u001b[0m\u001b[0;34m.\u001b[0m\u001b[0mconfig\u001b[0m\u001b[0;34m.\u001b[0m\u001b[0mmodel\u001b[0m\u001b[0;34m,\u001b[0m \u001b[0mmodel_path\u001b[0m\u001b[0;34m=\u001b[0m\u001b[0mself\u001b[0m\u001b[0;34m.\u001b[0m\u001b[0mconfig\u001b[0m\u001b[0;34m.\u001b[0m\u001b[0mmodel_path\u001b[0m\u001b[0;34m)\u001b[0m\u001b[0;34m\u001b[0m\u001b[0;34m\u001b[0m\u001b[0m\n\u001b[0m\u001b[1;32m    109\u001b[0m         \u001b[0mabs_model_path\u001b[0m \u001b[0;34m=\u001b[0m \u001b[0mos\u001b[0m\u001b[0;34m.\u001b[0m\u001b[0mpath\u001b[0m\u001b[0;34m.\u001b[0m\u001b[0mjoin\u001b[0m\u001b[0;34m(\u001b[0m\u001b[0mcwd\u001b[0m\u001b[0;34m,\u001b[0m \u001b[0mself\u001b[0m\u001b[0;34m.\u001b[0m\u001b[0mconfig\u001b[0m\u001b[0;34m.\u001b[0m\u001b[0mmodel_path\u001b[0m\u001b[0;34m,\u001b[0m \u001b[0mself\u001b[0m\u001b[0;34m.\u001b[0m\u001b[0mconfig\u001b[0m\u001b[0;34m.\u001b[0m\u001b[0mmodel\u001b[0m\u001b[0;34m)\u001b[0m\u001b[0;34m\u001b[0m\u001b[0;34m\u001b[0m\u001b[0m\n\u001b[1;32m    110\u001b[0m \u001b[0;34m\u001b[0m\u001b[0m\n",
            "\u001b[0;32m/usr/local/lib/python3.10/dist-packages/gpt4all/gpt4all.py\u001b[0m in \u001b[0;36mretrieve_model\u001b[0;34m(cls, model_name, model_path, allow_download, verbose)\u001b[0m\n\u001b[1;32m    339\u001b[0m             \u001b[0;31m# If model file does not exist, download\u001b[0m\u001b[0;34m\u001b[0m\u001b[0;34m\u001b[0m\u001b[0m\n\u001b[1;32m    340\u001b[0m             \u001b[0mfilesize\u001b[0m \u001b[0;34m=\u001b[0m \u001b[0mconfig\u001b[0m\u001b[0;34m.\u001b[0m\u001b[0mget\u001b[0m\u001b[0;34m(\u001b[0m\u001b[0;34m\"filesize\"\u001b[0m\u001b[0;34m)\u001b[0m\u001b[0;34m\u001b[0m\u001b[0;34m\u001b[0m\u001b[0m\n\u001b[0;32m--> 341\u001b[0;31m             config[\"path\"] = str(cls.download_model(\n\u001b[0m\u001b[1;32m    342\u001b[0m                 \u001b[0mmodel_filename\u001b[0m\u001b[0;34m,\u001b[0m \u001b[0mmodel_path\u001b[0m\u001b[0;34m,\u001b[0m \u001b[0mverbose\u001b[0m\u001b[0;34m=\u001b[0m\u001b[0mverbose\u001b[0m\u001b[0;34m,\u001b[0m \u001b[0murl\u001b[0m\u001b[0;34m=\u001b[0m\u001b[0mconfig\u001b[0m\u001b[0;34m.\u001b[0m\u001b[0mget\u001b[0m\u001b[0;34m(\u001b[0m\u001b[0;34m\"url\"\u001b[0m\u001b[0;34m)\u001b[0m\u001b[0;34m,\u001b[0m\u001b[0;34m\u001b[0m\u001b[0;34m\u001b[0m\u001b[0m\n\u001b[1;32m    343\u001b[0m                 \u001b[0mexpected_size\u001b[0m\u001b[0;34m=\u001b[0m\u001b[0;32mNone\u001b[0m \u001b[0;32mif\u001b[0m \u001b[0mfilesize\u001b[0m \u001b[0;32mis\u001b[0m \u001b[0;32mNone\u001b[0m \u001b[0;32melse\u001b[0m \u001b[0mint\u001b[0m\u001b[0;34m(\u001b[0m\u001b[0mfilesize\u001b[0m\u001b[0;34m)\u001b[0m\u001b[0;34m,\u001b[0m \u001b[0mexpected_md5\u001b[0m\u001b[0;34m=\u001b[0m\u001b[0mconfig\u001b[0m\u001b[0;34m.\u001b[0m\u001b[0mget\u001b[0m\u001b[0;34m(\u001b[0m\u001b[0;34m\"md5sum\"\u001b[0m\u001b[0;34m)\u001b[0m\u001b[0;34m,\u001b[0m\u001b[0;34m\u001b[0m\u001b[0;34m\u001b[0m\u001b[0m\n",
            "\u001b[0;32m/usr/local/lib/python3.10/dist-packages/gpt4all/gpt4all.py\u001b[0m in \u001b[0;36mdownload_model\u001b[0;34m(model_filename, model_path, verbose, url, expected_size, expected_md5)\u001b[0m\n\u001b[1;32m    391\u001b[0m             \u001b[0;32mreturn\u001b[0m \u001b[0mresponse\u001b[0m\u001b[0;34m\u001b[0m\u001b[0;34m\u001b[0m\u001b[0m\n\u001b[1;32m    392\u001b[0m \u001b[0;34m\u001b[0m\u001b[0m\n\u001b[0;32m--> 393\u001b[0;31m         \u001b[0mresponse\u001b[0m \u001b[0;34m=\u001b[0m \u001b[0mmake_request\u001b[0m\u001b[0;34m(\u001b[0m\u001b[0;34m)\u001b[0m\u001b[0;34m\u001b[0m\u001b[0;34m\u001b[0m\u001b[0m\n\u001b[0m\u001b[1;32m    394\u001b[0m \u001b[0;34m\u001b[0m\u001b[0m\n\u001b[1;32m    395\u001b[0m         \u001b[0mtotal_size_in_bytes\u001b[0m \u001b[0;34m=\u001b[0m \u001b[0mint\u001b[0m\u001b[0;34m(\u001b[0m\u001b[0mresponse\u001b[0m\u001b[0;34m.\u001b[0m\u001b[0mheaders\u001b[0m\u001b[0;34m.\u001b[0m\u001b[0mget\u001b[0m\u001b[0;34m(\u001b[0m\u001b[0;34m\"content-length\"\u001b[0m\u001b[0;34m,\u001b[0m \u001b[0;36m0\u001b[0m\u001b[0;34m)\u001b[0m\u001b[0;34m)\u001b[0m\u001b[0;34m\u001b[0m\u001b[0;34m\u001b[0m\u001b[0m\n",
            "\u001b[0;32m/usr/local/lib/python3.10/dist-packages/gpt4all/gpt4all.py\u001b[0m in \u001b[0;36mmake_request\u001b[0;34m(offset)\u001b[0m\n\u001b[1;32m    384\u001b[0m             \u001b[0mresponse\u001b[0m \u001b[0;34m=\u001b[0m \u001b[0mrequests\u001b[0m\u001b[0;34m.\u001b[0m\u001b[0mget\u001b[0m\u001b[0;34m(\u001b[0m\u001b[0murl\u001b[0m\u001b[0;34m,\u001b[0m \u001b[0mstream\u001b[0m\u001b[0;34m=\u001b[0m\u001b[0;32mTrue\u001b[0m\u001b[0;34m,\u001b[0m \u001b[0mheaders\u001b[0m\u001b[0;34m=\u001b[0m\u001b[0mheaders\u001b[0m\u001b[0;34m)\u001b[0m\u001b[0;34m\u001b[0m\u001b[0;34m\u001b[0m\u001b[0m\n\u001b[1;32m    385\u001b[0m             \u001b[0;32mif\u001b[0m \u001b[0mresponse\u001b[0m\u001b[0;34m.\u001b[0m\u001b[0mstatus_code\u001b[0m \u001b[0;32mnot\u001b[0m \u001b[0;32min\u001b[0m \u001b[0;34m(\u001b[0m\u001b[0;36m200\u001b[0m\u001b[0;34m,\u001b[0m \u001b[0;36m206\u001b[0m\u001b[0;34m)\u001b[0m\u001b[0;34m:\u001b[0m\u001b[0;34m\u001b[0m\u001b[0;34m\u001b[0m\u001b[0m\n\u001b[0;32m--> 386\u001b[0;31m                 \u001b[0;32mraise\u001b[0m \u001b[0mValueError\u001b[0m\u001b[0;34m(\u001b[0m\u001b[0;34mf'Request failed: HTTP {response.status_code} {response.reason}'\u001b[0m\u001b[0;34m)\u001b[0m\u001b[0;34m\u001b[0m\u001b[0;34m\u001b[0m\u001b[0m\n\u001b[0m\u001b[1;32m    387\u001b[0m             \u001b[0;32mif\u001b[0m \u001b[0moffset\u001b[0m \u001b[0;32mand\u001b[0m \u001b[0;34m(\u001b[0m\u001b[0mresponse\u001b[0m\u001b[0;34m.\u001b[0m\u001b[0mstatus_code\u001b[0m \u001b[0;34m!=\u001b[0m \u001b[0;36m206\u001b[0m \u001b[0;32mor\u001b[0m \u001b[0mstr\u001b[0m\u001b[0;34m(\u001b[0m\u001b[0moffset\u001b[0m\u001b[0;34m)\u001b[0m \u001b[0;32mnot\u001b[0m \u001b[0;32min\u001b[0m \u001b[0mresponse\u001b[0m\u001b[0;34m.\u001b[0m\u001b[0mheaders\u001b[0m\u001b[0;34m.\u001b[0m\u001b[0mget\u001b[0m\u001b[0;34m(\u001b[0m\u001b[0;34m'Content-Range'\u001b[0m\u001b[0;34m,\u001b[0m \u001b[0;34m''\u001b[0m\u001b[0;34m)\u001b[0m\u001b[0;34m)\u001b[0m\u001b[0;34m:\u001b[0m\u001b[0;34m\u001b[0m\u001b[0;34m\u001b[0m\u001b[0m\n\u001b[1;32m    388\u001b[0m                 \u001b[0;32mraise\u001b[0m \u001b[0mValueError\u001b[0m\u001b[0;34m(\u001b[0m\u001b[0;34m'Connection was interrupted and server does not support range requests'\u001b[0m\u001b[0;34m)\u001b[0m\u001b[0;34m\u001b[0m\u001b[0;34m\u001b[0m\u001b[0m\n",
            "\u001b[0;31mValueError\u001b[0m: Request failed: HTTP 404 Not Found"
          ]
        }
      ]
    },
    {
      "cell_type": "markdown",
      "source": [
        "## ERROR 404 means there was RAM crash\n",
        "# ScreenShot is there on github\n"
      ],
      "metadata": {
        "id": "vbVZOOvdWtQy"
      }
    },
    {
      "cell_type": "markdown",
      "source": [
        "**Performing the ETL operations**\n",
        "\n",
        "\n",
        "extracting the content\n",
        "transforrmation(creating embeddings)\n",
        "\n",
        "load(storing the knowledge base in the vectordb)"
      ],
      "metadata": {
        "id": "w7aXUcAOg5Qa"
      }
    },
    {
      "cell_type": "code",
      "source": [
        "#ETL\n",
        "etl.run()"
      ],
      "metadata": {
        "id": "8Nqh85IVfTJb"
      },
      "execution_count": null,
      "outputs": []
    },
    {
      "cell_type": "code",
      "source": [
        "\n",
        "question = input(\"Ask a question: \")\n"
      ],
      "metadata": {
        "colab": {
          "base_uri": "https://localhost:8080/"
        },
        "id": "TSbxn8NzhPkm",
        "outputId": "3427091b-0ed0-48b6-99e8-42c75affd851"
      },
      "execution_count": null,
      "outputs": [
        {
          "name": "stdout",
          "output_type": "stream",
          "text": [
            "Ask a question: how are you\n"
          ]
        }
      ]
    },
    {
      "cell_type": "markdown",
      "source": [],
      "metadata": {
        "id": "LeCg6yKvg1_e"
      }
    },
    {
      "cell_type": "code",
      "source": [
        "\n",
        "response = retriever.retrieve(question)\n",
        "print(response['output'])"
      ],
      "metadata": {
        "id": "4dBmEM8phrCN"
      },
      "execution_count": 31,
      "outputs": []
    },
    {
      "cell_type": "code",
      "source": [],
      "metadata": {
        "id": "8B9sHuE4SiGc"
      },
      "execution_count": null,
      "outputs": []
    },
    {
      "cell_type": "code",
      "source": [],
      "metadata": {
        "id": "6E5eOPKdYVtP"
      },
      "execution_count": null,
      "outputs": []
    },
    {
      "cell_type": "code",
      "source": [],
      "metadata": {
        "id": "vQpQHNMtYEFJ"
      },
      "execution_count": null,
      "outputs": []
    },
    {
      "cell_type": "code",
      "source": [],
      "metadata": {
        "id": "iTSWbSxAYEId"
      },
      "execution_count": null,
      "outputs": []
    },
    {
      "cell_type": "code",
      "source": [],
      "metadata": {
        "id": "aZcTwkpEYELi"
      },
      "execution_count": null,
      "outputs": []
    }
  ],
  "metadata": {
    "colab": {
      "provenance": []
    },
    "kernelspec": {
      "display_name": "Python 3",
      "name": "python3"
    },
    "language_info": {
      "name": "python"
    },
    "widgets": {
      "application/vnd.jupyter.widget-state+json": {
        "2b9e6d364b29484081a0eac941d2be00": {
          "model_module": "@jupyter-widgets/controls",
          "model_name": "HBoxModel",
          "model_module_version": "1.5.0",
          "state": {
            "_dom_classes": [],
            "_model_module": "@jupyter-widgets/controls",
            "_model_module_version": "1.5.0",
            "_model_name": "HBoxModel",
            "_view_count": null,
            "_view_module": "@jupyter-widgets/controls",
            "_view_module_version": "1.5.0",
            "_view_name": "HBoxView",
            "box_style": "",
            "children": [
              "IPY_MODEL_90fa204fc9454a24aa511f1ec5d60c1e",
              "IPY_MODEL_43bce6a1a64b4e8eb9ec3084596ea851",
              "IPY_MODEL_0de4d2ca69dc479aac0e25f457cd9d29"
            ],
            "layout": "IPY_MODEL_d2244f7ae5b24440b512d84f6fc2e1a5"
          }
        },
        "90fa204fc9454a24aa511f1ec5d60c1e": {
          "model_module": "@jupyter-widgets/controls",
          "model_name": "HTMLModel",
          "model_module_version": "1.5.0",
          "state": {
            "_dom_classes": [],
            "_model_module": "@jupyter-widgets/controls",
            "_model_module_version": "1.5.0",
            "_model_name": "HTMLModel",
            "_view_count": null,
            "_view_module": "@jupyter-widgets/controls",
            "_view_module_version": "1.5.0",
            "_view_name": "HTMLView",
            "description": "",
            "description_tooltip": null,
            "layout": "IPY_MODEL_7aba1d29d94f479aa36bfcf8494bdb0d",
            "placeholder": "​",
            "style": "IPY_MODEL_ed04b4cbee2144cab54400a5c0e15e4a",
            "value": "config.json: 100%"
          }
        },
        "43bce6a1a64b4e8eb9ec3084596ea851": {
          "model_module": "@jupyter-widgets/controls",
          "model_name": "FloatProgressModel",
          "model_module_version": "1.5.0",
          "state": {
            "_dom_classes": [],
            "_model_module": "@jupyter-widgets/controls",
            "_model_module_version": "1.5.0",
            "_model_name": "FloatProgressModel",
            "_view_count": null,
            "_view_module": "@jupyter-widgets/controls",
            "_view_module_version": "1.5.0",
            "_view_name": "ProgressView",
            "bar_style": "success",
            "description": "",
            "description_tooltip": null,
            "layout": "IPY_MODEL_4b7639ee45fe40edada95d78568a3551",
            "max": 629,
            "min": 0,
            "orientation": "horizontal",
            "style": "IPY_MODEL_ff2d055fa41b4e7e81db8c296f29ab1c",
            "value": 629
          }
        },
        "0de4d2ca69dc479aac0e25f457cd9d29": {
          "model_module": "@jupyter-widgets/controls",
          "model_name": "HTMLModel",
          "model_module_version": "1.5.0",
          "state": {
            "_dom_classes": [],
            "_model_module": "@jupyter-widgets/controls",
            "_model_module_version": "1.5.0",
            "_model_name": "HTMLModel",
            "_view_count": null,
            "_view_module": "@jupyter-widgets/controls",
            "_view_module_version": "1.5.0",
            "_view_name": "HTMLView",
            "description": "",
            "description_tooltip": null,
            "layout": "IPY_MODEL_ebfac8795d9e43758503ba1d962cb070",
            "placeholder": "​",
            "style": "IPY_MODEL_8c3d94d719f84fd4b2cdf2f8fc2e22ce",
            "value": " 629/629 [00:00&lt;00:00, 16.6kB/s]"
          }
        },
        "d2244f7ae5b24440b512d84f6fc2e1a5": {
          "model_module": "@jupyter-widgets/base",
          "model_name": "LayoutModel",
          "model_module_version": "1.2.0",
          "state": {
            "_model_module": "@jupyter-widgets/base",
            "_model_module_version": "1.2.0",
            "_model_name": "LayoutModel",
            "_view_count": null,
            "_view_module": "@jupyter-widgets/base",
            "_view_module_version": "1.2.0",
            "_view_name": "LayoutView",
            "align_content": null,
            "align_items": null,
            "align_self": null,
            "border": null,
            "bottom": null,
            "display": null,
            "flex": null,
            "flex_flow": null,
            "grid_area": null,
            "grid_auto_columns": null,
            "grid_auto_flow": null,
            "grid_auto_rows": null,
            "grid_column": null,
            "grid_gap": null,
            "grid_row": null,
            "grid_template_areas": null,
            "grid_template_columns": null,
            "grid_template_rows": null,
            "height": null,
            "justify_content": null,
            "justify_items": null,
            "left": null,
            "margin": null,
            "max_height": null,
            "max_width": null,
            "min_height": null,
            "min_width": null,
            "object_fit": null,
            "object_position": null,
            "order": null,
            "overflow": null,
            "overflow_x": null,
            "overflow_y": null,
            "padding": null,
            "right": null,
            "top": null,
            "visibility": null,
            "width": null
          }
        },
        "7aba1d29d94f479aa36bfcf8494bdb0d": {
          "model_module": "@jupyter-widgets/base",
          "model_name": "LayoutModel",
          "model_module_version": "1.2.0",
          "state": {
            "_model_module": "@jupyter-widgets/base",
            "_model_module_version": "1.2.0",
            "_model_name": "LayoutModel",
            "_view_count": null,
            "_view_module": "@jupyter-widgets/base",
            "_view_module_version": "1.2.0",
            "_view_name": "LayoutView",
            "align_content": null,
            "align_items": null,
            "align_self": null,
            "border": null,
            "bottom": null,
            "display": null,
            "flex": null,
            "flex_flow": null,
            "grid_area": null,
            "grid_auto_columns": null,
            "grid_auto_flow": null,
            "grid_auto_rows": null,
            "grid_column": null,
            "grid_gap": null,
            "grid_row": null,
            "grid_template_areas": null,
            "grid_template_columns": null,
            "grid_template_rows": null,
            "height": null,
            "justify_content": null,
            "justify_items": null,
            "left": null,
            "margin": null,
            "max_height": null,
            "max_width": null,
            "min_height": null,
            "min_width": null,
            "object_fit": null,
            "object_position": null,
            "order": null,
            "overflow": null,
            "overflow_x": null,
            "overflow_y": null,
            "padding": null,
            "right": null,
            "top": null,
            "visibility": null,
            "width": null
          }
        },
        "ed04b4cbee2144cab54400a5c0e15e4a": {
          "model_module": "@jupyter-widgets/controls",
          "model_name": "DescriptionStyleModel",
          "model_module_version": "1.5.0",
          "state": {
            "_model_module": "@jupyter-widgets/controls",
            "_model_module_version": "1.5.0",
            "_model_name": "DescriptionStyleModel",
            "_view_count": null,
            "_view_module": "@jupyter-widgets/base",
            "_view_module_version": "1.2.0",
            "_view_name": "StyleView",
            "description_width": ""
          }
        },
        "4b7639ee45fe40edada95d78568a3551": {
          "model_module": "@jupyter-widgets/base",
          "model_name": "LayoutModel",
          "model_module_version": "1.2.0",
          "state": {
            "_model_module": "@jupyter-widgets/base",
            "_model_module_version": "1.2.0",
            "_model_name": "LayoutModel",
            "_view_count": null,
            "_view_module": "@jupyter-widgets/base",
            "_view_module_version": "1.2.0",
            "_view_name": "LayoutView",
            "align_content": null,
            "align_items": null,
            "align_self": null,
            "border": null,
            "bottom": null,
            "display": null,
            "flex": null,
            "flex_flow": null,
            "grid_area": null,
            "grid_auto_columns": null,
            "grid_auto_flow": null,
            "grid_auto_rows": null,
            "grid_column": null,
            "grid_gap": null,
            "grid_row": null,
            "grid_template_areas": null,
            "grid_template_columns": null,
            "grid_template_rows": null,
            "height": null,
            "justify_content": null,
            "justify_items": null,
            "left": null,
            "margin": null,
            "max_height": null,
            "max_width": null,
            "min_height": null,
            "min_width": null,
            "object_fit": null,
            "object_position": null,
            "order": null,
            "overflow": null,
            "overflow_x": null,
            "overflow_y": null,
            "padding": null,
            "right": null,
            "top": null,
            "visibility": null,
            "width": null
          }
        },
        "ff2d055fa41b4e7e81db8c296f29ab1c": {
          "model_module": "@jupyter-widgets/controls",
          "model_name": "ProgressStyleModel",
          "model_module_version": "1.5.0",
          "state": {
            "_model_module": "@jupyter-widgets/controls",
            "_model_module_version": "1.5.0",
            "_model_name": "ProgressStyleModel",
            "_view_count": null,
            "_view_module": "@jupyter-widgets/base",
            "_view_module_version": "1.2.0",
            "_view_name": "StyleView",
            "bar_color": null,
            "description_width": ""
          }
        },
        "ebfac8795d9e43758503ba1d962cb070": {
          "model_module": "@jupyter-widgets/base",
          "model_name": "LayoutModel",
          "model_module_version": "1.2.0",
          "state": {
            "_model_module": "@jupyter-widgets/base",
            "_model_module_version": "1.2.0",
            "_model_name": "LayoutModel",
            "_view_count": null,
            "_view_module": "@jupyter-widgets/base",
            "_view_module_version": "1.2.0",
            "_view_name": "LayoutView",
            "align_content": null,
            "align_items": null,
            "align_self": null,
            "border": null,
            "bottom": null,
            "display": null,
            "flex": null,
            "flex_flow": null,
            "grid_area": null,
            "grid_auto_columns": null,
            "grid_auto_flow": null,
            "grid_auto_rows": null,
            "grid_column": null,
            "grid_gap": null,
            "grid_row": null,
            "grid_template_areas": null,
            "grid_template_columns": null,
            "grid_template_rows": null,
            "height": null,
            "justify_content": null,
            "justify_items": null,
            "left": null,
            "margin": null,
            "max_height": null,
            "max_width": null,
            "min_height": null,
            "min_width": null,
            "object_fit": null,
            "object_position": null,
            "order": null,
            "overflow": null,
            "overflow_x": null,
            "overflow_y": null,
            "padding": null,
            "right": null,
            "top": null,
            "visibility": null,
            "width": null
          }
        },
        "8c3d94d719f84fd4b2cdf2f8fc2e22ce": {
          "model_module": "@jupyter-widgets/controls",
          "model_name": "DescriptionStyleModel",
          "model_module_version": "1.5.0",
          "state": {
            "_model_module": "@jupyter-widgets/controls",
            "_model_module_version": "1.5.0",
            "_model_name": "DescriptionStyleModel",
            "_view_count": null,
            "_view_module": "@jupyter-widgets/base",
            "_view_module_version": "1.2.0",
            "_view_name": "StyleView",
            "description_width": ""
          }
        },
        "bdcc9c96a2304f50a5919ab52ab41d45": {
          "model_module": "@jupyter-widgets/controls",
          "model_name": "HBoxModel",
          "model_module_version": "1.5.0",
          "state": {
            "_dom_classes": [],
            "_model_module": "@jupyter-widgets/controls",
            "_model_module_version": "1.5.0",
            "_model_name": "HBoxModel",
            "_view_count": null,
            "_view_module": "@jupyter-widgets/controls",
            "_view_module_version": "1.5.0",
            "_view_name": "HBoxView",
            "box_style": "",
            "children": [
              "IPY_MODEL_e358efe9c4b24563820e3dc5ca1b58e2",
              "IPY_MODEL_750fa648da0245009e64f13b24bb995f",
              "IPY_MODEL_088aa4de4b43455fb14678eb6ee2be18"
            ],
            "layout": "IPY_MODEL_2104fa337eff4c67b992517b88b19e39"
          }
        },
        "e358efe9c4b24563820e3dc5ca1b58e2": {
          "model_module": "@jupyter-widgets/controls",
          "model_name": "HTMLModel",
          "model_module_version": "1.5.0",
          "state": {
            "_dom_classes": [],
            "_model_module": "@jupyter-widgets/controls",
            "_model_module_version": "1.5.0",
            "_model_name": "HTMLModel",
            "_view_count": null,
            "_view_module": "@jupyter-widgets/controls",
            "_view_module_version": "1.5.0",
            "_view_name": "HTMLView",
            "description": "",
            "description_tooltip": null,
            "layout": "IPY_MODEL_b77d26453b604ee48f9a9559a85baf2e",
            "placeholder": "​",
            "style": "IPY_MODEL_c38c2ce36fe74252a2a13c880093dcab",
            "value": "model.safetensors: 100%"
          }
        },
        "750fa648da0245009e64f13b24bb995f": {
          "model_module": "@jupyter-widgets/controls",
          "model_name": "FloatProgressModel",
          "model_module_version": "1.5.0",
          "state": {
            "_dom_classes": [],
            "_model_module": "@jupyter-widgets/controls",
            "_model_module_version": "1.5.0",
            "_model_name": "FloatProgressModel",
            "_view_count": null,
            "_view_module": "@jupyter-widgets/controls",
            "_view_module_version": "1.5.0",
            "_view_name": "ProgressView",
            "bar_style": "success",
            "description": "",
            "description_tooltip": null,
            "layout": "IPY_MODEL_f271a1154e4d49f9adbbf91b3eab4fdf",
            "max": 267832558,
            "min": 0,
            "orientation": "horizontal",
            "style": "IPY_MODEL_196019691b844ac4950542ce933e2940",
            "value": 267832558
          }
        },
        "088aa4de4b43455fb14678eb6ee2be18": {
          "model_module": "@jupyter-widgets/controls",
          "model_name": "HTMLModel",
          "model_module_version": "1.5.0",
          "state": {
            "_dom_classes": [],
            "_model_module": "@jupyter-widgets/controls",
            "_model_module_version": "1.5.0",
            "_model_name": "HTMLModel",
            "_view_count": null,
            "_view_module": "@jupyter-widgets/controls",
            "_view_module_version": "1.5.0",
            "_view_name": "HTMLView",
            "description": "",
            "description_tooltip": null,
            "layout": "IPY_MODEL_f8daccf775274f51b93b2d919441110d",
            "placeholder": "​",
            "style": "IPY_MODEL_cb021b283c184ac1820c08492357803d",
            "value": " 268M/268M [00:05&lt;00:00, 23.2MB/s]"
          }
        },
        "2104fa337eff4c67b992517b88b19e39": {
          "model_module": "@jupyter-widgets/base",
          "model_name": "LayoutModel",
          "model_module_version": "1.2.0",
          "state": {
            "_model_module": "@jupyter-widgets/base",
            "_model_module_version": "1.2.0",
            "_model_name": "LayoutModel",
            "_view_count": null,
            "_view_module": "@jupyter-widgets/base",
            "_view_module_version": "1.2.0",
            "_view_name": "LayoutView",
            "align_content": null,
            "align_items": null,
            "align_self": null,
            "border": null,
            "bottom": null,
            "display": null,
            "flex": null,
            "flex_flow": null,
            "grid_area": null,
            "grid_auto_columns": null,
            "grid_auto_flow": null,
            "grid_auto_rows": null,
            "grid_column": null,
            "grid_gap": null,
            "grid_row": null,
            "grid_template_areas": null,
            "grid_template_columns": null,
            "grid_template_rows": null,
            "height": null,
            "justify_content": null,
            "justify_items": null,
            "left": null,
            "margin": null,
            "max_height": null,
            "max_width": null,
            "min_height": null,
            "min_width": null,
            "object_fit": null,
            "object_position": null,
            "order": null,
            "overflow": null,
            "overflow_x": null,
            "overflow_y": null,
            "padding": null,
            "right": null,
            "top": null,
            "visibility": null,
            "width": null
          }
        },
        "b77d26453b604ee48f9a9559a85baf2e": {
          "model_module": "@jupyter-widgets/base",
          "model_name": "LayoutModel",
          "model_module_version": "1.2.0",
          "state": {
            "_model_module": "@jupyter-widgets/base",
            "_model_module_version": "1.2.0",
            "_model_name": "LayoutModel",
            "_view_count": null,
            "_view_module": "@jupyter-widgets/base",
            "_view_module_version": "1.2.0",
            "_view_name": "LayoutView",
            "align_content": null,
            "align_items": null,
            "align_self": null,
            "border": null,
            "bottom": null,
            "display": null,
            "flex": null,
            "flex_flow": null,
            "grid_area": null,
            "grid_auto_columns": null,
            "grid_auto_flow": null,
            "grid_auto_rows": null,
            "grid_column": null,
            "grid_gap": null,
            "grid_row": null,
            "grid_template_areas": null,
            "grid_template_columns": null,
            "grid_template_rows": null,
            "height": null,
            "justify_content": null,
            "justify_items": null,
            "left": null,
            "margin": null,
            "max_height": null,
            "max_width": null,
            "min_height": null,
            "min_width": null,
            "object_fit": null,
            "object_position": null,
            "order": null,
            "overflow": null,
            "overflow_x": null,
            "overflow_y": null,
            "padding": null,
            "right": null,
            "top": null,
            "visibility": null,
            "width": null
          }
        },
        "c38c2ce36fe74252a2a13c880093dcab": {
          "model_module": "@jupyter-widgets/controls",
          "model_name": "DescriptionStyleModel",
          "model_module_version": "1.5.0",
          "state": {
            "_model_module": "@jupyter-widgets/controls",
            "_model_module_version": "1.5.0",
            "_model_name": "DescriptionStyleModel",
            "_view_count": null,
            "_view_module": "@jupyter-widgets/base",
            "_view_module_version": "1.2.0",
            "_view_name": "StyleView",
            "description_width": ""
          }
        },
        "f271a1154e4d49f9adbbf91b3eab4fdf": {
          "model_module": "@jupyter-widgets/base",
          "model_name": "LayoutModel",
          "model_module_version": "1.2.0",
          "state": {
            "_model_module": "@jupyter-widgets/base",
            "_model_module_version": "1.2.0",
            "_model_name": "LayoutModel",
            "_view_count": null,
            "_view_module": "@jupyter-widgets/base",
            "_view_module_version": "1.2.0",
            "_view_name": "LayoutView",
            "align_content": null,
            "align_items": null,
            "align_self": null,
            "border": null,
            "bottom": null,
            "display": null,
            "flex": null,
            "flex_flow": null,
            "grid_area": null,
            "grid_auto_columns": null,
            "grid_auto_flow": null,
            "grid_auto_rows": null,
            "grid_column": null,
            "grid_gap": null,
            "grid_row": null,
            "grid_template_areas": null,
            "grid_template_columns": null,
            "grid_template_rows": null,
            "height": null,
            "justify_content": null,
            "justify_items": null,
            "left": null,
            "margin": null,
            "max_height": null,
            "max_width": null,
            "min_height": null,
            "min_width": null,
            "object_fit": null,
            "object_position": null,
            "order": null,
            "overflow": null,
            "overflow_x": null,
            "overflow_y": null,
            "padding": null,
            "right": null,
            "top": null,
            "visibility": null,
            "width": null
          }
        },
        "196019691b844ac4950542ce933e2940": {
          "model_module": "@jupyter-widgets/controls",
          "model_name": "ProgressStyleModel",
          "model_module_version": "1.5.0",
          "state": {
            "_model_module": "@jupyter-widgets/controls",
            "_model_module_version": "1.5.0",
            "_model_name": "ProgressStyleModel",
            "_view_count": null,
            "_view_module": "@jupyter-widgets/base",
            "_view_module_version": "1.2.0",
            "_view_name": "StyleView",
            "bar_color": null,
            "description_width": ""
          }
        },
        "f8daccf775274f51b93b2d919441110d": {
          "model_module": "@jupyter-widgets/base",
          "model_name": "LayoutModel",
          "model_module_version": "1.2.0",
          "state": {
            "_model_module": "@jupyter-widgets/base",
            "_model_module_version": "1.2.0",
            "_model_name": "LayoutModel",
            "_view_count": null,
            "_view_module": "@jupyter-widgets/base",
            "_view_module_version": "1.2.0",
            "_view_name": "LayoutView",
            "align_content": null,
            "align_items": null,
            "align_self": null,
            "border": null,
            "bottom": null,
            "display": null,
            "flex": null,
            "flex_flow": null,
            "grid_area": null,
            "grid_auto_columns": null,
            "grid_auto_flow": null,
            "grid_auto_rows": null,
            "grid_column": null,
            "grid_gap": null,
            "grid_row": null,
            "grid_template_areas": null,
            "grid_template_columns": null,
            "grid_template_rows": null,
            "height": null,
            "justify_content": null,
            "justify_items": null,
            "left": null,
            "margin": null,
            "max_height": null,
            "max_width": null,
            "min_height": null,
            "min_width": null,
            "object_fit": null,
            "object_position": null,
            "order": null,
            "overflow": null,
            "overflow_x": null,
            "overflow_y": null,
            "padding": null,
            "right": null,
            "top": null,
            "visibility": null,
            "width": null
          }
        },
        "cb021b283c184ac1820c08492357803d": {
          "model_module": "@jupyter-widgets/controls",
          "model_name": "DescriptionStyleModel",
          "model_module_version": "1.5.0",
          "state": {
            "_model_module": "@jupyter-widgets/controls",
            "_model_module_version": "1.5.0",
            "_model_name": "DescriptionStyleModel",
            "_view_count": null,
            "_view_module": "@jupyter-widgets/base",
            "_view_module_version": "1.2.0",
            "_view_name": "StyleView",
            "description_width": ""
          }
        },
        "3819d0fc15ce4560b60daf455e5eb519": {
          "model_module": "@jupyter-widgets/controls",
          "model_name": "HBoxModel",
          "model_module_version": "1.5.0",
          "state": {
            "_dom_classes": [],
            "_model_module": "@jupyter-widgets/controls",
            "_model_module_version": "1.5.0",
            "_model_name": "HBoxModel",
            "_view_count": null,
            "_view_module": "@jupyter-widgets/controls",
            "_view_module_version": "1.5.0",
            "_view_name": "HBoxView",
            "box_style": "",
            "children": [
              "IPY_MODEL_ed0cf8453cb44eafadc1c2420538f3db",
              "IPY_MODEL_6a649faaed3846b9a37dc60e474931ce",
              "IPY_MODEL_d3c2a06b7a064430be72c04ca8faa6cf"
            ],
            "layout": "IPY_MODEL_ba9e1130f97442cb93a5445e222927f1"
          }
        },
        "ed0cf8453cb44eafadc1c2420538f3db": {
          "model_module": "@jupyter-widgets/controls",
          "model_name": "HTMLModel",
          "model_module_version": "1.5.0",
          "state": {
            "_dom_classes": [],
            "_model_module": "@jupyter-widgets/controls",
            "_model_module_version": "1.5.0",
            "_model_name": "HTMLModel",
            "_view_count": null,
            "_view_module": "@jupyter-widgets/controls",
            "_view_module_version": "1.5.0",
            "_view_name": "HTMLView",
            "description": "",
            "description_tooltip": null,
            "layout": "IPY_MODEL_f4b3ee44381046669eb8bf7b78b6e45e",
            "placeholder": "​",
            "style": "IPY_MODEL_e3158c369137433a91c8660e80eba90b",
            "value": "tokenizer_config.json: 100%"
          }
        },
        "6a649faaed3846b9a37dc60e474931ce": {
          "model_module": "@jupyter-widgets/controls",
          "model_name": "FloatProgressModel",
          "model_module_version": "1.5.0",
          "state": {
            "_dom_classes": [],
            "_model_module": "@jupyter-widgets/controls",
            "_model_module_version": "1.5.0",
            "_model_name": "FloatProgressModel",
            "_view_count": null,
            "_view_module": "@jupyter-widgets/controls",
            "_view_module_version": "1.5.0",
            "_view_name": "ProgressView",
            "bar_style": "success",
            "description": "",
            "description_tooltip": null,
            "layout": "IPY_MODEL_9de25b7cc350422391e50a1acb7b5c13",
            "max": 48,
            "min": 0,
            "orientation": "horizontal",
            "style": "IPY_MODEL_4acf2ae813f44d9b93ba95b3259e52d3",
            "value": 48
          }
        },
        "d3c2a06b7a064430be72c04ca8faa6cf": {
          "model_module": "@jupyter-widgets/controls",
          "model_name": "HTMLModel",
          "model_module_version": "1.5.0",
          "state": {
            "_dom_classes": [],
            "_model_module": "@jupyter-widgets/controls",
            "_model_module_version": "1.5.0",
            "_model_name": "HTMLModel",
            "_view_count": null,
            "_view_module": "@jupyter-widgets/controls",
            "_view_module_version": "1.5.0",
            "_view_name": "HTMLView",
            "description": "",
            "description_tooltip": null,
            "layout": "IPY_MODEL_6d7b165043ca4a1985725ce006716fef",
            "placeholder": "​",
            "style": "IPY_MODEL_82480267bece4a4daba46f6651dca462",
            "value": " 48.0/48.0 [00:00&lt;00:00, 1.74kB/s]"
          }
        },
        "ba9e1130f97442cb93a5445e222927f1": {
          "model_module": "@jupyter-widgets/base",
          "model_name": "LayoutModel",
          "model_module_version": "1.2.0",
          "state": {
            "_model_module": "@jupyter-widgets/base",
            "_model_module_version": "1.2.0",
            "_model_name": "LayoutModel",
            "_view_count": null,
            "_view_module": "@jupyter-widgets/base",
            "_view_module_version": "1.2.0",
            "_view_name": "LayoutView",
            "align_content": null,
            "align_items": null,
            "align_self": null,
            "border": null,
            "bottom": null,
            "display": null,
            "flex": null,
            "flex_flow": null,
            "grid_area": null,
            "grid_auto_columns": null,
            "grid_auto_flow": null,
            "grid_auto_rows": null,
            "grid_column": null,
            "grid_gap": null,
            "grid_row": null,
            "grid_template_areas": null,
            "grid_template_columns": null,
            "grid_template_rows": null,
            "height": null,
            "justify_content": null,
            "justify_items": null,
            "left": null,
            "margin": null,
            "max_height": null,
            "max_width": null,
            "min_height": null,
            "min_width": null,
            "object_fit": null,
            "object_position": null,
            "order": null,
            "overflow": null,
            "overflow_x": null,
            "overflow_y": null,
            "padding": null,
            "right": null,
            "top": null,
            "visibility": null,
            "width": null
          }
        },
        "f4b3ee44381046669eb8bf7b78b6e45e": {
          "model_module": "@jupyter-widgets/base",
          "model_name": "LayoutModel",
          "model_module_version": "1.2.0",
          "state": {
            "_model_module": "@jupyter-widgets/base",
            "_model_module_version": "1.2.0",
            "_model_name": "LayoutModel",
            "_view_count": null,
            "_view_module": "@jupyter-widgets/base",
            "_view_module_version": "1.2.0",
            "_view_name": "LayoutView",
            "align_content": null,
            "align_items": null,
            "align_self": null,
            "border": null,
            "bottom": null,
            "display": null,
            "flex": null,
            "flex_flow": null,
            "grid_area": null,
            "grid_auto_columns": null,
            "grid_auto_flow": null,
            "grid_auto_rows": null,
            "grid_column": null,
            "grid_gap": null,
            "grid_row": null,
            "grid_template_areas": null,
            "grid_template_columns": null,
            "grid_template_rows": null,
            "height": null,
            "justify_content": null,
            "justify_items": null,
            "left": null,
            "margin": null,
            "max_height": null,
            "max_width": null,
            "min_height": null,
            "min_width": null,
            "object_fit": null,
            "object_position": null,
            "order": null,
            "overflow": null,
            "overflow_x": null,
            "overflow_y": null,
            "padding": null,
            "right": null,
            "top": null,
            "visibility": null,
            "width": null
          }
        },
        "e3158c369137433a91c8660e80eba90b": {
          "model_module": "@jupyter-widgets/controls",
          "model_name": "DescriptionStyleModel",
          "model_module_version": "1.5.0",
          "state": {
            "_model_module": "@jupyter-widgets/controls",
            "_model_module_version": "1.5.0",
            "_model_name": "DescriptionStyleModel",
            "_view_count": null,
            "_view_module": "@jupyter-widgets/base",
            "_view_module_version": "1.2.0",
            "_view_name": "StyleView",
            "description_width": ""
          }
        },
        "9de25b7cc350422391e50a1acb7b5c13": {
          "model_module": "@jupyter-widgets/base",
          "model_name": "LayoutModel",
          "model_module_version": "1.2.0",
          "state": {
            "_model_module": "@jupyter-widgets/base",
            "_model_module_version": "1.2.0",
            "_model_name": "LayoutModel",
            "_view_count": null,
            "_view_module": "@jupyter-widgets/base",
            "_view_module_version": "1.2.0",
            "_view_name": "LayoutView",
            "align_content": null,
            "align_items": null,
            "align_self": null,
            "border": null,
            "bottom": null,
            "display": null,
            "flex": null,
            "flex_flow": null,
            "grid_area": null,
            "grid_auto_columns": null,
            "grid_auto_flow": null,
            "grid_auto_rows": null,
            "grid_column": null,
            "grid_gap": null,
            "grid_row": null,
            "grid_template_areas": null,
            "grid_template_columns": null,
            "grid_template_rows": null,
            "height": null,
            "justify_content": null,
            "justify_items": null,
            "left": null,
            "margin": null,
            "max_height": null,
            "max_width": null,
            "min_height": null,
            "min_width": null,
            "object_fit": null,
            "object_position": null,
            "order": null,
            "overflow": null,
            "overflow_x": null,
            "overflow_y": null,
            "padding": null,
            "right": null,
            "top": null,
            "visibility": null,
            "width": null
          }
        },
        "4acf2ae813f44d9b93ba95b3259e52d3": {
          "model_module": "@jupyter-widgets/controls",
          "model_name": "ProgressStyleModel",
          "model_module_version": "1.5.0",
          "state": {
            "_model_module": "@jupyter-widgets/controls",
            "_model_module_version": "1.5.0",
            "_model_name": "ProgressStyleModel",
            "_view_count": null,
            "_view_module": "@jupyter-widgets/base",
            "_view_module_version": "1.2.0",
            "_view_name": "StyleView",
            "bar_color": null,
            "description_width": ""
          }
        },
        "6d7b165043ca4a1985725ce006716fef": {
          "model_module": "@jupyter-widgets/base",
          "model_name": "LayoutModel",
          "model_module_version": "1.2.0",
          "state": {
            "_model_module": "@jupyter-widgets/base",
            "_model_module_version": "1.2.0",
            "_model_name": "LayoutModel",
            "_view_count": null,
            "_view_module": "@jupyter-widgets/base",
            "_view_module_version": "1.2.0",
            "_view_name": "LayoutView",
            "align_content": null,
            "align_items": null,
            "align_self": null,
            "border": null,
            "bottom": null,
            "display": null,
            "flex": null,
            "flex_flow": null,
            "grid_area": null,
            "grid_auto_columns": null,
            "grid_auto_flow": null,
            "grid_auto_rows": null,
            "grid_column": null,
            "grid_gap": null,
            "grid_row": null,
            "grid_template_areas": null,
            "grid_template_columns": null,
            "grid_template_rows": null,
            "height": null,
            "justify_content": null,
            "justify_items": null,
            "left": null,
            "margin": null,
            "max_height": null,
            "max_width": null,
            "min_height": null,
            "min_width": null,
            "object_fit": null,
            "object_position": null,
            "order": null,
            "overflow": null,
            "overflow_x": null,
            "overflow_y": null,
            "padding": null,
            "right": null,
            "top": null,
            "visibility": null,
            "width": null
          }
        },
        "82480267bece4a4daba46f6651dca462": {
          "model_module": "@jupyter-widgets/controls",
          "model_name": "DescriptionStyleModel",
          "model_module_version": "1.5.0",
          "state": {
            "_model_module": "@jupyter-widgets/controls",
            "_model_module_version": "1.5.0",
            "_model_name": "DescriptionStyleModel",
            "_view_count": null,
            "_view_module": "@jupyter-widgets/base",
            "_view_module_version": "1.2.0",
            "_view_name": "StyleView",
            "description_width": ""
          }
        },
        "384782ea2587492da0a78262cd9e9734": {
          "model_module": "@jupyter-widgets/controls",
          "model_name": "HBoxModel",
          "model_module_version": "1.5.0",
          "state": {
            "_dom_classes": [],
            "_model_module": "@jupyter-widgets/controls",
            "_model_module_version": "1.5.0",
            "_model_name": "HBoxModel",
            "_view_count": null,
            "_view_module": "@jupyter-widgets/controls",
            "_view_module_version": "1.5.0",
            "_view_name": "HBoxView",
            "box_style": "",
            "children": [
              "IPY_MODEL_58546d39341e4abdbbe3ba8b4e0b0d91",
              "IPY_MODEL_0e294de1388d45ac98a63027d3608f7d",
              "IPY_MODEL_ecf453e2b5e84cbb9701d1e17018fe78"
            ],
            "layout": "IPY_MODEL_8f9d0c55376d42be85a73e4f838af243"
          }
        },
        "58546d39341e4abdbbe3ba8b4e0b0d91": {
          "model_module": "@jupyter-widgets/controls",
          "model_name": "HTMLModel",
          "model_module_version": "1.5.0",
          "state": {
            "_dom_classes": [],
            "_model_module": "@jupyter-widgets/controls",
            "_model_module_version": "1.5.0",
            "_model_name": "HTMLModel",
            "_view_count": null,
            "_view_module": "@jupyter-widgets/controls",
            "_view_module_version": "1.5.0",
            "_view_name": "HTMLView",
            "description": "",
            "description_tooltip": null,
            "layout": "IPY_MODEL_ba242b9be3f742878e7db9881ae766b0",
            "placeholder": "​",
            "style": "IPY_MODEL_5ea8bffe81bc419e8c1c0e8610f6973e",
            "value": "vocab.txt: 100%"
          }
        },
        "0e294de1388d45ac98a63027d3608f7d": {
          "model_module": "@jupyter-widgets/controls",
          "model_name": "FloatProgressModel",
          "model_module_version": "1.5.0",
          "state": {
            "_dom_classes": [],
            "_model_module": "@jupyter-widgets/controls",
            "_model_module_version": "1.5.0",
            "_model_name": "FloatProgressModel",
            "_view_count": null,
            "_view_module": "@jupyter-widgets/controls",
            "_view_module_version": "1.5.0",
            "_view_name": "ProgressView",
            "bar_style": "success",
            "description": "",
            "description_tooltip": null,
            "layout": "IPY_MODEL_0083be741b2b46e0a64c8b3f6a5a537d",
            "max": 231508,
            "min": 0,
            "orientation": "horizontal",
            "style": "IPY_MODEL_7012d085a9f44660ae23569fa9383b67",
            "value": 231508
          }
        },
        "ecf453e2b5e84cbb9701d1e17018fe78": {
          "model_module": "@jupyter-widgets/controls",
          "model_name": "HTMLModel",
          "model_module_version": "1.5.0",
          "state": {
            "_dom_classes": [],
            "_model_module": "@jupyter-widgets/controls",
            "_model_module_version": "1.5.0",
            "_model_name": "HTMLModel",
            "_view_count": null,
            "_view_module": "@jupyter-widgets/controls",
            "_view_module_version": "1.5.0",
            "_view_name": "HTMLView",
            "description": "",
            "description_tooltip": null,
            "layout": "IPY_MODEL_5eab315fce0e49d6b5dfb76aa430e5db",
            "placeholder": "​",
            "style": "IPY_MODEL_5ef07587624e4bff97320267ea589b2d",
            "value": " 232k/232k [00:00&lt;00:00, 1.46MB/s]"
          }
        },
        "8f9d0c55376d42be85a73e4f838af243": {
          "model_module": "@jupyter-widgets/base",
          "model_name": "LayoutModel",
          "model_module_version": "1.2.0",
          "state": {
            "_model_module": "@jupyter-widgets/base",
            "_model_module_version": "1.2.0",
            "_model_name": "LayoutModel",
            "_view_count": null,
            "_view_module": "@jupyter-widgets/base",
            "_view_module_version": "1.2.0",
            "_view_name": "LayoutView",
            "align_content": null,
            "align_items": null,
            "align_self": null,
            "border": null,
            "bottom": null,
            "display": null,
            "flex": null,
            "flex_flow": null,
            "grid_area": null,
            "grid_auto_columns": null,
            "grid_auto_flow": null,
            "grid_auto_rows": null,
            "grid_column": null,
            "grid_gap": null,
            "grid_row": null,
            "grid_template_areas": null,
            "grid_template_columns": null,
            "grid_template_rows": null,
            "height": null,
            "justify_content": null,
            "justify_items": null,
            "left": null,
            "margin": null,
            "max_height": null,
            "max_width": null,
            "min_height": null,
            "min_width": null,
            "object_fit": null,
            "object_position": null,
            "order": null,
            "overflow": null,
            "overflow_x": null,
            "overflow_y": null,
            "padding": null,
            "right": null,
            "top": null,
            "visibility": null,
            "width": null
          }
        },
        "ba242b9be3f742878e7db9881ae766b0": {
          "model_module": "@jupyter-widgets/base",
          "model_name": "LayoutModel",
          "model_module_version": "1.2.0",
          "state": {
            "_model_module": "@jupyter-widgets/base",
            "_model_module_version": "1.2.0",
            "_model_name": "LayoutModel",
            "_view_count": null,
            "_view_module": "@jupyter-widgets/base",
            "_view_module_version": "1.2.0",
            "_view_name": "LayoutView",
            "align_content": null,
            "align_items": null,
            "align_self": null,
            "border": null,
            "bottom": null,
            "display": null,
            "flex": null,
            "flex_flow": null,
            "grid_area": null,
            "grid_auto_columns": null,
            "grid_auto_flow": null,
            "grid_auto_rows": null,
            "grid_column": null,
            "grid_gap": null,
            "grid_row": null,
            "grid_template_areas": null,
            "grid_template_columns": null,
            "grid_template_rows": null,
            "height": null,
            "justify_content": null,
            "justify_items": null,
            "left": null,
            "margin": null,
            "max_height": null,
            "max_width": null,
            "min_height": null,
            "min_width": null,
            "object_fit": null,
            "object_position": null,
            "order": null,
            "overflow": null,
            "overflow_x": null,
            "overflow_y": null,
            "padding": null,
            "right": null,
            "top": null,
            "visibility": null,
            "width": null
          }
        },
        "5ea8bffe81bc419e8c1c0e8610f6973e": {
          "model_module": "@jupyter-widgets/controls",
          "model_name": "DescriptionStyleModel",
          "model_module_version": "1.5.0",
          "state": {
            "_model_module": "@jupyter-widgets/controls",
            "_model_module_version": "1.5.0",
            "_model_name": "DescriptionStyleModel",
            "_view_count": null,
            "_view_module": "@jupyter-widgets/base",
            "_view_module_version": "1.2.0",
            "_view_name": "StyleView",
            "description_width": ""
          }
        },
        "0083be741b2b46e0a64c8b3f6a5a537d": {
          "model_module": "@jupyter-widgets/base",
          "model_name": "LayoutModel",
          "model_module_version": "1.2.0",
          "state": {
            "_model_module": "@jupyter-widgets/base",
            "_model_module_version": "1.2.0",
            "_model_name": "LayoutModel",
            "_view_count": null,
            "_view_module": "@jupyter-widgets/base",
            "_view_module_version": "1.2.0",
            "_view_name": "LayoutView",
            "align_content": null,
            "align_items": null,
            "align_self": null,
            "border": null,
            "bottom": null,
            "display": null,
            "flex": null,
            "flex_flow": null,
            "grid_area": null,
            "grid_auto_columns": null,
            "grid_auto_flow": null,
            "grid_auto_rows": null,
            "grid_column": null,
            "grid_gap": null,
            "grid_row": null,
            "grid_template_areas": null,
            "grid_template_columns": null,
            "grid_template_rows": null,
            "height": null,
            "justify_content": null,
            "justify_items": null,
            "left": null,
            "margin": null,
            "max_height": null,
            "max_width": null,
            "min_height": null,
            "min_width": null,
            "object_fit": null,
            "object_position": null,
            "order": null,
            "overflow": null,
            "overflow_x": null,
            "overflow_y": null,
            "padding": null,
            "right": null,
            "top": null,
            "visibility": null,
            "width": null
          }
        },
        "7012d085a9f44660ae23569fa9383b67": {
          "model_module": "@jupyter-widgets/controls",
          "model_name": "ProgressStyleModel",
          "model_module_version": "1.5.0",
          "state": {
            "_model_module": "@jupyter-widgets/controls",
            "_model_module_version": "1.5.0",
            "_model_name": "ProgressStyleModel",
            "_view_count": null,
            "_view_module": "@jupyter-widgets/base",
            "_view_module_version": "1.2.0",
            "_view_name": "StyleView",
            "bar_color": null,
            "description_width": ""
          }
        },
        "5eab315fce0e49d6b5dfb76aa430e5db": {
          "model_module": "@jupyter-widgets/base",
          "model_name": "LayoutModel",
          "model_module_version": "1.2.0",
          "state": {
            "_model_module": "@jupyter-widgets/base",
            "_model_module_version": "1.2.0",
            "_model_name": "LayoutModel",
            "_view_count": null,
            "_view_module": "@jupyter-widgets/base",
            "_view_module_version": "1.2.0",
            "_view_name": "LayoutView",
            "align_content": null,
            "align_items": null,
            "align_self": null,
            "border": null,
            "bottom": null,
            "display": null,
            "flex": null,
            "flex_flow": null,
            "grid_area": null,
            "grid_auto_columns": null,
            "grid_auto_flow": null,
            "grid_auto_rows": null,
            "grid_column": null,
            "grid_gap": null,
            "grid_row": null,
            "grid_template_areas": null,
            "grid_template_columns": null,
            "grid_template_rows": null,
            "height": null,
            "justify_content": null,
            "justify_items": null,
            "left": null,
            "margin": null,
            "max_height": null,
            "max_width": null,
            "min_height": null,
            "min_width": null,
            "object_fit": null,
            "object_position": null,
            "order": null,
            "overflow": null,
            "overflow_x": null,
            "overflow_y": null,
            "padding": null,
            "right": null,
            "top": null,
            "visibility": null,
            "width": null
          }
        },
        "5ef07587624e4bff97320267ea589b2d": {
          "model_module": "@jupyter-widgets/controls",
          "model_name": "DescriptionStyleModel",
          "model_module_version": "1.5.0",
          "state": {
            "_model_module": "@jupyter-widgets/controls",
            "_model_module_version": "1.5.0",
            "_model_name": "DescriptionStyleModel",
            "_view_count": null,
            "_view_module": "@jupyter-widgets/base",
            "_view_module_version": "1.2.0",
            "_view_name": "StyleView",
            "description_width": ""
          }
        },
        "90839221c037415e93a54dfe82f493e5": {
          "model_module": "@jupyter-widgets/controls",
          "model_name": "HBoxModel",
          "model_module_version": "1.5.0",
          "state": {
            "_dom_classes": [],
            "_model_module": "@jupyter-widgets/controls",
            "_model_module_version": "1.5.0",
            "_model_name": "HBoxModel",
            "_view_count": null,
            "_view_module": "@jupyter-widgets/controls",
            "_view_module_version": "1.5.0",
            "_view_name": "HBoxView",
            "box_style": "",
            "children": [
              "IPY_MODEL_8f883d77bb3b4c13a94b2586f5e942e5",
              "IPY_MODEL_1a964fd971f9409bb2cd441103a0052f",
              "IPY_MODEL_10703ee40e3c4cc99f32369b81787bdf"
            ],
            "layout": "IPY_MODEL_1eabb13ab9e847b99ad3d051e7988586"
          }
        },
        "8f883d77bb3b4c13a94b2586f5e942e5": {
          "model_module": "@jupyter-widgets/controls",
          "model_name": "HTMLModel",
          "model_module_version": "1.5.0",
          "state": {
            "_dom_classes": [],
            "_model_module": "@jupyter-widgets/controls",
            "_model_module_version": "1.5.0",
            "_model_name": "HTMLModel",
            "_view_count": null,
            "_view_module": "@jupyter-widgets/controls",
            "_view_module_version": "1.5.0",
            "_view_name": "HTMLView",
            "description": "",
            "description_tooltip": null,
            "layout": "IPY_MODEL_eb3b2d09c3404d27974b4ddd42b9d1cd",
            "placeholder": "​",
            "style": "IPY_MODEL_d2633250b01144afb484370c2f5ffe00",
            "value": "Map: 100%"
          }
        },
        "1a964fd971f9409bb2cd441103a0052f": {
          "model_module": "@jupyter-widgets/controls",
          "model_name": "FloatProgressModel",
          "model_module_version": "1.5.0",
          "state": {
            "_dom_classes": [],
            "_model_module": "@jupyter-widgets/controls",
            "_model_module_version": "1.5.0",
            "_model_name": "FloatProgressModel",
            "_view_count": null,
            "_view_module": "@jupyter-widgets/controls",
            "_view_module_version": "1.5.0",
            "_view_name": "ProgressView",
            "bar_style": "success",
            "description": "",
            "description_tooltip": null,
            "layout": "IPY_MODEL_90da68ad971a43e19226ad63b6008cc9",
            "max": 50000,
            "min": 0,
            "orientation": "horizontal",
            "style": "IPY_MODEL_7fbb86591a154b938a669e0c041338f7",
            "value": 50000
          }
        },
        "10703ee40e3c4cc99f32369b81787bdf": {
          "model_module": "@jupyter-widgets/controls",
          "model_name": "HTMLModel",
          "model_module_version": "1.5.0",
          "state": {
            "_dom_classes": [],
            "_model_module": "@jupyter-widgets/controls",
            "_model_module_version": "1.5.0",
            "_model_name": "HTMLModel",
            "_view_count": null,
            "_view_module": "@jupyter-widgets/controls",
            "_view_module_version": "1.5.0",
            "_view_name": "HTMLView",
            "description": "",
            "description_tooltip": null,
            "layout": "IPY_MODEL_8c89d2799b114994b685acb974faaaf3",
            "placeholder": "​",
            "style": "IPY_MODEL_5db2568c5cb64230a722dd25ae6eba16",
            "value": " 50000/50000 [00:58&lt;00:00, 1210.21 examples/s]"
          }
        },
        "1eabb13ab9e847b99ad3d051e7988586": {
          "model_module": "@jupyter-widgets/base",
          "model_name": "LayoutModel",
          "model_module_version": "1.2.0",
          "state": {
            "_model_module": "@jupyter-widgets/base",
            "_model_module_version": "1.2.0",
            "_model_name": "LayoutModel",
            "_view_count": null,
            "_view_module": "@jupyter-widgets/base",
            "_view_module_version": "1.2.0",
            "_view_name": "LayoutView",
            "align_content": null,
            "align_items": null,
            "align_self": null,
            "border": null,
            "bottom": null,
            "display": null,
            "flex": null,
            "flex_flow": null,
            "grid_area": null,
            "grid_auto_columns": null,
            "grid_auto_flow": null,
            "grid_auto_rows": null,
            "grid_column": null,
            "grid_gap": null,
            "grid_row": null,
            "grid_template_areas": null,
            "grid_template_columns": null,
            "grid_template_rows": null,
            "height": null,
            "justify_content": null,
            "justify_items": null,
            "left": null,
            "margin": null,
            "max_height": null,
            "max_width": null,
            "min_height": null,
            "min_width": null,
            "object_fit": null,
            "object_position": null,
            "order": null,
            "overflow": null,
            "overflow_x": null,
            "overflow_y": null,
            "padding": null,
            "right": null,
            "top": null,
            "visibility": null,
            "width": null
          }
        },
        "eb3b2d09c3404d27974b4ddd42b9d1cd": {
          "model_module": "@jupyter-widgets/base",
          "model_name": "LayoutModel",
          "model_module_version": "1.2.0",
          "state": {
            "_model_module": "@jupyter-widgets/base",
            "_model_module_version": "1.2.0",
            "_model_name": "LayoutModel",
            "_view_count": null,
            "_view_module": "@jupyter-widgets/base",
            "_view_module_version": "1.2.0",
            "_view_name": "LayoutView",
            "align_content": null,
            "align_items": null,
            "align_self": null,
            "border": null,
            "bottom": null,
            "display": null,
            "flex": null,
            "flex_flow": null,
            "grid_area": null,
            "grid_auto_columns": null,
            "grid_auto_flow": null,
            "grid_auto_rows": null,
            "grid_column": null,
            "grid_gap": null,
            "grid_row": null,
            "grid_template_areas": null,
            "grid_template_columns": null,
            "grid_template_rows": null,
            "height": null,
            "justify_content": null,
            "justify_items": null,
            "left": null,
            "margin": null,
            "max_height": null,
            "max_width": null,
            "min_height": null,
            "min_width": null,
            "object_fit": null,
            "object_position": null,
            "order": null,
            "overflow": null,
            "overflow_x": null,
            "overflow_y": null,
            "padding": null,
            "right": null,
            "top": null,
            "visibility": null,
            "width": null
          }
        },
        "d2633250b01144afb484370c2f5ffe00": {
          "model_module": "@jupyter-widgets/controls",
          "model_name": "DescriptionStyleModel",
          "model_module_version": "1.5.0",
          "state": {
            "_model_module": "@jupyter-widgets/controls",
            "_model_module_version": "1.5.0",
            "_model_name": "DescriptionStyleModel",
            "_view_count": null,
            "_view_module": "@jupyter-widgets/base",
            "_view_module_version": "1.2.0",
            "_view_name": "StyleView",
            "description_width": ""
          }
        },
        "90da68ad971a43e19226ad63b6008cc9": {
          "model_module": "@jupyter-widgets/base",
          "model_name": "LayoutModel",
          "model_module_version": "1.2.0",
          "state": {
            "_model_module": "@jupyter-widgets/base",
            "_model_module_version": "1.2.0",
            "_model_name": "LayoutModel",
            "_view_count": null,
            "_view_module": "@jupyter-widgets/base",
            "_view_module_version": "1.2.0",
            "_view_name": "LayoutView",
            "align_content": null,
            "align_items": null,
            "align_self": null,
            "border": null,
            "bottom": null,
            "display": null,
            "flex": null,
            "flex_flow": null,
            "grid_area": null,
            "grid_auto_columns": null,
            "grid_auto_flow": null,
            "grid_auto_rows": null,
            "grid_column": null,
            "grid_gap": null,
            "grid_row": null,
            "grid_template_areas": null,
            "grid_template_columns": null,
            "grid_template_rows": null,
            "height": null,
            "justify_content": null,
            "justify_items": null,
            "left": null,
            "margin": null,
            "max_height": null,
            "max_width": null,
            "min_height": null,
            "min_width": null,
            "object_fit": null,
            "object_position": null,
            "order": null,
            "overflow": null,
            "overflow_x": null,
            "overflow_y": null,
            "padding": null,
            "right": null,
            "top": null,
            "visibility": null,
            "width": null
          }
        },
        "7fbb86591a154b938a669e0c041338f7": {
          "model_module": "@jupyter-widgets/controls",
          "model_name": "ProgressStyleModel",
          "model_module_version": "1.5.0",
          "state": {
            "_model_module": "@jupyter-widgets/controls",
            "_model_module_version": "1.5.0",
            "_model_name": "ProgressStyleModel",
            "_view_count": null,
            "_view_module": "@jupyter-widgets/base",
            "_view_module_version": "1.2.0",
            "_view_name": "StyleView",
            "bar_color": null,
            "description_width": ""
          }
        },
        "8c89d2799b114994b685acb974faaaf3": {
          "model_module": "@jupyter-widgets/base",
          "model_name": "LayoutModel",
          "model_module_version": "1.2.0",
          "state": {
            "_model_module": "@jupyter-widgets/base",
            "_model_module_version": "1.2.0",
            "_model_name": "LayoutModel",
            "_view_count": null,
            "_view_module": "@jupyter-widgets/base",
            "_view_module_version": "1.2.0",
            "_view_name": "LayoutView",
            "align_content": null,
            "align_items": null,
            "align_self": null,
            "border": null,
            "bottom": null,
            "display": null,
            "flex": null,
            "flex_flow": null,
            "grid_area": null,
            "grid_auto_columns": null,
            "grid_auto_flow": null,
            "grid_auto_rows": null,
            "grid_column": null,
            "grid_gap": null,
            "grid_row": null,
            "grid_template_areas": null,
            "grid_template_columns": null,
            "grid_template_rows": null,
            "height": null,
            "justify_content": null,
            "justify_items": null,
            "left": null,
            "margin": null,
            "max_height": null,
            "max_width": null,
            "min_height": null,
            "min_width": null,
            "object_fit": null,
            "object_position": null,
            "order": null,
            "overflow": null,
            "overflow_x": null,
            "overflow_y": null,
            "padding": null,
            "right": null,
            "top": null,
            "visibility": null,
            "width": null
          }
        },
        "5db2568c5cb64230a722dd25ae6eba16": {
          "model_module": "@jupyter-widgets/controls",
          "model_name": "DescriptionStyleModel",
          "model_module_version": "1.5.0",
          "state": {
            "_model_module": "@jupyter-widgets/controls",
            "_model_module_version": "1.5.0",
            "_model_name": "DescriptionStyleModel",
            "_view_count": null,
            "_view_module": "@jupyter-widgets/base",
            "_view_module_version": "1.2.0",
            "_view_name": "StyleView",
            "description_width": ""
          }
        },
        "80773b5367da42b78d999168fa7c06c8": {
          "model_module": "@jupyter-widgets/controls",
          "model_name": "HBoxModel",
          "model_module_version": "1.5.0",
          "state": {
            "_dom_classes": [],
            "_model_module": "@jupyter-widgets/controls",
            "_model_module_version": "1.5.0",
            "_model_name": "HBoxModel",
            "_view_count": null,
            "_view_module": "@jupyter-widgets/controls",
            "_view_module_version": "1.5.0",
            "_view_name": "HBoxView",
            "box_style": "",
            "children": [
              "IPY_MODEL_48686baab71444cf99ebc0f0d211bf63",
              "IPY_MODEL_e5c15ed4734644b0a98f6ad14d10d256",
              "IPY_MODEL_7c65b4dbd4144df5bcc10ece956bfabe"
            ],
            "layout": "IPY_MODEL_56fa319ff9954dcc83ea2835255e1f2e"
          }
        },
        "48686baab71444cf99ebc0f0d211bf63": {
          "model_module": "@jupyter-widgets/controls",
          "model_name": "HTMLModel",
          "model_module_version": "1.5.0",
          "state": {
            "_dom_classes": [],
            "_model_module": "@jupyter-widgets/controls",
            "_model_module_version": "1.5.0",
            "_model_name": "HTMLModel",
            "_view_count": null,
            "_view_module": "@jupyter-widgets/controls",
            "_view_module_version": "1.5.0",
            "_view_name": "HTMLView",
            "description": "",
            "description_tooltip": null,
            "layout": "IPY_MODEL_e98e818c7373418c982d5d5e489a2a06",
            "placeholder": "​",
            "style": "IPY_MODEL_459610fe2a624a259d1de2bf91ca6de1",
            "value": "  0%"
          }
        },
        "e5c15ed4734644b0a98f6ad14d10d256": {
          "model_module": "@jupyter-widgets/controls",
          "model_name": "FloatProgressModel",
          "model_module_version": "1.5.0",
          "state": {
            "_dom_classes": [],
            "_model_module": "@jupyter-widgets/controls",
            "_model_module_version": "1.5.0",
            "_model_name": "FloatProgressModel",
            "_view_count": null,
            "_view_module": "@jupyter-widgets/controls",
            "_view_module_version": "1.5.0",
            "_view_name": "ProgressView",
            "bar_style": "",
            "description": "",
            "description_tooltip": null,
            "layout": "IPY_MODEL_fba33b95474e4c1282fb24565caed9ac",
            "max": 125,
            "min": 0,
            "orientation": "horizontal",
            "style": "IPY_MODEL_402dbdf409054cd59ab01a9b19c93ea7",
            "value": 0
          }
        },
        "7c65b4dbd4144df5bcc10ece956bfabe": {
          "model_module": "@jupyter-widgets/controls",
          "model_name": "HTMLModel",
          "model_module_version": "1.5.0",
          "state": {
            "_dom_classes": [],
            "_model_module": "@jupyter-widgets/controls",
            "_model_module_version": "1.5.0",
            "_model_name": "HTMLModel",
            "_view_count": null,
            "_view_module": "@jupyter-widgets/controls",
            "_view_module_version": "1.5.0",
            "_view_name": "HTMLView",
            "description": "",
            "description_tooltip": null,
            "layout": "IPY_MODEL_788489c856364b02a8b5010d57c986d1",
            "placeholder": "​",
            "style": "IPY_MODEL_ae1a404610654bf6bdbc778c2551cbd5",
            "value": " 0/125 [00:00&lt;?, ?it/s]"
          }
        },
        "56fa319ff9954dcc83ea2835255e1f2e": {
          "model_module": "@jupyter-widgets/base",
          "model_name": "LayoutModel",
          "model_module_version": "1.2.0",
          "state": {
            "_model_module": "@jupyter-widgets/base",
            "_model_module_version": "1.2.0",
            "_model_name": "LayoutModel",
            "_view_count": null,
            "_view_module": "@jupyter-widgets/base",
            "_view_module_version": "1.2.0",
            "_view_name": "LayoutView",
            "align_content": null,
            "align_items": null,
            "align_self": null,
            "border": null,
            "bottom": null,
            "display": null,
            "flex": null,
            "flex_flow": null,
            "grid_area": null,
            "grid_auto_columns": null,
            "grid_auto_flow": null,
            "grid_auto_rows": null,
            "grid_column": null,
            "grid_gap": null,
            "grid_row": null,
            "grid_template_areas": null,
            "grid_template_columns": null,
            "grid_template_rows": null,
            "height": null,
            "justify_content": null,
            "justify_items": null,
            "left": null,
            "margin": null,
            "max_height": null,
            "max_width": null,
            "min_height": null,
            "min_width": null,
            "object_fit": null,
            "object_position": null,
            "order": null,
            "overflow": null,
            "overflow_x": null,
            "overflow_y": null,
            "padding": null,
            "right": null,
            "top": null,
            "visibility": null,
            "width": null
          }
        },
        "e98e818c7373418c982d5d5e489a2a06": {
          "model_module": "@jupyter-widgets/base",
          "model_name": "LayoutModel",
          "model_module_version": "1.2.0",
          "state": {
            "_model_module": "@jupyter-widgets/base",
            "_model_module_version": "1.2.0",
            "_model_name": "LayoutModel",
            "_view_count": null,
            "_view_module": "@jupyter-widgets/base",
            "_view_module_version": "1.2.0",
            "_view_name": "LayoutView",
            "align_content": null,
            "align_items": null,
            "align_self": null,
            "border": null,
            "bottom": null,
            "display": null,
            "flex": null,
            "flex_flow": null,
            "grid_area": null,
            "grid_auto_columns": null,
            "grid_auto_flow": null,
            "grid_auto_rows": null,
            "grid_column": null,
            "grid_gap": null,
            "grid_row": null,
            "grid_template_areas": null,
            "grid_template_columns": null,
            "grid_template_rows": null,
            "height": null,
            "justify_content": null,
            "justify_items": null,
            "left": null,
            "margin": null,
            "max_height": null,
            "max_width": null,
            "min_height": null,
            "min_width": null,
            "object_fit": null,
            "object_position": null,
            "order": null,
            "overflow": null,
            "overflow_x": null,
            "overflow_y": null,
            "padding": null,
            "right": null,
            "top": null,
            "visibility": null,
            "width": null
          }
        },
        "459610fe2a624a259d1de2bf91ca6de1": {
          "model_module": "@jupyter-widgets/controls",
          "model_name": "DescriptionStyleModel",
          "model_module_version": "1.5.0",
          "state": {
            "_model_module": "@jupyter-widgets/controls",
            "_model_module_version": "1.5.0",
            "_model_name": "DescriptionStyleModel",
            "_view_count": null,
            "_view_module": "@jupyter-widgets/base",
            "_view_module_version": "1.2.0",
            "_view_name": "StyleView",
            "description_width": ""
          }
        },
        "fba33b95474e4c1282fb24565caed9ac": {
          "model_module": "@jupyter-widgets/base",
          "model_name": "LayoutModel",
          "model_module_version": "1.2.0",
          "state": {
            "_model_module": "@jupyter-widgets/base",
            "_model_module_version": "1.2.0",
            "_model_name": "LayoutModel",
            "_view_count": null,
            "_view_module": "@jupyter-widgets/base",
            "_view_module_version": "1.2.0",
            "_view_name": "LayoutView",
            "align_content": null,
            "align_items": null,
            "align_self": null,
            "border": null,
            "bottom": null,
            "display": null,
            "flex": null,
            "flex_flow": null,
            "grid_area": null,
            "grid_auto_columns": null,
            "grid_auto_flow": null,
            "grid_auto_rows": null,
            "grid_column": null,
            "grid_gap": null,
            "grid_row": null,
            "grid_template_areas": null,
            "grid_template_columns": null,
            "grid_template_rows": null,
            "height": null,
            "justify_content": null,
            "justify_items": null,
            "left": null,
            "margin": null,
            "max_height": null,
            "max_width": null,
            "min_height": null,
            "min_width": null,
            "object_fit": null,
            "object_position": null,
            "order": null,
            "overflow": null,
            "overflow_x": null,
            "overflow_y": null,
            "padding": null,
            "right": null,
            "top": null,
            "visibility": null,
            "width": null
          }
        },
        "402dbdf409054cd59ab01a9b19c93ea7": {
          "model_module": "@jupyter-widgets/controls",
          "model_name": "ProgressStyleModel",
          "model_module_version": "1.5.0",
          "state": {
            "_model_module": "@jupyter-widgets/controls",
            "_model_module_version": "1.5.0",
            "_model_name": "ProgressStyleModel",
            "_view_count": null,
            "_view_module": "@jupyter-widgets/base",
            "_view_module_version": "1.2.0",
            "_view_name": "StyleView",
            "bar_color": null,
            "description_width": ""
          }
        },
        "788489c856364b02a8b5010d57c986d1": {
          "model_module": "@jupyter-widgets/base",
          "model_name": "LayoutModel",
          "model_module_version": "1.2.0",
          "state": {
            "_model_module": "@jupyter-widgets/base",
            "_model_module_version": "1.2.0",
            "_model_name": "LayoutModel",
            "_view_count": null,
            "_view_module": "@jupyter-widgets/base",
            "_view_module_version": "1.2.0",
            "_view_name": "LayoutView",
            "align_content": null,
            "align_items": null,
            "align_self": null,
            "border": null,
            "bottom": null,
            "display": null,
            "flex": null,
            "flex_flow": null,
            "grid_area": null,
            "grid_auto_columns": null,
            "grid_auto_flow": null,
            "grid_auto_rows": null,
            "grid_column": null,
            "grid_gap": null,
            "grid_row": null,
            "grid_template_areas": null,
            "grid_template_columns": null,
            "grid_template_rows": null,
            "height": null,
            "justify_content": null,
            "justify_items": null,
            "left": null,
            "margin": null,
            "max_height": null,
            "max_width": null,
            "min_height": null,
            "min_width": null,
            "object_fit": null,
            "object_position": null,
            "order": null,
            "overflow": null,
            "overflow_x": null,
            "overflow_y": null,
            "padding": null,
            "right": null,
            "top": null,
            "visibility": null,
            "width": null
          }
        },
        "ae1a404610654bf6bdbc778c2551cbd5": {
          "model_module": "@jupyter-widgets/controls",
          "model_name": "DescriptionStyleModel",
          "model_module_version": "1.5.0",
          "state": {
            "_model_module": "@jupyter-widgets/controls",
            "_model_module_version": "1.5.0",
            "_model_name": "DescriptionStyleModel",
            "_view_count": null,
            "_view_module": "@jupyter-widgets/base",
            "_view_module_version": "1.2.0",
            "_view_name": "StyleView",
            "description_width": ""
          }
        }
      }
    }
  },
  "nbformat": 4,
  "nbformat_minor": 0
}